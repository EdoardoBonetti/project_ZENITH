{
 "cells": [
  {
   "cell_type": "markdown",
   "metadata": {},
   "source": [
    "# It works, we need to add a dvergence free constraint!!!"
   ]
  },
  {
   "cell_type": "code",
   "execution_count": 1,
   "metadata": {},
   "outputs": [],
   "source": [
    "from ngsolve import *\n",
    "from netgen.occ import *\n",
    "from ngsolve.webgui import Draw"
   ]
  },
  {
   "cell_type": "code",
   "execution_count": 2,
   "metadata": {},
   "outputs": [],
   "source": [
    "shape = Box((-1,-1,-1), (1,1,1)) # create a box\n",
    "geo = OCCGeometry(shape) # create a geometry from the box\n",
    "mesh = Mesh(geo.GenerateMesh(maxh=0.2)) # create a mesh from the geometry\n",
    "#Draw (mesh); # draw the mesh"
   ]
  },
  {
   "cell_type": "code",
   "execution_count": 3,
   "metadata": {},
   "outputs": [],
   "source": [
    "order = 2\n",
    "Hcc = HCurlCurl(mesh, order=order) # for the gamma variable\n",
    "Hdd = HDivDiv(mesh, order=order ) # , orderinner=order+1) fr t\n",
    "# fesalpha = H1(mesh, order=order+1) # , dirichlet=\".*\")\n",
    "Hc = HCurl(mesh, order=order-1) # for the div of a Hdd field\n",
    "\n",
    "k , dk= Hdd.TnT() \n",
    "p, dp = Hc.TnT()\n",
    "g, dg = Hcc.TnT()"
   ]
  },
  {
   "cell_type": "code",
   "execution_count": 4,
   "metadata": {},
   "outputs": [],
   "source": [
    "n = specialcf.normal(3)\n",
    "t = specialcf.tangential(3, True)\n",
    "bbndtang  = specialcf.EdgeFaceTangentialVectors(3)\n",
    "tef1 = bbndtang[:,0]\n",
    "tef2 = bbndtang[:,1]\n",
    "nu1 = Cross(tef1,t)\n",
    "nu2 = Cross(tef2,t)\n",
    "\n",
    "def IncOp(g, dg):\n",
    "    return InnerProduct(curl(g), curl(dg).trans)*dx \\\n",
    "        + (curl(g)*n) * Cross (dg*n, n) * dx(element_vb=BND) \\\n",
    "        + (curl(dg)*n) * Cross (g*n, n) * dx(element_vb=BND) \\\n",
    "        + (g[nu1,t]*dg[t,tef1]-g[nu2,t]*dg[t,tef2])*dx(element_vb=BBND)\n",
    "\n",
    "# print ( (gamma*nu1*t)*(dgamma*t*tef1))\n",
    "\n",
    "def J(g): return g - 0.5*Trace(g)*Id(3)\n",
    "\n",
    "def Constraint(k, p):\n",
    "    return  div( k)*p * dx - InnerProduct(k*n - k[n,n]*n , p - (p*n)*n ) * dx(element_boundary = True)\n",
    "\n",
    "def Curl(u):\n",
    "    if u.dim == 3:\n",
    "        return CF( (u[1].Diff(z)- u[2].Diff(y), u[2].Diff(x)- u[0].Diff(z), u[0].Diff(y)- u[1].Diff(x)) )\n",
    "    if u.dim == 9:\n",
    "        return CF( (Curl(u[0,:]),Curl(u[1,:]),Curl(u[2,:])),dims=(3,3) )\n",
    "\n",
    "def Transpose(u):\n",
    "    return CF( (u[0,0] , u[1,0] , u[2,0] , u[0,1] , u[1,1] , u[2,1] , u[0,2] , u[1,2] , u[2,2] ),dims=(3,3) )\n",
    "\n",
    "def Symetric(u): return u + Transpose(u) "
   ]
  },
  {
   "cell_type": "code",
   "execution_count": 5,
   "metadata": {},
   "outputs": [],
   "source": [
    "\n",
    "MINC = BilinearForm(IncOp(g,dg))\n",
    "\n",
    "Mcc = BilinearForm(InnerProduct(g, dg)*dx)\n",
    "Mdd = BilinearForm(InnerProduct(k, dk)*dx)\n",
    "\n",
    "Mccdd = BilinearForm(trialspace=Hcc, testspace=Hdd)\n",
    "Mccdd += InnerProduct(g, dk)*dx\n",
    "\n",
    "MJdd = BilinearForm(trialspace=Hdd, testspace=Hdd)\n",
    "MJdd += InnerProduct(k, dk)*dx-0.5*Trace(k)*Trace(dk)*dx\n",
    "\n",
    "with TaskManager():\n",
    "    MINC.Assemble()\n",
    "    Mcc.Assemble()\n",
    "    Mdd.Assemble()\n",
    "    Mccdd.Assemble()\n",
    "    MJdd.Assemble()\n",
    "\n"
   ]
  },
  {
   "cell_type": "code",
   "execution_count": 6,
   "metadata": {},
   "outputs": [],
   "source": [
    "\n",
    "fes = Hdd*Hc\n",
    "k, p = fes.TrialFunction()\n",
    "dk, dp = fes.TestFunction()\n",
    "\n",
    "PROJ = BilinearForm(fes)\n",
    "PROJ += InnerProduct(k, dk)*dx\n",
    "PROJ += Constraint(k, dp)\n",
    "PROJ += Constraint(dk, p)\n",
    "PROJ += - 1e-6*(p*dp)*dx # I don't know why this is needed, \n",
    "\n",
    "MASS = BilinearForm(fes)\n",
    "MASS += InnerProduct(k, dk)*dx\n",
    "with TaskManager():\n",
    "    PROJ.Assemble() \n",
    "    MASS.Assemble()"
   ]
  },
  {
   "cell_type": "code",
   "execution_count": 7,
   "metadata": {},
   "outputs": [],
   "source": [
    "\n",
    "# 3 minutes for a cube of size 2 and a mesh of size 0.2 and order 3\n",
    "with TaskManager():\n",
    "    inv_PROJ = PROJ.mat.Inverse(inverse=\"sparsecholesky\", freedofs=fes.FreeDofs())\n",
    "    inv_Mcc = Mcc.mat.Inverse(inverse=\"sparsecholesky\", freedofs=fes.FreeDofs())\n",
    "    inv_Mdd = Mdd.mat.Inverse(inverse=\"sparsecholesky\", freedofs=fes.FreeDofs())"
   ]
  },
  {
   "cell_type": "code",
   "execution_count": 8,
   "metadata": {},
   "outputs": [],
   "source": [
    "#peak = exp(-25*(x*x+y*y+z*z))/100\n",
    "#cf_gamma = CF((0,0,0, 0,peak,0,  0,0,-peak), dims=(3,3))\n",
    "#\n",
    "#cf_symcurl_gamma = Symetric(Curl(cf_gamma))\n",
    "#Draw(InnerProduct(cf_symcurl_gamma,cf_symcurl_gamma), mesh, \"SCGamma\", clipping={\"z\": -1})\n"
   ]
  },
  {
   "cell_type": "code",
   "execution_count": 9,
   "metadata": {},
   "outputs": [],
   "source": [
    "gf_g = GridFunction(Hcc)\n",
    "gf_inc_g = GridFunction(Hcc)\n",
    "\n",
    "peak = exp(-10*(x*x+y*y+z*z))/1000\n",
    "cf_gamma = CF((peak,0,0, 0,0,0,  0,0,0), dims=(3,3))\n",
    "cf_symcurl_gamma = Symetric(Curl(cf_gamma))\n",
    "\n",
    "#print(\" total magnitude\")\n",
    "#Draw(InnerProduct(cf_symcurl_gamma,cf_symcurl_gamma), mesh, \"SCGamma\", clipping={\"x\": -1, \"y\": 0, \"z\": 0})\n",
    "#print(\" (x,x) component\")\n",
    "#Draw(InnerProduct(cf_symcurl_gamma[0,0],cf_symcurl_gamma[0,0]), mesh, \"SCGamma\", clipping={\"x\": -1, \"y\": 0, \"z\": 0})\n",
    "#print(\" (x,y) component\")\n",
    "#Draw(InnerProduct(cf_symcurl_gamma[0,1],cf_symcurl_gamma[0,1]), mesh, \"SCGamma\", clipping={\"x\": -1, \"y\": 0, \"z\": 0})\n",
    "#print(\" (x,z) component\")\n",
    "#Draw(InnerProduct(cf_symcurl_gamma[0,2],cf_symcurl_gamma[0,2]), mesh, \"SCGamma\", clipping={\"x\": -1, \"y\": 0, \"z\": 0})\n",
    "#print(\" (y,y) component\")\n",
    "#Draw(InnerProduct(cf_symcurl_gamma[1,1],cf_symcurl_gamma[1,1]), mesh, \"SCGamma\", clipping={\"x\": -1, \"y\": 0, \"z\": 0})\n",
    "#print(\" (y,z) component\")\n",
    "#Draw(InnerProduct(cf_symcurl_gamma[1,2],cf_symcurl_gamma[1,2]), mesh, \"SCGamma\", clipping={\"x\": -1, \"y\": 0, \"z\": 0})\n",
    "#print(\" (z,z) component\")\n",
    "#Draw(InnerProduct(cf_symcurl_gamma[2,2],cf_symcurl_gamma[2,2]), mesh, \"SCGamma\", clipping={\"x\": -1, \"y\": 0, \"z\": 0})\n",
    "\n",
    "\n",
    "\n",
    "\n",
    "\n"
   ]
  },
  {
   "cell_type": "code",
   "execution_count": 10,
   "metadata": {},
   "outputs": [],
   "source": [
    "\n",
    "gf_g.Set( cf_symcurl_gamma, dual=True, bonus_intorder=12)\n",
    "\n",
    "gf_k = GridFunction(Hdd)\n",
    "gf_J_k = GridFunction(Hdd)\n",
    "\n",
    "\n",
    "gf_proj = GridFunction(fes)\n",
    "gf_proj_k , gf_proj_p = gf_proj.components\n"
   ]
  },
  {
   "cell_type": "code",
   "execution_count": 11,
   "metadata": {},
   "outputs": [
    {
     "name": "stdout",
     "output_type": "stream",
     "text": [
      "gamma\n",
      "\n"
     ]
    },
    {
     "data": {
      "application/vnd.jupyter.widget-view+json": {
       "model_id": "925239ae3c33483b838e5b0168b7f5c0",
       "version_major": 2,
       "version_minor": 0
      },
      "text/plain": [
       "WebGuiWidget(value={'ngsolve_version': '6.2.2203', 'mesh_dim': 3, 'order2d': 2, 'order3d': 2, 'draw_vol': True…"
      ]
     },
     "metadata": {},
     "output_type": "display_data"
    },
    {
     "name": "stdout",
     "output_type": "stream",
     "text": [
      "div kappa\n",
      "\n"
     ]
    },
    {
     "data": {
      "application/vnd.jupyter.widget-view+json": {
       "model_id": "65d8f9b569d949e69e12d63860bf8acc",
       "version_major": 2,
       "version_minor": 0
      },
      "text/plain": [
       "WebGuiWidget(value={'ngsolve_version': '6.2.2203', 'mesh_dim': 3, 'order2d': 2, 'order3d': 2, 'draw_vol': True…"
      ]
     },
     "metadata": {},
     "output_type": "display_data"
    }
   ],
   "source": [
    "print (\"gamma\\n\")\n",
    "scene1 = Draw (InnerProduct(gf_g,gf_g), mesh, draw_surf=False, clipping={\"x\": -1, \"y\": 0, \"z\": 0})\n",
    "#print (\"inc gamma\\n\")\n",
    "#scene2 = Draw (InnerProduct(gf_inc_g,gf_inc_g), mesh, draw_surf=False, clipping={\"x\": -1, \"y\": 0, \"z\": 0})\n",
    "#print (\"kappa \\n\")\n",
    "#scene3 = Draw (InnerProduct(gf_k, gf_k), mesh, draw_surf=False, clipping={\"x\": -1, \"y\": 0, \"z\": 0})\n",
    "#print (\"J kappa\\n\")\n",
    "#scene4 = Draw (InnerProduct(gf_J_k, gf_J_k), mesh, draw_surf=False, clipping={\"x\": -1, \"y\": 0, \"z\": 0})\n",
    "print (\"div kappa\\n\")\n",
    "scene5 = Draw (InnerProduct(div(gf_k), div(gf_k)), mesh, draw_surf=False, clipping={\"x\": -1, \"y\": 0, \"z\": 0})"
   ]
  },
  {
   "cell_type": "code",
   "execution_count": 12,
   "metadata": {},
   "outputs": [],
   "source": [
    "gf_proj = GridFunction(fes)\n",
    "gf_proj_k , gf_proj_p = gf_proj.components"
   ]
  },
  {
   "cell_type": "code",
   "execution_count": 13,
   "metadata": {},
   "outputs": [
    {
     "name": "stdout",
     "output_type": "stream",
     "text": [
      "t =  0.0 norm =  0.002155352594744468\n",
      "t =  0.001 norm =  0.002155352594744468\n",
      "t =  0.002 norm =  0.002155218172057154\n",
      "t =  0.003 norm =  0.002154949355016219\n",
      "t =  0.004 norm =  0.0021545462002787786\n",
      "t =  0.005 norm =  0.0021540087928048498\n",
      "t =  0.006 norm =  0.00215333724582684\n",
      "t =  0.007 norm =  0.002152531700809191\n",
      "t =  0.008 norm =  0.0021515923273985526\n",
      "t =  0.009000000000000001 norm =  0.0021505193233648866\n",
      "t =  0.01 norm =  0.0021493129145338835\n",
      "t =  0.011 norm =  0.002147973354711347\n",
      "t =  0.012 norm =  0.002146500925600053\n",
      "t =  0.013000000000000001 norm =  0.0021448959367097397\n",
      "t =  0.014 norm =  0.0021431587252610114\n",
      "t =  0.015 norm =  0.002141289656083822\n",
      "t =  0.016 norm =  0.0021392891215113955\n",
      "t =  0.017 norm =  0.0021371575412704414\n",
      "t =  0.018000000000000002 norm =  0.0021348953623684247\n",
      "t =  0.019 norm =  0.00213250305897895\n",
      "t =  0.02 norm =  0.002129981132326025\n",
      "t =  0.021 norm =  0.002127330110568232\n",
      "t =  0.022 norm =  0.002124550548683665\n",
      "t =  0.023 norm =  0.002121643028356653\n",
      "t =  0.024 norm =  0.0021186081578671192\n",
      "t =  0.025 norm =  0.0021154465719835707\n",
      "t =  0.026000000000000002 norm =  0.002112158931860592\n",
      "t =  0.027 norm =  0.0021087459249417074\n",
      "t =  0.028 norm =  0.002105208264868598\n",
      "t =  0.029 norm =  0.0021015466913973688\n",
      "t =  0.03 norm =  0.0020977619703228035\n",
      "t =  0.031 norm =  0.0020938548934113154\n",
      "t =  0.032 norm =  0.002089826278343418\n",
      "t =  0.033 norm =  0.002085676968666371\n",
      "t =  0.034 norm =  0.0020814078337577225\n",
      "t =  0.035 norm =  0.0020770197688003834\n",
      "t =  0.036000000000000004 norm =  0.0020725136947698543\n",
      "t =  0.037 norm =  0.0020678905584341515\n",
      "t =  0.038 norm =  0.0020631513323670254\n",
      "t =  0.039 norm =  0.002058297014974892\n",
      "t =  0.04 norm =  0.0020533286305380646\n",
      "t =  0.041 norm =  0.002048247229266594\n",
      "t =  0.042 norm =  0.0020430538873712338\n",
      "t =  0.043000000000000003 norm =  0.0020377497071498796\n",
      "t =  0.044 norm =  0.0020323358170898\n",
      "t =  0.045 norm =  0.0020268133719860836\n",
      "t =  0.046 norm =  0.002021183553076525\n",
      "t =  0.047 norm =  0.002015447568193337\n",
      "t =  0.048 norm =  0.002009606651931903\n",
      "t =  0.049 norm =  0.002003662065836896\n",
      "t =  0.05 norm =  0.0019976150986060225\n",
      "t =  0.051000000000000004 norm =  0.0019914670663116253\n",
      "t =  0.052000000000000005 norm =  0.0019852193126404334\n",
      "t =  0.053 norm =  0.001978873209151711\n",
      "t =  0.054 norm =  0.0019724301555540565\n",
      "t =  0.055 norm =  0.001965891580001111\n",
      "t =  0.056 norm =  0.001959258939406457\n",
      "t =  0.057 norm =  0.0019525337197779538\n",
      "t =  0.058 norm =  0.0019457174365718423\n",
      "t =  0.059000000000000004 norm =  0.001938811635066837\n",
      "t =  0.06 norm =  0.0019318178907585888\n",
      "t =  0.061 norm =  0.0019247378097747576\n",
      "t =  0.062 norm =  0.0019175730293110806\n",
      "t =  0.063 norm =  0.0019103252180887574\n",
      "t =  0.064 norm =  0.0019029960768334878\n",
      "t =  0.065 norm =  0.0018955873387765574\n",
      "t =  0.066 norm =  0.001888100770178371\n",
      "t =  0.067 norm =  0.0018805381708747895\n",
      "t =  0.068 norm =  0.0018729013748467463\n",
      "t =  0.069 norm =  0.0018651922508135077\n",
      "t =  0.07 norm =  0.0018574127028501536\n",
      "t =  0.07100000000000001 norm =  0.0018495646710295897\n",
      "t =  0.07200000000000001 norm =  0.0018416501320897092\n",
      "t =  0.073 norm =  0.0018336711001261897\n",
      "t =  0.074 norm =  0.0018256296273113882\n",
      "t =  0.075 norm =  0.001817527804639984\n",
      "t =  0.076 norm =  0.0018093677627018581\n",
      "t =  0.077 norm =  0.001801151672482867\n",
      "t =  0.078 norm =  0.0017928817461940734\n",
      "t =  0.079 norm =  0.0017845602381301173\n",
      "t =  0.08 norm =  0.0017761894455573632\n",
      "t =  0.081 norm =  0.0017677717096325507\n",
      "t =  0.082 norm =  0.00175930941635261\n",
      "t =  0.083 norm =  0.0017508049975364455\n",
      "t =  0.084 norm =  0.001742260931839409\n",
      "t =  0.085 norm =  0.0017336797458013006\n",
      "t =  0.08600000000000001 norm =  0.001725064014928701\n",
      "t =  0.08700000000000001 norm =  0.0017164163648124883\n",
      "t =  0.088 norm =  0.0017077394722814449\n",
      "t =  0.089 norm =  0.0016990360665928468\n",
      "t =  0.09 norm =  0.001690308930660968\n",
      "t =  0.091 norm =  0.0016815609023244813\n",
      "t =  0.092 norm =  0.0016727948756537286\n",
      "t =  0.093 norm =  0.001664013802298848\n",
      "t =  0.094 norm =  0.0016552206928798208\n",
      "t =  0.095 norm =  0.001646418618419444\n",
      "t =  0.096 norm =  0.001637610711820266\n",
      "t =  0.097 norm =  0.0016288001693865702\n",
      "t =  0.098 norm =  0.0016199902523924014\n",
      "t =  0.099 norm =  0.001611184288696738\n",
      "t =  0.1 norm =  0.0016023856744067514\n",
      "t =  0.101 norm =  0.0015935978755902112\n",
      "t =  0.10200000000000001 norm =  0.001584824430037954\n",
      "t =  0.10300000000000001 norm =  0.0015760689490773524\n",
      "t =  0.10400000000000001 norm =  0.0015673351194375967\n",
      "t =  0.105 norm =  0.001558626705167618\n",
      "t =  0.106 norm =  0.0015499475496073014\n",
      "t =  0.107 norm =  0.0015413015774125962\n",
      "t =  0.108 norm =  0.0015326927966350244\n",
      "t =  0.109 norm =  0.001524125300855867\n",
      "t =  0.11 norm =  0.0015156032713752638\n",
      "t =  0.111 norm =  0.0015071309794562446\n",
      "t =  0.112 norm =  0.0014987127886234586\n",
      "t =  0.113 norm =  0.0014903531570163143\n",
      "t =  0.114 norm =  0.0014820566397957952\n",
      "t =  0.115 norm =  0.0014738278916041855\n",
      "t =  0.116 norm =  0.001465671669076491\n",
      "t =  0.117 norm =  0.0014575928334021769\n",
      "t =  0.11800000000000001 norm =  0.0014495963529354166\n",
      "t =  0.11900000000000001 norm =  0.001441687305851819\n",
      "t =  0.12 norm =  0.001433870882849182\n",
      "t =  0.121 norm =  0.0014261523898894846\n",
      "t =  0.122 norm =  0.0014185372509789701\n",
      "t =  0.123 norm =  0.0014110310109827153\n",
      "t =  0.124 norm =  0.0014036393384698079\n",
      "t =  0.125 norm =  0.0013963680285847505\n",
      "t =  0.126 norm =  0.0013892230059403571\n",
      "t =  0.127 norm =  0.0013822103275270906\n",
      "t =  0.128 norm =  0.0013753361856333305\n",
      "t =  0.129 norm =  0.0013686069107707644\n",
      "t =  0.13 norm =  0.0013620289745988753\n",
      "t =  0.131 norm =  0.0013556089928420788\n",
      "t =  0.132 norm =  0.0013493537281930228\n",
      "t =  0.133 norm =  0.0013432700931953411\n",
      "t =  0.134 norm =  0.0013373651530991279\n",
      "t =  0.135 norm =  0.00133164612868244\n",
      "t =  0.136 norm =  0.0013261203990323038\n",
      "t =  0.137 norm =  0.0013207955042789366\n",
      "t =  0.138 norm =  0.001315679148277373\n",
      "t =  0.139 norm =  0.0013107792012311981\n",
      "t =  0.14 norm =  0.0013061037022538725\n",
      "t =  0.14100000000000001 norm =  0.0013016608618640574\n",
      "t =  0.14200000000000002 norm =  0.0012974590644124276\n",
      "t =  0.14300000000000002 norm =  0.0012935068704388788\n",
      "t =  0.14400000000000002 norm =  0.0012898130189605338\n",
      "t =  0.145 norm =  0.0012863864296927513\n",
      "t =  0.146 norm =  0.001283236205207377\n",
      "t =  0.147 norm =  0.0012803716330347357\n",
      "t =  0.148 norm =  0.0012778021877183255\n",
      "t =  0.149 norm =  0.0012755375328339128\n",
      "t =  0.15 norm =  0.0012735875229876441\n",
      "t =  0.151 norm =  0.0012719622058108874\n",
      "t =  0.152 norm =  0.0012706718239728178\n",
      "t =  0.153 norm =  0.0012697268172351221\n",
      "t =  0.154 norm =  0.0012691378245767793\n",
      "t =  0.155 norm =  0.0012689156864203318\n",
      "t =  0.156 norm =  0.0012690714469946944\n",
      "t =  0.157 norm =  0.001269616356872966\n",
      "t =  0.158 norm =  0.0012705618757271348\n",
      "t =  0.159 norm =  0.0012719196753447134\n",
      "t =  0.16 norm =  0.0012737016429552857\n",
      "t =  0.161 norm =  0.0012759198849175628\n",
      "t =  0.162 norm =  0.001278586730819714\n",
      "t =  0.163 norm =  0.001281714738047586\n",
      "t =  0.164 norm =  0.0012853166968765906\n",
      "t =  0.165 norm =  0.0012894056361437444\n",
      "t =  0.166 norm =  0.0012939948295564723\n",
      "t =  0.167 norm =  0.0012990978026940663\n",
      "t =  0.168 norm =  0.0013047283407566137\n",
      "t =  0.169 norm =  0.0013109004971141106\n",
      "t =  0.17 norm =  0.001317628602706039\n",
      "t =  0.171 norm =  0.0013249272763382945\n",
      "t =  0.17200000000000001 norm =  0.0013328114359206244\n",
      "t =  0.17300000000000001 norm =  0.0013412963106832383\n",
      "t =  0.17400000000000002 norm =  0.0013503974544064328\n",
      "t =  0.17500000000000002 norm =  0.0013601307596917017\n",
      "t =  0.176 norm =  0.0013705124732972958\n",
      "t =  0.177 norm =  0.001381559212555287\n",
      "t =  0.178 norm =  0.001393287982881387\n",
      "t =  0.179 norm =  0.0014057161963827996\n",
      "t =  0.18 norm =  0.0014188616915637197\n",
      "t =  0.181 norm =  0.0014327427541225158\n",
      "t =  0.182 norm =  0.0014473781388295655\n",
      "t =  0.183 norm =  0.0014627870924699637\n",
      "t =  0.184 norm =  0.0014789893778311982\n",
      "t =  0.185 norm =  0.0014960052987124382\n",
      "t =  0.186 norm =  0.0015138557259290976\n",
      "t =  0.187 norm =  0.0015325621242844318\n",
      "t =  0.188 norm =  0.0015521465804784233\n",
      "t =  0.189 norm =  0.0015726318319237778\n",
      "t =  0.19 norm =  0.0015940412964390058\n",
      "t =  0.191 norm =  0.0016163991027896302\n",
      "t =  0.192 norm =  0.0016397301220501855\n",
      "t =  0.193 norm =  0.0016640599997622115\n",
      "t =  0.194 norm =  0.0016894151888663814\n",
      "t =  0.195 norm =  0.0017158229833905963\n",
      "t =  0.196 norm =  0.0017433115528799775\n",
      "t =  0.197 norm =  0.0017719099775592782\n",
      "t =  0.198 norm =  0.001801648284223104\n",
      "t =  0.199 norm =  0.0018325574828545587\n"
     ]
    }
   ],
   "source": [
    "Energy = []\n",
    "dt = 0.1e-2\n",
    "final_time = 0.2\n",
    "with TaskManager():\n",
    "  for i in range(round(final_time/dt)):\n",
    "    NORM = Norm(gf_g.vec)\n",
    "    Energy.append(NORM)\n",
    "    if NORM > 0.01:\n",
    "      break\n",
    "\n",
    "    print (\"t = \", i*dt, \"norm = \",NORM)\n",
    "\n",
    "    \n",
    "    gf_J_k.vec.data = inv_Mdd @ MJdd.mat * gf_k.vec\n",
    "    gf_g.vec.data += dt*inv_Mcc @ Mccdd.mat.T * gf_J_k.vec\n",
    "\n",
    "    gf_inc_g.vec.data = inv_Mcc @ MINC.mat * gf_g.vec\n",
    "    gf_k.vec.data -= dt*inv_Mdd @ Mccdd.mat * gf_inc_g.vec\n",
    "    \n",
    "    gf_proj_k.vec.data = gf_k.vec\n",
    "    gf_proj.vec.data = inv_PROJ @ MASS.mat * gf_proj.vec\n",
    "    gf_k.vec.data = gf_proj_k.vec\n",
    "    \n",
    "    #if i % 10 == 0:\n",
    "    scene1.Redraw()\n",
    "        #scene2.Redraw()\n",
    "        #scene3.Redraw()\n",
    "        #scene4.Redraw()\n",
    "    scene5.Redraw()\n"
   ]
  },
  {
   "cell_type": "code",
   "execution_count": 14,
   "metadata": {},
   "outputs": [],
   "source": [
    "#PEAK = CF((peak,0,0, 0,peak,0,  0,0,peak), dims=(3,3))\n",
    "i = 1\n",
    "j = 1\n",
    "#Draw (InnerProduct(gf_g[i,j] - cf_symcurl_gamma[i,j],gf_g[i,j] - cf_symcurl_gamma[i,j]) , mesh, clipping={\"x\": -1, \"y\": 0, \"z\": 0})"
   ]
  },
  {
   "cell_type": "code",
   "execution_count": 15,
   "metadata": {},
   "outputs": [
    {
     "name": "stdout",
     "output_type": "stream",
     "text": [
      " total magnitude\n"
     ]
    },
    {
     "data": {
      "application/vnd.jupyter.widget-view+json": {
       "model_id": "378f2a55fe7c4c2dabf2f356d83ae444",
       "version_major": 2,
       "version_minor": 0
      },
      "text/plain": [
       "WebGuiWidget(value={'ngsolve_version': '6.2.2203', 'mesh_dim': 3, 'order2d': 2, 'order3d': 2, 'draw_vol': True…"
      ]
     },
     "metadata": {},
     "output_type": "display_data"
    },
    {
     "name": "stdout",
     "output_type": "stream",
     "text": [
      " (x,x) component\n"
     ]
    },
    {
     "data": {
      "application/vnd.jupyter.widget-view+json": {
       "model_id": "03d96422e19348e9b8783ab66d99b64d",
       "version_major": 2,
       "version_minor": 0
      },
      "text/plain": [
       "WebGuiWidget(value={'ngsolve_version': '6.2.2203', 'mesh_dim': 3, 'order2d': 2, 'order3d': 2, 'draw_vol': True…"
      ]
     },
     "metadata": {},
     "output_type": "display_data"
    },
    {
     "name": "stdout",
     "output_type": "stream",
     "text": [
      " (x,y) component\n"
     ]
    },
    {
     "data": {
      "application/vnd.jupyter.widget-view+json": {
       "model_id": "1e803582bc1d4b73abbf778995d27fe5",
       "version_major": 2,
       "version_minor": 0
      },
      "text/plain": [
       "WebGuiWidget(value={'ngsolve_version': '6.2.2203', 'mesh_dim': 3, 'order2d': 2, 'order3d': 2, 'draw_vol': True…"
      ]
     },
     "metadata": {},
     "output_type": "display_data"
    },
    {
     "name": "stdout",
     "output_type": "stream",
     "text": [
      " (x,z) component\n"
     ]
    },
    {
     "data": {
      "application/vnd.jupyter.widget-view+json": {
       "model_id": "b5f7e3059adf497aad925fe1fd36c0b4",
       "version_major": 2,
       "version_minor": 0
      },
      "text/plain": [
       "WebGuiWidget(value={'ngsolve_version': '6.2.2203', 'mesh_dim': 3, 'order2d': 2, 'order3d': 2, 'draw_vol': True…"
      ]
     },
     "metadata": {},
     "output_type": "display_data"
    },
    {
     "name": "stdout",
     "output_type": "stream",
     "text": [
      " (y,y) component\n"
     ]
    },
    {
     "data": {
      "application/vnd.jupyter.widget-view+json": {
       "model_id": "8790548d8d524ce8a521a199fe41adf6",
       "version_major": 2,
       "version_minor": 0
      },
      "text/plain": [
       "WebGuiWidget(value={'ngsolve_version': '6.2.2203', 'mesh_dim': 3, 'order2d': 2, 'order3d': 2, 'draw_vol': True…"
      ]
     },
     "metadata": {},
     "output_type": "display_data"
    },
    {
     "name": "stdout",
     "output_type": "stream",
     "text": [
      " (y,z) component\n"
     ]
    },
    {
     "data": {
      "application/vnd.jupyter.widget-view+json": {
       "model_id": "584ef7e8a9ef47348ab029175a8fd644",
       "version_major": 2,
       "version_minor": 0
      },
      "text/plain": [
       "WebGuiWidget(value={'ngsolve_version': '6.2.2203', 'mesh_dim': 3, 'order2d': 2, 'order3d': 2, 'draw_vol': True…"
      ]
     },
     "metadata": {},
     "output_type": "display_data"
    },
    {
     "name": "stdout",
     "output_type": "stream",
     "text": [
      " (z,z) component\n"
     ]
    },
    {
     "data": {
      "application/vnd.jupyter.widget-view+json": {
       "model_id": "bd1ca8413fe34cdca10da5d03642c8a3",
       "version_major": 2,
       "version_minor": 0
      },
      "text/plain": [
       "WebGuiWidget(value={'ngsolve_version': '6.2.2203', 'mesh_dim': 3, 'order2d': 2, 'order3d': 2, 'draw_vol': True…"
      ]
     },
     "metadata": {},
     "output_type": "display_data"
    },
    {
     "data": {
      "text/plain": [
       "BaseWebGuiScene"
      ]
     },
     "execution_count": 15,
     "metadata": {},
     "output_type": "execute_result"
    }
   ],
   "source": [
    "print(\" total magnitude\")\n",
    "Draw(InnerProduct(gf_g,gf_g), mesh, \"SCGamma\", clipping={\"x\": -1, \"y\": 0, \"z\": 0})\n",
    "print(\" (x,x) component\")\n",
    "Draw(InnerProduct(gf_g[0,0],gf_g[0,0]), mesh, \"SCGamma\", clipping={\"x\": -1, \"y\": 0, \"z\": 0})\n",
    "print(\" (x,y) component\")\n",
    "Draw(InnerProduct(gf_g[0,1],gf_g[0,1]), mesh, \"SCGamma\", clipping={\"x\": -1, \"y\": 0, \"z\": 0})\n",
    "print(\" (x,z) component\")\n",
    "Draw(InnerProduct(gf_g[0,2],gf_g[0,2]), mesh, \"SCGamma\", clipping={\"x\": -1, \"y\": 0, \"z\": 0})\n",
    "print(\" (y,y) component\")\n",
    "Draw(InnerProduct(gf_g[1,1],gf_g[1,1]), mesh, \"SCGamma\", clipping={\"x\": -1, \"y\": 0, \"z\": 0})\n",
    "print(\" (y,z) component\")\n",
    "Draw(InnerProduct(gf_g[1,2],gf_g[1,2]), mesh, \"SCGamma\", clipping={\"x\": -1, \"y\": 0, \"z\": 0})\n",
    "print(\" (z,z) component\")\n",
    "Draw(InnerProduct(gf_g[2,2],gf_g[2,2]), mesh, \"SCGamma\", clipping={\"x\": -1, \"y\": 0, \"z\": 0})\n",
    "\n"
   ]
  },
  {
   "cell_type": "code",
   "execution_count": 16,
   "metadata": {},
   "outputs": [
    {
     "data": {
      "text/plain": [
       "[<matplotlib.lines.Line2D at 0x1b60d99cb80>]"
      ]
     },
     "execution_count": 16,
     "metadata": {},
     "output_type": "execute_result"
    },
    {
     "data": {
      "image/png": "[encoded data removed]",
      "text/plain": [
       "<Figure size 432x288 with 1 Axes>"
      ]
     },
     "metadata": {
      "needs_background": "light"
     },
     "output_type": "display_data"
    }
   ],
   "source": [
    "import matplotlib.pyplot as plt\n",
    "import numpy as np\n",
    "\n",
    "TIME = np.linspace(0,final_time,len(Energy))\n",
    "plt.plot(TIME,Energy)"
   ]
  },
  {
   "cell_type": "code",
   "execution_count": 17,
   "metadata": {},
   "outputs": [
    {
     "data": {
      "application/vnd.jupyter.widget-view+json": {
       "model_id": "446e18f4e8c74798a95ae64c6164c80f",
       "version_major": 2,
       "version_minor": 0
      },
      "text/plain": [
       "WebGuiWidget(value={'ngsolve_version': '6.2.2203', 'mesh_dim': 3, 'order2d': 2, 'order3d': 2, 'draw_vol': True…"
      ]
     },
     "metadata": {},
     "output_type": "display_data"
    },
    {
     "data": {
      "text/plain": [
       "BaseWebGuiScene"
      ]
     },
     "execution_count": 17,
     "metadata": {},
     "output_type": "execute_result"
    }
   ],
   "source": [
    "\n",
    "Draw (InnerProduct(div(gf_k), div(gf_k)), mesh, draw_surf=False, clipping={\"x\": -1, \"y\": 0, \"z\": 0})"
   ]
  },
  {
   "cell_type": "code",
   "execution_count": 19,
   "metadata": {},
   "outputs": [
    {
     "data": {
      "application/vnd.jupyter.widget-view+json": {
       "model_id": "71ae02fc3b7140ecb7834f6f0ba204d6",
       "version_major": 2,
       "version_minor": 0
      },
      "text/plain": [
       "WebGuiWidget(value={'ngsolve_version': '6.2.2203', 'mesh_dim': 3, 'order2d': 2, 'order3d': 2, 'draw_vol': True…"
      ]
     },
     "metadata": {},
     "output_type": "display_data"
    },
    {
     "data": {
      "text/plain": [
       "BaseWebGuiScene"
      ]
     },
     "execution_count": 19,
     "metadata": {},
     "output_type": "execute_result"
    }
   ],
   "source": [
    "import ngsolve.internal\n",
    "ngsolve.internal.SnapShot(\"foo.bmp\")\n",
    "Draw (InnerProduct(gf_g, gf_g), mesh, draw_surf=False, clipping={\"x\": -1, \"y\": 0, \"z\": 0})"
   ]
  },
  {
   "cell_type": "code",
   "execution_count": null,
   "metadata": {},
   "outputs": [],
   "source": []
  }
 ],
 "metadata": {
  "kernelspec": {
   "display_name": "Python 3.10.4 64-bit",
   "language": "python",
   "name": "python3"
  },
  "language_info": {
   "codemirror_mode": {
    "name": "ipython",
    "version": 3
   },
   "file_extension": ".py",
   "mimetype": "text/x-python",
   "name": "python",
   "nbconvert_exporter": "python",
   "pygments_lexer": "ipython3",
   "version": "3.10.4"
  },
  "orig_nbformat": 4,
  "vscode": {
   "interpreter": {
    "hash": "afb734500600fd355917ca529030176ea0ca205570884b88f2f6f7d791fd3fbe"
   }
  }
 },
 "nbformat": 4,
 "nbformat_minor": 2
}
