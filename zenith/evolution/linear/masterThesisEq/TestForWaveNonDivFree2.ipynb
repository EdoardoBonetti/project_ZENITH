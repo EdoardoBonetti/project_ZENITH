{
 "cells": [
  {
   "cell_type": "markdown",
   "metadata": {},
   "source": [
    "# It works, we need to add a dvergence free constraint!!!"
   ]
  },
  {
   "cell_type": "code",
   "execution_count": 1,
   "metadata": {},
   "outputs": [],
   "source": [
    "from ngsolve import *\n",
    "from netgen.occ import *\n",
    "from ngsolve.webgui import Draw"
   ]
  },
  {
   "cell_type": "code",
   "execution_count": 2,
   "metadata": {},
   "outputs": [
    {
     "data": {
      "application/vnd.jupyter.widget-view+json": {
       "model_id": "85ead98141f1478496bff52dd0c877fe",
       "version_major": 2,
       "version_minor": 0
      },
      "text/plain": [
       "WebGuiWidget(value={'ngsolve_version': '6.2.2203', 'mesh_dim': 3, 'order2d': 1, 'order3d': 1, 'draw_vol': None…"
      ]
     },
     "metadata": {},
     "output_type": "display_data"
    }
   ],
   "source": [
    "shape = Box((-1,-1,-1), (1,1,1)) # create a box\n",
    "geo = OCCGeometry(shape) # create a geometry from the box\n",
    "mesh = Mesh(geo.GenerateMesh(maxh=0.2)) # create a mesh from the geometry\n",
    "Draw (mesh); # draw the mesh"
   ]
  },
  {
   "cell_type": "code",
   "execution_count": 3,
   "metadata": {},
   "outputs": [],
   "source": [
    "order = 2\n",
    "Hcc = HCurlCurl(mesh, order=order) # for the gamma variable\n",
    "Hdd = HDivDiv(mesh, order=order) # , orderinner=order+1) fr t\n",
    "# fesalpha = H1(mesh, order=order+1) # , dirichlet=\".*\")\n",
    "Hc = HCurl(mesh, order=order-1) # for the div of a Hdd field\n",
    "\n",
    "\n",
    "k , dk= Hdd.TnT() \n",
    "p, dp = Hc.TnT()\n",
    "g, dg = Hcc.TnT()"
   ]
  },
  {
   "cell_type": "code",
   "execution_count": 4,
   "metadata": {},
   "outputs": [],
   "source": [
    "n = specialcf.normal(3)\n",
    "t = specialcf.tangential(3, True)\n",
    "bbndtang  = specialcf.EdgeFaceTangentialVectors(3)\n",
    "tef1 = bbndtang[:,0]\n",
    "tef2 = bbndtang[:,1]\n",
    "nu1 = Cross(tef1,t)\n",
    "nu2 = Cross(tef2,t)\n",
    "\n",
    "def IncOp(g, dg):\n",
    "    return InnerProduct(curl(g), curl(dg).trans)*dx \\\n",
    "        + (curl(g)*n) * Cross (dg*n, n) * dx(element_vb=BND) \\\n",
    "        + (curl(dg)*n) * Cross (g*n, n) * dx(element_vb=BND) \\\n",
    "        + (g[nu1,t]*dg[t,tef1]-g[nu2,t]*dg[t,tef2])*dx(element_vb=BBND)\n",
    "\n",
    "# print ( (gamma*nu1*t)*(dgamma*t*tef1))\n",
    "\n",
    "def J(g): return g - 0.5*Trace(g)*Id(3)\n",
    "\n",
    "def Constraint(k, p):\n",
    "    return InnerProduct(k, Grad(p))*dx - (k*n*n) * (p*n) * dx(element_vb=BND)\n",
    "\n",
    "def Curl(u):\n",
    "    if u.dim == 3:\n",
    "        return CF( (u[1].Diff(z)- u[2].Diff(y), u[2].Diff(x)- u[0].Diff(z), u[0].Diff(y)- u[1].Diff(x)) )\n",
    "    if u.dim == 9:\n",
    "        return CF( (Curl(u[0,:]),Curl(u[1,:]),Curl(u[2,:])),dims=(3,3) )\n",
    "\n",
    "def Transpose(u):\n",
    "    return CF( (u[0,0] , u[1,0] , u[2,0] , u[0,1] , u[1,1] , u[2,1] , u[0,2] , u[1,2] , u[2,2] ),dims=(3,3) )\n",
    "\n",
    "def Symetric(u): return u + Transpose(u) "
   ]
  },
  {
   "cell_type": "code",
   "execution_count": 5,
   "metadata": {},
   "outputs": [],
   "source": [
    "\n",
    "MINC = BilinearForm(IncOp(g,dg))\n",
    "\n",
    "Mcc = BilinearForm(InnerProduct(g, dg)*dx)\n",
    "Mdd = BilinearForm(InnerProduct(k, dk)*dx)\n",
    "\n",
    "Mccdd = BilinearForm(trialspace=Hcc, testspace=Hdd)\n",
    "Mccdd += InnerProduct(g, dk)*dx\n",
    "\n",
    "MJdd = BilinearForm(trialspace=Hdd, testspace=Hdd)\n",
    "MJdd += InnerProduct(k, dk)*dx-0.5*Trace(k)*Trace(dk)*dx\n",
    "\n",
    "with TaskManager():\n",
    "    MINC.Assemble()\n",
    "    Mcc.Assemble()\n",
    "    Mdd.Assemble()\n",
    "    Mccdd.Assemble()\n",
    "    MJdd.Assemble()\n",
    "\n"
   ]
  },
  {
   "cell_type": "code",
   "execution_count": 6,
   "metadata": {},
   "outputs": [],
   "source": [
    "\n",
    "fes = Hdd*Hc\n",
    "k, p = fes.TrialFunction()\n",
    "dk, dp = fes.TestFunction()\n",
    "\n",
    "PROJ = BilinearForm(fes)\n",
    "PROJ += InnerProduct(k, dk)*dx\n",
    "PROJ += Constraint(k, dp)\n",
    "PROJ += Constraint(dk, p)\n",
    "PROJ += curl(p)*curl(dp)*dx- 1e-6*p*dp*dx # I don't know why this is needed, \n",
    "\n",
    "MASS = BilinearForm(fes)\n",
    "MASS += InnerProduct(k, dk)*dx\n",
    "with TaskManager():\n",
    "    PROJ.Assemble() \n",
    "    MASS.Assemble()"
   ]
  },
  {
   "cell_type": "code",
   "execution_count": 7,
   "metadata": {},
   "outputs": [],
   "source": [
    "# 3 minutes for a cube of size 2 and a mesh of size 0.2 and order 3\n",
    "with TaskManager():\n",
    "    inv_PROJ = PROJ.mat.Inverse(inverse=\"sparsecholesky\", freedofs=fes.FreeDofs())\n",
    "    inv_Mcc = Mcc.mat.Inverse(inverse=\"sparsecholesky\", freedofs=fes.FreeDofs())\n",
    "    inv_Mdd = Mdd.mat.Inverse(inverse=\"sparsecholesky\", freedofs=fes.FreeDofs())"
   ]
  },
  {
   "cell_type": "code",
   "execution_count": 8,
   "metadata": {},
   "outputs": [
    {
     "data": {
      "application/vnd.jupyter.widget-view+json": {
       "model_id": "36d7e513cb2440e5a860e4837183a514",
       "version_major": 2,
       "version_minor": 0
      },
      "text/plain": [
       "WebGuiWidget(value={'ngsolve_version': '6.2.2203', 'mesh_dim': 3, 'order2d': 2, 'order3d': 2, 'draw_vol': True…"
      ]
     },
     "metadata": {},
     "output_type": "display_data"
    },
    {
     "data": {
      "text/plain": [
       "BaseWebGuiScene"
      ]
     },
     "execution_count": 8,
     "metadata": {},
     "output_type": "execute_result"
    }
   ],
   "source": [
    "peak = exp(-25*(x*x+y*y+z*z))/100\n",
    "cf_gamma = CF((0,0,0, 0,peak,0,  0,0,-peak), dims=(3,3))\n",
    "\n",
    "cf_symcurl_gamma = Symetric(Curl(cf_gamma))\n",
    "Draw(InnerProduct(cf_symcurl_gamma,cf_symcurl_gamma), mesh, \"SCGamma\", clipping={\"z\": -1})\n"
   ]
  },
  {
   "cell_type": "code",
   "execution_count": 9,
   "metadata": {},
   "outputs": [
    {
     "name": "stdout",
     "output_type": "stream",
     "text": [
      " total magnitude\n"
     ]
    },
    {
     "data": {
      "application/vnd.jupyter.widget-view+json": {
       "model_id": "c8b11728d3864c379f6404dd6ea8cbe2",
       "version_major": 2,
       "version_minor": 0
      },
      "text/plain": [
       "WebGuiWidget(value={'ngsolve_version': '6.2.2203', 'mesh_dim': 3, 'order2d': 2, 'order3d': 2, 'draw_vol': True…"
      ]
     },
     "metadata": {},
     "output_type": "display_data"
    },
    {
     "name": "stdout",
     "output_type": "stream",
     "text": [
      " (x,x) component\n"
     ]
    },
    {
     "data": {
      "application/vnd.jupyter.widget-view+json": {
       "model_id": "9a852ee9f9e34f90988c5b15d19b551e",
       "version_major": 2,
       "version_minor": 0
      },
      "text/plain": [
       "WebGuiWidget(value={'ngsolve_version': '6.2.2203', 'mesh_dim': 3, 'order2d': 2, 'order3d': 2, 'draw_vol': True…"
      ]
     },
     "metadata": {},
     "output_type": "display_data"
    },
    {
     "name": "stdout",
     "output_type": "stream",
     "text": [
      " (x,y) component\n"
     ]
    },
    {
     "data": {
      "application/vnd.jupyter.widget-view+json": {
       "model_id": "d390a92f303145bd861d3337ff902a55",
       "version_major": 2,
       "version_minor": 0
      },
      "text/plain": [
       "WebGuiWidget(value={'ngsolve_version': '6.2.2203', 'mesh_dim': 3, 'order2d': 2, 'order3d': 2, 'draw_vol': True…"
      ]
     },
     "metadata": {},
     "output_type": "display_data"
    },
    {
     "name": "stdout",
     "output_type": "stream",
     "text": [
      " (x,z) component\n"
     ]
    },
    {
     "data": {
      "application/vnd.jupyter.widget-view+json": {
       "model_id": "7a9ee594f55e4ffc92fdc8433982ef46",
       "version_major": 2,
       "version_minor": 0
      },
      "text/plain": [
       "WebGuiWidget(value={'ngsolve_version': '6.2.2203', 'mesh_dim': 3, 'order2d': 2, 'order3d': 2, 'draw_vol': True…"
      ]
     },
     "metadata": {},
     "output_type": "display_data"
    },
    {
     "name": "stdout",
     "output_type": "stream",
     "text": [
      " (y,y) component\n"
     ]
    },
    {
     "data": {
      "application/vnd.jupyter.widget-view+json": {
       "model_id": "c74a472758734ad7b1688d5d621047ea",
       "version_major": 2,
       "version_minor": 0
      },
      "text/plain": [
       "WebGuiWidget(value={'ngsolve_version': '6.2.2203', 'mesh_dim': 3, 'order2d': 2, 'order3d': 2, 'draw_vol': True…"
      ]
     },
     "metadata": {},
     "output_type": "display_data"
    },
    {
     "name": "stdout",
     "output_type": "stream",
     "text": [
      " (y,z) component\n"
     ]
    },
    {
     "data": {
      "application/vnd.jupyter.widget-view+json": {
       "model_id": "3dd7d633b32f4995924dedda9c320f9b",
       "version_major": 2,
       "version_minor": 0
      },
      "text/plain": [
       "WebGuiWidget(value={'ngsolve_version': '6.2.2203', 'mesh_dim': 3, 'order2d': 2, 'order3d': 2, 'draw_vol': True…"
      ]
     },
     "metadata": {},
     "output_type": "display_data"
    },
    {
     "name": "stdout",
     "output_type": "stream",
     "text": [
      " (z,z) component\n"
     ]
    },
    {
     "data": {
      "application/vnd.jupyter.widget-view+json": {
       "model_id": "40c24c52043447d48ffe0aeb857b41c7",
       "version_major": 2,
       "version_minor": 0
      },
      "text/plain": [
       "WebGuiWidget(value={'ngsolve_version': '6.2.2203', 'mesh_dim': 3, 'order2d': 2, 'order3d': 2, 'draw_vol': True…"
      ]
     },
     "metadata": {},
     "output_type": "display_data"
    },
    {
     "data": {
      "text/plain": [
       "BaseWebGuiScene"
      ]
     },
     "execution_count": 9,
     "metadata": {},
     "output_type": "execute_result"
    }
   ],
   "source": [
    "gf_g = GridFunction(Hcc)\n",
    "gf_inc_g = GridFunction(Hcc)\n",
    "\n",
    "peak = exp(-10*(x*x+y*y+z*z))/1000\n",
    "cf_gamma = CF((peak,0,0, 0,0,0,  0,0,0), dims=(3,3))\n",
    "cf_symcurl_gamma = Symetric(Curl(cf_gamma))\n",
    "\n",
    "print(\" total magnitude\")\n",
    "Draw(InnerProduct(cf_symcurl_gamma,cf_symcurl_gamma), mesh, \"SCGamma\", clipping={\"x\": -1, \"y\": 0, \"z\": 0})\n",
    "print(\" (x,x) component\")\n",
    "Draw(InnerProduct(cf_symcurl_gamma[0,0],cf_symcurl_gamma[0,0]), mesh, \"SCGamma\", clipping={\"x\": -1, \"y\": 0, \"z\": 0})\n",
    "print(\" (x,y) component\")\n",
    "Draw(InnerProduct(cf_symcurl_gamma[0,1],cf_symcurl_gamma[0,1]), mesh, \"SCGamma\", clipping={\"x\": -1, \"y\": 0, \"z\": 0})\n",
    "print(\" (x,z) component\")\n",
    "Draw(InnerProduct(cf_symcurl_gamma[0,2],cf_symcurl_gamma[0,2]), mesh, \"SCGamma\", clipping={\"x\": -1, \"y\": 0, \"z\": 0})\n",
    "print(\" (y,y) component\")\n",
    "Draw(InnerProduct(cf_symcurl_gamma[1,1],cf_symcurl_gamma[1,1]), mesh, \"SCGamma\", clipping={\"x\": -1, \"y\": 0, \"z\": 0})\n",
    "print(\" (y,z) component\")\n",
    "Draw(InnerProduct(cf_symcurl_gamma[1,2],cf_symcurl_gamma[1,2]), mesh, \"SCGamma\", clipping={\"x\": -1, \"y\": 0, \"z\": 0})\n",
    "print(\" (z,z) component\")\n",
    "Draw(InnerProduct(cf_symcurl_gamma[2,2],cf_symcurl_gamma[2,2]), mesh, \"SCGamma\", clipping={\"x\": -1, \"y\": 0, \"z\": 0})\n",
    "\n",
    "\n",
    "\n",
    "\n",
    "\n"
   ]
  },
  {
   "cell_type": "code",
   "execution_count": 10,
   "metadata": {},
   "outputs": [],
   "source": [
    "\n",
    "gf_g.Set( cf_symcurl_gamma, dual=True, bonus_intorder=12)\n",
    "\n",
    "gf_k = GridFunction(Hdd)\n",
    "gf_J_k = GridFunction(Hdd)\n",
    "\n",
    "\n",
    "\n"
   ]
  },
  {
   "cell_type": "code",
   "execution_count": 11,
   "metadata": {},
   "outputs": [
    {
     "name": "stdout",
     "output_type": "stream",
     "text": [
      "gamma\n",
      "\n"
     ]
    },
    {
     "data": {
      "application/vnd.jupyter.widget-view+json": {
       "model_id": "e72012fbd789434c84f7961a75dfc670",
       "version_major": 2,
       "version_minor": 0
      },
      "text/plain": [
       "WebGuiWidget(value={'ngsolve_version': '6.2.2203', 'mesh_dim': 3, 'order2d': 2, 'order3d': 2, 'draw_vol': True…"
      ]
     },
     "metadata": {},
     "output_type": "display_data"
    },
    {
     "name": "stdout",
     "output_type": "stream",
     "text": [
      "inc gamma\n",
      "\n"
     ]
    },
    {
     "data": {
      "application/vnd.jupyter.widget-view+json": {
       "model_id": "3a2ec160b975461d8385706688ed0a4a",
       "version_major": 2,
       "version_minor": 0
      },
      "text/plain": [
       "WebGuiWidget(value={'ngsolve_version': '6.2.2203', 'mesh_dim': 3, 'order2d': 2, 'order3d': 2, 'draw_vol': True…"
      ]
     },
     "metadata": {},
     "output_type": "display_data"
    },
    {
     "name": "stdout",
     "output_type": "stream",
     "text": [
      "kappa \n",
      "\n"
     ]
    },
    {
     "data": {
      "application/vnd.jupyter.widget-view+json": {
       "model_id": "6068360494e548fda1cf0b4b3ec3e145",
       "version_major": 2,
       "version_minor": 0
      },
      "text/plain": [
       "WebGuiWidget(value={'ngsolve_version': '6.2.2203', 'mesh_dim': 3, 'order2d': 2, 'order3d': 2, 'draw_vol': True…"
      ]
     },
     "metadata": {},
     "output_type": "display_data"
    },
    {
     "name": "stdout",
     "output_type": "stream",
     "text": [
      "J kappa\n",
      "\n"
     ]
    },
    {
     "data": {
      "application/vnd.jupyter.widget-view+json": {
       "model_id": "4f78e23ef7824fd7b22123c36c333c74",
       "version_major": 2,
       "version_minor": 0
      },
      "text/plain": [
       "WebGuiWidget(value={'ngsolve_version': '6.2.2203', 'mesh_dim': 3, 'order2d': 2, 'order3d': 2, 'draw_vol': True…"
      ]
     },
     "metadata": {},
     "output_type": "display_data"
    }
   ],
   "source": [
    "print (\"gamma\\n\")\n",
    "scene1 = Draw (InnerProduct(gf_g,gf_g), mesh, draw_surf=False, clipping={\"x\": -1, \"y\": 0, \"z\": 0})\n",
    "print (\"inc gamma\\n\")\n",
    "scene2 = Draw (InnerProduct(gf_inc_g,gf_inc_g), mesh, draw_surf=False, clipping={\"x\": -1, \"y\": 0, \"z\": 0})\n",
    "print (\"kappa \\n\")\n",
    "scene3 = Draw (InnerProduct(gf_k, gf_k), mesh, draw_surf=False, clipping={\"x\": -1, \"y\": 0, \"z\": 0})\n",
    "print (\"J kappa\\n\")\n",
    "scene4 = Draw (InnerProduct(gf_J_k, gf_J_k), mesh, draw_surf=False, clipping={\"x\": -1, \"y\": 0, \"z\": 0})"
   ]
  },
  {
   "cell_type": "code",
   "execution_count": 12,
   "metadata": {},
   "outputs": [
    {
     "name": "stdout",
     "output_type": "stream",
     "text": [
      "t =  0.0 norm =  0.002155352594744468\n"
     ]
    },
    {
     "ename": "NameError",
     "evalue": "name 'scene5' is not defined",
     "output_type": "error",
     "traceback": [
      "\u001b[1;31m---------------------------------------------------------------------------\u001b[0m",
      "\u001b[1;31mNameError\u001b[0m                                 Traceback (most recent call last)",
      "\u001b[1;32mc:\\Users\\User\\OneDrive\\Desktop\\Master_Thesis\\4_Einstein_Field_Equations\\TestForWaveNonDivFree2.ipynb Cell 13\u001b[0m in \u001b[0;36m<cell line: 4>\u001b[1;34m()\u001b[0m\n\u001b[0;32m     <a href='vscode-notebook-cell:/c%3A/Users/User/OneDrive/Desktop/Master_Thesis/4_Einstein_Field_Equations/TestForWaveNonDivFree2.ipynb#X15sZmlsZQ%3D%3D?line=23'>24</a>\u001b[0m scene3\u001b[39m.\u001b[39mRedraw()\n\u001b[0;32m     <a href='vscode-notebook-cell:/c%3A/Users/User/OneDrive/Desktop/Master_Thesis/4_Einstein_Field_Equations/TestForWaveNonDivFree2.ipynb#X15sZmlsZQ%3D%3D?line=24'>25</a>\u001b[0m scene4\u001b[39m.\u001b[39mRedraw()\n\u001b[1;32m---> <a href='vscode-notebook-cell:/c%3A/Users/User/OneDrive/Desktop/Master_Thesis/4_Einstein_Field_Equations/TestForWaveNonDivFree2.ipynb#X15sZmlsZQ%3D%3D?line=25'>26</a>\u001b[0m scene5\u001b[39m.\u001b[39mRedraw()\n",
      "\u001b[1;31mNameError\u001b[0m: name 'scene5' is not defined"
     ]
    }
   ],
   "source": [
    "Energy = []\n",
    "dt = 0.1e-2\n",
    "final_time = 0.2\n",
    "with TaskManager():\n",
    "  for i in range(round(final_time/dt)):\n",
    "    NORM = Norm(gf_g.vec)\n",
    "    Energy.append(NORM)\n",
    "    #if NORM > 1.3:\n",
    "    #  break\n",
    "\n",
    "    print (\"t = \", i*dt, \"norm = \",NORM)\n",
    "\n",
    "    \n",
    "    gf_J_k.vec.data = inv_Mdd @ MJdd.mat * gf_k.vec\n",
    "    gf_g.vec.data += dt*inv_Mcc @ Mccdd.mat.T * gf_J_k.vec\n",
    "\n",
    "    gf_inc_g.vec.data = inv_Mcc @ MINC.mat * gf_g.vec\n",
    "    gf_k.vec.data -= dt*inv_Mdd @ Mccdd.mat * gf_inc_g.vec\n",
    "    \n",
    "    \n",
    "    if i % 10 == 0:\n",
    "        scene1.Redraw()\n",
    "        scene2.Redraw()\n",
    "        scene3.Redraw()\n",
    "        scene4.Redraw()\n",
    "        scene5.Redraw()\n"
   ]
  },
  {
   "cell_type": "code",
   "execution_count": null,
   "metadata": {},
   "outputs": [
    {
     "data": {
      "application/vnd.jupyter.widget-view+json": {
       "model_id": "de95f96291144291b6426611b6e42eba",
       "version_major": 2,
       "version_minor": 0
      },
      "text/plain": [
       "WebGuiWidget(value={'ngsolve_version': '6.2.2203', 'mesh_dim': 3, 'order2d': 2, 'order3d': 2, 'draw_vol': True…"
      ]
     },
     "metadata": {},
     "output_type": "display_data"
    },
    {
     "data": {
      "text/plain": [
       "BaseWebGuiScene"
      ]
     },
     "execution_count": 31,
     "metadata": {},
     "output_type": "execute_result"
    }
   ],
   "source": [
    "#PEAK = CF((peak,0,0, 0,peak,0,  0,0,peak), dims=(3,3))\n",
    "Draw (InnerProduct(gf_g - cf_symcurl_gamma,gf_g - cf_symcurl_gamma) , mesh, draw_surf=False, clipping={ \"x\" : -1 })"
   ]
  },
  {
   "cell_type": "code",
   "execution_count": null,
   "metadata": {},
   "outputs": [
    {
     "name": "stdout",
     "output_type": "stream",
     "text": [
      " total magnitude\n"
     ]
    },
    {
     "data": {
      "application/vnd.jupyter.widget-view+json": {
       "model_id": "d8d7fac9f8c84c7b98a4ee4c4d941ce2",
       "version_major": 2,
       "version_minor": 0
      },
      "text/plain": [
       "WebGuiWidget(value={'ngsolve_version': '6.2.2203', 'mesh_dim': 3, 'order2d': 2, 'order3d': 2, 'draw_vol': True…"
      ]
     },
     "metadata": {},
     "output_type": "display_data"
    },
    {
     "name": "stdout",
     "output_type": "stream",
     "text": [
      " (x,x) component\n"
     ]
    },
    {
     "data": {
      "application/vnd.jupyter.widget-view+json": {
       "model_id": "913aef5a399e4c119dca27f61a179d77",
       "version_major": 2,
       "version_minor": 0
      },
      "text/plain": [
       "WebGuiWidget(value={'ngsolve_version': '6.2.2203', 'mesh_dim': 3, 'order2d': 2, 'order3d': 2, 'draw_vol': True…"
      ]
     },
     "metadata": {},
     "output_type": "display_data"
    },
    {
     "name": "stdout",
     "output_type": "stream",
     "text": [
      " (x,y) component\n"
     ]
    },
    {
     "data": {
      "application/vnd.jupyter.widget-view+json": {
       "model_id": "a23b50abeb564536bd4c0dfb01bf58c5",
       "version_major": 2,
       "version_minor": 0
      },
      "text/plain": [
       "WebGuiWidget(value={'ngsolve_version': '6.2.2203', 'mesh_dim': 3, 'order2d': 2, 'order3d': 2, 'draw_vol': True…"
      ]
     },
     "metadata": {},
     "output_type": "display_data"
    },
    {
     "name": "stdout",
     "output_type": "stream",
     "text": [
      " (x,z) component\n"
     ]
    },
    {
     "data": {
      "application/vnd.jupyter.widget-view+json": {
       "model_id": "25b65300afa343ba8514214c5e008497",
       "version_major": 2,
       "version_minor": 0
      },
      "text/plain": [
       "WebGuiWidget(value={'ngsolve_version': '6.2.2203', 'mesh_dim': 3, 'order2d': 2, 'order3d': 2, 'draw_vol': True…"
      ]
     },
     "metadata": {},
     "output_type": "display_data"
    },
    {
     "name": "stdout",
     "output_type": "stream",
     "text": [
      " (y,y) component\n"
     ]
    },
    {
     "data": {
      "application/vnd.jupyter.widget-view+json": {
       "model_id": "321f865ae70e49d9925b6e840212bbcc",
       "version_major": 2,
       "version_minor": 0
      },
      "text/plain": [
       "WebGuiWidget(value={'ngsolve_version': '6.2.2203', 'mesh_dim': 3, 'order2d': 2, 'order3d': 2, 'draw_vol': True…"
      ]
     },
     "metadata": {},
     "output_type": "display_data"
    },
    {
     "name": "stdout",
     "output_type": "stream",
     "text": [
      " (y,z) component\n"
     ]
    },
    {
     "data": {
      "application/vnd.jupyter.widget-view+json": {
       "model_id": "cc78d56a5bd54819a6ee1a5caf68d3bc",
       "version_major": 2,
       "version_minor": 0
      },
      "text/plain": [
       "WebGuiWidget(value={'ngsolve_version': '6.2.2203', 'mesh_dim': 3, 'order2d': 2, 'order3d': 2, 'draw_vol': True…"
      ]
     },
     "metadata": {},
     "output_type": "display_data"
    },
    {
     "name": "stdout",
     "output_type": "stream",
     "text": [
      " (z,z) component\n"
     ]
    },
    {
     "data": {
      "application/vnd.jupyter.widget-view+json": {
       "model_id": "63e133cecff14e8c99df66e107780feb",
       "version_major": 2,
       "version_minor": 0
      },
      "text/plain": [
       "WebGuiWidget(value={'ngsolve_version': '6.2.2203', 'mesh_dim': 3, 'order2d': 2, 'order3d': 2, 'draw_vol': True…"
      ]
     },
     "metadata": {},
     "output_type": "display_data"
    },
    {
     "data": {
      "text/plain": [
       "BaseWebGuiScene"
      ]
     },
     "execution_count": 32,
     "metadata": {},
     "output_type": "execute_result"
    }
   ],
   "source": [
    "print(\" total magnitude\")\n",
    "Draw(InnerProduct(gf_g,gf_g), mesh, \"SCGamma\", clipping={\"x\": -1, \"y\": 0, \"z\": 0})\n",
    "print(\" (x,x) component\")\n",
    "Draw(InnerProduct(gf_g[0,0],gf_g[0,0]), mesh, \"SCGamma\", clipping={\"x\": -1, \"y\": 0, \"z\": 0})\n",
    "print(\" (x,y) component\")\n",
    "Draw(InnerProduct(gf_g[0,1],gf_g[0,1]), mesh, \"SCGamma\", clipping={\"x\": -1, \"y\": 0, \"z\": 0})\n",
    "print(\" (x,z) component\")\n",
    "Draw(InnerProduct(gf_g[0,2],gf_g[0,2]), mesh, \"SCGamma\", clipping={\"x\": -1, \"y\": 0, \"z\": 0})\n",
    "print(\" (y,y) component\")\n",
    "Draw(InnerProduct(gf_g[1,1],gf_g[1,1]), mesh, \"SCGamma\", clipping={\"x\": -1, \"y\": 0, \"z\": 0})\n",
    "print(\" (y,z) component\")\n",
    "Draw(InnerProduct(gf_g[1,2],gf_g[1,2]), mesh, \"SCGamma\", clipping={\"x\": -1, \"y\": 0, \"z\": 0})\n",
    "print(\" (z,z) component\")\n",
    "Draw(InnerProduct(gf_g[2,2],gf_g[2,2]), mesh, \"SCGamma\", clipping={\"x\": -1, \"y\": 0, \"z\": 0})\n",
    "\n"
   ]
  },
  {
   "cell_type": "code",
   "execution_count": null,
   "metadata": {},
   "outputs": [
    {
     "data": {
      "text/plain": [
       "[<matplotlib.lines.Line2D at 0x1fce24f3370>]"
      ]
     },
     "execution_count": 33,
     "metadata": {},
     "output_type": "execute_result"
    },
    {
     "data": {
      "image/png": "[encoded data removed]",
      "text/plain": [
       "<Figure size 432x288 with 1 Axes>"
      ]
     },
     "metadata": {
      "needs_background": "light"
     },
     "output_type": "display_data"
    }
   ],
   "source": [
    "import matplotlib.pyplot as plt\n",
    "import numpy as np\n",
    "\n",
    "TIME = np.linspace(0,final_time,len(Energy))\n",
    "plt.plot(TIME,Energy)"
   ]
  },
  {
   "cell_type": "code",
   "execution_count": null,
   "metadata": {},
   "outputs": [],
   "source": []
  }
 ],
 "metadata": {
  "kernelspec": {
   "display_name": "Python 3.10.4 64-bit",
   "language": "python",
   "name": "python3"
  },
  "language_info": {
   "codemirror_mode": {
    "name": "ipython",
    "version": 3
   },
   "file_extension": ".py",
   "mimetype": "text/x-python",
   "name": "python",
   "nbconvert_exporter": "python",
   "pygments_lexer": "ipython3",
   "version": "3.10.4"
  },
  "orig_nbformat": 4,
  "vscode": {
   "interpreter": {
    "hash": "afb734500600fd355917ca529030176ea0ca205570884b88f2f6f7d791fd3fbe"
   }
  }
 },
 "nbformat": 4,
 "nbformat_minor": 2
}
