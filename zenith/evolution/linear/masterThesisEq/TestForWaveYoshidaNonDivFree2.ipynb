{
 "cells": [
  {
   "cell_type": "markdown",
   "metadata": {},
   "source": [
    "# It works, we need to add a dvergence free constraint!!!"
   ]
  },
  {
   "cell_type": "code",
   "execution_count": 1,
   "metadata": {},
   "outputs": [],
   "source": [
    "from ngsolve import *\n",
    "from netgen.occ import *\n",
    "from ngsolve.webgui import Draw"
   ]
  },
  {
   "cell_type": "code",
   "execution_count": 2,
   "metadata": {},
   "outputs": [
    {
     "data": {
      "application/vnd.jupyter.widget-view+json": {
       "model_id": "a955c32255c84a51b9bc8812849dc8a7",
       "version_major": 2,
       "version_minor": 0
      },
      "text/plain": [
       "WebGuiWidget(value={'ngsolve_version': '6.2.2203', 'mesh_dim': 3, 'order2d': 1, 'order3d': 1, 'draw_vol': None…"
      ]
     },
     "metadata": {},
     "output_type": "display_data"
    }
   ],
   "source": [
    "shape = Box((-1,-1,-1), (1,1,1)) # create a box\n",
    "geo = OCCGeometry(shape) # create a geometry from the box\n",
    "mesh = Mesh(geo.GenerateMesh(maxh=0.2)) # create a mesh from the geometry\n",
    "Draw (mesh); # draw the mesh"
   ]
  },
  {
   "cell_type": "code",
   "execution_count": 3,
   "metadata": {},
   "outputs": [],
   "source": [
    "order = 2\n",
    "Hcc = HCurlCurl(mesh, order=order) # for the gamma variable\n",
    "Hdd = HDivDiv(mesh, order=order) # , orderinner=order+1) fr t\n",
    "# fesalpha = H1(mesh, order=order+1) # , dirichlet=\".*\")\n",
    "Hc = HCurl(mesh, order=order) # for the div of a Hdd field\n",
    "\n",
    "\n",
    "k , dk= Hdd.TnT() \n",
    "p, dp = Hc.TnT()\n",
    "g, dg = Hcc.TnT()"
   ]
  },
  {
   "cell_type": "code",
   "execution_count": 4,
   "metadata": {},
   "outputs": [],
   "source": [
    "n = specialcf.normal(3)\n",
    "t = specialcf.tangential(3, True)\n",
    "bbndtang  = specialcf.EdgeFaceTangentialVectors(3)\n",
    "tef1 = bbndtang[:,0]\n",
    "tef2 = bbndtang[:,1]\n",
    "nu1 = Cross(tef1,t)\n",
    "nu2 = Cross(tef2,t)\n",
    "\n",
    "def IncOp(g, dg):\n",
    "    return InnerProduct(curl(g), curl(dg).trans)*dx \\\n",
    "        +(curl(g)*n) * Cross (dg*n, n) * dx(element_vb=BND) \\\n",
    "        +(curl(dg)*n) * Cross (g*n, n) * dx(element_vb=BND) \\\n",
    "        +(g[nu1,t]*dg[t,tef1]-g[nu2,t]*dg[t,tef2])*dx(element_vb=BBND)\n",
    "\n",
    "# print ( (gamma*nu1*t)*(dgamma*t*tef1))\n",
    "\n",
    "def J(g): return g - 0.5*Trace(g)*Id(3)\n",
    "\n",
    "def Constraint(k, p):\n",
    "    return InnerProduct(k, Grad(p))*dx - (k*n*n) * (p*n) * dx(element_vb=BND)"
   ]
  },
  {
   "cell_type": "code",
   "execution_count": 5,
   "metadata": {},
   "outputs": [],
   "source": [
    "\n",
    "MINC = BilinearForm(IncOp(g,dg))\n",
    "\n",
    "Mcc = BilinearForm(InnerProduct(g, dg)*dx)\n",
    "Mdd = BilinearForm(InnerProduct(k, dk)*dx)\n",
    "\n",
    "Mccdd = BilinearForm(trialspace=Hcc, testspace=Hdd)\n",
    "Mccdd += InnerProduct(g, dk)*dx\n",
    "\n",
    "MJdd = BilinearForm(trialspace=Hdd, testspace=Hdd)\n",
    "MJdd += InnerProduct(k, dk)*dx-0.5*Trace(k)*Trace(dk)*dx\n",
    "\n",
    "with TaskManager():\n",
    "    MINC.Assemble()\n",
    "    Mcc.Assemble()\n",
    "    Mdd.Assemble()\n",
    "    Mccdd.Assemble()\n",
    "    MJdd.Assemble()\n",
    "\n"
   ]
  },
  {
   "cell_type": "code",
   "execution_count": 6,
   "metadata": {},
   "outputs": [],
   "source": [
    "\n",
    "fes = Hdd*Hc\n",
    "k, p = fes.TrialFunction()\n",
    "dk, dp = fes.TestFunction()\n",
    "\n",
    "PROJ = BilinearForm(fes)\n",
    "PROJ += InnerProduct(k, dk)*dx\n",
    "PROJ += Constraint(k, dp)\n",
    "PROJ += Constraint(dk, p)\n",
    "PROJ += curl(p)*curl(dp)*dx- 1e-6*p*dp*dx # I don't know why this is needed, \n",
    "\n",
    "MASS = BilinearForm(fes)\n",
    "MASS += InnerProduct(k, dk)*dx\n",
    "with TaskManager():\n",
    "    PROJ.Assemble() \n",
    "    MASS.Assemble()"
   ]
  },
  {
   "cell_type": "code",
   "execution_count": 7,
   "metadata": {},
   "outputs": [],
   "source": [
    "# 3 minutes for a cube of size 2 and a mesh of size 0.2 and order 3\n",
    "with TaskManager():\n",
    "    inv_PROJ = PROJ.mat.Inverse(inverse=\"sparsecholesky\", freedofs=fes.FreeDofs())\n",
    "    inv_Mcc = Mcc.mat.Inverse(inverse=\"sparsecholesky\", freedofs=fes.FreeDofs())\n",
    "    inv_Mdd = Mdd.mat.Inverse(inverse=\"sparsecholesky\", freedofs=fes.FreeDofs())"
   ]
  },
  {
   "cell_type": "code",
   "execution_count": null,
   "metadata": {},
   "outputs": [],
   "source": []
  },
  {
   "cell_type": "code",
   "execution_count": 8,
   "metadata": {},
   "outputs": [],
   "source": [
    "gf_g = GridFunction(Hcc)\n",
    "gf_inc_g = GridFunction(Hcc)\n",
    "peak = exp(-20*(x*x+y*y+z*z))\n",
    "gf_g.Set( CF((peak,0,0, 0,peak,0,  0,0,peak), dims=(3,3)), dual=True, bonus_intorder=12)\n",
    "\n",
    "gf_k = GridFunction(Hdd)\n",
    "gf_J_k = GridFunction(Hdd)\n",
    "\n",
    "\n",
    "\n"
   ]
  },
  {
   "cell_type": "code",
   "execution_count": 9,
   "metadata": {},
   "outputs": [
    {
     "name": "stdout",
     "output_type": "stream",
     "text": [
      "gamma\n",
      "\n"
     ]
    },
    {
     "data": {
      "application/vnd.jupyter.widget-view+json": {
       "model_id": "b4a1873fc74245188373a7d0241ff34d",
       "version_major": 2,
       "version_minor": 0
      },
      "text/plain": [
       "WebGuiWidget(value={'ngsolve_version': '6.2.2203', 'mesh_dim': 3, 'order2d': 2, 'order3d': 2, 'draw_vol': True…"
      ]
     },
     "metadata": {},
     "output_type": "display_data"
    },
    {
     "name": "stdout",
     "output_type": "stream",
     "text": [
      "kappa \n",
      "\n"
     ]
    },
    {
     "data": {
      "application/vnd.jupyter.widget-view+json": {
       "model_id": "1cb36ee362734226bc1a41ef857d8783",
       "version_major": 2,
       "version_minor": 0
      },
      "text/plain": [
       "WebGuiWidget(value={'ngsolve_version': '6.2.2203', 'mesh_dim': 3, 'order2d': 2, 'order3d': 2, 'draw_vol': True…"
      ]
     },
     "metadata": {},
     "output_type": "display_data"
    }
   ],
   "source": [
    "print (\"gamma\\n\")\n",
    "scene1 = Draw (gf_g, mesh, draw_surf=False, clipping={ \"z\" : -1 })\n",
    "#print (\"inc gamma\\n\")\n",
    "#scene2 = Draw (gf_inc_g[0,0], mesh, draw_surf=False, clipping={ \"z\" : -1 })\n",
    "\n",
    "\n",
    "print (\"kappa \\n\")\n",
    "scene3 = Draw (gf_k, mesh, draw_surf=False, clipping={ \"z\" : -1 })\n",
    "#print (\"J kappa\\n\")\n",
    "#scene4 = Draw (gf_J_k[1,1], mesh, draw_surf=False, clipping={ \"z\" : -1 })"
   ]
  },
  {
   "cell_type": "markdown",
   "metadata": {},
   "source": [
    "# book yoshida symplectic\n",
    "https://en.wikipedia.org/wiki/Leapfrog_integration#cite_note-Yoshida1990-6\n",
    "\n",
    "    def YoshidaIntegratorStep(tau,u,Mu,v,Mv):\n",
    "        w0 = - 2**-(1/3)/(2-2**-(1/3))\n",
    "        w1 = 1/(2-2**-(1/3))\n",
    "\n",
    "        c= [w0/2 , (w0+w1)/2  , (w0+w1)/2 , w0/2 ]\n",
    "        d= [w1,w0,w1]\n",
    "\n",
    "        u.vec.data += c[0]*tau*Mv.mat*v.vec\n",
    "        v.vec.data += d[0]*tau*Mu.mat*u.vec\n",
    "\n",
    "        u.vec.data += c[1]*tau*Mv.mat*v.vec\n",
    "        v.vec.data += d[1]*tau*Mu.mat*u.vec\n",
    "\n",
    "        u.vec.data += c[2]*tau*Mv.mat*v.vec\n",
    "        v.vec.data += d[2]*tau*Mu.mat*u.vec \n",
    "\n",
    "        u.vec.data += c[3]*tau*Mv.mat*v.vec\n",
    "        return u,\n",
    "        \n",
    "with\n",
    "    \n",
    "    gf_g.vec.data += dt*inv_Mcc @ Mccdd.mat.T @ inv_Mdd @ MJdd.mat * gf_k.vec"
   ]
  },
  {
   "cell_type": "code",
   "execution_count": 10,
   "metadata": {},
   "outputs": [
    {
     "name": "stdout",
     "output_type": "stream",
     "text": [
      "t =  0.0 norm =  0.6165032284539174\n",
      "t =  0.002 norm =  0.6164824669707907\n",
      "t =  0.004 norm =  0.6164201893705198\n",
      "t =  0.006 norm =  0.6163164162126473\n",
      "t =  0.008 norm =  0.6161711818038675\n",
      "t =  0.01 norm =  0.6159845342594313\n",
      "t =  0.012 norm =  0.6157565355895319\n",
      "t =  0.014 norm =  0.6154872618110931\n",
      "t =  0.016 norm =  0.6151768030854999\n",
      "t =  0.018000000000000002 norm =  0.6148252638829081\n",
      "t =  0.02 norm =  0.6144327631738964\n",
      "t =  0.022 norm =  0.6139994346492972\n",
      "t =  0.024 norm =  0.613525426969177\n",
      "t =  0.026000000000000002 norm =  0.6130109040420015\n",
      "t =  0.028 norm =  0.6124560453351335\n",
      "t =  0.03 norm =  0.6118610462178914\n",
      "t =  0.032 norm =  0.6112261183384943\n",
      "t =  0.034 norm =  0.6105514900363149\n",
      "t =  0.036000000000000004 norm =  0.6098374067909562\n",
      "t =  0.038 norm =  0.609084131709772\n",
      "t =  0.04 norm =  0.6082919460555745\n",
      "t =  0.042 norm =  0.6074611498163952\n",
      "t =  0.044 norm =  0.606592062319303\n",
      "t =  0.046 norm =  0.6056850228904559\n",
      "t =  0.048 norm =  0.6047403915637424\n",
      "t =  0.05 norm =  0.6037585498405675\n",
      "t =  0.052000000000000005 norm =  0.602739901503601\n",
      "t =  0.054 norm =  0.6016848734875423\n",
      "t =  0.056 norm =  0.600593916810292\n",
      "t =  0.058 norm =  0.5994675075682488\n",
      "t =  0.06 norm =  0.598306147999831\n",
      "t =  0.062 norm =  0.5971103676217774\n",
      "t =  0.064 norm =  0.5958807244432394\n",
      "t =  0.066 norm =  0.5946178062632249\n",
      "t =  0.068 norm =  0.5933222320575391\n",
      "t =  0.07 norm =  0.5919946534620277\n",
      "t =  0.07200000000000001 norm =  0.5906357563596424\n",
      "t =  0.074 norm =  0.5892462625796171\n",
      "t =  0.076 norm =  0.5878269317179436\n",
      "t =  0.078 norm =  0.5863785630892402\n",
      "t =  0.08 norm =  0.5849019978211457\n",
      "t =  0.082 norm =  0.5833981211035107\n",
      "t =  0.084 norm =  0.5818678646058375\n",
      "t =  0.08600000000000001 norm =  0.5803122090777904\n",
      "t =  0.088 norm =  0.5787321871490207\n",
      "t =  0.09 norm =  0.5771288863461177\n",
      "t =  0.092 norm =  0.5755034523462241\n",
      "t =  0.094 norm =  0.5738570924886917\n",
      "t =  0.096 norm =  0.5721910795681946\n",
      "t =  0.098 norm =  0.5705067559348688\n",
      "t =  0.1 norm =  0.5688055379294727\n",
      "t =  0.10200000000000001 norm =  0.5670889206841049\n",
      "t =  0.10400000000000001 norm =  0.5653584833218243\n",
      "t =  0.106 norm =  0.5636158945915388\n",
      "t =  0.108 norm =  0.5618629189778017\n",
      "t =  0.11 norm =  0.5601014233286655\n",
      "t =  0.112 norm =  0.5583333840485613\n",
      "t =  0.114 norm =  0.5565608949072199\n",
      "t =  0.116 norm =  0.55478617552004\n",
      "t =  0.11800000000000001 norm =  0.5530115805599494\n",
      "t =  0.12 norm =  0.5512396097657608\n",
      "t =  0.122 norm =  0.5494729188172678\n",
      "t =  0.124 norm =  0.547714331152816\n",
      "t =  0.126 norm =  0.5459668508108837\n",
      "t =  0.128 norm =  0.5442336763831237\n",
      "t =  0.13 norm =  0.5425182161725292\n",
      "t =  0.132 norm =  0.5408241046565652\n",
      "t =  0.134 norm =  0.5391552203614027\n",
      "t =  0.136 norm =  0.5375157052595363\n",
      "t =  0.138 norm =  0.5359099858089695\n",
      "t =  0.14 norm =  0.5343427957576901\n",
      "t =  0.14200000000000002 norm =  0.5328192008420061\n",
      "t =  0.14400000000000002 norm =  0.531344625511336\n",
      "t =  0.146 norm =  0.5299248818148808\n",
      "t =  0.148 norm =  0.5285662005868619\n",
      "t =  0.15 norm =  0.5272752650663979\n",
      "t =  0.152 norm =  0.5260592470849721\n",
      "t =  0.154 norm =  0.5249258459484475\n",
      "t =  0.156 norm =  0.523883330131\n",
      "t =  0.158 norm =  0.5229405818846051\n",
      "t =  0.16 norm =  0.5221071448491208\n",
      "t =  0.162 norm =  0.5213932747238175\n",
      "t =  0.164 norm =  0.5208099930308397\n",
      "t =  0.166 norm =  0.5203691439637593\n",
      "t =  0.168 norm =  0.5200834542696293\n",
      "t =  0.17 norm =  0.5199665960604242\n",
      "t =  0.17200000000000001 norm =  0.5200332523891574\n",
      "t =  0.17400000000000002 norm =  0.5202991853577186\n",
      "t =  0.176 norm =  0.520781306448021\n",
      "t =  0.178 norm =  0.5214977486866997\n",
      "t =  0.18 norm =  0.5224679401683142\n",
      "t =  0.182 norm =  0.5237126783753308\n",
      "t =  0.184 norm =  0.525254204648956\n",
      "t =  0.186 norm =  0.5271162780875142\n",
      "t =  0.188 norm =  0.5293242480843112\n",
      "t =  0.19 norm =  0.5319051246710655\n",
      "t =  0.192 norm =  0.534887645813313\n",
      "t =  0.194 norm =  0.5383023408181673\n",
      "t =  0.196 norm =  0.5421815890698741\n",
      "t =  0.198 norm =  0.5465596734114734\n",
      "t =  0.2 norm =  0.5514728276468507\n",
      "t =  0.202 norm =  0.5569592778494408\n",
      "t =  0.20400000000000001 norm =  0.56305927743182\n",
      "t =  0.20600000000000002 norm =  0.5698151362501742\n",
      "t =  0.20800000000000002 norm =  0.5772712443810022\n",
      "t =  0.21 norm =  0.5854740916010523\n",
      "t =  0.212 norm =  0.5944722840081762\n",
      "t =  0.214 norm =  0.6043165596192867\n",
      "t =  0.216 norm =  0.6150598051486099\n",
      "t =  0.218 norm =  0.626757076480937\n",
      "t =  0.22 norm =  0.6394656255883442\n",
      "t =  0.222 norm =  0.6532449367763079\n",
      "t =  0.224 norm =  0.6681567751737735\n",
      "t =  0.226 norm =  0.6842652502964575\n",
      "t =  0.228 norm =  0.701636897316789\n",
      "t =  0.23 norm =  0.7203407783791627\n",
      "t =  0.232 norm =  0.7404486059248332\n",
      "t =  0.234 norm =  0.762034889561789\n",
      "t =  0.23600000000000002 norm =  0.7851771075596529\n",
      "t =  0.23800000000000002 norm =  0.8099559035973599\n",
      "t =  0.24 norm =  0.8364553089693159\n",
      "t =  0.242 norm =  0.8647629900874811\n",
      "t =  0.244 norm =  0.8949705208199669\n",
      "t =  0.246 norm =  0.9271736789926863\n",
      "t =  0.248 norm =  0.9614727662539313\n",
      "t =  0.25 norm =  0.9979729504609942\n"
     ]
    }
   ],
   "source": [
    "w0 = - 2**-(1/3)/(2-2**-(1/3))\n",
    "w1 = 1/(2-2**-(1/3))\n",
    "\n",
    "c= [w0/2 , (w0+w1)/2  , (w0+w1)/2 , w0/2 ]\n",
    "d= [w1,w0,w1]\n",
    "\n",
    "MKK= inv_Mcc @ Mccdd.mat.T @ inv_Mdd @ MJdd.mat \n",
    "MGG = inv_Mdd @ Mccdd.mat @ inv_Mcc @ MINC.mat\n",
    "\n",
    "tau = 0.2e-2\n",
    "final_time = 0.4\n",
    "with TaskManager():\n",
    "  for i in range(round(final_time/tau)):\n",
    "    NORM = Norm(gf_g.vec)\n",
    "    if NORM > 1.0:\n",
    "      break\n",
    "\n",
    "    print (\"t = \", i*tau, \"norm = \",NORM)\n",
    "\n",
    "    \n",
    "    #gf_J_k.vec.data = inv_Mdd @ MJdd.mat * gf_k.vec \n",
    "    \n",
    "    gf_k.vec.data += c[0]*tau*MGG*gf_g.vec\n",
    "    gf_g.vec.data += d[0]*tau*MKK*gf_k.vec\n",
    "\n",
    "    \n",
    "    gf_k.vec.data += c[1]*tau*MGG*gf_g.vec\n",
    "    gf_g.vec.data += d[1]*tau*MKK*gf_k.vec\n",
    "\n",
    "    \n",
    "    gf_k.vec.data += c[2]*tau*MGG*gf_g.vec \n",
    "    gf_g.vec.data += d[2]*tau*MKK*gf_k.vec\n",
    "\n",
    "    gf_k.vec.data += c[3]*tau*MGG*gf_g.vec\n",
    "\n",
    "    if i % 10 == 0:\n",
    "        scene1.Redraw()\n",
    "        #scene2.Redraw()\n",
    "        scene3.Redraw()\n",
    "        #scene4.Redraw()\n",
    "        # scene5.Redraw()\n"
   ]
  },
  {
   "cell_type": "code",
   "execution_count": 11,
   "metadata": {},
   "outputs": [
    {
     "data": {
      "application/vnd.jupyter.widget-view+json": {
       "model_id": "b11fc1fcf61646fc91373a97db764bd4",
       "version_major": 2,
       "version_minor": 0
      },
      "text/plain": [
       "WebGuiWidget(value={'ngsolve_version': '6.2.2203', 'mesh_dim': 3, 'order2d': 2, 'order3d': 2, 'draw_vol': True…"
      ]
     },
     "metadata": {},
     "output_type": "display_data"
    },
    {
     "data": {
      "text/plain": [
       "BaseWebGuiScene"
      ]
     },
     "execution_count": 11,
     "metadata": {},
     "output_type": "execute_result"
    }
   ],
   "source": [
    "PEAK = CF((peak,0,0, 0,peak,0,  0,0,peak), dims=(3,3))\n",
    "Draw (gf_g - PEAK, mesh, draw_surf=False, clipping={ \"z\" : -1 })"
   ]
  },
  {
   "cell_type": "code",
   "execution_count": 12,
   "metadata": {},
   "outputs": [
    {
     "name": "stdout",
     "output_type": "stream",
     "text": [
      "[-0.3289815435887515, 0.08550922820562423, 0.08550922820562423, -0.3289815435887515]\n",
      "[0.8289815435887514, -0.657963087177503, 0.8289815435887514]\n"
     ]
    }
   ],
   "source": [
    "w0 = - 2**-(1/3)/(2-2**-(1/3))\n",
    "w1 = 1/(2-2**-(1/3))\n",
    "\n",
    "c= [w0/2 , (w0+w1)/2  , (w0+w1)/2 , w0/2 ]\n",
    "d= [w1,w0,w1]\n",
    "\n",
    "print(c)\n",
    "print(d)"
   ]
  },
  {
   "cell_type": "code",
   "execution_count": null,
   "metadata": {},
   "outputs": [],
   "source": []
  }
 ],
 "metadata": {
  "kernelspec": {
   "display_name": "Python 3.10.4 64-bit",
   "language": "python",
   "name": "python3"
  },
  "language_info": {
   "codemirror_mode": {
    "name": "ipython",
    "version": 3
   },
   "file_extension": ".py",
   "mimetype": "text/x-python",
   "name": "python",
   "nbconvert_exporter": "python",
   "pygments_lexer": "ipython3",
   "version": "3.10.4"
  },
  "orig_nbformat": 4,
  "vscode": {
   "interpreter": {
    "hash": "afb734500600fd355917ca529030176ea0ca205570884b88f2f6f7d791fd3fbe"
   }
  }
 },
 "nbformat": 4,
 "nbformat_minor": 2
}
