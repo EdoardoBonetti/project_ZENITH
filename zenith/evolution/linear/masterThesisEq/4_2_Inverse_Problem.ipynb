{
 "cells": [
  {
   "cell_type": "markdown",
   "metadata": {},
   "source": []
  },
  {
   "cell_type": "code",
   "execution_count": 12,
   "metadata": {},
   "outputs": [],
   "source": [
    "import time\n",
    "\n",
    "from ngsolve import *\n",
    "from ngsolve.webgui import Draw\n",
    "from netgen.csg import unit_cube\n",
    "from ngsolve.krylovspace import CGSolver"
   ]
  },
  {
   "cell_type": "code",
   "execution_count": 13,
   "metadata": {},
   "outputs": [],
   "source": [
    "n = specialcf.normal(3)\n",
    "def norm(u, Mesh):\n",
    "    with TaskManager():\n",
    "        return sqrt(Integrate( InnerProduct(u,u) , Mesh))\n",
    "def Curl(u):\n",
    "    if u.dim == 3:\n",
    "        return CF( (u[2].Diff(y)- u[1].Diff(z), u[0].Diff(z)- u[2].Diff(x), u[1].Diff(x)- u[0].Diff(y)) )\n",
    "    if u.dim == 9:\n",
    "        return CF( (Curl(u[0,:]),Curl(u[1,:]),Curl(u[2,:])),dims=(3,3) )\n",
    "def Inc(u):\n",
    "    return Curl((Curl(u)).trans)\n",
    "P_n = OuterProduct(n,n) \n",
    "Q_n = Id(3) - OuterProduct(n,n) \n",
    "C_n = CF(      (0,n[2],-n[1],-n[2],0,n[0],n[1],-n[0],0), dims=(3,3) )\n",
    "def C(V): \n",
    "    return CF( (0,V[2],-V[1],-V[2],0,V[0],V[1],-V[0],0), dims=(3,3) ) \n"
   ]
  },
  {
   "cell_type": "markdown",
   "metadata": {},
   "source": [
    "### Direct problem:\n",
    "Given $\\gamma$ let's find $$f=inc(\\gamma)$$"
   ]
  },
  {
   "cell_type": "code",
   "execution_count": 14,
   "metadata": {},
   "outputs": [],
   "source": [
    "def DirectProblem(Maxh,Order):\n",
    "    mesh = Mesh(unit_cube.GenerateMesh(maxh=Maxh))\n",
    "    fesHCurlCurl = HCurlCurl(mesh, order=Order, dirichlet= \".*\")\n",
    "    with TaskManager():\n",
    "        ##########################################################\n",
    "        #           Coefficient and grid functions               #\n",
    "        ##########################################################\n",
    "           \n",
    "        # continuous functions\n",
    "        peak = exp(-25*( (x-0.5)**2 + (y-0.5)**2 +(z-0.5)**2))\n",
    "\n",
    "        # our gamma\n",
    "        PEAK = CF ( (peak, 0, 0 , 0,peak,0,0,0,peak), dims=(3,3))\n",
    "        # true inc(gamma)\n",
    "        IncPeak = CF( Inc(PEAK), dims=(3,3) )\n",
    "\n",
    "        # grid functions \n",
    "        gfG = GridFunction(fesHCurlCurl) \n",
    "        gfG.Set ( PEAK, bonus_intorder=10, dual=True)\n",
    "\n",
    "        gfCurlCurlG = GridFunction(fesHCurlCurl)\n",
    "        gfCurlCurlG.Set(IncPeak, BND,  bonus_intorder=9, dual=True)\n",
    "\n",
    "        ##########################################################\n",
    "        #              Linear and Bilinear forms                 #\n",
    "        ##########################################################\n",
    "\n",
    "        u,v = fesHCurlCurl.TnT()\n",
    "        #some geometrical objects we need\n",
    "        n_cross_v = CF( (Cross(n,v[0,:]),Cross(n,v[1,:]),Cross(n,v[2,:])), dims=(3,3) )\n",
    "        t1 =specialcf.EdgeFaceTangentialVectors(3)[:,0]\n",
    "        t2 =specialcf.EdgeFaceTangentialVectors(3)[:,1]\n",
    "        e = specialcf.tangential(3,True)\n",
    "        n1 = Cross( t1, e)\n",
    "        n2 = Cross( t2, e) \n",
    "\n",
    "        # Mass matrix\n",
    "        a = BilinearForm(fesHCurlCurl, symmetric=True)\n",
    "        a += InnerProduct(u,v)*dx \n",
    "\n",
    "        # linear form induced by the metric gfG\n",
    "        f = LinearForm(fesHCurlCurl)\n",
    "\n",
    "        # thetrahedron inc part\n",
    "        f += InnerProduct(gfG.Operator(\"inc\"),v)*dx        \n",
    "        # faces part:\n",
    "        f += ( InnerProduct(Q_n*n_cross_v, curl(gfG).trans) + Cross(gfG*n,n)*(curl(v)*n) )*dx(element_boundary=True)\n",
    "        # Edges components: t'*v*C_n*n\n",
    "        f += (gfG[n1,e]*v[e,t1] - gfG[n2,e]*v[e,t2])*dx(element_vb=BBND)\n",
    "        \n",
    "        ##########################################################\n",
    "        #           Assemble, compute and print!                 #\n",
    "        ##########################################################\n",
    "        pre = Preconditioner(a, \"local\")\n",
    "        a.Assemble()\n",
    "        f.Assemble()\n",
    "\n",
    "        r = f.vec.CreateVector()\n",
    "        r.data = f.vec - a.mat * gfCurlCurlG.vec\n",
    "        inverse = CGSolver(a.mat, pre.mat , printrates='\\r', maxiter=1000,tol=1e-9)\n",
    "        gfCurlCurlG.vec.data += inverse * r\n",
    "        #gfCurlCurlG.vec.data += a.mat.Inverse(freedofs=fesHCurlCurl.FreeDofs(),inverse=\"sparsecholesky\") * r\n",
    "\n",
    "        print(\"error of my inc\")\n",
    "        Error = norm(IncPeak-gfCurlCurlG,mesh)\n",
    "        print(\"Error inc(PEAK)-gfcurlCurlG when order is \"+str(Order)+\"-->\"+str(Error) )\n",
    "        Draw (gfCurlCurlG-IncPeak,mesh, draw_surf=True, clipping=(0,1,1), deformation=False)\n",
    "        Draw (gfCurlCurlG,mesh, draw_surf=True, clipping=(0,1,1), deformation=False)\n",
    "        Draw (IncPeak, mesh, clipping=(0,1,1),name = \"Real inc gfG\",deformation=False) \n",
    "        return Error"
   ]
  },
  {
   "cell_type": "code",
   "execution_count": 15,
   "metadata": {},
   "outputs": [
    {
     "name": "stdout",
     "output_type": "stream",
     "text": [
      "WARNING: CG did not converge to TOL10066656871742073     \n",
      "CG NOT converged in 1000 iterations to residual 0.00010066656871742073\n",
      "error of my inc\n",
      "Error inc(PEAK)-gfcurlCurlG when order is 3-->0.11411750395541903\n"
     ]
    },
    {
     "data": {
      "application/vnd.jupyter.widget-view+json": {
       "model_id": "5e43e79091d44c05b4130e4f62cd6bca",
       "version_major": 2,
       "version_minor": 0
      },
      "text/plain": [
       "WebGuiWidget(value={'ngsolve_version': '6.2.2203', 'mesh_dim': 3, 'order2d': 2, 'order3d': 2, 'draw_vol': True…"
      ]
     },
     "metadata": {},
     "output_type": "display_data"
    },
    {
     "data": {
      "application/vnd.jupyter.widget-view+json": {
       "model_id": "73c20da442e9477786ae855fb326eaeb",
       "version_major": 2,
       "version_minor": 0
      },
      "text/plain": [
       "WebGuiWidget(value={'ngsolve_version': '6.2.2203', 'mesh_dim': 3, 'order2d': 2, 'order3d': 2, 'draw_vol': True…"
      ]
     },
     "metadata": {},
     "output_type": "display_data"
    },
    {
     "data": {
      "application/vnd.jupyter.widget-view+json": {
       "model_id": "9e1cc2bb02c34bf8aeb6de648607d24b",
       "version_major": 2,
       "version_minor": 0
      },
      "text/plain": [
       "WebGuiWidget(value={'ngsolve_version': '6.2.2203', 'mesh_dim': 3, 'order2d': 2, 'order3d': 2, 'draw_vol': True…"
      ]
     },
     "metadata": {},
     "output_type": "display_data"
    }
   ],
   "source": [
    "Maxh = 0.15\n",
    "Order = 3\n",
    "with TaskManager():\n",
    "    DirectProblem(Maxh, Order)"
   ]
  },
  {
   "cell_type": "markdown",
   "metadata": {},
   "source": [
    "### Inverse problem:\n",
    "Given $f$ let's find $\\gamma$ such that $$inc(\\gamma)=f$$\n",
    "with all the conditions descrbed at the beginning of the notebook\n",
    "\n",
    "Since we need to start from a function that is in the range of inc we need to take \n",
    "$$\n",
    "\\begin{pmatrix}\n",
    "0 & peak & 0 \\\\\n",
    "peak & 0 & 0 \\\\\n",
    "0 & 0 & 0 \\\\\n",
    "\\end{pmatrix}\n",
    "$$\n",
    "peak is a function only in $z$ therefore since the $div\\, div = 0$ it is in the range of $inc$"
   ]
  },
  {
   "cell_type": "code",
   "execution_count": null,
   "metadata": {},
   "outputs": [],
   "source": []
  },
  {
   "cell_type": "code",
   "execution_count": 7,
   "metadata": {},
   "outputs": [],
   "source": [
    "\n",
    "def S(V): \n",
    "    return V - (V.Trace())*Id(3)\n",
    "def J(V): \n",
    "    return V - (V.Trace())/2*Id(3)\n",
    "\n",
    "def InverseProblem(Maxh,Order):\n",
    "    mesh = Mesh(unit_cube.GenerateMesh(maxh=Maxh))\n",
    "    fesHCurlCurl = HCurlCurl(mesh, order=Order, dirichlet= \".*\")\n",
    "    with TaskManager():\n",
    "        ##########################################################\n",
    "        #           Coefficient and grid functions               #\n",
    "        ##########################################################\n",
    "           \n",
    "        # continuous functions\n",
    "        peak = exp(-25*( (z-0.5)**2))\n",
    "\n",
    "        # this is the function that we need to find\n",
    "        PEAK = CF ( (0, peak, 0 , peak,0,0,0,0,0), dims=(3,3))\n",
    "        IncPEAK = CF ( Inc(PEAK), dims=(3,3))\n",
    "        # grid functions \n",
    "        gfG = GridFunction(fesHCurlCurl) \n",
    "        gfG.Set ( IncPEAK, bonus_intorder=10, dual=True)\n",
    "\n",
    "        ##########################################################\n",
    "        #              Linear and Bilinear forms                 #\n",
    "        ##########################################################\n",
    "\n",
    "        uc,vc = fesHCurlCurl.TnT()\n",
    "        #some geometrical objects we need\n",
    "        n_cross_v = CF( (Cross(n,vc[0,:]),Cross(n,vc[1,:]),Cross(n,vc[2,:])), dims=(3,3) )\n",
    "        t1 =specialcf.EdgeFaceTangentialVectors(3)[:,0]\n",
    "        t2 =specialcf.EdgeFaceTangentialVectors(3)[:,1]\n",
    "        e = specialcf.tangential(3,True)\n",
    "        n1 = Cross( t1, e)\n",
    "        n2 = Cross( t2, e) \n",
    "\n",
    "        # Mass matrix\n",
    "        a = BilinearForm(fesHCurlCurl)\n",
    "        # thetrahedron inc part\n",
    "        a += InnerProduct(uc.Operator(\"inc\"),vc)*dx        \n",
    "        # faces part:\n",
    "        a += ( InnerProduct(Q_n*n_cross_v, curl(uc).trans) + Cross(uc*n,n)*(curl(vc)*n) )*dx(element_boundary=True)\n",
    "        # Edges components: t'*v*C_n*n\n",
    "        a += (uc[n1,e]*vc[e,t1] - uc[n2,e]*vc[e,t2])*dx(element_vb=BBND)\n",
    "        \n",
    "        # regularization:\n",
    "        #print(vc.Operators())\n",
    "        #a += InnerProduct(J(vc),vd.Operator(\"symgrad\")) *dx\n",
    "        #a += InnerProduct(J(uc),ud.Operator(\"symgrad\")) *dx\n",
    "\n",
    "        f = LinearForm(fesHCurlCurl)\n",
    "        f += InnerProduct(IncPEAK,vc)*dx\n",
    "\n",
    "        ##########################################################\n",
    "        #           Assemble, compute and print!                 #\n",
    "        ##########################################################\n",
    "        pre = Preconditioner(a, \"local\")\n",
    "        a.Assemble()\n",
    "        f.Assemble()\n",
    "\n",
    "        r = f.vec.CreateVector()\n",
    "        r.data = f.vec - a.mat * gfG.vec\n",
    "        #inverse = CGSolver(a.mat, pre.mat , printrates='\\r', maxiter=1000,tol=1e-9)\n",
    "        gfG.vec.data += a.mat.Inverse() * r\n",
    "        #gfG.vec.data += a.mat.Inverse(freedofs=fesHCurlCurl.FreeDofs(),inverse=\"sparsecholesky\") * r\n",
    "\n",
    "        print(\"error of my inverted inc problem\")\n",
    "        Error = norm(PEAK-gfG,mesh)\n",
    "        print(norm(PEAK-gfG,mesh))\n",
    "        print(norm(gfG,mesh))\n",
    "        print(norm(PEAK,mesh))\n",
    "        print(\"Error PEAK-gfG when order is \"+str(Order)+\"-->\"+str(Error) )\n",
    "        Draw (gfG[1,0]-PEAK[1,0],mesh, draw_surf=False, clipping=(0,1,1), deformation=False)\n",
    "        Draw (gfG[1,0],mesh)#, draw_surf=True, clipping=(0,1,1), deformation=False)\n",
    "        Draw (PEAK[1,0], mesh, clipping=(0,1,1),name = \"Real inc gfG\",deformation=False) \n",
    "        Draw (Inc(PEAK)[1,0], mesh, clipping=(0,1,1),name = \"Real inc gfG\",deformation=False) \n",
    "        return Error"
   ]
  },
  {
   "cell_type": "code",
   "execution_count": 8,
   "metadata": {},
   "outputs": [
    {
     "name": "stdout",
     "output_type": "stream",
     "text": [
      "error of my inverted inc problem\n",
      "2.0979739193896426e+17\n",
      "2.0979739193896426e+17\n",
      "0.7080477210030366\n",
      "Error PEAK-gfG when order is 3-->2.0979739193896432e+17\n"
     ]
    },
    {
     "data": {
      "application/vnd.jupyter.widget-view+json": {
       "model_id": "557d486182be4691919237c96128de52",
       "version_major": 2,
       "version_minor": 0
      },
      "text/plain": [
       "WebGuiWidget(value={'ngsolve_version': '6.2.2203', 'mesh_dim': 3, 'order2d': 2, 'order3d': 2, 'draw_vol': True…"
      ]
     },
     "metadata": {},
     "output_type": "display_data"
    },
    {
     "data": {
      "application/vnd.jupyter.widget-view+json": {
       "model_id": "b6c5b756c93b40d5b3b26016e04d02c8",
       "version_major": 2,
       "version_minor": 0
      },
      "text/plain": [
       "WebGuiWidget(value={'ngsolve_version': '6.2.2203', 'mesh_dim': 3, 'order2d': 2, 'order3d': 2, 'draw_vol': True…"
      ]
     },
     "metadata": {},
     "output_type": "display_data"
    },
    {
     "data": {
      "application/vnd.jupyter.widget-view+json": {
       "model_id": "48817a08cfd84457b64199b28eecd43b",
       "version_major": 2,
       "version_minor": 0
      },
      "text/plain": [
       "WebGuiWidget(value={'ngsolve_version': '6.2.2203', 'mesh_dim': 3, 'order2d': 2, 'order3d': 2, 'draw_vol': True…"
      ]
     },
     "metadata": {},
     "output_type": "display_data"
    },
    {
     "data": {
      "application/vnd.jupyter.widget-view+json": {
       "model_id": "abb5b667fcc54c079ff17e5ffcbb76e2",
       "version_major": 2,
       "version_minor": 0
      },
      "text/plain": [
       "WebGuiWidget(value={'ngsolve_version': '6.2.2203', 'mesh_dim': 3, 'order2d': 2, 'order3d': 2, 'draw_vol': True…"
      ]
     },
     "metadata": {},
     "output_type": "display_data"
    }
   ],
   "source": [
    "Maxh = 0.15\n",
    "Order = 3\n",
    "with TaskManager():\n",
    "    InverseProblem(Maxh, Order)\n"
   ]
  },
  {
   "cell_type": "markdown",
   "metadata": {},
   "source": [
    "## EigenValues\n",
    "we need to solve $ Inc(u) = \\lambda u$ The discretization leads to $ Au = \\lambda Mu$"
   ]
  },
  {
   "cell_type": "code",
   "execution_count": 9,
   "metadata": {},
   "outputs": [],
   "source": [
    "from ngsolve import *\n",
    "from ngsolve.webgui import Draw\n",
    "from netgen.geom2d import unit_square\n",
    "import math\n",
    "import scipy.linalg\n",
    "from scipy import random\n",
    "def S(V): \n",
    "    return V - (V.Trace())*Id(3)\n",
    "def J(V): \n",
    "    return V - (V.Trace())/2*Id(3)\n",
    "\n",
    "def EigenVals(Maxh,Order):\n",
    "    mesh = Mesh(unit_cube.GenerateMesh(maxh=Maxh))\n",
    "    fesHCurlCurl = HCurlCurl(mesh, order=Order, dirichlet= \".*\")\n",
    "    with TaskManager():        \n",
    "        # grid functions \n",
    "        u = GridFunction(fesHCurlCurl) \n",
    "\n",
    "        ##########################################################\n",
    "        #              Linear and Bilinear forms                 #\n",
    "        ##########################################################\n",
    "\n",
    "        uc,vc = fesHCurlCurl.TnT()\n",
    "        #some geometrical objects we need\n",
    "        n_cross_v = CF( (Cross(n,vc[0,:]),Cross(n,vc[1,:]),Cross(n,vc[2,:])), dims=(3,3) )\n",
    "        t1 =specialcf.EdgeFaceTangentialVectors(3)[:,0]\n",
    "        t2 =specialcf.EdgeFaceTangentialVectors(3)[:,1]\n",
    "        e = specialcf.tangential(3,True)\n",
    "        n1 = Cross( t1, e)\n",
    "        n2 = Cross( t2, e) \n",
    "\n",
    "        # Mass matrix\n",
    "        a = BilinearForm(fesHCurlCurl)\n",
    "        # thetrahedron inc part\n",
    "        a += InnerProduct(uc.Operator(\"inc\"),vc)*dx        \n",
    "        # faces part:\n",
    "        a += ( InnerProduct(Q_n*n_cross_v, curl(uc).trans) + Cross(uc*n,n)*(curl(vc)*n) )*dx(element_boundary=True)\n",
    "        # Edges components: t'*v*C_n*n\n",
    "        a += (uc[n1,e]*vc[e,t1] - uc[n2,e]*vc[e,t2])*dx(element_vb=BBND)\n",
    "        \n",
    "        # regularization:\n",
    "        #print(vc.Operators())\n",
    "        #a += InnerProduct(J(vc),vd.Operator(\"symgrad\")) *dx\n",
    "        #a += InnerProduct(J(uc),ud.Operator(\"symgrad\")) *dx\n",
    "\n",
    "        m = BilinearForm(fesHCurlCurl)\n",
    "        m += InnerProduct(uc,vc)*dx\n",
    "\n",
    "        ##########################################################\n",
    "        #           Assemble, compute and print!                 #\n",
    "        ##########################################################\n",
    "        pre = Preconditioner(a, \"local\")\n",
    "        a.Assemble()\n",
    "        m.Assemble()\n",
    "\n",
    "        r = u.vec.CreateVector()\n",
    "        w = u.vec.CreateVector()\n",
    "        Mu = u.vec.CreateVector()\n",
    "        Au = u.vec.CreateVector()\n",
    "        Mw = u.vec.CreateVector()\n",
    "        Aw = u.vec.CreateVector()\n",
    "        r.FV().NumPy()[:] = random.rand(fesHCurlCurl.ndof)\n",
    "        u.vec.data = Projector(fesHCurlCurl.FreeDofs(), True) * r\n",
    "        for i in range(20):\n",
    "            Au.data = a.mat * u.vec\n",
    "            Mu.data = m.mat * u.vec\n",
    "            auu = InnerProduct(Au, u.vec)\n",
    "            muu = InnerProduct(Mu, u.vec)\n",
    "            # Rayleigh quotient\n",
    "            lam = auu/muu\n",
    "            print (lam / (math.pi**2))\n",
    "            # residual\n",
    "            r.data = Au - lam * Mu\n",
    "            w.data = pre.mat * r.data\n",
    "            w.data = 1/Norm(w) * w\n",
    "            Aw.data = a.mat * w\n",
    "            Mw.data = m.mat * w\n",
    "        \n",
    "            # setup and solve 2x2 small eigenvalue problem\n",
    "            asmall = Matrix(2,2)\n",
    "            asmall[0,0] = auu\n",
    "            asmall[0,1] = asmall[1,0] = InnerProduct(Au, w)\n",
    "            asmall[1,1] = InnerProduct(Aw, w)\n",
    "            msmall = Matrix(2,2)\n",
    "            msmall[0,0] = muu\n",
    "            msmall[0,1] = msmall[1,0] = InnerProduct(Mu, w)\n",
    "            msmall[1,1] = InnerProduct(Mw, w)\n",
    "            # print (\"asmall =\", asmall, \", msmall = \", msmall)\n",
    "        \n",
    "        \n",
    "            eval,evec = scipy.linalg.eigh(a=asmall, b=msmall)\n",
    "            # print (eval, evec)\n",
    "            u.vec.data = float(evec[0,0]) * u.vec + float(evec[1,0]) * w\n",
    "            \n",
    "        Draw (u, clipping=(0,0,1))\n"
   ]
  },
  {
   "cell_type": "code",
   "execution_count": 10,
   "metadata": {},
   "outputs": [
    {
     "name": "stdout",
     "output_type": "stream",
     "text": [
      "0.0468410223996691\n",
      "-0.09762878377666756\n",
      "-0.099400828698142\n",
      "-0.10110297795555753\n",
      "-0.10272869733947011\n",
      "-0.10426992660608332\n",
      "-0.10572058979117224\n",
      "-0.10707098406645107\n",
      "-0.10831481978804408\n",
      "-0.10943928332838211\n",
      "-0.11043738268440483\n",
      "-0.11128881604545733\n",
      "-0.11198683286410564\n",
      "-0.1124938336658829\n",
      "-0.11281437810372964\n",
      "-0.11290168575493853\n",
      "-0.11290311614279983\n",
      "-0.11290453126423268\n",
      "-0.11290591936669897\n",
      "-0.11290729286064966\n"
     ]
    },
    {
     "data": {
      "application/vnd.jupyter.widget-view+json": {
       "model_id": "ede61389cf374d9a8b1eebcb0a93bb96",
       "version_major": 2,
       "version_minor": 0
      },
      "text/plain": [
       "WebGuiWidget(value={'ngsolve_version': '6.2.2203', 'mesh_dim': 3, 'order2d': 2, 'order3d': 2, 'draw_vol': True…"
      ]
     },
     "metadata": {},
     "output_type": "display_data"
    }
   ],
   "source": [
    "Maxh = 0.15\n",
    "Order = 3\n",
    "with TaskManager():\n",
    "    EigenVals(Maxh, Order)\n"
   ]
  },
  {
   "cell_type": "code",
   "execution_count": null,
   "metadata": {},
   "outputs": [],
   "source": []
  }
 ],
 "metadata": {
  "kernelspec": {
   "display_name": "Python 3.10.4 64-bit",
   "language": "python",
   "name": "python3"
  },
  "language_info": {
   "codemirror_mode": {
    "name": "ipython",
    "version": 3
   },
   "file_extension": ".py",
   "mimetype": "text/x-python",
   "name": "python",
   "nbconvert_exporter": "python",
   "pygments_lexer": "ipython3",
   "version": "3.10.4"
  },
  "orig_nbformat": 4,
  "vscode": {
   "interpreter": {
    "hash": "afb734500600fd355917ca529030176ea0ca205570884b88f2f6f7d791fd3fbe"
   }
  }
 },
 "nbformat": 4,
 "nbformat_minor": 2
}
