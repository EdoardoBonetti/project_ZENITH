{
 "cells": [
  {
   "cell_type": "markdown",
   "metadata": {},
   "source": [
    "# It works, we need to add a dvergence free constraint!!!"
   ]
  },
  {
   "cell_type": "code",
   "execution_count": 1,
   "metadata": {},
   "outputs": [],
   "source": [
    "from ngsolve import *\n",
    "from netgen.occ import *\n",
    "from ngsolve.webgui import Draw"
   ]
  },
  {
   "cell_type": "code",
   "execution_count": 2,
   "metadata": {},
   "outputs": [
    {
     "data": {
      "application/vnd.jupyter.widget-view+json": {
       "model_id": "d38697731c0441c0a3c6460904f8e820",
       "version_major": 2,
       "version_minor": 0
      },
      "text/plain": [
       "WebGuiWidget(value={'ngsolve_version': '6.2.2203', 'mesh_dim': 3, 'order2d': 1, 'order3d': 1, 'draw_vol': None…"
      ]
     },
     "metadata": {},
     "output_type": "display_data"
    }
   ],
   "source": [
    "shape = Box((-1,-1,-1), (1,1,1)) # create a box\n",
    "geo = OCCGeometry(shape) # create a geometry from the box\n",
    "mesh = Mesh(geo.GenerateMesh(maxh=0.2)) # create a mesh from the geometry\n",
    "Draw (mesh); # draw the mesh"
   ]
  },
  {
   "cell_type": "code",
   "execution_count": 3,
   "metadata": {},
   "outputs": [],
   "source": [
    "order = 2\n",
    "Hcc = HCurlCurl(mesh, order=order) # for the gamma variable\n",
    "Hdd = HDivDiv(mesh, order=order) # , orderinner=order+1) fr t\n",
    "# fesalpha = H1(mesh, order=order+1) # , dirichlet=\".*\")\n",
    "Hc = HCurl(mesh, order=order) # for the div of a Hdd field\n",
    "\n",
    "\n",
    "k , dk= Hdd.TnT() \n",
    "p, dp = Hc.TnT()\n",
    "g, dg = Hcc.TnT()"
   ]
  },
  {
   "cell_type": "code",
   "execution_count": 4,
   "metadata": {},
   "outputs": [],
   "source": [
    "n = specialcf.normal(3)\n",
    "t = specialcf.tangential(3, True)\n",
    "bbndtang  = specialcf.EdgeFaceTangentialVectors(3)\n",
    "tef1 = bbndtang[:,0]\n",
    "tef2 = bbndtang[:,1]\n",
    "nu1 = Cross(tef1,t)\n",
    "nu2 = Cross(tef2,t)\n",
    "\n",
    "def IncOp(g, dg):\n",
    "    return InnerProduct(curl(g), curl(dg).trans)*dx \\\n",
    "        + (curl(g)*n) * Cross (dg*n, n) * dx(element_vb=BND) \\\n",
    "        + (curl(dg)*n) * Cross (g*n, n) * dx(element_vb=BND) \\\n",
    "        + (g[nu1,t]*dg[t,tef1]-g[nu2,t]*dg[t,tef2])*dx(element_vb=BBND)\n",
    "\n",
    "# print ( (gamma*nu1*t)*(dgamma*t*tef1))\n",
    "\n",
    "def J(g): return g - 0.5*Trace(g)*Id(3)\n",
    "\n",
    "def Constraint(k, p):\n",
    "    return InnerProduct(k, Grad(p))*dx - (k*n*n) * (p*n) * dx(element_vb=BND)\n",
    "\n",
    "def Curl(u):\n",
    "    if u.dim == 3:\n",
    "        return CF( (u[1].Diff(z)- u[2].Diff(y), u[2].Diff(x)- u[0].Diff(z), u[0].Diff(y)- u[1].Diff(x)) )\n",
    "    if u.dim == 9:\n",
    "        return CF( (Curl(u[0,:]),Curl(u[1,:]),Curl(u[2,:])),dims=(3,3) )\n",
    "\n",
    "def Transpose(u):\n",
    "    return CF( (u[0,0] , u[1,0] , u[2,0] , u[0,1] , u[1,1] , u[2,1] , u[0,2] , u[1,2] , u[2,2] ),dims=(3,3) )\n",
    "\n",
    "def Symetric(u): return u + Transpose(u) "
   ]
  },
  {
   "cell_type": "code",
   "execution_count": 5,
   "metadata": {},
   "outputs": [],
   "source": [
    "\n",
    "MINC = BilinearForm(IncOp(g,dg))\n",
    "\n",
    "Mcc = BilinearForm(InnerProduct(g, dg)*dx)\n",
    "Mdd = BilinearForm(InnerProduct(k, dk)*dx)\n",
    "\n",
    "Mccdd = BilinearForm(trialspace=Hcc, testspace=Hdd)\n",
    "Mccdd += InnerProduct(g, dk)*dx\n",
    "\n",
    "MJdd = BilinearForm(trialspace=Hdd, testspace=Hdd)\n",
    "MJdd += InnerProduct(k, dk)*dx-0.5*Trace(k)*Trace(dk)*dx\n",
    "\n",
    "with TaskManager():\n",
    "    MINC.Assemble()\n",
    "    Mcc.Assemble()\n",
    "    Mdd.Assemble()\n",
    "    Mccdd.Assemble()\n",
    "    MJdd.Assemble()\n",
    "\n"
   ]
  },
  {
   "cell_type": "code",
   "execution_count": 6,
   "metadata": {},
   "outputs": [],
   "source": [
    "\n",
    "fes = Hdd*Hc\n",
    "k, p = fes.TrialFunction()\n",
    "dk, dp = fes.TestFunction()\n",
    "\n",
    "PROJ = BilinearForm(fes)\n",
    "PROJ += InnerProduct(k, dk)*dx\n",
    "PROJ += Constraint(k, dp)\n",
    "PROJ += Constraint(dk, p)\n",
    "PROJ += curl(p)*curl(dp)*dx- 1e-6*p*dp*dx # I don't know why this is needed, \n",
    "\n",
    "MASS = BilinearForm(fes)\n",
    "MASS += InnerProduct(k, dk)*dx\n",
    "with TaskManager():\n",
    "    PROJ.Assemble() \n",
    "    MASS.Assemble()"
   ]
  },
  {
   "cell_type": "code",
   "execution_count": 7,
   "metadata": {},
   "outputs": [],
   "source": [
    "# 3 minutes for a cube of size 2 and a mesh of size 0.2 and order 3\n",
    "with TaskManager():\n",
    "    inv_PROJ = PROJ.mat.Inverse(inverse=\"sparsecholesky\", freedofs=fes.FreeDofs())\n",
    "    inv_Mcc = Mcc.mat.Inverse(inverse=\"sparsecholesky\", freedofs=fes.FreeDofs())\n",
    "    inv_Mdd = Mdd.mat.Inverse(inverse=\"sparsecholesky\", freedofs=fes.FreeDofs())"
   ]
  },
  {
   "cell_type": "code",
   "execution_count": 8,
   "metadata": {},
   "outputs": [
    {
     "data": {
      "application/vnd.jupyter.widget-view+json": {
       "model_id": "40fc0ec3e3ed42619d9368d72c297241",
       "version_major": 2,
       "version_minor": 0
      },
      "text/plain": [
       "WebGuiWidget(value={'ngsolve_version': '6.2.2203', 'mesh_dim': 3, 'order2d': 2, 'order3d': 2, 'draw_vol': True…"
      ]
     },
     "metadata": {},
     "output_type": "display_data"
    },
    {
     "data": {
      "text/plain": [
       "BaseWebGuiScene"
      ]
     },
     "execution_count": 8,
     "metadata": {},
     "output_type": "execute_result"
    }
   ],
   "source": [
    "peak = exp(-25*(x*x+y*y+z*z))/100\n",
    "cf_gamma = CF((0,0,0, 0,peak,0,  0,0,-peak), dims=(3,3))\n",
    "\n",
    "cf_symcurl_gamma = Symetric(Curl(cf_gamma))\n",
    "Draw(InnerProduct(cf_symcurl_gamma,cf_symcurl_gamma), mesh, \"SCGamma\", clipping={\"z\": -1})\n"
   ]
  },
  {
   "cell_type": "code",
   "execution_count": 9,
   "metadata": {},
   "outputs": [
    {
     "name": "stdout",
     "output_type": "stream",
     "text": [
      " total magnitude\n"
     ]
    },
    {
     "data": {
      "application/vnd.jupyter.widget-view+json": {
       "model_id": "59737caa8b9a477f881946bf53dc16a7",
       "version_major": 2,
       "version_minor": 0
      },
      "text/plain": [
       "WebGuiWidget(value={'ngsolve_version': '6.2.2203', 'mesh_dim': 3, 'order2d': 2, 'order3d': 2, 'draw_vol': True…"
      ]
     },
     "metadata": {},
     "output_type": "display_data"
    },
    {
     "name": "stdout",
     "output_type": "stream",
     "text": [
      " (x,x) component\n"
     ]
    },
    {
     "data": {
      "application/vnd.jupyter.widget-view+json": {
       "model_id": "d032ea15bb754ffcac901f55e6c990da",
       "version_major": 2,
       "version_minor": 0
      },
      "text/plain": [
       "WebGuiWidget(value={'ngsolve_version': '6.2.2203', 'mesh_dim': 3, 'order2d': 2, 'order3d': 2, 'draw_vol': True…"
      ]
     },
     "metadata": {},
     "output_type": "display_data"
    },
    {
     "name": "stdout",
     "output_type": "stream",
     "text": [
      " (x,y) component\n"
     ]
    },
    {
     "data": {
      "application/vnd.jupyter.widget-view+json": {
       "model_id": "f67a5057ba0c4280b75f46d03072e505",
       "version_major": 2,
       "version_minor": 0
      },
      "text/plain": [
       "WebGuiWidget(value={'ngsolve_version': '6.2.2203', 'mesh_dim': 3, 'order2d': 2, 'order3d': 2, 'draw_vol': True…"
      ]
     },
     "metadata": {},
     "output_type": "display_data"
    },
    {
     "name": "stdout",
     "output_type": "stream",
     "text": [
      " (x,z) component\n"
     ]
    },
    {
     "data": {
      "application/vnd.jupyter.widget-view+json": {
       "model_id": "91ac1512068e48b7bce7207064d6d6c9",
       "version_major": 2,
       "version_minor": 0
      },
      "text/plain": [
       "WebGuiWidget(value={'ngsolve_version': '6.2.2203', 'mesh_dim': 3, 'order2d': 2, 'order3d': 2, 'draw_vol': True…"
      ]
     },
     "metadata": {},
     "output_type": "display_data"
    },
    {
     "name": "stdout",
     "output_type": "stream",
     "text": [
      " (y,y) component\n"
     ]
    },
    {
     "data": {
      "application/vnd.jupyter.widget-view+json": {
       "model_id": "79d06aedc85b44fc96422b3bf6bdd879",
       "version_major": 2,
       "version_minor": 0
      },
      "text/plain": [
       "WebGuiWidget(value={'ngsolve_version': '6.2.2203', 'mesh_dim': 3, 'order2d': 2, 'order3d': 2, 'draw_vol': True…"
      ]
     },
     "metadata": {},
     "output_type": "display_data"
    },
    {
     "name": "stdout",
     "output_type": "stream",
     "text": [
      " (y,z) component\n"
     ]
    },
    {
     "data": {
      "application/vnd.jupyter.widget-view+json": {
       "model_id": "514c6c9a5e87459ea562ea16e79322ed",
       "version_major": 2,
       "version_minor": 0
      },
      "text/plain": [
       "WebGuiWidget(value={'ngsolve_version': '6.2.2203', 'mesh_dim': 3, 'order2d': 2, 'order3d': 2, 'draw_vol': True…"
      ]
     },
     "metadata": {},
     "output_type": "display_data"
    },
    {
     "name": "stdout",
     "output_type": "stream",
     "text": [
      " (z,z) component\n"
     ]
    },
    {
     "data": {
      "application/vnd.jupyter.widget-view+json": {
       "model_id": "c78e7f9b821a40c9a7ae58d3ffafa02a",
       "version_major": 2,
       "version_minor": 0
      },
      "text/plain": [
       "WebGuiWidget(value={'ngsolve_version': '6.2.2203', 'mesh_dim': 3, 'order2d': 2, 'order3d': 2, 'draw_vol': True…"
      ]
     },
     "metadata": {},
     "output_type": "display_data"
    },
    {
     "data": {
      "text/plain": [
       "BaseWebGuiScene"
      ]
     },
     "execution_count": 9,
     "metadata": {},
     "output_type": "execute_result"
    }
   ],
   "source": [
    "gf_g = GridFunction(Hcc)\n",
    "gf_inc_g = GridFunction(Hcc)\n",
    "\n",
    "peak = exp(-10*(x*x+y*y+z*z))/1000\n",
    "cf_gamma = CF((peak,0,0, 0,0,0,  0,0,0), dims=(3,3))\n",
    "cf_symcurl_gamma = Symetric(Curl(cf_gamma))\n",
    "\n",
    "print(\" total magnitude\")\n",
    "Draw(InnerProduct(cf_symcurl_gamma,cf_symcurl_gamma), mesh, \"SCGamma\", clipping={\"x\": -1, \"y\": 0, \"z\": 0})\n",
    "print(\" (x,x) component\")\n",
    "Draw(InnerProduct(cf_symcurl_gamma[0,0],cf_symcurl_gamma[0,0]), mesh, \"SCGamma\", clipping={\"x\": -1, \"y\": 0, \"z\": 0})\n",
    "print(\" (x,y) component\")\n",
    "Draw(InnerProduct(cf_symcurl_gamma[0,1],cf_symcurl_gamma[0,1]), mesh, \"SCGamma\", clipping={\"x\": -1, \"y\": 0, \"z\": 0})\n",
    "print(\" (x,z) component\")\n",
    "Draw(InnerProduct(cf_symcurl_gamma[0,2],cf_symcurl_gamma[0,2]), mesh, \"SCGamma\", clipping={\"x\": -1, \"y\": 0, \"z\": 0})\n",
    "print(\" (y,y) component\")\n",
    "Draw(InnerProduct(cf_symcurl_gamma[1,1],cf_symcurl_gamma[1,1]), mesh, \"SCGamma\", clipping={\"x\": -1, \"y\": 0, \"z\": 0})\n",
    "print(\" (y,z) component\")\n",
    "Draw(InnerProduct(cf_symcurl_gamma[1,2],cf_symcurl_gamma[1,2]), mesh, \"SCGamma\", clipping={\"x\": -1, \"y\": 0, \"z\": 0})\n",
    "print(\" (z,z) component\")\n",
    "Draw(InnerProduct(cf_symcurl_gamma[2,2],cf_symcurl_gamma[2,2]), mesh, \"SCGamma\", clipping={\"x\": -1, \"y\": 0, \"z\": 0})\n",
    "\n",
    "\n",
    "\n",
    "\n",
    "\n"
   ]
  },
  {
   "cell_type": "code",
   "execution_count": 10,
   "metadata": {},
   "outputs": [],
   "source": [
    "\n",
    "gf_g.Set( cf_symcurl_gamma, dual=True, bonus_intorder=12)\n",
    "\n",
    "gf_k = GridFunction(Hdd)\n",
    "gf_J_k = GridFunction(Hdd)\n",
    "\n",
    "\n",
    "\n"
   ]
  },
  {
   "cell_type": "code",
   "execution_count": 11,
   "metadata": {},
   "outputs": [
    {
     "name": "stdout",
     "output_type": "stream",
     "text": [
      "gamma\n",
      "\n"
     ]
    },
    {
     "data": {
      "application/vnd.jupyter.widget-view+json": {
       "model_id": "6700f8423a754ec5adea24a0b4e0f235",
       "version_major": 2,
       "version_minor": 0
      },
      "text/plain": [
       "WebGuiWidget(value={'ngsolve_version': '6.2.2203', 'mesh_dim': 3, 'order2d': 2, 'order3d': 2, 'draw_vol': True…"
      ]
     },
     "metadata": {},
     "output_type": "display_data"
    },
    {
     "name": "stdout",
     "output_type": "stream",
     "text": [
      "inc gamma\n",
      "\n"
     ]
    },
    {
     "data": {
      "application/vnd.jupyter.widget-view+json": {
       "model_id": "205524ce54324987bac5d979a645a142",
       "version_major": 2,
       "version_minor": 0
      },
      "text/plain": [
       "WebGuiWidget(value={'ngsolve_version': '6.2.2203', 'mesh_dim': 3, 'order2d': 2, 'order3d': 2, 'draw_vol': True…"
      ]
     },
     "metadata": {},
     "output_type": "display_data"
    },
    {
     "name": "stdout",
     "output_type": "stream",
     "text": [
      "kappa \n",
      "\n"
     ]
    },
    {
     "data": {
      "application/vnd.jupyter.widget-view+json": {
       "model_id": "32a90819585847efa1fabab28e73a43b",
       "version_major": 2,
       "version_minor": 0
      },
      "text/plain": [
       "WebGuiWidget(value={'ngsolve_version': '6.2.2203', 'mesh_dim': 3, 'order2d': 2, 'order3d': 2, 'draw_vol': True…"
      ]
     },
     "metadata": {},
     "output_type": "display_data"
    },
    {
     "name": "stdout",
     "output_type": "stream",
     "text": [
      "J kappa\n",
      "\n"
     ]
    },
    {
     "data": {
      "application/vnd.jupyter.widget-view+json": {
       "model_id": "453458d12f08422b8917495014d9fdf4",
       "version_major": 2,
       "version_minor": 0
      },
      "text/plain": [
       "WebGuiWidget(value={'ngsolve_version': '6.2.2203', 'mesh_dim': 3, 'order2d': 2, 'order3d': 2, 'draw_vol': True…"
      ]
     },
     "metadata": {},
     "output_type": "display_data"
    }
   ],
   "source": [
    "print (\"gamma\\n\")\n",
    "scene1 = Draw (InnerProduct(gf_g,gf_g), mesh, draw_surf=False, clipping={\"x\": -1, \"y\": 0, \"z\": 0})\n",
    "print (\"inc gamma\\n\")\n",
    "scene2 = Draw (InnerProduct(gf_inc_g,gf_inc_g), mesh, draw_surf=False, clipping={\"x\": -1, \"y\": 0, \"z\": 0})\n",
    "print (\"kappa \\n\")\n",
    "scene3 = Draw (InnerProduct(gf_k, gf_k), mesh, draw_surf=False, clipping={\"x\": -1, \"y\": 0, \"z\": 0})\n",
    "print (\"J kappa\\n\")\n",
    "scene4 = Draw (InnerProduct(gf_J_k, gf_J_k), mesh, draw_surf=False, clipping={\"x\": -1, \"y\": 0, \"z\": 0})"
   ]
  },
  {
   "cell_type": "code",
   "execution_count": 12,
   "metadata": {},
   "outputs": [
    {
     "name": "stdout",
     "output_type": "stream",
     "text": [
      "t =  0.0 norm =  0.002155352594744468\n",
      "t =  0.001 norm =  0.0021553198209225788\n",
      "t =  0.002 norm =  0.0021552215028463424\n",
      "t =  0.003 norm =  0.002155057650683438\n",
      "t =  0.004 norm =  0.00215482828137789\n",
      "t =  0.005 norm =  0.002154533418646989\n",
      "t =  0.006 norm =  0.00215417309297691\n",
      "t =  0.007 norm =  0.00215374734161717\n",
      "t =  0.008 norm =  0.0021532562085738592\n",
      "t =  0.009000000000000001 norm =  0.002152699744601747\n",
      "t =  0.01 norm =  0.002152078007195187\n",
      "t =  0.011 norm =  0.0021513910605779935\n",
      "t =  0.012 norm =  0.002150638975692205\n",
      "t =  0.013000000000000001 norm =  0.0021498218301858533\n",
      "t =  0.014 norm =  0.0021489397083997485\n",
      "t =  0.015 norm =  0.0021479927013533535\n",
      "t =  0.016 norm =  0.002146980906729783\n",
      "t =  0.017 norm =  0.0021459044288599963\n",
      "t =  0.018000000000000002 norm =  0.002144763378706249\n",
      "t =  0.019 norm =  0.0021435578738448467\n",
      "t =  0.02 norm =  0.002142288038448298\n",
      "t =  0.021 norm =  0.002140954003266909\n",
      "t =  0.022 norm =  0.002139555905609893\n",
      "t =  0.023 norm =  0.002138093889326105\n",
      "t =  0.024 norm =  0.002136568104784412\n",
      "t =  0.025 norm =  0.0021349787088538377\n",
      "t =  0.026000000000000002 norm =  0.002133325864883519\n",
      "t =  0.027 norm =  0.0021316097426825782\n",
      "t =  0.028 norm =  0.0021298305184999713\n",
      "t =  0.029 norm =  0.002127988375004413\n",
      "t =  0.03 norm =  0.002126083501264428\n",
      "t =  0.031 norm =  0.0021241160927286647\n",
      "t =  0.032 norm =  0.0021220863512064667\n",
      "t =  0.033 norm =  0.0021199944848488968\n",
      "t =  0.034 norm =  0.0021178407081301584\n",
      "t =  0.035 norm =  0.0021156252418296374\n",
      "t =  0.036000000000000004 norm =  0.0021133483130145194\n",
      "t =  0.037 norm =  0.002111010155023134\n",
      "t =  0.038 norm =  0.002108611007449082\n",
      "t =  0.039 norm =  0.0021061511161262147\n",
      "t =  0.04 norm =  0.002103630733114545\n",
      "t =  0.041 norm =  0.0021010501166871766\n",
      "t =  0.042 norm =  0.0020984095313182835\n",
      "t =  0.043000000000000003 norm =  0.002095709247672258\n",
      "t =  0.044 norm =  0.0020929495425940545\n",
      "t =  0.045 norm =  0.002090130699100843\n",
      "t =  0.046 norm =  0.0020872530063749677\n",
      "t =  0.047 norm =  0.0020843167597583228\n",
      "t =  0.048 norm =  0.002081322260748223\n",
      "t =  0.049 norm =  0.0020782698169947733\n",
      "t =  0.05 norm =  0.0020751597422998132\n",
      "t =  0.051000000000000004 norm =  0.0020719923566175523\n",
      "t =  0.052000000000000005 norm =  0.0020687679860568256\n",
      "t =  0.053 norm =  0.002065486962885161\n",
      "t =  0.054 norm =  0.0020621496255346216\n",
      "t =  0.055 norm =  0.0020587563186094727\n",
      "t =  0.056 norm =  0.0020553073928957833\n",
      "t =  0.057 norm =  0.00205180320537294\n",
      "t =  0.058 norm =  0.002048244119227174\n",
      "t =  0.059000000000000004 norm =  0.0020446305038671116\n",
      "t =  0.06 norm =  0.002040962734941402\n",
      "t =  0.061 norm =  0.0020372411943584737\n",
      "t =  0.062 norm =  0.0020334662703084586\n",
      "t =  0.063 norm =  0.002029638357287316\n",
      "t =  0.064 norm =  0.0020257578561232253\n",
      "t =  0.065 norm =  0.0020218251740052673\n",
      "t =  0.066 norm =  0.0020178407245144314\n",
      "t =  0.067 norm =  0.002013804927657016\n",
      "t =  0.068 norm =  0.002009718209900459\n",
      "t =  0.069 norm =  0.0020055810042116278\n",
      "t =  0.07 norm =  0.0020013937500976127\n",
      "t =  0.07100000000000001 norm =  0.0019971568936491\n",
      "t =  0.07200000000000001 norm =  0.0019928708875863433\n",
      "t =  0.073 norm =  0.0019885361913077847\n",
      "t =  0.074 norm =  0.0019841532709413763\n",
      "t =  0.075 norm =  0.0019797225993986767\n",
      "t =  0.076 norm =  0.001975244656431722\n",
      "t =  0.077 norm =  0.0019707199286928007\n",
      "t =  0.078 norm =  0.0019661489097971044\n",
      "t =  0.079 norm =  0.001961532100388395\n",
      "t =  0.08 norm =  0.0019568700082076896\n",
      "t =  0.081 norm =  0.0019521631481650612\n",
      "t =  0.082 norm =  0.0019474120424146071\n",
      "t =  0.083 norm =  0.0019426172204326574\n",
      "t =  0.084 norm =  0.001937779219099314\n",
      "t =  0.085 norm =  0.00193289858278336\n",
      "t =  0.08600000000000001 norm =  0.0019279758634306616\n",
      "t =  0.08700000000000001 norm =  0.0019230116206561173\n",
      "t =  0.088 norm =  0.0019180064218392548\n",
      "t =  0.089 norm =  0.0019129608422235576\n",
      "t =  0.09 norm =  0.0019078754650196437\n",
      "t =  0.091 norm =  0.00190275088151235\n",
      "t =  0.092 norm =  0.0018975876911718928\n",
      "t =  0.093 norm =  0.0018923865017691402\n",
      "t =  0.094 norm =  0.0018871479294951734\n",
      "t =  0.095 norm =  0.0018818725990852377\n",
      "t =  0.096 norm =  0.0018765611439471982\n",
      "t =  0.097 norm =  0.0018712142062946384\n",
      "t =  0.098 norm =  0.0018658324372847709\n",
      "t =  0.099 norm =  0.0018604164971612535\n",
      "t =  0.1 norm =  0.0018549670554020984\n",
      "t =  0.101 norm =  0.001849484790872839\n",
      "t =  0.10200000000000001 norm =  0.001843970391985107\n",
      "t =  0.10300000000000001 norm =  0.0018384245568607727\n",
      "t =  0.10400000000000001 norm =  0.0018328479935019056\n",
      "t =  0.105 norm =  0.0018272414199666652\n",
      "t =  0.106 norm =  0.0018216055645513534\n",
      "t =  0.107 norm =  0.001815941165978881\n",
      "t =  0.108 norm =  0.001810248973593796\n",
      "t =  0.109 norm =  0.001804529747564169\n",
      "t =  0.11 norm =  0.001798784259090529\n",
      "t =  0.111 norm =  0.0017930132906221461\n",
      "t =  0.112 norm =  0.0017872176360808896\n",
      "t =  0.113 norm =  0.00178139810109296\n",
      "t =  0.114 norm =  0.001775555503228779\n",
      "t =  0.115 norm =  0.0017696906722513618\n",
      "t =  0.116 norm =  0.0017638044503734387\n",
      "t =  0.117 norm =  0.0017578976925237085\n",
      "t =  0.11800000000000001 norm =  0.0017519712666225697\n",
      "t =  0.11900000000000001 norm =  0.0017460260538676422\n",
      "t =  0.12 norm =  0.0017400629490295352\n",
      "t =  0.121 norm =  0.0017340828607581757\n",
      "t =  0.122 norm =  0.0017280867119002124\n",
      "t =  0.123 norm =  0.0017220754398278033\n",
      "t =  0.124 norm =  0.0017160499967793766\n",
      "t =  0.125 norm =  0.0017100113502127113\n",
      "t =  0.126 norm =  0.0017039604831709271\n",
      "t =  0.127 norm =  0.0016978983946618418\n",
      "t =  0.128 norm =  0.0016918261000512392\n",
      "t =  0.129 norm =  0.0016857446314706257\n",
      "t =  0.13 norm =  0.0016796550382400537\n",
      "t =  0.131 norm =  0.0016735583873065728\n",
      "t =  0.132 norm =  0.001667455763699\n",
      "t =  0.133 norm =  0.001661348270999624\n",
      "t =  0.134 norm =  0.0016552370318335342\n",
      "t =  0.135 norm =  0.001649123188376265\n",
      "t =  0.136 norm =  0.0016430079028805155\n",
      "t =  0.137 norm =  0.0016368923582226775\n",
      "t =  0.138 norm =  0.0016307777584699532\n",
      "t =  0.139 norm =  0.0016246653294689126\n",
      "t =  0.14 norm =  0.001618556319456282\n",
      "t =  0.14100000000000001 norm =  0.0016124519996928745\n",
      "t =  0.14200000000000002 norm =  0.0016063536651215351\n",
      "t =  0.14300000000000002 norm =  0.0016002626350500315\n",
      "t =  0.14400000000000002 norm =  0.001594180253859858\n",
      "t =  0.145 norm =  0.0015881078917419078\n",
      "t =  0.146 norm =  0.0015820469454600429\n",
      "t =  0.147 norm =  0.0015759988391436032\n",
      "t =  0.148 norm =  0.001569965025109888\n",
      "t =  0.149 norm =  0.0015639469847177464\n",
      "t =  0.15 norm =  0.0015579462292533285\n",
      "t =  0.151 norm =  0.0015519643008491922\n",
      "t =  0.152 norm =  0.0015460027734378967\n",
      "t =  0.153 norm =  0.0015400632537412434\n",
      "t =  0.154 norm =  0.0015341473822964105\n",
      "t =  0.155 norm =  0.0015282568345201515\n",
      "t =  0.156 norm =  0.0015223933218122894\n",
      "t =  0.157 norm =  0.0015165585926997791\n",
      "t =  0.158 norm =  0.0015107544340225204\n",
      "t =  0.159 norm =  0.0015049826721622239\n",
      "t =  0.16 norm =  0.0014992451743155585\n",
      "t =  0.161 norm =  0.0014935438498127947\n",
      "t =  0.162 norm =  0.0014878806514832137\n",
      "t =  0.163 norm =  0.001482257577068474\n",
      "t =  0.164 norm =  0.0014766766706851172\n",
      "t =  0.165 norm =  0.0014711400243373962\n",
      "t =  0.166 norm =  0.0014656497794815501\n",
      "t =  0.167 norm =  0.0014602081286425705\n",
      "t =  0.168 norm =  0.0014548173170845337\n",
      "t =  0.169 norm =  0.0014494796445354372\n",
      "t =  0.17 norm =  0.0014441974669674254\n",
      "t =  0.171 norm =  0.0014389731984332408\n",
      "t =  0.17200000000000001 norm =  0.0014338093129595774\n",
      "t =  0.17300000000000001 norm =  0.0014287083464979817\n",
      "t =  0.17400000000000002 norm =  0.0014236728989337588\n",
      "t =  0.17500000000000002 norm =  0.0014187056361532418\n",
      "t =  0.176 norm =  0.001413809292169648\n",
      "t =  0.177 norm =  0.00140898667130754\n",
      "t =  0.178 norm =  0.0014042406504457825\n",
      "t =  0.179 norm =  0.0013995741813186318\n",
      "t =  0.18 norm =  0.0013949902928744582\n",
      "t =  0.181 norm =  0.0013904920936912946\n",
      "t =  0.182 norm =  0.0013860827744482317\n",
      "t =  0.183 norm =  0.0013817656104513553\n",
      "t =  0.184 norm =  0.0013775439642126895\n",
      "t =  0.185 norm =  0.0013734212880802772\n",
      "t =  0.186 norm =  0.00136940112691726\n",
      "t =  0.187 norm =  0.0013654871208274282\n",
      "t =  0.188 norm =  0.0013616830079244016\n",
      "t =  0.189 norm =  0.0013579926271412893\n",
      "t =  0.19 norm =  0.001354419921077175\n",
      "t =  0.191 norm =  0.001350968938876548\n",
      "t =  0.192 norm =  0.0013476438391372726\n",
      "t =  0.193 norm =  0.0013444488928424177\n",
      "t =  0.194 norm =  0.001341388486310735\n",
      "t =  0.195 norm =  0.0013384671241602954\n",
      "t =  0.196 norm =  0.0013356894322793355\n",
      "t =  0.197 norm =  0.0013330601607979807\n",
      "t =  0.198 norm =  0.0013305841870541962\n",
      "t =  0.199 norm =  0.0013282665185468826\n"
     ]
    }
   ],
   "source": [
    "\n",
    "w0 = - 2**-(1/3)/(2-2**-(1/3))\n",
    "w1 = 1/(2-2**-(1/3))\n",
    "\n",
    "c= [w0/2 , (w0+w1)/2  , (w0+w1)/2 , w0/2 ]\n",
    "d= [w1,w0,w1]\n",
    "\n",
    "MKK= inv_Mcc @ Mccdd.mat.T @ inv_Mdd @ MJdd.mat \n",
    "MGG = inv_Mdd @ Mccdd.mat @ inv_Mcc @ MINC.mat\n",
    "\n",
    "\n",
    "Energy = []\n",
    "dt = 0.1e-2\n",
    "final_time = 0.2\n",
    "with TaskManager():\n",
    "  for i in range(round(final_time/dt)):\n",
    "    NORM = Norm(gf_g.vec)\n",
    "    Energy.append(NORM)\n",
    "    #if NORM > 1.3:\n",
    "    #  break\n",
    "\n",
    "    print (\"t = \", i*dt, \"norm = \",NORM)\n",
    "\n",
    "    \n",
    "    gf_g.vec.data += c[0]*dt*MKK*gf_k.vec\n",
    "    gf_k.vec.data += d[0]*dt*MGG*gf_g.vec\n",
    "\n",
    "    gf_g.vec.data += c[1]*dt*MKK*gf_k.vec\n",
    "    gf_k.vec.data += d[1]*dt*MGG*gf_g.vec\n",
    "\n",
    "    gf_g.vec.data += c[2]*dt*MKK*gf_k.vec\n",
    "    gf_k.vec.data += d[2]*dt*MGG*gf_g.vec \n",
    "\n",
    "    gf_g.vec.data += c[3]*dt*MKK*gf_k.vec\n",
    "\n",
    "    if i % 10 == 0:\n",
    "        scene1.Redraw()\n",
    "        #scene2.Redraw()\n",
    "        scene3.Redraw()\n",
    "        #scene4.Redraw()\n",
    "        # scene5.Redraw()\n"
   ]
  },
  {
   "cell_type": "code",
   "execution_count": 13,
   "metadata": {},
   "outputs": [
    {
     "data": {
      "application/vnd.jupyter.widget-view+json": {
       "model_id": "5603b8c16b1d403398ba028061c1fe40",
       "version_major": 2,
       "version_minor": 0
      },
      "text/plain": [
       "WebGuiWidget(value={'ngsolve_version': '6.2.2203', 'mesh_dim': 3, 'order2d': 2, 'order3d': 2, 'draw_vol': True…"
      ]
     },
     "metadata": {},
     "output_type": "display_data"
    },
    {
     "data": {
      "text/plain": [
       "BaseWebGuiScene"
      ]
     },
     "execution_count": 13,
     "metadata": {},
     "output_type": "execute_result"
    }
   ],
   "source": [
    "#PEAK = CF((peak,0,0, 0,peak,0,  0,0,peak), dims=(3,3))\n",
    "Draw (InnerProduct(gf_g - cf_symcurl_gamma,gf_g - cf_symcurl_gamma) , mesh, draw_surf=False, clipping={ \"x\" : -1 })"
   ]
  },
  {
   "cell_type": "code",
   "execution_count": 14,
   "metadata": {},
   "outputs": [
    {
     "name": "stdout",
     "output_type": "stream",
     "text": [
      " total magnitude\n"
     ]
    },
    {
     "data": {
      "application/vnd.jupyter.widget-view+json": {
       "model_id": "7292d93cdace4c6395680311ea5c4c38",
       "version_major": 2,
       "version_minor": 0
      },
      "text/plain": [
       "WebGuiWidget(value={'ngsolve_version': '6.2.2203', 'mesh_dim': 3, 'order2d': 2, 'order3d': 2, 'draw_vol': True…"
      ]
     },
     "metadata": {},
     "output_type": "display_data"
    },
    {
     "name": "stdout",
     "output_type": "stream",
     "text": [
      " (x,x) component\n"
     ]
    },
    {
     "data": {
      "application/vnd.jupyter.widget-view+json": {
       "model_id": "2998dc99c47940018d4e01fb5efaa611",
       "version_major": 2,
       "version_minor": 0
      },
      "text/plain": [
       "WebGuiWidget(value={'ngsolve_version': '6.2.2203', 'mesh_dim': 3, 'order2d': 2, 'order3d': 2, 'draw_vol': True…"
      ]
     },
     "metadata": {},
     "output_type": "display_data"
    },
    {
     "name": "stdout",
     "output_type": "stream",
     "text": [
      " (x,y) component\n"
     ]
    },
    {
     "data": {
      "application/vnd.jupyter.widget-view+json": {
       "model_id": "c280a792eaf44ec586f7747068896747",
       "version_major": 2,
       "version_minor": 0
      },
      "text/plain": [
       "WebGuiWidget(value={'ngsolve_version': '6.2.2203', 'mesh_dim': 3, 'order2d': 2, 'order3d': 2, 'draw_vol': True…"
      ]
     },
     "metadata": {},
     "output_type": "display_data"
    },
    {
     "name": "stdout",
     "output_type": "stream",
     "text": [
      " (x,z) component\n"
     ]
    },
    {
     "data": {
      "application/vnd.jupyter.widget-view+json": {
       "model_id": "9615f51a7379421cba3773411cfb8332",
       "version_major": 2,
       "version_minor": 0
      },
      "text/plain": [
       "WebGuiWidget(value={'ngsolve_version': '6.2.2203', 'mesh_dim': 3, 'order2d': 2, 'order3d': 2, 'draw_vol': True…"
      ]
     },
     "metadata": {},
     "output_type": "display_data"
    },
    {
     "name": "stdout",
     "output_type": "stream",
     "text": [
      " (y,y) component\n"
     ]
    },
    {
     "data": {
      "application/vnd.jupyter.widget-view+json": {
       "model_id": "0f708b4ae3ac47fd92fbe98e65a50b71",
       "version_major": 2,
       "version_minor": 0
      },
      "text/plain": [
       "WebGuiWidget(value={'ngsolve_version': '6.2.2203', 'mesh_dim': 3, 'order2d': 2, 'order3d': 2, 'draw_vol': True…"
      ]
     },
     "metadata": {},
     "output_type": "display_data"
    },
    {
     "name": "stdout",
     "output_type": "stream",
     "text": [
      " (y,z) component\n"
     ]
    },
    {
     "data": {
      "application/vnd.jupyter.widget-view+json": {
       "model_id": "aff75873c1914700b288fb96ed95cf8c",
       "version_major": 2,
       "version_minor": 0
      },
      "text/plain": [
       "WebGuiWidget(value={'ngsolve_version': '6.2.2203', 'mesh_dim': 3, 'order2d': 2, 'order3d': 2, 'draw_vol': True…"
      ]
     },
     "metadata": {},
     "output_type": "display_data"
    },
    {
     "name": "stdout",
     "output_type": "stream",
     "text": [
      " (z,z) component\n"
     ]
    },
    {
     "data": {
      "application/vnd.jupyter.widget-view+json": {
       "model_id": "7ddd4cdb68be4e2d801af77f1ad7af2a",
       "version_major": 2,
       "version_minor": 0
      },
      "text/plain": [
       "WebGuiWidget(value={'ngsolve_version': '6.2.2203', 'mesh_dim': 3, 'order2d': 2, 'order3d': 2, 'draw_vol': True…"
      ]
     },
     "metadata": {},
     "output_type": "display_data"
    },
    {
     "data": {
      "text/plain": [
       "BaseWebGuiScene"
      ]
     },
     "execution_count": 14,
     "metadata": {},
     "output_type": "execute_result"
    }
   ],
   "source": [
    "print(\" total magnitude\")\n",
    "Draw(InnerProduct(gf_g,gf_g), mesh, \"SCGamma\", clipping={\"x\": -1, \"y\": 0, \"z\": 0})\n",
    "print(\" (x,x) component\")\n",
    "Draw(InnerProduct(gf_g[0,0],gf_g[0,0]), mesh, \"SCGamma\", clipping={\"x\": -1, \"y\": 0, \"z\": 0})\n",
    "print(\" (x,y) component\")\n",
    "Draw(InnerProduct(gf_g[0,1],gf_g[0,1]), mesh, \"SCGamma\", clipping={\"x\": -1, \"y\": 0, \"z\": 0})\n",
    "print(\" (x,z) component\")\n",
    "Draw(InnerProduct(gf_g[0,2],gf_g[0,2]), mesh, \"SCGamma\", clipping={\"x\": -1, \"y\": 0, \"z\": 0})\n",
    "print(\" (y,y) component\")\n",
    "Draw(InnerProduct(gf_g[1,1],gf_g[1,1]), mesh, \"SCGamma\", clipping={\"x\": -1, \"y\": 0, \"z\": 0})\n",
    "print(\" (y,z) component\")\n",
    "Draw(InnerProduct(gf_g[1,2],gf_g[1,2]), mesh, \"SCGamma\", clipping={\"x\": -1, \"y\": 0, \"z\": 0})\n",
    "print(\" (z,z) component\")\n",
    "Draw(InnerProduct(gf_g[2,2],gf_g[2,2]), mesh, \"SCGamma\", clipping={\"x\": -1, \"y\": 0, \"z\": 0})\n",
    "\n"
   ]
  },
  {
   "cell_type": "code",
   "execution_count": 15,
   "metadata": {},
   "outputs": [
    {
     "data": {
      "text/plain": [
       "[<matplotlib.lines.Line2D at 0x12a1628c850>]"
      ]
     },
     "execution_count": 15,
     "metadata": {},
     "output_type": "execute_result"
    },
    {
     "data": {
      "image/png": "[encoded data removed]",
      "text/plain": [
       "<Figure size 432x288 with 1 Axes>"
      ]
     },
     "metadata": {
      "needs_background": "light"
     },
     "output_type": "display_data"
    }
   ],
   "source": [
    "import matplotlib.pyplot as plt\n",
    "import numpy as np\n",
    "\n",
    "TIME = np.linspace(0,final_time,len(Energy))\n",
    "plt.plot(TIME,Energy)"
   ]
  },
  {
   "cell_type": "code",
   "execution_count": null,
   "metadata": {},
   "outputs": [],
   "source": []
  }
 ],
 "metadata": {
  "kernelspec": {
   "display_name": "Python 3.10.4 64-bit",
   "language": "python",
   "name": "python3"
  },
  "language_info": {
   "codemirror_mode": {
    "name": "ipython",
    "version": 3
   },
   "file_extension": ".py",
   "mimetype": "text/x-python",
   "name": "python",
   "nbconvert_exporter": "python",
   "pygments_lexer": "ipython3",
   "version": "3.10.4"
  },
  "orig_nbformat": 4,
  "vscode": {
   "interpreter": {
    "hash": "afb734500600fd355917ca529030176ea0ca205570884b88f2f6f7d791fd3fbe"
   }
  }
 },
 "nbformat": 4,
 "nbformat_minor": 2
}
