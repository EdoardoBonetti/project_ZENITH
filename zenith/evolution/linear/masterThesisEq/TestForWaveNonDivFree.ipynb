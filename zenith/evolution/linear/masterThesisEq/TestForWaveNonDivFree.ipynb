{
 "cells": [
  {
   "cell_type": "markdown",
   "metadata": {},
   "source": [
    "# It works, we need to add a dvergence free constraint!!!"
   ]
  },
  {
   "cell_type": "code",
   "execution_count": 33,
   "metadata": {},
   "outputs": [],
   "source": [
    "from ngsolve import *\n",
    "from netgen.occ import *\n",
    "from ngsolve.webgui import Draw"
   ]
  },
  {
   "cell_type": "code",
   "execution_count": 34,
   "metadata": {},
   "outputs": [
    {
     "data": {
      "application/vnd.jupyter.widget-view+json": {
       "model_id": "e0b6dfd33e654793831ef60c94002013",
       "version_major": 2,
       "version_minor": 0
      },
      "text/plain": [
       "WebGuiWidget(value={'ngsolve_version': '6.2.2203', 'mesh_dim': 3, 'order2d': 1, 'order3d': 1, 'draw_vol': None…"
      ]
     },
     "metadata": {},
     "output_type": "display_data"
    }
   ],
   "source": [
    "shape = Box((-1,-1,-1), (1,1,1)) # create a box\n",
    "geo = OCCGeometry(shape) # create a geometry from the box\n",
    "mesh = Mesh(geo.GenerateMesh(maxh=0.2)) # create a mesh from the geometry\n",
    "Draw (mesh); # draw the mesh"
   ]
  },
  {
   "cell_type": "code",
   "execution_count": 35,
   "metadata": {},
   "outputs": [],
   "source": [
    "order = 2\n",
    "Hcc = HCurlCurl(mesh, order=order) # for the gamma variable\n",
    "Hdd = HDivDiv(mesh, order=order) # , orderinner=order+1) fr t\n",
    "# fesalpha = H1(mesh, order=order+1) # , dirichlet=\".*\")\n",
    "Hc = HCurl(mesh, order=order) # for the div of a Hdd field\n",
    "\n",
    "\n",
    "k , dk= Hdd.TnT() \n",
    "p, dp = Hc.TnT()\n",
    "g, dg = Hcc.TnT()"
   ]
  },
  {
   "cell_type": "code",
   "execution_count": 36,
   "metadata": {},
   "outputs": [],
   "source": [
    "n = specialcf.normal(3)\n",
    "t = specialcf.tangential(3, True)\n",
    "bbndtang  = specialcf.EdgeFaceTangentialVectors(3)\n",
    "tef1 = bbndtang[:,0]\n",
    "tef2 = bbndtang[:,1]\n",
    "nu1 = Cross(tef1,t)\n",
    "nu2 = Cross(tef2,t)\n",
    "\n",
    "def IncOp(g, dg):\n",
    "    return InnerProduct(curl(g), curl(dg).trans)*dx \\\n",
    "        + (curl(g)*n) * Cross (dg*n, n) * dx(element_vb=BND) \\\n",
    "        + (curl(dg)*n) * Cross (g*n, n) * dx(element_vb=BND) \\\n",
    "        + (g[nu1,t]*dg[t,tef1]-g[nu2,t]*dg[t,tef2])*dx(element_vb=BBND)\n",
    "\n",
    "# print ( (gamma*nu1*t)*(dgamma*t*tef1))\n",
    "\n",
    "def J(g): return g - 0.5*Trace(g)*Id(3)\n",
    "\n",
    "def Constraint(k, p):\n",
    "    return InnerProduct(k, Grad(p))*dx - (k*n*n) * (p*n) * dx(element_vb=BND)"
   ]
  },
  {
   "cell_type": "code",
   "execution_count": 37,
   "metadata": {},
   "outputs": [],
   "source": [
    "\n",
    "MINC = BilinearForm(IncOp(g,dg))\n",
    "\n",
    "Mcc = BilinearForm(InnerProduct(g, dg)*dx)\n",
    "Mdd = BilinearForm(InnerProduct(k, dk)*dx)\n",
    "\n",
    "Mccdd = BilinearForm(trialspace=Hcc, testspace=Hdd)\n",
    "Mccdd += InnerProduct(g, dk)*dx\n",
    "\n",
    "MJdd = BilinearForm(trialspace=Hdd, testspace=Hdd)\n",
    "MJdd += InnerProduct(k, dk)*dx-0.5*Trace(k)*Trace(dk)*dx\n",
    "\n",
    "with TaskManager():\n",
    "    MINC.Assemble()\n",
    "    Mcc.Assemble()\n",
    "    Mdd.Assemble()\n",
    "    Mccdd.Assemble()\n",
    "    MJdd.Assemble()\n",
    "\n"
   ]
  },
  {
   "cell_type": "code",
   "execution_count": 38,
   "metadata": {},
   "outputs": [],
   "source": [
    "\n",
    "fes = Hdd*Hc\n",
    "k, p = fes.TrialFunction()\n",
    "dk, dp = fes.TestFunction()\n",
    "\n",
    "PROJ = BilinearForm(fes)\n",
    "PROJ += InnerProduct(k, dk)*dx\n",
    "PROJ += Constraint(k, dp)\n",
    "PROJ += Constraint(dk, p)\n",
    "PROJ += curl(p)*curl(dp)*dx- 1e-6*p*dp*dx # I don't know why this is needed, \n",
    "\n",
    "MASS = BilinearForm(fes)\n",
    "MASS += InnerProduct(k, dk)*dx\n",
    "with TaskManager():\n",
    "    PROJ.Assemble() \n",
    "    MASS.Assemble()"
   ]
  },
  {
   "cell_type": "code",
   "execution_count": 39,
   "metadata": {},
   "outputs": [],
   "source": [
    "# 3 minutes for a cube of size 2 and a mesh of size 0.2 and order 3\n",
    "with TaskManager():\n",
    "    inv_PROJ = PROJ.mat.Inverse(inverse=\"sparsecholesky\", freedofs=fes.FreeDofs())\n",
    "    inv_Mcc = Mcc.mat.Inverse(inverse=\"sparsecholesky\", freedofs=fes.FreeDofs())\n",
    "    inv_Mdd = Mdd.mat.Inverse(inverse=\"sparsecholesky\", freedofs=fes.FreeDofs())"
   ]
  },
  {
   "cell_type": "code",
   "execution_count": null,
   "metadata": {},
   "outputs": [],
   "source": []
  },
  {
   "cell_type": "code",
   "execution_count": 44,
   "metadata": {},
   "outputs": [],
   "source": [
    "gf_g = GridFunction(Hcc)\n",
    "gf_inc_g = GridFunction(Hcc)\n",
    "peak = exp(-20*(x*x+y*y+z*z))\n",
    "gf_g.Set( CF((peak,0,0, 0,peak,0,  0,0,peak), dims=(3,3)), dual=True, bonus_intorder=12)\n",
    "\n",
    "gf_k = GridFunction(Hdd)\n",
    "gf_J_k = GridFunction(Hdd)\n",
    "\n",
    "\n",
    "\n"
   ]
  },
  {
   "cell_type": "code",
   "execution_count": 45,
   "metadata": {},
   "outputs": [
    {
     "name": "stdout",
     "output_type": "stream",
     "text": [
      "gamma\n",
      "\n"
     ]
    },
    {
     "data": {
      "application/vnd.jupyter.widget-view+json": {
       "model_id": "487dbc4cab0a436596d26c1567781ebf",
       "version_major": 2,
       "version_minor": 0
      },
      "text/plain": [
       "WebGuiWidget(value={'ngsolve_version': '6.2.2203', 'mesh_dim': 3, 'order2d': 2, 'order3d': 2, 'draw_vol': True…"
      ]
     },
     "metadata": {},
     "output_type": "display_data"
    },
    {
     "name": "stdout",
     "output_type": "stream",
     "text": [
      "inc gamma\n",
      "\n"
     ]
    },
    {
     "data": {
      "application/vnd.jupyter.widget-view+json": {
       "model_id": "9745ff420b8b49f29732387a90f21a35",
       "version_major": 2,
       "version_minor": 0
      },
      "text/plain": [
       "WebGuiWidget(value={'ngsolve_version': '6.2.2203', 'mesh_dim': 3, 'order2d': 2, 'order3d': 2, 'draw_vol': True…"
      ]
     },
     "metadata": {},
     "output_type": "display_data"
    },
    {
     "name": "stdout",
     "output_type": "stream",
     "text": [
      "kappa \n",
      "\n"
     ]
    },
    {
     "data": {
      "application/vnd.jupyter.widget-view+json": {
       "model_id": "4ba2e95734b648f3869d9873716c4bba",
       "version_major": 2,
       "version_minor": 0
      },
      "text/plain": [
       "WebGuiWidget(value={'ngsolve_version': '6.2.2203', 'mesh_dim': 3, 'order2d': 2, 'order3d': 2, 'draw_vol': True…"
      ]
     },
     "metadata": {},
     "output_type": "display_data"
    },
    {
     "name": "stdout",
     "output_type": "stream",
     "text": [
      "J kappa\n",
      "\n"
     ]
    },
    {
     "data": {
      "application/vnd.jupyter.widget-view+json": {
       "model_id": "4fc7b87f87d8464e936a6096b191e156",
       "version_major": 2,
       "version_minor": 0
      },
      "text/plain": [
       "WebGuiWidget(value={'ngsolve_version': '6.2.2203', 'mesh_dim': 3, 'order2d': 2, 'order3d': 2, 'draw_vol': True…"
      ]
     },
     "metadata": {},
     "output_type": "display_data"
    }
   ],
   "source": [
    "print (\"gamma\\n\")\n",
    "scene1 = Draw (gf_g[0,0], mesh, draw_surf=False, clipping={ \"z\" : -1 })\n",
    "print (\"inc gamma\\n\")\n",
    "scene2 = Draw (gf_inc_g[0,0], mesh, draw_surf=False, clipping={ \"z\" : -1 })\n",
    "\n",
    "\n",
    "print (\"kappa \\n\")\n",
    "scene3 = Draw (gf_k[1,1], mesh, draw_surf=False, clipping={ \"z\" : -1 })\n",
    "print (\"J kappa\\n\")\n",
    "scene4 = Draw (gf_J_k[1,1], mesh, draw_surf=False, clipping={ \"z\" : -1 })"
   ]
  },
  {
   "cell_type": "code",
   "execution_count": 46,
   "metadata": {},
   "outputs": [
    {
     "name": "stdout",
     "output_type": "stream",
     "text": [
      "t =  0.0 norm =  0.6165032284539174\n",
      "t =  0.002 norm =  0.6165032284539174\n",
      "t =  0.004 norm =  0.6164179634990843\n",
      "t =  0.006 norm =  0.6162474913912194\n",
      "t =  0.008 norm =  0.6159919279460724\n",
      "t =  0.01 norm =  0.6156514474198095\n",
      "t =  0.012 norm =  0.6152262831540666\n",
      "t =  0.014 norm =  0.6147167284459415\n",
      "t =  0.016 norm =  0.6141231376512161\n",
      "t =  0.018000000000000002 norm =  0.613445927530986\n",
      "t =  0.02 norm =  0.6126855788536238\n",
      "t =  0.022 norm =  0.6118426382656855\n",
      "t =  0.024 norm =  0.6109177204470202\n",
      "t =  0.026000000000000002 norm =  0.609911510566989\n",
      "t =  0.028 norm =  0.6088247670604169\n",
      "t =  0.03 norm =  0.6076583247438214\n",
      "t =  0.032 norm =  0.6064130982946003\n",
      "t =  0.034 norm =  0.6050900861184151\n",
      "t =  0.036000000000000004 norm =  0.6036903746330127\n",
      "t =  0.038 norm =  0.6022151430003693\n",
      "t =  0.04 norm =  0.6006656683433731\n",
      "t =  0.042 norm =  0.5990433314885305\n",
      "t =  0.044 norm =  0.597349623282313\n",
      "t =  0.046 norm =  0.5955861515361017\n",
      "t =  0.048 norm =  0.5937546486632101\n",
      "t =  0.05 norm =  0.5918569800813546\n",
      "t =  0.052000000000000005 norm =  0.589895153465373\n",
      "t =  0.054 norm =  0.587871328948031\n",
      "t =  0.056 norm =  0.5857878303816856\n",
      "t =  0.058 norm =  0.5836471577904987\n",
      "t =  0.06 norm =  0.5814520011620662\n",
      "t =  0.062 norm =  0.5792052557490235\n",
      "t =  0.064 norm =  0.5769100390756853\n",
      "t =  0.066 norm =  0.5745697098723683\n",
      "t =  0.068 norm =  0.5721878891912217\n",
      "t =  0.07 norm =  0.5697684839924203\n",
      "t =  0.07200000000000001 norm =  0.5673157135290608\n",
      "t =  0.074 norm =  0.5648341389034556\n",
      "t =  0.076 norm =  0.5623286962172568\n",
      "t =  0.078 norm =  0.559804733793568\n",
      "t =  0.08 norm =  0.5572680540112863\n",
      "t =  0.082 norm =  0.554724960360959\n",
      "t =  0.084 norm =  0.5521823104076552\n",
      "t =  0.08600000000000001 norm =  0.5496475754299993\n",
      "t =  0.088 norm =  0.547128907595563\n",
      "t =  0.09 norm =  0.5446352156307385\n",
      "t =  0.092 norm =  0.5421762500472649\n",
      "t =  0.094 norm =  0.5397626990961234\n",
      "t =  0.096 norm =  0.5374062967301538\n",
      "t =  0.098 norm =  0.5351199439660052\n",
      "t =  0.1 norm =  0.5329178451389498\n",
      "t =  0.10200000000000001 norm =  0.5308156606340351\n",
      "t =  0.10400000000000001 norm =  0.5288306777452154\n",
      "t =  0.106 norm =  0.5269820013493552\n",
      "t =  0.108 norm =  0.525290766070138\n",
      "t =  0.11 norm =  0.5237803715310871\n",
      "t =  0.112 norm =  0.5224767421367941\n",
      "t =  0.114 norm =  0.521408612554429\n",
      "t =  0.116 norm =  0.5206078396688019\n",
      "t =  0.11800000000000001 norm =  0.5201097412289132\n",
      "t =  0.12 norm =  0.5199534606694897\n",
      "t =  0.122 norm =  0.5201823566614737\n",
      "t =  0.124 norm =  0.5208444148167943\n",
      "t =  0.126 norm =  0.5219926776598127\n",
      "t =  0.128 norm =  0.5236856875230979\n",
      "t =  0.13 norm =  0.5259879355072712\n",
      "t =  0.132 norm =  0.5289703081866197\n",
      "t =  0.134 norm =  0.5327105225161565\n",
      "t =  0.136 norm =  0.5372935386215612\n",
      "t =  0.138 norm =  0.5428119400867168\n",
      "t =  0.14 norm =  0.5493662722616464\n",
      "t =  0.14200000000000002 norm =  0.5570653312355156\n",
      "t =  0.14400000000000002 norm =  0.5660263996130005\n",
      "t =  0.146 norm =  0.5763754301149191\n",
      "t =  0.148 norm =  0.5882471841172507\n",
      "t =  0.15 norm =  0.6017853391404392\n",
      "t =  0.152 norm =  0.6171425863752589\n",
      "t =  0.154 norm =  0.63448074579221\n",
      "t =  0.156 norm =  0.6539709313864692\n",
      "t =  0.158 norm =  0.6757938019160921\n",
      "t =  0.16 norm =  0.7001399326058054\n",
      "t =  0.162 norm =  0.727210340594388\n",
      "t =  0.164 norm =  0.7572171917043653\n",
      "t =  0.166 norm =  0.7903847090949218\n",
      "t =  0.168 norm =  0.8269502964664133\n",
      "t =  0.17 norm =  0.8671658807432382\n",
      "t =  0.17200000000000001 norm =  0.9112994724960264\n",
      "t =  0.17400000000000002 norm =  0.9596369374543058\n",
      "t =  0.176 norm =  1.0124839696658168\n",
      "t =  0.178 norm =  1.070168256213113\n",
      "t =  0.18 norm =  1.1330418246709468\n",
      "t =  0.182 norm =  1.2014835672747504\n",
      "t =  0.184 norm =  1.2759019395943898\n"
     ]
    }
   ],
   "source": [
    "\n",
    "dt = 0.2e-2\n",
    "final_time = 0.4\n",
    "with TaskManager():\n",
    "  for i in range(round(final_time/dt)):\n",
    "    NORM = Norm(gf_g.vec)\n",
    "    if NORM > 1.3:\n",
    "      break\n",
    "\n",
    "    print (\"t = \", i*dt, \"norm = \",NORM)\n",
    "\n",
    "    \n",
    "    gf_J_k.vec.data = inv_Mdd @ MJdd.mat * gf_k.vec\n",
    "    gf_g.vec.data += dt*inv_Mcc @ Mccdd.mat.T * gf_J_k.vec\n",
    "\n",
    "    gf_inc_g.vec.data = inv_Mcc @ MINC.mat * gf_g.vec\n",
    "    gf_k.vec.data -= dt*inv_Mdd @ Mccdd.mat * gf_inc_g.vec\n",
    "    \n",
    "    \n",
    "    if i % 10 == 0:\n",
    "        scene1.Redraw()\n",
    "        scene2.Redraw()\n",
    "        scene3.Redraw()\n",
    "        scene4.Redraw()\n",
    "        # scene5.Redraw()\n"
   ]
  },
  {
   "cell_type": "code",
   "execution_count": 47,
   "metadata": {},
   "outputs": [
    {
     "data": {
      "application/vnd.jupyter.widget-view+json": {
       "model_id": "9146a807b7e245799cafd49d0f0d9342",
       "version_major": 2,
       "version_minor": 0
      },
      "text/plain": [
       "WebGuiWidget(value={'ngsolve_version': '6.2.2203', 'mesh_dim': 3, 'order2d': 2, 'order3d': 2, 'draw_vol': True…"
      ]
     },
     "metadata": {},
     "output_type": "display_data"
    },
    {
     "data": {
      "text/plain": [
       "BaseWebGuiScene"
      ]
     },
     "execution_count": 47,
     "metadata": {},
     "output_type": "execute_result"
    }
   ],
   "source": [
    "PEAK = CF((peak,0,0, 0,peak,0,  0,0,peak), dims=(3,3))\n",
    "Draw (gf_g - PEAK, mesh, draw_surf=False, clipping={ \"z\" : -1 })"
   ]
  },
  {
   "cell_type": "code",
   "execution_count": null,
   "metadata": {},
   "outputs": [],
   "source": []
  }
 ],
 "metadata": {
  "kernelspec": {
   "display_name": "Python 3.10.4 64-bit",
   "language": "python",
   "name": "python3"
  },
  "language_info": {
   "codemirror_mode": {
    "name": "ipython",
    "version": 3
   },
   "file_extension": ".py",
   "mimetype": "text/x-python",
   "name": "python",
   "nbconvert_exporter": "python",
   "pygments_lexer": "ipython3",
   "version": "3.10.4"
  },
  "orig_nbformat": 4,
  "vscode": {
   "interpreter": {
    "hash": "afb734500600fd355917ca529030176ea0ca205570884b88f2f6f7d791fd3fbe"
   }
  }
 },
 "nbformat": 4,
 "nbformat_minor": 2
}
