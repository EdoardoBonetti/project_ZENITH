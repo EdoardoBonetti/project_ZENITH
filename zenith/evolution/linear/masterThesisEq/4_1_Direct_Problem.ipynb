{
 "cells": [
  {
   "cell_type": "markdown",
   "metadata": {},
   "source": [
    "# Direct Problem\n",
    "\n",
    "the direct problem for the inc operator is the following:\n",
    "Given a function $\\gamma \\in H(cc)$ find the function $\\text{inc}\\gamma \\in H_\\mathbb{S}(d)$\n",
    "\n",
    "The problem is divided into 2 steps\n",
    "1. find a function $\\xi = \\text{inc}\\gamma \\in H(cc)$ \n",
    "2. find pass to the space $\\hat{\\xi} \\in H_\\mathbb{S}(d)$\n",
    "\n",
    "This is due to the fact that the elasticity complex is :\n",
    "\\begin{align}\n",
    "H(cc) \\to ^{inc}  H_\\mathbb{S}(d)\n",
    "\\end{align}\n",
    "\n",
    "The 2 problems can be formulated into the variational form:\n",
    "\n",
    "1. find $\\xi \\in H(cc)$ function that minimizes the problem $$\\text{min}_\\xi \\| \\xi - \\text{inc}\\gamma \\|^2 $$\n",
    "2. find  $\\hat{\\xi} \\in  H_\\mathbb{S}(d)$ such that minimizes the problem $$\\text{min}_{\\nabla^S \\hat{\\xi} = 0 } \\| \\hat{\\xi} - \\xi \\|^ 2$$\n",
    "\n",
    "The above problems in variational form are:\n",
    "\n",
    "1.  find $\\xi \\in H(cc)$ such that\n",
    "$$ \\langle \\xi , \\eta\\rangle = \\langle \\text{inc}\\gamma, \\eta\\rangle \\quad \\forall \\eta \\in H(cc)$$\n",
    "2. find $(\\hat{\\xi} , p) \\in H_\\mathbb{S}(d)\\times H(cc)$ such that\n",
    "$$\n",
    "\\begin{cases}\n",
    "\\langle \\hat{\\xi}, \\eta\\rangle  &+& \\langle \\nabla^S \\hat{\\eta} , p \\rangle &=&  \\langle \\xi, \\eta\\rangle \\quad \\forall \\eta \\in H_\\mathbb{S}(d)\\\\\n",
    "\\langle \\nabla^S \\hat{\\xi} , q \\rangle  & & &=& 0 \\forall q \\in H(cc) \\\\\n",
    "\\end{cases}\n",
    "$$\n",
    "\n",
    "\n"
   ]
  },
  {
   "cell_type": "code",
   "execution_count": 8,
   "metadata": {},
   "outputs": [],
   "source": [
    "import time\n",
    "\n",
    "from ngsolve import *\n",
    "from ngsolve.webgui import Draw\n",
    "from netgen.csg import unit_cube\n",
    "from ngsolve.krylovspace import CGSolver"
   ]
  },
  {
   "cell_type": "code",
   "execution_count": 9,
   "metadata": {},
   "outputs": [],
   "source": [
    "n = specialcf.normal(3) # normal vector to a surface of a tetrahedron\n",
    "\n",
    "def norm(u, Mesh):\n",
    "    # norm of a scalar, vector or matrix function\n",
    "    with TaskManager():\n",
    "        return sqrt(Integrate( InnerProduct(u,u) , Mesh)) \n",
    "\n",
    "def Curl(u):\n",
    "    # curl of a vector or matrix\n",
    "    if u.dim == 3:\n",
    "        return CF( (u[2].Diff(y)- u[1].Diff(z), u[0].Diff(z)- u[2].Diff(x), u[1].Diff(x)- u[0].Diff(y)) )\n",
    "    if u.dim == 9:\n",
    "        return CF( (Curl(u[0,:]),Curl(u[1,:]),Curl(u[2,:])),dims=(3,3) )\n",
    "\n",
    "def Inc(u):\n",
    "    # inc of a matrix\n",
    "    return Curl((Curl(u)).trans)\n",
    "\n",
    "P_n = OuterProduct(n,n)  # projection along normal direction\n",
    "Q_n = Id(3) - OuterProduct(n,n) # projection along tangential direction\n",
    "C_n = CF( (0,n[2],-n[1],-n[2],0,n[0],n[1],-n[0],0), dims=(3,3) ) # corss product perator with the normal vector\n",
    "\n",
    "def C(V): \n",
    "    # corss product perator with the generic vector\n",
    "    return CF( (0,V[2],-V[1],-V[2],0,V[0],V[1],-V[0],0), dims=(3,3) ) \n"
   ]
  },
  {
   "cell_type": "code",
   "execution_count": 15,
   "metadata": {},
   "outputs": [],
   "source": [
    "\n",
    "\n",
    "def distributive_inc(mesh , order=2,gamma = None, BND_inc_gamma = None,inc_gamma= None,draw = True, bonus_intorder = 15):\n",
    "    \"\"\"\n",
    "    g is the grid function of the gamma living in HCurlCurl space\n",
    "    mesh is the mesh \n",
    "    order is the order of the finite element space\n",
    "\n",
    "    \"\"\"\n",
    "\n",
    "    fesHCurlCurl = HCurlCurl(mesh, order=order, dirichlet= \".*\")\n",
    "\n",
    "    ##########################################################\n",
    "    #           Coefficient and grid functions               #\n",
    "    ##########################################################\n",
    "\n",
    "    # grid functions \n",
    "    gf_gamma = GridFunction(fesHCurlCurl) \n",
    "    gf_gamma.Set ( gamma, bonus_intorder=bonus_intorder, dual=True)\n",
    "\n",
    "    gf_inc_g = GridFunction(fesHCurlCurl)\n",
    "    gf_inc_g.Set(BND_inc_gamma, BND,  bonus_intorder=bonus_intorder, dual=True)\n",
    "\n",
    "    ##########################################################\n",
    "    #              Linear and Bilinear forms                 #\n",
    "    ##########################################################\n",
    "\n",
    "    u,v = fesHCurlCurl.TnT()\n",
    "\n",
    "    #some geometrical objects we need\n",
    "    n_cross_v = CF( (Cross(n,v[0,:]),Cross(n,v[1,:]),Cross(n,v[2,:])), dims=(3,3) )\n",
    "    t1 =specialcf.EdgeFaceTangentialVectors(3)[:,0]\n",
    "    t2 =specialcf.EdgeFaceTangentialVectors(3)[:,1]\n",
    "    e = specialcf.tangential(3,True)\n",
    "    n1 = Cross( t1, e)\n",
    "    n2 = Cross( t2, e) \n",
    "\n",
    "    # Mass matrix\n",
    "    a = BilinearForm(fesHCurlCurl, symmetric=True)\n",
    "    a += InnerProduct(u,v)*dx \n",
    "\n",
    "    # linear form induced by the metric gfG\n",
    "    f = LinearForm(fesHCurlCurl)\n",
    "\n",
    "    # thetrahedron inc part\n",
    "    f += InnerProduct(gf_gamma.Operator(\"inc\"),v)*dx        \n",
    "    # faces part:\n",
    "    f += ( InnerProduct(Q_n*n_cross_v, curl(gf_gamma).trans) + Cross(gf_gamma*n,n)*(curl(v)*n) )*dx(element_boundary=True)\n",
    "    # Edges components: t'*v*C_n*n\n",
    "    f += (gf_gamma[n1,e]*v[e,t1] - gf_gamma[n2,e]*v[e,t2])*dx(element_vb=BBND)\n",
    "        \n",
    "    ##########################################################\n",
    "    #           Assemble, compute and print!                 #\n",
    "    ##########################################################\n",
    "    pre = Preconditioner(a, \"local\")\n",
    "    a.Assemble()\n",
    "    f.Assemble()\n",
    "\n",
    "    r = f.vec.CreateVector()\n",
    "    r.data = f.vec - a.mat * gf_inc_g.vec\n",
    "    inverse = CGSolver(a.mat, pre.mat , printrates='\\r', maxiter=1000,tol=1e-9)\n",
    "    gf_inc_g.vec.data += inverse * r\n",
    "    #gfCurlCurlG.vec.data += a.mat.Inverse(freedofs=fesHCurlCurl.FreeDofs(),inverse=\"sparsecholesky\") * r\n",
    "\n",
    "    if draw:\n",
    "        print(\"error of my inc\")\n",
    "        Error = norm(BND_inc_gamma-gf_inc_g,mesh)\n",
    "        print(\"Error inc(PEAK)-gfcurlCurlG when order is \"+str(order)+\"-->\"+str(Error) )\n",
    "        Draw (gf_inc_g-BND_inc_gamma,mesh, draw_surf=True, clipping=(0,1,1), deformation=False)\n",
    "        Draw (gf_inc_g,mesh, draw_surf=True, clipping=(0,1,1), deformation=False)\n",
    "        Draw (BND_inc_gamma, mesh, clipping=(0,1,1),name = \"Real inc gfG\",deformation=False) \n",
    "    return gf_inc_g\n",
    "\n",
    "# pass from the HCurlCurl space to the Hsymdiv space, \n"
   ]
  },
  {
   "cell_type": "code",
   "execution_count": 18,
   "metadata": {},
   "outputs": [
    {
     "name": "stdout",
     "output_type": "stream",
     "text": [
      "WARNING: CG did not converge to TOL10632259542583531     \n",
      "CG NOT converged in 1000 iterations to residual 0.00010632259542583531\n"
     ]
    },
    {
     "data": {
      "application/vnd.jupyter.widget-view+json": {
       "model_id": "673514c12c7a489bb49c6188b37e7d91",
       "version_major": 2,
       "version_minor": 0
      },
      "text/plain": [
       "WebGuiWidget(value={'ngsolve_version': '6.2.2203', 'mesh_dim': 3, 'order2d': 2, 'order3d': 2, 'draw_vol': True…"
      ]
     },
     "metadata": {},
     "output_type": "display_data"
    },
    {
     "data": {
      "text/plain": [
       "BaseWebGuiScene"
      ]
     },
     "execution_count": 18,
     "metadata": {},
     "output_type": "execute_result"
    }
   ],
   "source": [
    "maxh = 0.15 \n",
    "order = 3\n",
    "mesh = Mesh(unit_cube.GenerateMesh(maxh=maxh))\n",
    "draw = False      \n",
    "\n",
    "# our gamma\n",
    "cf_peak = exp(-25*( (x-0.5)**2 + (y-0.5)**2 +(z-0.5)**2))\n",
    "cf_gamma = CF ( (cf_peak, 0, 0 , 0,cf_peak,0,0,0,cf_peak), dims=(3,3))\n",
    "\n",
    "# true inc(gamma)\n",
    "cf_inc_gamma = CF( Inc(cf_gamma), dims=(3,3) )\n",
    "with TaskManager():\n",
    "    gf_inc_g = distributive_inc(mesh , order=order ,gamma = cf_gamma, BND_inc_gamma = cf_inc_gamma,inc_gamma= cf_inc_gamma,draw = draw, bonus_intorder = 15)\n",
    "\n",
    "\n",
    "Draw (gf_inc_g,mesh, draw_surf=True, clipping=(0,1,1), deformation=False)\n",
    "Draw (cf_inc_gamma,mesh, draw_surf=True, clipping=(0,1,1), deformation=False)\n"
   ]
  },
  {
   "cell_type": "code",
   "execution_count": null,
   "metadata": {},
   "outputs": [],
   "source": []
  }
 ],
 "metadata": {
  "kernelspec": {
   "display_name": "Python 3.10.4 64-bit",
   "language": "python",
   "name": "python3"
  },
  "language_info": {
   "codemirror_mode": {
    "name": "ipython",
    "version": 3
   },
   "file_extension": ".py",
   "mimetype": "text/x-python",
   "name": "python",
   "nbconvert_exporter": "python",
   "pygments_lexer": "ipython3",
   "version": "3.10.4"
  },
  "orig_nbformat": 4,
  "vscode": {
   "interpreter": {
    "hash": "afb734500600fd355917ca529030176ea0ca205570884b88f2f6f7d791fd3fbe"
   }
  }
 },
 "nbformat": 4,
 "nbformat_minor": 2
}
