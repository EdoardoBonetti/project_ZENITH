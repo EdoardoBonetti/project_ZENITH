{
 "cells": [
  {
   "cell_type": "markdown",
   "metadata": {},
   "source": [
    "# It works, we need to add a dvergence free constraint!!!"
   ]
  },
  {
   "cell_type": "code",
   "execution_count": 1,
   "metadata": {},
   "outputs": [],
   "source": [
    "from ngsolve import *\n",
    "from netgen.occ import *\n",
    "from ngsolve.webgui import Draw"
   ]
  },
  {
   "cell_type": "code",
   "execution_count": 2,
   "metadata": {},
   "outputs": [],
   "source": [
    "shape = Box((-1,-1,-1), (1,1,1)) # create a box\n",
    "geo = OCCGeometry(shape) # create a geometry from the box\n",
    "mesh = Mesh(geo.GenerateMesh(maxh=0.3)) # create a mesh from the geometry\n",
    "#Draw (mesh); # draw the mesh"
   ]
  },
  {
   "cell_type": "code",
   "execution_count": 3,
   "metadata": {},
   "outputs": [],
   "source": [
    "order = 2\n",
    "Hcc = HCurlCurl(mesh, order=order) # for the gamma variable\n",
    "Hdd = HDivDiv(mesh, order=order) # , orderinner=order+1) fr t\n",
    "# fesalpha = H1(mesh, order=order+1) # , dirichlet=\".*\")\n",
    "Hc = HCurl(mesh, order=order) # for the div of a Hdd field\n",
    "\n",
    "k , dk= Hdd.TnT() \n",
    "p, dp = Hc.TnT()\n",
    "g, dg = Hcc.TnT()"
   ]
  },
  {
   "cell_type": "code",
   "execution_count": 4,
   "metadata": {},
   "outputs": [],
   "source": [
    "n = specialcf.normal(3)\n",
    "t = specialcf.tangential(3, True)\n",
    "bbndtang  = specialcf.EdgeFaceTangentialVectors(3)\n",
    "tef1 = bbndtang[:,0]\n",
    "tef2 = bbndtang[:,1]\n",
    "nu1 = Cross(tef1,t)\n",
    "nu2 = Cross(tef2,t)\n",
    "\n",
    "def IncOp(g, dg):\n",
    "    return InnerProduct(curl(g), curl(dg).trans)*dx \\\n",
    "        + (curl(g)*n) * Cross (dg*n, n) * dx(element_vb=BND) \\\n",
    "        + (curl(dg)*n) * Cross (g*n, n) * dx(element_vb=BND) \\\n",
    "        + (g[nu1,t]*dg[t,tef1]-g[nu2,t]*dg[t,tef2])*dx(element_vb=BBND)\n",
    "\n",
    "# print ( (gamma*nu1*t)*(dgamma*t*tef1))\n",
    "\n",
    "def J(g): return g - 0.5*Trace(g)*Id(3)\n",
    "\n",
    "def Constraint(k, p):\n",
    "    return InnerProduct(k, Grad(p))*dx - (k*n*n) * (p*n) * dx(element_vb=BND)\n",
    "\n",
    "def Curl(u):\n",
    "    if u.dim == 3:\n",
    "        return CF( (u[1].Diff(z)- u[2].Diff(y), u[2].Diff(x)- u[0].Diff(z), u[0].Diff(y)- u[1].Diff(x)) )\n",
    "    if u.dim == 9:\n",
    "        return CF( (Curl(u[0,:]),Curl(u[1,:]),Curl(u[2,:])),dims=(3,3) )\n",
    "\n",
    "def Transpose(u):\n",
    "    return CF( (u[0,0] , u[1,0] , u[2,0] , u[0,1] , u[1,1] , u[2,1] , u[0,2] , u[1,2] , u[2,2] ),dims=(3,3) )\n",
    "\n",
    "def Symetric(u): return u + Transpose(u) "
   ]
  },
  {
   "cell_type": "code",
   "execution_count": 5,
   "metadata": {},
   "outputs": [],
   "source": [
    "\n",
    "MINC = BilinearForm(IncOp(g,dg))\n",
    "\n",
    "Mcc = BilinearForm(InnerProduct(g, dg)*dx)\n",
    "Mdd = BilinearForm(InnerProduct(k, dk)*dx)\n",
    "\n",
    "Mccdd = BilinearForm(trialspace=Hcc, testspace=Hdd)\n",
    "Mccdd += InnerProduct(g, dk)*dx\n",
    "\n",
    "MJdd = BilinearForm(trialspace=Hdd, testspace=Hdd)\n",
    "MJdd += InnerProduct(k, dk)*dx-0.5*Trace(k)*Trace(dk)*dx\n",
    "\n",
    "with TaskManager():\n",
    "    MINC.Assemble()\n",
    "    Mcc.Assemble()\n",
    "    Mdd.Assemble()\n",
    "    Mccdd.Assemble()\n",
    "    MJdd.Assemble()\n",
    "\n"
   ]
  },
  {
   "cell_type": "code",
   "execution_count": 6,
   "metadata": {},
   "outputs": [],
   "source": [
    "\n",
    "fes = Hdd*Hc\n",
    "k, p = fes.TrialFunction()\n",
    "dk, dp = fes.TestFunction()\n",
    "\n",
    "PROJ = BilinearForm(fes)\n",
    "PROJ += InnerProduct(k, dk)*dx\n",
    "PROJ += Constraint(k, dp)\n",
    "PROJ += Constraint(dk, p)\n",
    "PROJ += - 1e-6*(curl(p)*curl(dp)+ p*dp)*dx # I don't know why this is needed, \n",
    "\n",
    "MASS = BilinearForm(fes)\n",
    "MASS += InnerProduct(k, dk)*dx\n",
    "with TaskManager():\n",
    "    PROJ.Assemble() \n",
    "    MASS.Assemble()"
   ]
  },
  {
   "cell_type": "code",
   "execution_count": 7,
   "metadata": {},
   "outputs": [],
   "source": [
    "# 3 minutes for a cube of size 2 and a mesh of size 0.2 and order 3\n",
    "with TaskManager():\n",
    "    inv_PROJ = PROJ.mat.Inverse(inverse=\"sparsecholesky\", freedofs=fes.FreeDofs())\n",
    "    inv_Mcc = Mcc.mat.Inverse(inverse=\"sparsecholesky\", freedofs=fes.FreeDofs())\n",
    "    inv_Mdd = Mdd.mat.Inverse(inverse=\"sparsecholesky\", freedofs=fes.FreeDofs())"
   ]
  },
  {
   "cell_type": "code",
   "execution_count": 8,
   "metadata": {},
   "outputs": [],
   "source": [
    "#peak = exp(-25*(x*x+y*y+z*z))/100\n",
    "#cf_gamma = CF((0,0,0, 0,peak,0,  0,0,-peak), dims=(3,3))\n",
    "#\n",
    "#cf_symcurl_gamma = Symetric(Curl(cf_gamma))\n",
    "#Draw(InnerProduct(cf_symcurl_gamma,cf_symcurl_gamma), mesh, \"SCGamma\", clipping={\"z\": -1})\n"
   ]
  },
  {
   "cell_type": "code",
   "execution_count": 9,
   "metadata": {},
   "outputs": [],
   "source": [
    "gf_g = GridFunction(Hcc)\n",
    "gf_inc_g = GridFunction(Hcc)\n",
    "\n",
    "peak = exp(-10*(x*x+y*y+z*z))/1000\n",
    "cf_gamma = CF((peak,0,0, 0,0,0,  0,0,0), dims=(3,3))\n",
    "cf_symcurl_gamma = Symetric(Curl(cf_gamma))\n",
    "#\n",
    "#print(\" total magnitude\")\n",
    "#Draw(InnerProduct(cf_symcurl_gamma,cf_symcurl_gamma), mesh, \"SCGamma\", clipping={\"x\": -1, \"y\": 0, \"z\": 0})\n",
    "#print(\" (x,x) component\")\n",
    "#Draw(InnerProduct(cf_symcurl_gamma[0,0],cf_symcurl_gamma[0,0]), mesh, \"SCGamma\", clipping={\"x\": -1, \"y\": 0, \"z\": 0})\n",
    "#print(\" (x,y) component\")\n",
    "#Draw(InnerProduct(cf_symcurl_gamma[0,1],cf_symcurl_gamma[0,1]), mesh, \"SCGamma\", clipping={\"x\": -1, \"y\": 0, \"z\": 0})\n",
    "#print(\" (x,z) component\")\n",
    "#Draw(InnerProduct(cf_symcurl_gamma[0,2],cf_symcurl_gamma[0,2]), mesh, \"SCGamma\", clipping={\"x\": -1, \"y\": 0, \"z\": 0})\n",
    "#print(\" (y,y) component\")\n",
    "#Draw(InnerProduct(cf_symcurl_gamma[1,1],cf_symcurl_gamma[1,1]), mesh, \"SCGamma\", clipping={\"x\": -1, \"y\": 0, \"z\": 0})\n",
    "#print(\" (y,z) component\")\n",
    "#Draw(InnerProduct(cf_symcurl_gamma[1,2],cf_symcurl_gamma[1,2]), mesh, \"SCGamma\", clipping={\"x\": -1, \"y\": 0, \"z\": 0})\n",
    "#print(\" (z,z) component\")\n",
    "#Draw(InnerProduct(cf_symcurl_gamma[2,2],cf_symcurl_gamma[2,2]), mesh, \"SCGamma\", clipping={\"x\": -1, \"y\": 0, \"z\": 0})\n",
    "\n",
    "\n",
    "\n",
    "\n",
    "\n"
   ]
  },
  {
   "cell_type": "code",
   "execution_count": 10,
   "metadata": {},
   "outputs": [],
   "source": [
    "\n",
    "gf_g.Set( cf_symcurl_gamma, dual=True, bonus_intorder=12)\n",
    "\n",
    "gf_k = GridFunction(Hdd)\n",
    "gf_J_k = GridFunction(Hdd)\n",
    "\n",
    "\n",
    "gf_proj = GridFunction(fes)\n",
    "gf_proj_k , gf_proj_p = gf_proj.components\n"
   ]
  },
  {
   "cell_type": "code",
   "execution_count": 11,
   "metadata": {},
   "outputs": [
    {
     "name": "stdout",
     "output_type": "stream",
     "text": [
      "gamma\n",
      "\n"
     ]
    },
    {
     "data": {
      "application/vnd.jupyter.widget-view+json": {
       "model_id": "2eec9ee94e5e403f8bad8a16c10b25d8",
       "version_major": 2,
       "version_minor": 0
      },
      "text/plain": [
       "WebGuiWidget(value={'ngsolve_version': '6.2.2203', 'mesh_dim': 3, 'order2d': 2, 'order3d': 2, 'draw_vol': True…"
      ]
     },
     "metadata": {},
     "output_type": "display_data"
    },
    {
     "name": "stdout",
     "output_type": "stream",
     "text": [
      "div kappa\n",
      "\n"
     ]
    },
    {
     "data": {
      "application/vnd.jupyter.widget-view+json": {
       "model_id": "7f0355752c8048f1a384de6ec62b1cd9",
       "version_major": 2,
       "version_minor": 0
      },
      "text/plain": [
       "WebGuiWidget(value={'ngsolve_version': '6.2.2203', 'mesh_dim': 3, 'order2d': 2, 'order3d': 2, 'draw_vol': True…"
      ]
     },
     "metadata": {},
     "output_type": "display_data"
    }
   ],
   "source": [
    "print (\"gamma\\n\")\n",
    "scene1 = Draw (InnerProduct(gf_g,gf_g), mesh, draw_surf=False, clipping={\"x\": -1, \"y\": 0, \"z\": 0})\n",
    "#print (\"inc gamma\\n\")\n",
    "#scene2 = Draw (InnerProduct(gf_inc_g,gf_inc_g), mesh, draw_surf=False, clipping={\"x\": -1, \"y\": 0, \"z\": 0})\n",
    "#print (\"kappa \\n\")\n",
    "#scene3 = Draw (InnerProduct(gf_k, gf_k), mesh, draw_surf=False, clipping={\"x\": -1, \"y\": 0, \"z\": 0})\n",
    "#print (\"J kappa\\n\")\n",
    "#scene4 = Draw (InnerProduct(gf_J_k, gf_J_k), mesh, draw_surf=False, clipping={\"x\": -1, \"y\": 0, \"z\": 0})\n",
    "print (\"div kappa\\n\")\n",
    "scene5 = Draw (InnerProduct(div(gf_k), div(gf_k)), mesh, draw_surf=False, clipping={\"x\": -1, \"y\": 0, \"z\": 0})"
   ]
  },
  {
   "cell_type": "code",
   "execution_count": 12,
   "metadata": {},
   "outputs": [],
   "source": [
    "gf_proj = GridFunction(fes)\n",
    "gf_proj_k , gf_proj_p = gf_proj.components"
   ]
  },
  {
   "cell_type": "code",
   "execution_count": 13,
   "metadata": {},
   "outputs": [
    {
     "name": "stdout",
     "output_type": "stream",
     "text": [
      "t =  0.0 norm =  0.0028047152254905275\n",
      "t =  0.001 norm =  0.0028047152254905275\n",
      "t =  0.002 norm =  0.0028045508596473982\n",
      "t =  0.003 norm =  0.0028042221625506516\n",
      "t =  0.004 norm =  0.0028037292033736626\n",
      "t =  0.005 norm =  0.00280307208586328\n",
      "t =  0.006 norm =  0.0028022509483240977\n",
      "t =  0.007 norm =  0.0028012659635976264\n",
      "t =  0.008 norm =  0.0028001173390365215\n",
      "t =  0.009000000000000001 norm =  0.0027988053164740407\n",
      "t =  0.01 norm =  0.002797330172188955\n",
      "t =  0.011 norm =  0.0027956922168661095\n",
      "t =  0.012 norm =  0.002793891795552959\n",
      "t =  0.013000000000000001 norm =  0.0027919292876123175\n",
      "t =  0.014 norm =  0.0027898051066717307\n",
      "t =  0.015 norm =  0.0027875197005697394\n",
      "t =  0.016 norm =  0.0027850735512994886\n",
      "t =  0.017 norm =  0.0027824671749500556\n",
      "t =  0.018000000000000002 norm =  0.002779701121645934\n",
      "t =  0.019 norm =  0.002776775975485147\n",
      "t =  0.02 norm =  0.002773692354476416\n",
      "t =  0.021 norm =  0.0027704509104759262\n",
      "t =  0.022 norm =  0.002767052329124171\n",
      "t =  0.023 norm =  0.002763497329783404\n",
      "t =  0.024 norm =  0.002759786665476202\n",
      "t =  0.025 norm =  0.0027559211228257332\n",
      "t =  0.026000000000000002 norm =  0.002751901521998233\n",
      "t =  0.027 norm =  0.002747728716648289\n",
      "t =  0.028 norm =  0.0027434035938674337\n",
      "t =  0.029 norm =  0.0027389270741366863\n",
      "t =  0.03 norm =  0.0027343001112835456\n",
      "t =  0.031 norm =  0.0027295236924440155\n",
      "t =  0.032 norm =  0.0027245988380302207\n",
      "t =  0.033 norm =  0.0027195266017041807\n",
      "t =  0.034 norm =  0.0027143080703582686\n",
      "t =  0.035 norm =  0.0027089443641028672\n",
      "t =  0.036000000000000004 norm =  0.0027034366362618163\n",
      "t =  0.037 norm =  0.0026977860733761023\n",
      "t =  0.038 norm =  0.0026919938952163127\n",
      "t =  0.039 norm =  0.0026860613548043387\n",
      "t =  0.04 norm =  0.0026799897384447865\n",
      "t =  0.041 norm =  0.0026737803657665886\n",
      "t =  0.042 norm =  0.0026674345897751413\n",
      "t =  0.043000000000000003 norm =  0.0026609537969155316\n",
      "t =  0.044 norm =  0.002654339407147084\n",
      "t =  0.045 norm =  0.002647592874029734\n",
      "t =  0.046 norm =  0.0026407156848224454\n",
      "t =  0.047 norm =  0.0026337093605941003\n",
      "t =  0.048 norm =  0.0026265754563470803\n",
      "t =  0.049 norm =  0.0026193155611538357\n",
      "t =  0.05 norm =  0.0026119312983067006\n",
      "t =  0.051000000000000004 norm =  0.0026044243254811188\n",
      "t =  0.052000000000000005 norm =  0.0025967963349125237\n",
      "t =  0.053 norm =  0.0025890490535869872\n",
      "t =  0.054 norm =  0.0025811842434457885\n",
      "t =  0.055 norm =  0.0025732037016039946\n",
      "t =  0.056 norm =  0.0025651092605831188\n",
      "t =  0.057 norm =  0.0025569027885578837\n",
      "t =  0.058 norm =  0.0025485861896171083\n",
      "t =  0.059000000000000004 norm =  0.002540161404038696\n",
      "t =  0.06 norm =  0.00253163040857861\n",
      "t =  0.061 norm =  0.0025229952167738173\n",
      "t =  0.062 norm =  0.002514257879258979\n",
      "t =  0.063 norm =  0.0025054204840967782\n",
      "t =  0.064 norm =  0.0024964851571216452\n",
      "t =  0.065 norm =  0.0024874540622966314\n",
      "t =  0.066 norm =  0.0024783294020831264\n",
      "t =  0.067 norm =  0.0024691134178230906\n",
      "t =  0.068 norm =  0.0024598083901334177\n",
      "t =  0.069 norm =  0.002450416639311981\n",
      "t =  0.07 norm =  0.002440940525754865\n",
      "t =  0.07100000000000001 norm =  0.002431382450384288\n",
      "t =  0.07200000000000001 norm =  0.0024217448550865463\n",
      "t =  0.073 norm =  0.002412030223159357\n",
      "t =  0.074 norm =  0.002402241079767904\n",
      "t =  0.075 norm =  0.002392379992408711\n",
      "t =  0.076 norm =  0.002382449571380555\n",
      "t =  0.077 norm =  0.0023724524702614155\n",
      "t =  0.078 norm =  0.0023623913863904723\n",
      "t =  0.079 norm =  0.0023522690613539923\n",
      "t =  0.08 norm =  0.002342088281473953\n",
      "t =  0.081 norm =  0.0023318518782980244\n",
      "t =  0.082 norm =  0.002321562729089551\n",
      "t =  0.083 norm =  0.00231122375731598\n",
      "t =  0.084 norm =  0.0023008379331340726\n",
      "t =  0.085 norm =  0.002290408273870194\n",
      "t =  0.08600000000000001 norm =  0.0022799378444936613\n",
      "t =  0.08700000000000001 norm =  0.0022694297580812283\n",
      "t =  0.088 norm =  0.002258887176270428\n",
      "t =  0.089 norm =  0.0022483133096994367\n",
      "t =  0.09 norm =  0.002237711418430973\n",
      "t =  0.091 norm =  0.0022270848123575105\n",
      "t =  0.092 norm =  0.002216436851584939\n",
      "t =  0.093 norm =  0.0022057709467916335\n",
      "t =  0.094 norm =  0.0021950905595596593\n",
      "t =  0.095 norm =  0.0021843992026746467\n",
      "t =  0.096 norm =  0.0021737004403906838\n",
      "t =  0.097 norm =  0.0021629978886563224\n",
      "t =  0.098 norm =  0.0021522952152975795\n",
      "t =  0.099 norm =  0.0021415961401535823\n",
      "t =  0.1 norm =  0.002130904435160305\n",
      "t =  0.101 norm =  0.0021202239243775125\n",
      "t =  0.10200000000000001 norm =  0.002109558483953905\n",
      "t =  0.10300000000000001 norm =  0.0020989120420251083\n",
      "t =  0.10400000000000001 norm =  0.0020882885785389743\n",
      "t =  0.105 norm =  0.0020776921250023673\n",
      "t =  0.106 norm =  0.0020671267641434194\n",
      "t =  0.107 norm =  0.00205659662948296\n",
      "t =  0.108 norm =  0.0020461059048086116\n",
      "t =  0.109 norm =  0.0020356588235448418\n",
      "t =  0.11 norm =  0.002025259668012036\n",
      "t =  0.111 norm =  0.0020149127685674772\n",
      "t =  0.112 norm =  0.002004622502620974\n",
      "t =  0.113 norm =  0.001994393293517667\n",
      "t =  0.114 norm =  0.0019842296092805246\n",
      "t =  0.115 norm =  0.0019741359612048784\n",
      "t =  0.116 norm =  0.0019641169022973234\n",
      "t =  0.117 norm =  0.0019541770255513003\n",
      "t =  0.11800000000000001 norm =  0.0019443209620517389\n",
      "t =  0.11900000000000001 norm =  0.0019345533789011937\n",
      "t =  0.12 norm =  0.0019248789769600472\n",
      "t =  0.121 norm =  0.0019153024883936138\n",
      "t =  0.122 norm =  0.0019058286740191819\n",
      "t =  0.123 norm =  0.001896462320446437\n",
      "t =  0.124 norm =  0.0018872082370050653\n",
      "t =  0.125 norm =  0.001878071252453913\n",
      "t =  0.126 norm =  0.001869056211466621\n",
      "t =  0.127 norm =  0.0018601679708893078\n",
      "t =  0.128 norm =  0.0018514113957667547\n",
      "t =  0.129 norm =  0.001842791355134303\n",
      "t =  0.13 norm =  0.0018343127175736995\n",
      "t =  0.131 norm =  0.0018259803465322322\n",
      "t =  0.132 norm =  0.001817799095405618\n",
      "t =  0.133 norm =  0.0018097738023864249\n",
      "t =  0.134 norm =  0.0018019092850811863\n",
      "t =  0.135 norm =  0.0017942103349008075\n",
      "t =  0.136 norm =  0.0017866817112305174\n",
      "t =  0.137 norm =  0.0017793281353871541\n",
      "t =  0.138 norm =  0.0017721542843734245\n",
      "t =  0.139 norm =  0.0017651647844404749\n",
      "t =  0.14 norm =  0.0017583642044720397\n",
      "t =  0.14100000000000001 norm =  0.0017517570492052584\n",
      "t =  0.14200000000000002 norm =  0.0017453477523052421\n",
      "t =  0.14300000000000002 norm =  0.0017391406693123192\n",
      "t =  0.14400000000000002 norm =  0.0017331400704828353\n",
      "t =  0.145 norm =  0.0017273501335462954\n",
      "t =  0.146 norm =  0.0017217749364033675\n",
      "t =  0.147 norm =  0.0017164184497910921\n",
      "t =  0.148 norm =  0.0017112845299432262\n",
      "t =  0.149 norm =  0.0017063769112751837\n",
      "t =  0.15 norm =  0.0017016991991243597\n",
      "t =  0.151 norm =  0.0016972548625778338\n",
      "t =  0.152 norm =  0.0016930472274203677\n",
      "t =  0.153 norm =  0.0016890794692364121\n",
      "t =  0.154 norm =  0.0016853546067002712\n",
      "t =  0.155 norm =  0.0016818754950888575\n",
      "t =  0.156 norm =  0.0016786448200513864\n",
      "t =  0.157 norm =  0.0016756650916699898\n",
      "t =  0.158 norm =  0.0016729386388446333\n",
      "t =  0.159 norm =  0.001670467604034696\n",
      "t =  0.16 norm =  0.0016682539383883316\n",
      "t =  0.161 norm =  0.0016662993972891124\n",
      "t =  0.162 norm =  0.0016646055363476243\n",
      "t =  0.163 norm =  0.0016631737078634302\n",
      "t =  0.164 norm =  0.0016620050577804521\n",
      "t =  0.165 norm =  0.0016611005231560695\n",
      "t =  0.166 norm =  0.001660460830161342\n",
      "t =  0.167 norm =  0.001660086492626646\n",
      "t =  0.168 norm =  0.0016599778111437533\n",
      "t =  0.169 norm =  0.0016601348727319483\n",
      "t =  0.17 norm =  0.001660557551072365\n",
      "t =  0.171 norm =  0.0016612455073111143\n",
      "t =  0.17200000000000001 norm =  0.001662198191428306\n",
      "t =  0.17300000000000001 norm =  0.0016634148441665411\n",
      "t =  0.17400000000000002 norm =  0.0016648944995090276\n",
      "t =  0.17500000000000002 norm =  0.0016666359876941618\n",
      "t =  0.176 norm =  0.0016686379387502693\n",
      "t =  0.177 norm =  0.0016708987865312237\n",
      "t =  0.178 norm =  0.0016734167732308772\n",
      "t =  0.179 norm =  0.0016761899543517693\n",
      "t =  0.18 norm =  0.0016792162041012733\n",
      "t =  0.181 norm =  0.0016824932211864222\n",
      "t =  0.182 norm =  0.0016860185349769484\n",
      "t =  0.183 norm =  0.0016897895120047324\n",
      "t =  0.184 norm =  0.001693803362766809\n",
      "t =  0.185 norm =  0.0016980571487982946\n",
      "t =  0.186 norm =  0.0017025477899812434\n",
      "t =  0.187 norm =  0.001707272072055242\n",
      "t =  0.188 norm =  0.0017122266542957231\n",
      "t =  0.189 norm =  0.0017174080773264188\n",
      "t =  0.19 norm =  0.001722812771033036\n",
      "t =  0.191 norm =  0.0017284370625461674\n",
      "t =  0.192 norm =  0.0017342771842625178\n",
      "t =  0.193 norm =  0.0017403292818749107\n",
      "t =  0.194 norm =  0.0017465894223829416\n",
      "t =  0.195 norm =  0.0017530536020577833\n",
      "t =  0.196 norm =  0.00175971775433636\n",
      "t =  0.197 norm =  0.0017665777576218915\n",
      "t =  0.198 norm =  0.0017736294429697142\n",
      "t =  0.199 norm =  0.0017808686016391334\n"
     ]
    }
   ],
   "source": [
    "Energy = []\n",
    "dt = 0.1e-2\n",
    "final_time = 0.2\n",
    "with TaskManager():\n",
    "  for i in range(round(final_time/dt)):\n",
    "    NORM = Norm(gf_g.vec)\n",
    "    Energy.append(NORM)\n",
    "    if NORM > 0.01:\n",
    "      break\n",
    "\n",
    "    print (\"t = \", i*dt, \"norm = \",NORM)\n",
    "\n",
    "    \n",
    "    gf_J_k.vec.data = inv_Mdd @ MJdd.mat * gf_k.vec\n",
    "    gf_g.vec.data += dt*inv_Mcc @ Mccdd.mat.T * gf_J_k.vec\n",
    "\n",
    "    gf_inc_g.vec.data = inv_Mcc @ MINC.mat * gf_g.vec\n",
    "    gf_k.vec.data -= dt*inv_Mdd @ Mccdd.mat * gf_inc_g.vec\n",
    "    \n",
    "    gf_proj_k.vec.data = gf_k.vec\n",
    "    gf_proj.vec.data = inv_PROJ @ MASS.mat * gf_proj.vec\n",
    "    gf_k.vec.data = gf_proj_k.vec\n",
    "    \n",
    "    if i % 10 == 0:\n",
    "        scene1.Redraw()\n",
    "        #scene2.Redraw()\n",
    "        #scene3.Redraw()\n",
    "        #scene4.Redraw()\n",
    "        scene5.Redraw()\n"
   ]
  },
  {
   "cell_type": "code",
   "execution_count": 14,
   "metadata": {},
   "outputs": [],
   "source": [
    "#PEAK = CF((peak,0,0, 0,peak,0,  0,0,peak), dims=(3,3))\n",
    "i = 1\n",
    "j = 1\n",
    "#Draw (InnerProduct(gf_g[i,j] - cf_symcurl_gamma[i,j],gf_g[i,j] - cf_symcurl_gamma[i,j]) , mesh, clipping={\"x\": -1, \"y\": 0, \"z\": 0})"
   ]
  },
  {
   "cell_type": "code",
   "execution_count": 15,
   "metadata": {},
   "outputs": [],
   "source": [
    "#print(\" total magnitude\")\n",
    "#Draw(InnerProduct(gf_g,gf_g), mesh, \"SCGamma\", clipping={\"x\": -1, \"y\": 0, \"z\": 0})\n",
    "#print(\" (x,x) component\")\n",
    "#Draw(InnerProduct(gf_g[0,0],gf_g[0,0]), mesh, \"SCGamma\", clipping={\"x\": -1, \"y\": 0, \"z\": 0})\n",
    "#print(\" (x,y) component\")\n",
    "#Draw(InnerProduct(gf_g[0,1],gf_g[0,1]), mesh, \"SCGamma\", clipping={\"x\": -1, \"y\": 0, \"z\": 0})\n",
    "#print(\" (x,z) component\")\n",
    "#Draw(InnerProduct(gf_g[0,2],gf_g[0,2]), mesh, \"SCGamma\", clipping={\"x\": -1, \"y\": 0, \"z\": 0})\n",
    "#print(\" (y,y) component\")\n",
    "#Draw(InnerProduct(gf_g[1,1],gf_g[1,1]), mesh, \"SCGamma\", clipping={\"x\": -1, \"y\": 0, \"z\": 0})\n",
    "#print(\" (y,z) component\")\n",
    "#Draw(InnerProduct(gf_g[1,2],gf_g[1,2]), mesh, \"SCGamma\", clipping={\"x\": -1, \"y\": 0, \"z\": 0})\n",
    "#print(\" (z,z) component\")\n",
    "#Draw(InnerProduct(gf_g[2,2],gf_g[2,2]), mesh, \"SCGamma\", clipping={\"x\": -1, \"y\": 0, \"z\": 0})\n",
    "#\n"
   ]
  },
  {
   "cell_type": "code",
   "execution_count": 16,
   "metadata": {},
   "outputs": [
    {
     "data": {
      "text/plain": [
       "[<matplotlib.lines.Line2D at 0x1f425a0b8e0>]"
      ]
     },
     "execution_count": 16,
     "metadata": {},
     "output_type": "execute_result"
    },
    {
     "data": {
      "image/png": "[encoded data removed]",
      "text/plain": [
       "<Figure size 432x288 with 1 Axes>"
      ]
     },
     "metadata": {
      "needs_background": "light"
     },
     "output_type": "display_data"
    }
   ],
   "source": [
    "import matplotlib.pyplot as plt\n",
    "import numpy as np\n",
    "\n",
    "TIME = np.linspace(0,final_time,len(Energy))\n",
    "plt.plot(TIME,Energy)"
   ]
  },
  {
   "cell_type": "code",
   "execution_count": 17,
   "metadata": {},
   "outputs": [
    {
     "data": {
      "application/vnd.jupyter.widget-view+json": {
       "model_id": "a12aaba9b8974d338277e0533fdc51cb",
       "version_major": 2,
       "version_minor": 0
      },
      "text/plain": [
       "WebGuiWidget(value={'ngsolve_version': '6.2.2203', 'mesh_dim': 3, 'order2d': 2, 'order3d': 2, 'draw_vol': True…"
      ]
     },
     "metadata": {},
     "output_type": "display_data"
    },
    {
     "data": {
      "text/plain": [
       "BaseWebGuiScene"
      ]
     },
     "execution_count": 17,
     "metadata": {},
     "output_type": "execute_result"
    }
   ],
   "source": [
    "Draw (InnerProduct(div(gf_k), div(gf_k)), mesh, draw_surf=False, clipping={\"x\": -1, \"y\": 0, \"z\": 0})"
   ]
  }
 ],
 "metadata": {
  "kernelspec": {
   "display_name": "Python 3.10.4 64-bit",
   "language": "python",
   "name": "python3"
  },
  "language_info": {
   "codemirror_mode": {
    "name": "ipython",
    "version": 3
   },
   "file_extension": ".py",
   "mimetype": "text/x-python",
   "name": "python",
   "nbconvert_exporter": "python",
   "pygments_lexer": "ipython3",
   "version": "3.10.4"
  },
  "orig_nbformat": 4,
  "vscode": {
   "interpreter": {
    "hash": "afb734500600fd355917ca529030176ea0ca205570884b88f2f6f7d791fd3fbe"
   }
  }
 },
 "nbformat": 4,
 "nbformat_minor": 2
}
