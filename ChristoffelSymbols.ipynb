{
 "cells": [
  {
   "cell_type": "markdown",
   "metadata": {},
   "source": [
    "# Christoffel Symbols\n",
    "The Christoffel symbols of the first kind are defined as\n",
    "$$\n",
    "\\Gamma_{k|ij} = \\frac{1}{2} \\left( \\frac{\\partial g_{kj}}{\\partial x^i} + \\frac{\\partial g_{ik}}{\\partial x^j} - \\frac{\\partial g_{ij}}{\\partial x^k} \\right)\n",
    "$$\n",
    "Vertical bar is to divide the sym part from the other part.\n",
    "\n",
    "Since $g_{ij}$ is sym can be stored in a vector of length 6 and similarly for the Christoffel symbols in a vector of length 18; in particular the metric is stored in a vector $g$ as\n",
    "$$\n",
    "g = \\left( g_{00}, g_{01}, g_{02}, g_{11}, g_{12}, g_{22} \\right)\n",
    "$$\n",
    "And the Christoffel symbols as\n",
    "$$\n",
    "\\Gamma = \\left( \\Gamma_{000}, \\Gamma_{001}, \\Gamma_{002}, \\Gamma_{011}, \\Gamma_{012}, \\Gamma_{022}, \\Gamma_{100}, \\Gamma_{101}, \\Gamma_{102}, \\Gamma_{111}, \\Gamma_{112}, \\Gamma_{122}, \\Gamma_{200}, \\Gamma_{201}, \\Gamma_{202}, \\Gamma_{211}, \\Gamma_{212}, \\Gamma_{222} \\right)\n",
    "$$\n",
    "To access the component of the tensor $g_{ij}$ or $\\Gamma_{k|ij}$ we use the following mapping \n",
    "$$\n",
    "g_{ij} \\rightarrow \\begin{cases}g_{3i+j - i(i+1)/2} & i\\leq j \\\\\n",
    "i\\leftrightarrow j & else \\end{cases}\n",
    "$$\n",
    "For the Christoffel symbols we have the same mapping but with $k$ as the first index.\n",
    "$$\n",
    "\\Gamma_{k|ij} \\rightarrow \\begin{cases}\\Gamma_{3i+j - i(i+1)/2 + 6k} & i\\leq j \\\\\n",
    "i\\leftrightarrow j & else \\end{cases}"
   ]
  },
  {
   "cell_type": "code",
   "execution_count": 251,
   "metadata": {},
   "outputs": [],
   "source": [
    "from ngsolve import *\n",
    "from zenith import * \n",
    "from ngsolve import *\n",
    "from netgen.csg import *\n",
    "import scipy.sparse as sp\n",
    "import matplotlib.pylab as plt\n",
    "\n",
    "\n",
    "\n",
    "import netgen.webgui  \n",
    "from ngsolve.webgui import Draw\n",
    "# import netgen.gui\n",
    "# %gui tk"
   ]
  },
  {
   "cell_type": "code",
   "execution_count": 252,
   "metadata": {},
   "outputs": [
    {
     "name": "stdout",
     "output_type": "stream",
     "text": [
      "0 1 2 \n",
      "1 3 4 \n",
      "2 4 5 \n",
      "6 7 8 \n",
      "7 9 10 \n",
      "8 10 11 \n",
      "12 13 14 \n",
      "13 15 16 \n",
      "14 16 17 \n"
     ]
    }
   ],
   "source": [
    "def Idx(i, j,k =0):\n",
    "    if i>j: i,j = j,i\n",
    "    return i*3+j-(i*(i+1))//2 + k*6 \n",
    "\n",
    "# print the indices as 3 matrices \n",
    "for i in range(3):\n",
    "    for j in range(3):\n",
    "        print(Idx(i,j), end=\" \")\n",
    "    print() \n",
    "\n",
    "# print the indices as 3 matrices\n",
    "for i in range(3):\n",
    "    for j in range(3):\n",
    "        print(Idx(i,j,1), end=\" \")\n",
    "    print()\n",
    "\n",
    "# print the indices as 3 matrices\n",
    "for i in range(3):\n",
    "    for j in range(3):\n",
    "        print(Idx(i,j,2), end=\" \")\n",
    "    print()"
   ]
  },
  {
   "cell_type": "code",
   "execution_count": 253,
   "metadata": {},
   "outputs": [
    {
     "data": {
      "application/vnd.jupyter.widget-view+json": {
       "model_id": "18fe28b22fc54afab05307a37b90c947",
       "version_major": 2,
       "version_minor": 0
      },
      "text/plain": [
       "WebGuiWidget(layout=Layout(height='500px', width='100%'), value={'gui_settings': {}, 'ngsolve_version': '6.2.2…"
      ]
     },
     "metadata": {},
     "output_type": "display_data"
    },
    {
     "data": {
      "text/plain": [
       "BaseWebGuiScene"
      ]
     },
     "execution_count": 253,
     "metadata": {},
     "output_type": "execute_result"
    }
   ],
   "source": [
    "# standard mesh\n",
    "with TaskManager():\n",
    "    # create a mesh\n",
    "    h = 0.3\n",
    "    r = 0.5\n",
    "    H = 0.6\n",
    "    R = 1\n",
    "    order = 3\n",
    "    kwargs = {\"bonus_intorder\": 10, \"inverse\": \"pardiso\", \"order\": order, \"mesh_order\": 1}\n",
    "\n",
    "    # BH1\n",
    "    pos1 =  (0,0,0)\n",
    "    lin1 = (0,0,0)\n",
    "    ang1 = (0,0,0)\n",
    "    mass1 =1\n",
    "    BH1 = BlackHole(mass1, pos1, lin1, ang1 )\n",
    "\n",
    "    ## BH2\n",
    "    #pos2 =  (-1,0,0)\n",
    "    #lin2 = (0,-1,0)\n",
    "    #ang2 = (0,0,1)\n",
    "    #mass2 =1\n",
    "    #BH2 = BlackHole(mass2, pos2, lin2, ang2 )\n",
    "\n",
    "    BHs = [BH1]##, BH2]\n",
    "\n",
    "    mesh = MeshBlackHoles(BHs, h=h, R=R, H = H, r= r,  curve_order = 3)\n",
    "\n",
    "Draw(mesh, clipping= {\"z\":-1})"
   ]
  },
  {
   "cell_type": "code",
   "execution_count": 254,
   "metadata": {},
   "outputs": [
    {
     "data": {
      "application/vnd.jupyter.widget-view+json": {
       "model_id": "68e9415215134d4ca80a00d6f5317dd3",
       "version_major": 2,
       "version_minor": 0
      },
      "text/plain": [
       "WebGuiWidget(layout=Layout(height='500px', width='100%'), value={'gui_settings': {}, 'ngsolve_version': '6.2.2…"
      ]
     },
     "metadata": {},
     "output_type": "display_data"
    }
   ],
   "source": [
    "scl_h1 = H1(mesh, order=order)#, dirichlet=\"outer\")\n",
    "mat_h1 = VectorValued(scl_h1, 6)\n",
    "tns_h1 = VectorValued(scl_h1, 18) # it is 6 x 3 \n",
    "\n",
    "scl, dscl = scl_h1.TnT()\n",
    "m, dm = mat_h1.TnT()\n",
    "t, dt = tns_h1.TnT()\n",
    "\n",
    "# define the evolution variables\n",
    "gf_g  = GridFunction(mat_h1)\n",
    "gf_G  = GridFunction(tns_h1)\n",
    "\n",
    "fes = gf_g.space * gf_G.space \n",
    "\n",
    "\n",
    "\n",
    "# set a positive inital condition all the variables\n",
    "def Peak(pnt = (0,0,0) ,**kwargs) : return exp(-kwargs.get(\"sigma\", 1)* ( (x-pnt[0])**2 + (y-pnt[1])**2 + (z-pnt[2])**2 ) )\n",
    "peak = Peak(sigma = 1)\n",
    "\n",
    "gf_g.Set( (1+ peak,0,0,1+ peak, 0 , 1+ peak)  , bonus_intorder = 10)\n",
    "Draw(gf_g , mesh, \"g\", clipping= {\"z\":-1})\n",
    "\n",
    "gf_in = GridFunction(fes)\n",
    "gf_in.components[0].vec.data = gf_g.vec"
   ]
  },
  {
   "cell_type": "code",
   "execution_count": 255,
   "metadata": {},
   "outputs": [],
   "source": [
    "# use embedding to create inverse of whole matrix\n",
    "inverse = \"sparsecholesky\"\n",
    "\n",
    "with TaskManager():\n",
    "    ## g\n",
    "    mass_g = BilinearForm(mat_h1, symmetric=True)\n",
    "    mass_g += InnerProduct(m, dm)*dx\n",
    "    mass_g.Assemble()\n",
    "    mass_g_inv = mass_g.mat.Inverse(inverse=inverse)\n",
    "    res_g = fes.restrictions[0]\n",
    "    inv_g = res_g.T@mass_g_inv@res_g\n",
    "\n",
    "    ## G\n",
    "    mass_G = BilinearForm(tns_h1, symmetric=True)\n",
    "    mass_G += InnerProduct(t, dt)*dx\n",
    "    mass_G.Assemble()\n",
    "    mass_G_inv = mass_G.mat.Inverse(inverse=inverse)\n",
    "    res_G = fes.restrictions[1]\n",
    "    inv_G = res_G.T@mass_G_inv@res_G\n"
   ]
  },
  {
   "cell_type": "code",
   "execution_count": 256,
   "metadata": {},
   "outputs": [
    {
     "data": {
      "image/png": "[encoded data removed]",
      "text/plain": [
       "<Figure size 1000x1000 with 1 Axes>"
      ]
     },
     "metadata": {},
     "output_type": "display_data"
    }
   ],
   "source": [
    "\n",
    "# trial and test functions\n",
    "g,  G = fes.TrialFunction()\n",
    "dg, dG = fes.TestFunction()\n",
    "\n",
    "#dGG = dG.Reshape((6,3))\n",
    "chris1 = CF( (  dG[0+6*0] , dG[1+6*0], dG[2+6*0], \n",
    "                dG[1+6*0] , dG[3+6*0], dG[4+6*0], \n",
    "                dG[2+6*0], dG[4+6*0], dG[5+6*0] ,\n",
    "                dG[0+6*1] , dG[1+6*1], dG[2+6*1],\n",
    "                dG[1+6*1] , dG[3+6*1], dG[4+6*1],\n",
    "                dG[2+6*1], dG[4+6*1], dG[5+6*1] ,\n",
    "                dG[0+6*2] , dG[1+6*2], dG[2+6*2],\n",
    "                dG[1+6*2] , dG[3+6*2], dG[4+6*2],\n",
    "                dG[2+6*2], dG[4+6*2], dG[5+6*2]\n",
    "              ), dims=(3,3,3) )\n",
    "              \n",
    "blf = BilinearForm(fes)\n",
    "gradg = grad(g)\n",
    "for k in [0,1,2]:\n",
    "    for j in [0,1,2]:\n",
    "        for i in [0,1,2]:\n",
    "            blf += 0.5*(InnerProduct(gradg[Idx(k,j),i] + gradg[Idx(k,i),j] -gradg[Idx(i,j),k],dG[Idx(k,j,i)]) )*dx\n",
    "blf.Assemble()\n",
    "\n",
    "A = sp.csr_matrix(blf.mat.CSR())\n",
    "plt.rcParams['figure.figsize'] = (10,10)\n",
    "plt.spy(A)\n",
    "plt.show()"
   ]
  },
  {
   "cell_type": "code",
   "execution_count": 257,
   "metadata": {},
   "outputs": [],
   "source": [
    "# # trial and test functions\n",
    "# g,  G = fes.TrialFunction()\n",
    "# dg, dG = fes.TestFunction()\n",
    "# \n",
    "# \n",
    "# gradg = grad(g)\n",
    "# blf2 = BilinearForm(fes)\n",
    "# for k in [0,1,2]:\n",
    "#     for i in [0,1,2]:\n",
    "#         for j in [0,1,2]:\n",
    "#             blf2 += 0.5*(InnerProduct(gradg[Idx(k,j),i],chris1[i,j,k]) + InnerProduct(gradg[Idx(k,i),j],chris1[i,j,k]) - InnerProduct(gradg[Idx(i,j),k],chris1[i,j,k]))*dx\n",
    "#             blf2 +=  -0.5*(InnerProduct(gradg[Idx(k,j),i] + gradg[Idx(k,i),j] -gradg[Idx(i,j),k],dG[Idx(k,j,i)]) )*dx\n",
    "# blf2.Assemble()\n",
    "# \n",
    "# A = sp.csr_matrix(blf2.mat.CSR()  )\n",
    "# plt.rcParams['figure.figsize'] = (10,10)\n",
    "# plt.spy(A)\n",
    "# plt.show()"
   ]
  },
  {
   "cell_type": "code",
   "execution_count": null,
   "metadata": {},
   "outputs": [],
   "source": []
  },
  {
   "cell_type": "code",
   "execution_count": 258,
   "metadata": {},
   "outputs": [],
   "source": [
    "inv_mass = inv_g +  inv_G \n"
   ]
  },
  {
   "cell_type": "code",
   "execution_count": 270,
   "metadata": {
    "scrolled": false
   },
   "outputs": [],
   "source": [
    "gf_out = GridFunction(fes)\n",
    "\n",
    "with TaskManager():\n",
    "        \n",
    "    gf_out.vec.data = inv_mass @ blf.mat *gf_in.vec\n",
    "\n",
    "\n",
    "\n",
    "    \n"
   ]
  },
  {
   "cell_type": "code",
   "execution_count": 271,
   "metadata": {
    "scrolled": false
   },
   "outputs": [
    {
     "data": {
      "application/vnd.jupyter.widget-view+json": {
       "model_id": "823e6aca161749afb797ef47509496a3",
       "version_major": 2,
       "version_minor": 0
      },
      "text/plain": [
       "WebGuiWidget(layout=Layout(height='500px', width='100%'), value={'gui_settings': {}, 'ngsolve_version': '6.2.2…"
      ]
     },
     "metadata": {},
     "output_type": "display_data"
    },
    {
     "data": {
      "text/plain": [
       "BaseWebGuiScene"
      ]
     },
     "execution_count": 271,
     "metadata": {},
     "output_type": "execute_result"
    }
   ],
   "source": [
    "Draw(gf_out.components[1], mesh, \"Gamma_out\",  clipping= {\"z\":-1})\n",
    "\n"
   ]
  },
  {
   "cell_type": "code",
   "execution_count": 272,
   "metadata": {},
   "outputs": [
    {
     "data": {
      "application/vnd.jupyter.widget-view+json": {
       "model_id": "b52b6d8f672d42d8987306e3f7510b20",
       "version_major": 2,
       "version_minor": 0
      },
      "text/plain": [
       "WebGuiWidget(layout=Layout(height='500px', width='100%'), value={'gui_settings': {}, 'ngsolve_version': '6.2.2…"
      ]
     },
     "metadata": {},
     "output_type": "display_data"
    },
    {
     "data": {
      "text/plain": [
       "BaseWebGuiScene"
      ]
     },
     "execution_count": 272,
     "metadata": {},
     "output_type": "execute_result"
    }
   ],
   "source": [
    "True_g = CF((1+ peak,0,0,0,1+ peak, 0,0,0 , 1+ peak), dims=(3,3) )\n",
    "True_inv_g = CF((1/(1+ peak),0,0,0,1/(1+ peak), 0,0,0 , 1/(1+ peak)), dims=(3,3) )  \n",
    "True_grad_g = CF((True_g.Diff(x), True_g.Diff(y), True_g.Diff(z)), dims=(3,3,3) )\n",
    "True_Gamma = 0.5*(fem.Einsum(\"ijk->ikj\", True_grad_g) + fem.Einsum(\"ijk->jki\", True_grad_g) - fem.Einsum(\"ijk->ijk\", True_grad_g))\n",
    "True_Gamma2 = fem.Einsum(\"ijl,lk->ijk\",True_Gamma,True_inv_g)\n",
    "\n",
    "Draw(Norm(True_Gamma2), mesh, \"Gamma_true\",  clipping= {\"z\":-1})"
   ]
  },
  {
   "cell_type": "code",
   "execution_count": null,
   "metadata": {},
   "outputs": [],
   "source": []
  },
  {
   "cell_type": "code",
   "execution_count": 273,
   "metadata": {},
   "outputs": [],
   "source": [
    "\n",
    "#Draw(gf_out.components[1][] , mesh, \"Gamma_comp\",  clipping= {\"z\":-1})"
   ]
  },
  {
   "cell_type": "code",
   "execution_count": 274,
   "metadata": {},
   "outputs": [
    {
     "data": {
      "application/vnd.jupyter.widget-view+json": {
       "model_id": "94e3d14cba714c6caf96c2e60d3a217b",
       "version_major": 2,
       "version_minor": 0
      },
      "text/plain": [
       "WebGuiWidget(layout=Layout(height='500px', width='100%'), value={'gui_settings': {}, 'ngsolve_version': '6.2.2…"
      ]
     },
     "metadata": {},
     "output_type": "display_data"
    },
    {
     "data": {
      "text/plain": [
       "BaseWebGuiScene"
      ]
     },
     "execution_count": 274,
     "metadata": {},
     "output_type": "execute_result"
    }
   ],
   "source": [
    "i = 0\n",
    "j = 0\n",
    "k = 0\n",
    "\n",
    "Draw(gf_out.components[1][Idx(i,j,k)], mesh, \"Gamma\" ,  clipping= {\"z\":-1})\n"
   ]
  },
  {
   "cell_type": "code",
   "execution_count": 275,
   "metadata": {},
   "outputs": [
    {
     "data": {
      "application/vnd.jupyter.widget-view+json": {
       "model_id": "44a1bbc1fe6a4686b55172afda8dbebe",
       "version_major": 2,
       "version_minor": 0
      },
      "text/plain": [
       "WebGuiWidget(layout=Layout(height='500px', width='100%'), value={'gui_settings': {}, 'ngsolve_version': '6.2.2…"
      ]
     },
     "metadata": {},
     "output_type": "display_data"
    },
    {
     "data": {
      "text/plain": [
       "BaseWebGuiScene"
      ]
     },
     "execution_count": 275,
     "metadata": {},
     "output_type": "execute_result"
    }
   ],
   "source": [
    "Draw(True_Gamma[i,j,k], mesh, \"Gamma\" ,  clipping= {\"z\":-1})\n"
   ]
  },
  {
   "cell_type": "code",
   "execution_count": 276,
   "metadata": {},
   "outputs": [
    {
     "data": {
      "application/vnd.jupyter.widget-view+json": {
       "model_id": "18f663b9d9a34a0f8525b928966b1932",
       "version_major": 2,
       "version_minor": 0
      },
      "text/plain": [
       "WebGuiWidget(layout=Layout(height='500px', width='100%'), value={'gui_settings': {}, 'ngsolve_version': '6.2.2…"
      ]
     },
     "metadata": {},
     "output_type": "display_data"
    },
    {
     "data": {
      "text/plain": [
       "BaseWebGuiScene"
      ]
     },
     "execution_count": 276,
     "metadata": {},
     "output_type": "execute_result"
    }
   ],
   "source": [
    "Draw(True_Gamma[i,j,k]-gf_out.components[1][Idx(i,j,k)], mesh, \"Gamma\" ,  clipping= {\"z\":-1})\n"
   ]
  },
  {
   "cell_type": "code",
   "execution_count": 277,
   "metadata": {},
   "outputs": [],
   "source": [
    "tot =0.0\n",
    "for k in [0,1,2]:\n",
    "    for i in [0,1,2]:\n",
    "        for j in [0,1,2]:\n",
    "            tot += Integrate( Norm(True_Gamma[i,j,k]-gf_out.components[1][Idx(i,j,k)]) , mesh)\n",
    "\n"
   ]
  },
  {
   "cell_type": "code",
   "execution_count": 278,
   "metadata": {},
   "outputs": [
    {
     "name": "stdout",
     "output_type": "stream",
     "text": [
      "0.06892530724401658\n"
     ]
    }
   ],
   "source": [
    "print(tot)"
   ]
  },
  {
   "cell_type": "code",
   "execution_count": 279,
   "metadata": {},
   "outputs": [
    {
     "name": "stdout",
     "output_type": "stream",
     "text": [
      "0.007309701315750799\n",
      "0.007222407767814947\n",
      "0.008442993331106442\n",
      "0.0\n",
      "0.0\n",
      "0.0\n",
      "0.0\n",
      "0.0\n",
      "0.0\n",
      "0.0\n",
      "0.0\n",
      "0.0\n",
      "0.0073097013157508006\n",
      "0.007222407767814949\n",
      "0.008442993331106445\n",
      "0.0\n",
      "0.0\n",
      "0.0\n",
      "0.0\n",
      "0.0\n",
      "0.0\n",
      "0.0\n",
      "0.0\n",
      "0.0\n",
      "0.0073097013157507945\n",
      "0.007222407767814954\n",
      "0.008442993331106449\n"
     ]
    }
   ],
   "source": [
    "E000 = True_Gamma[0,0,0]-gf_out.components[1][Idx(0,0,0)]\n",
    "print(Integrate( Norm(E000) , mesh))\n",
    "E001 = True_Gamma[0,0,1]-gf_out.components[1][Idx(0,0,1)]\n",
    "print(Integrate( Norm(E001) , mesh))\n",
    "E002 = True_Gamma[0,0,2]-gf_out.components[1][Idx(0,0,2)]\n",
    "print(Integrate( Norm(E002) , mesh))\n",
    "E010 = True_Gamma[0,1,0]-gf_out.components[1][Idx(0,1,0)]\n",
    "print(Integrate( Norm(E010) , mesh))\n",
    "E011 = True_Gamma[0,1,1]-gf_out.components[1][Idx(0,1,1)]\n",
    "print(Integrate( Norm(E011) , mesh))\n",
    "E012 = True_Gamma[0,1,2]-gf_out.components[1][Idx(0,1,2)]\n",
    "print(Integrate( Norm(E012) , mesh))\n",
    "E020 = True_Gamma[0,2,0]-gf_out.components[1][Idx(0,2,0)]\n",
    "print(Integrate( Norm(E020) , mesh))\n",
    "E021 = True_Gamma[0,2,1]-gf_out.components[1][Idx(0,2,1)]\n",
    "print(Integrate( Norm(E021) , mesh))\n",
    "E022 = True_Gamma[0,2,2]-gf_out.components[1][Idx(0,2,2)]\n",
    "print(Integrate( Norm(E022) , mesh))\n",
    "E100 = True_Gamma[1,0,0]-gf_out.components[1][Idx(1,0,0)]\n",
    "print(Integrate( Norm(E100) , mesh))\n",
    "E101 = True_Gamma[1,0,1]-gf_out.components[1][Idx(1,0,1)]\n",
    "print(Integrate( Norm(E101) , mesh))\n",
    "E102 = True_Gamma[1,0,2]-gf_out.components[1][Idx(1,0,2)]\n",
    "print(Integrate( Norm(E102) , mesh))\n",
    "E110 = True_Gamma[1,1,0]-gf_out.components[1][Idx(1,1,0)]\n",
    "print(Integrate( Norm(E110) , mesh))\n",
    "E111 = True_Gamma[1,1,1]-gf_out.components[1][Idx(1,1,1)]\n",
    "print(Integrate( Norm(E111) , mesh))\n",
    "E112 = True_Gamma[1,1,2]-gf_out.components[1][Idx(1,1,2)]\n",
    "print(Integrate( Norm(E112) , mesh))\n",
    "E120 = True_Gamma[1,2,0]-gf_out.components[1][Idx(1,2,0)]\n",
    "print(Integrate( Norm(E120) , mesh))\n",
    "E121 = True_Gamma[1,2,1]-gf_out.components[1][Idx(1,2,1)]\n",
    "print(Integrate( Norm(E121) , mesh))\n",
    "E122 = True_Gamma[1,2,2]-gf_out.components[1][Idx(1,2,2)]\n",
    "print(Integrate( Norm(E122) , mesh))\n",
    "E200 = True_Gamma[2,0,0]-gf_out.components[1][Idx(2,0,0)]\n",
    "print(Integrate( Norm(E200) , mesh))\n",
    "E201 = True_Gamma[2,0,1]-gf_out.components[1][Idx(2,0,1)]\n",
    "print(Integrate( Norm(E201) , mesh))\n",
    "E202 = True_Gamma[2,0,2]-gf_out.components[1][Idx(2,0,2)]\n",
    "print(Integrate( Norm(E202) , mesh))\n",
    "E210 = True_Gamma[2,1,0]-gf_out.components[1][Idx(2,1,0)]\n",
    "print(Integrate( Norm(E210) , mesh))\n",
    "E211 = True_Gamma[2,1,1]-gf_out.components[1][Idx(2,1,1)]\n",
    "print(Integrate( Norm(E211) , mesh))\n",
    "E212 = True_Gamma[2,1,2]-gf_out.components[1][Idx(2,1,2)]\n",
    "print(Integrate( Norm(E212) , mesh))\n",
    "E220 = True_Gamma[2,2,0]-gf_out.components[1][Idx(2,2,0)]\n",
    "print(Integrate( Norm(E220) , mesh))\n",
    "E221 = True_Gamma[2,2,1]-gf_out.components[1][Idx(2,2,1)]\n",
    "print(Integrate( Norm(E221) , mesh))\n",
    "E222 = True_Gamma[2,2,2]-gf_out.components[1][Idx(2,2,2)]\n",
    "print(Integrate( Norm(E222) , mesh))\n",
    "\n",
    "Error = CF((E000,E001,E002,E010,E011,E012,E020,E021,E022,E100,E101,E102,E110,E111,E112,E120,E121,E122,E200,E201,E202,E210,E211,E212,E220,E221,E222), dims=(3,3,3) )"
   ]
  },
  {
   "cell_type": "markdown",
   "metadata": {},
   "source": [
    "0.047703798196440154\n",
    "0.04953052424708752\n",
    "0.05312731079723029"
   ]
  },
  {
   "cell_type": "code",
   "execution_count": 284,
   "metadata": {},
   "outputs": [
    {
     "data": {
      "application/vnd.jupyter.widget-view+json": {
       "model_id": "7497a57da007433a8a7604c870eb90fb",
       "version_major": 2,
       "version_minor": 0
      },
      "text/plain": [
       "WebGuiWidget(layout=Layout(height='500px', width='100%'), value={'gui_settings': {}, 'ngsolve_version': '6.2.2…"
      ]
     },
     "metadata": {},
     "output_type": "display_data"
    },
    {
     "data": {
      "text/plain": [
       "BaseWebGuiScene"
      ]
     },
     "execution_count": 284,
     "metadata": {},
     "output_type": "execute_result"
    }
   ],
   "source": [
    "Draw(E000, mesh, \"Error\" ,  clipping= {\"z\":-1})"
   ]
  },
  {
   "cell_type": "code",
   "execution_count": null,
   "metadata": {},
   "outputs": [],
   "source": []
  },
  {
   "cell_type": "code",
   "execution_count": null,
   "metadata": {},
   "outputs": [],
   "source": []
  },
  {
   "cell_type": "code",
   "execution_count": null,
   "metadata": {},
   "outputs": [],
   "source": []
  }
 ],
 "metadata": {
  "kernelspec": {
   "display_name": "Python 3",
   "language": "python",
   "name": "python3"
  },
  "language_info": {
   "codemirror_mode": {
    "name": "ipython",
    "version": 3
   },
   "file_extension": ".py",
   "mimetype": "text/x-python",
   "name": "python",
   "nbconvert_exporter": "python",
   "pygments_lexer": "ipython3",
   "version": "3.10.4"
  }
 },
 "nbformat": 4,
 "nbformat_minor": 2
}
