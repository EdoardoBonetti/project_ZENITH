{
 "cells": [
  {
   "attachments": {},
   "cell_type": "markdown",
   "metadata": {},
   "source": [
    "# Newton\n",
    "\n",
    "we want to create a symulation of 2 planets. To do so we have  a domain $\\Omega$ and two bodies (ball-shaped) $B_1$ and $B_2$ with masses $m_1$ and $m_2$ respectively.\n",
    "\n",
    "In the domain there are 2 circels, one with radius $r_1$ and one with radius $r_2$. The circels are centered at $c_1$ and $c_2$ respectively. They create a linear functionals $f_1$ and $f_2$ that are $M_1$ and $M_2$ inside the circels and 0 outside.\n",
    "$$\n",
    "f_1 (x) = M_1\\mathbb{1}_{B_1} (x) \\\\\n",
    "f_2 (x) = M_2\\mathbb{1}_{B_2} (x) $$\n",
    "\n",
    "In particular a linear functional depending on the position of the bodies at each time step. The functionals are defined as follows:\n",
    "$$\n",
    "f = f_1 + f_2\n",
    "$$\n",
    "\n",
    "The position of each point $u$ is given by the following equation:\n",
    "$$\n",
    "\\dot u = v \\\\   \n",
    "\\dot v = g  =-\\nabla \\phi \\\\\n",
    "$$\n",
    "And finally the potential $\\phi$ is given by:\n",
    "$$\n",
    "\\Delta \\phi = f\n",
    "$$\n"
   ]
  },
  {
   "cell_type": "code",
   "execution_count": 1,
   "metadata": {},
   "outputs": [
    {
     "name": "stdout",
     "output_type": "stream",
     "text": [
      "importing NGSolve-6.2.2204\n",
      "optfile ./ng.opt does not exist - using default values\n",
      "togl-version : 2\n",
      "OCC module loaded\n",
      "loading ngsolve library\n",
      "NGSolve-6.2.2204\n",
      "Using Lapack\n",
      "Including sparse direct solver Pardiso\n",
      "Running parallel using 16 thread(s)\n"
     ]
    }
   ],
   "source": [
    "from ngsolve import *\n",
    "from ngsolve import *\n",
    "from netgen.csg import *\n",
    "import scipy.sparse as sp\n",
    "import matplotlib.pylab as plt\n",
    "\n",
    "\n",
    "\n",
    "# import netgen.webgui  \n",
    "# from ngsolve.webgui import Draw\n",
    "import netgen.gui\n",
    "%gui tk"
   ]
  },
  {
   "cell_type": "code",
   "execution_count": 2,
   "metadata": {},
   "outputs": [
    {
     "name": "stdout",
     "output_type": "stream",
     "text": [
      " Start Findpoints\n",
      " Analyze spec points\n",
      " Find edges\n",
      " Start Findpoints\n",
      " Analyze spec points\n",
      " Find edges\n",
      " Start Findpoints\n",
      " Analyze spec points\n",
      " Find edges\n",
      " Surface 1 / 3\n",
      " Optimize Surface\n",
      " Surface 2 / 3\n",
      " Optimize Surface\n",
      " Surface 3 / 3\n",
      " Optimize Surface\n",
      " Delaunay meshing\n",
      " Delaunay meshing\n",
      " start tetmeshing\n",
      " Success !\n",
      " Remove Illegal Elements\n",
      " Volume Optimization\n",
      " Curve elements, order = 1\n"
     ]
    }
   ],
   "source": [
    "# create planet one and planet two\n",
    "PL1 = Sphere((-5,0,0), 1).bc(\"PL_bc1\").mat(\"planet1\").maxh(0.3)\n",
    "PL2 = Sphere(( 5,0,0), 1).bc(\"PL_bc2\").mat(\"planet2\").maxh(0.3)\n",
    "Planets = PL1 + PL2\n",
    "Planets.mat(\"Planets\")\n",
    "Void = Sphere((0,0,0), 10).bc(\"outer_bc\") - PL1 - PL2\n",
    "Void.mat(\"Void\")\n",
    "\n",
    "geo = CSGeometry()\n",
    "geo.Add(Planets)\n",
    "geo.Add(Void)\n",
    "\n",
    "mesh = Mesh(geo.GenerateMesh(maxh=3, grading=0.4))\n",
    "mesh.Curve(1)\n",
    "\n",
    "Draw(mesh)"
   ]
  },
  {
   "cell_type": "code",
   "execution_count": 16,
   "metadata": {},
   "outputs": [],
   "source": [
    "RHO = L2(mesh, order=1, dirichlet=\"outer_bc\")\n",
    "U = H1(mesh, order=2, dirichlet=\"outer_bc\")\n",
    "W = VectorValued(U, 3)\n",
    "\n",
    "\n",
    "r , dr = RHO.TnT()\n",
    "u,  du = U.TnT()\n",
    "w, dw =W.TnT()\n",
    "\n",
    "# density of a planet\n",
    "gfrho     = GridFunction(RHO)\n",
    "gfrho.Set(CF((1)),definedon = mesh.Materials(\"Planets\"),  bonus_intorder =10)\n",
    "Draw (gfrho, mesh, \"phi\")\n",
    "\n",
    "# displacement of a planet\n",
    "gfu     = GridFunction(W)\n",
    "\n",
    "# velocity field of a planet\n",
    "gfv     = GridFunction(W)\n",
    "gfv.Set(CF((0,0,IfPos(x,1,-1) )),definedon = mesh.Materials(\"Planets\"),  bonus_intorder =10)\n",
    "\n",
    "\n",
    "# gravitational potential tp be solved\n",
    "gfphi     = GridFunction(U)\n",
    "\n",
    "\n"
   ]
  },
  {
   "cell_type": "code",
   "execution_count": 17,
   "metadata": {},
   "outputs": [],
   "source": [
    "Draw(gfv,mesh,\"gfv\")\n"
   ]
  },
  {
   "cell_type": "code",
   "execution_count": null,
   "metadata": {},
   "outputs": [],
   "source": []
  },
  {
   "cell_type": "code",
   "execution_count": 18,
   "metadata": {},
   "outputs": [],
   "source": [
    "inverse = \"sparsecholesky\"\n",
    "\n",
    "with TaskManager():\n",
    "    ## u and v \n",
    "    mass_u = BilinearForm(W)\n",
    "    mass_u += InnerProduct(w, dw)*dx\n",
    "    mass_u.Assemble()\n",
    "    mass_u_inv = mass_u.mat.Inverse(inverse=inverse)\n",
    "\n",
    "    mass_rho = BilinearForm(RHO )\n",
    "    mass_rho += InnerProduct(r, dr)*dx\n",
    "    mass_rho.Assemble()\n",
    "    mass_rho_inv = mass_rho.mat.Inverse(inverse=inverse)\n",
    "\n",
    "\n",
    "\n",
    "\n",
    "    \n",
    "\n",
    "\n",
    "# A = sp.csr_matrix(mass_phi.mat.CSR())\n",
    "# plt.rcParams['figure.figsize'] = (10,10)\n",
    "# plt.spy(A)\n",
    "# plt.show()\n"
   ]
  },
  {
   "cell_type": "code",
   "execution_count": 19,
   "metadata": {},
   "outputs": [
    {
     "data": {
      "text/plain": [
       "<ngsolve.comp.BilinearForm at 0x7fd1742f50b0>"
      ]
     },
     "execution_count": 19,
     "metadata": {},
     "output_type": "execute_result"
    }
   ],
   "source": [
    "OpGrad = BilinearForm (testspace=W, trialspace=U)\n",
    "OpGrad += InnerProduct(grad(u),dw)*dx\n",
    "OpGrad.Assemble()\n",
    "\n",
    "# print matrix\n",
    "# B = sp.csr_matrix(OpGrad.mat.CSR())\n",
    "# plt.rcParams['figure.figsize'] = (10,10)\n",
    "# plt.spy(B)\n",
    "# plt.show()"
   ]
  },
  {
   "cell_type": "code",
   "execution_count": 20,
   "metadata": {},
   "outputs": [],
   "source": [
    "laplacian = BilinearForm(U)\n",
    "laplacian += grad(u)*grad(du)*dx\n",
    "laplacian.Assemble()\n",
    "inv_laplacian = laplacian.mat.Inverse(U.FreeDofs(), inverse=\"sparsecholesky\")\n"
   ]
  },
  {
   "cell_type": "code",
   "execution_count": 21,
   "metadata": {},
   "outputs": [],
   "source": [
    "dt = 0.01\n",
    "with TaskManager():\n",
    "\n",
    "    for i in range(10):\n",
    "        gfu.vec.data += dt*gfv.vec\n",
    "        gfv.vec.data += -dt*mass_u_inv @ OpGrad.mat * gfphi.vec\n",
    "        gfphi.vec.data += dt*inv_laplacian @ mass_rho.mat * gfrho.vec\n",
    "        Draw(gfu,mesh, \"gfu\")"
   ]
  },
  {
   "cell_type": "code",
   "execution_count": null,
   "metadata": {},
   "outputs": [],
   "source": []
  },
  {
   "cell_type": "code",
   "execution_count": null,
   "metadata": {},
   "outputs": [],
   "source": []
  },
  {
   "cell_type": "code",
   "execution_count": null,
   "metadata": {},
   "outputs": [],
   "source": []
  },
  {
   "cell_type": "code",
   "execution_count": null,
   "metadata": {},
   "outputs": [],
   "source": []
  },
  {
   "cell_type": "code",
   "execution_count": null,
   "metadata": {},
   "outputs": [],
   "source": []
  }
 ],
 "metadata": {
  "kernelspec": {
   "display_name": "Python 3",
   "language": "python",
   "name": "python3"
  },
  "language_info": {
   "codemirror_mode": {
    "name": "ipython",
    "version": 3
   },
   "file_extension": ".py",
   "mimetype": "text/x-python",
   "name": "python",
   "nbconvert_exporter": "python",
   "pygments_lexer": "ipython3",
   "version": "3.10.6"
  }
 },
 "nbformat": 4,
 "nbformat_minor": 2
}
