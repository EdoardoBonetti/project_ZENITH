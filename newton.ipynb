{
 "cells": [
  {
   "attachments": {},
   "cell_type": "markdown",
   "metadata": {},
   "source": [
    "# Newton\n",
    "\n",
    "we want to create a symulation of 2 planets. To do so we have  a domain $\\Omega$ and two bodies (ball-shaped) $B_1$ and $B_2$ with masses $m_1$ and $m_2$ respectively.\n",
    "\n",
    "First we define some density $\\rho$ on the planets\n"
   ]
  },
  {
   "cell_type": "code",
   "execution_count": 1,
   "metadata": {},
   "outputs": [
    {
     "name": "stdout",
     "output_type": "stream",
     "text": [
      "importing NGSolve-6.2.2204\n",
      "optfile ./ng.opt does not exist - using default values\n",
      "togl-version : 2\n",
      "OCC module loaded\n",
      "loading ngsolve library\n",
      "NGSolve-6.2.2204\n",
      "Using Lapack\n",
      "Including sparse direct solver Pardiso\n",
      "Running parallel using 16 thread(s)\n"
     ]
    }
   ],
   "source": [
    "from ngsolve import *\n",
    "from ngsolve import *\n",
    "from netgen.csg import *\n",
    "import scipy.sparse as sp\n",
    "import matplotlib.pylab as plt\n",
    "from zenith import * \n",
    "\n",
    "\n",
    "# import netgen.webgui  \n",
    "# from ngsolve.webgui import Draw\n",
    "import netgen.gui\n",
    "%gui tk"
   ]
  },
  {
   "cell_type": "code",
   "execution_count": 2,
   "metadata": {},
   "outputs": [
    {
     "name": "stdout",
     "output_type": "stream",
     "text": [
      " Start Findpoints\n",
      " Analyze spec points\n",
      " Find edges\n",
      " Start Findpoints\n",
      " Analyze spec points\n",
      " Find edges\n",
      " Start Findpoints\n",
      " Analyze spec points\n",
      " Find edges\n",
      " Surface 1 / 3\n",
      " Optimize Surface\n",
      " Surface 2 / 3\n",
      " Optimize Surface\n",
      " Surface 3 / 3\n",
      " Optimize Surface\n",
      " Delaunay meshing\n",
      " Delaunay meshing\n",
      " start tetmeshing\n",
      " Success !\n",
      " Remove Illegal Elements\n",
      " Volume Optimization\n",
      " Curve elements, order = 1\n"
     ]
    }
   ],
   "source": [
    "# create planet one and planet two\n",
    "PL1 = Sphere((-2,0,0), 1).bc(\"PL_bc1\").mat(\"planet1\").maxh(0.3)\n",
    "PL2 = Sphere(( 2,0,0), 1).bc(\"PL_bc2\").mat(\"planet2\").maxh(0.3)\n",
    "Planets = PL1 + PL2\n",
    "Planets.mat(\"Planets\")\n",
    "Void = Sphere((0,0,0), 10).bc(\"outer_bc\") - PL1 - PL2\n",
    "Void.mat(\"Void\")\n",
    "\n",
    "geo = CSGeometry()\n",
    "geo.Add(Planets)\n",
    "geo.Add(Void)\n",
    "\n",
    "mesh = Mesh(geo.GenerateMesh(maxh=3, grading=0.4))\n",
    "mesh.Curve(1)\n",
    "\n",
    "clipping = {\"z\":-1}\n",
    "Draw(mesh, clipping=clipping)"
   ]
  },
  {
   "cell_type": "code",
   "execution_count": 3,
   "metadata": {},
   "outputs": [],
   "source": [
    "RHO = L2(mesh, order=2, dirichlet=\"outer_bc\")\n",
    "U = H1(mesh, order=2, dirichlet=\"outer_bc\")\n",
    "V = VectorValued(U)\n",
    "\n",
    "rho , drho = RHO.TnT()\n",
    "u,  du = U.TnT()\n",
    "v , dv = V.TnT()\n",
    "\n",
    "# density of a planet\n",
    "gfrho     = GridFunction(RHO)\n",
    "gfrho.Set(CF((10)),definedon = mesh.Materials(\"Planets\"),  bonus_intorder =10)\n",
    "#Draw (gfrho, mesh, \"rho\", clipping=clipping)\n",
    "\n",
    "# gravitational potential tp be solved\n",
    "gfphi     = GridFunction(U)\n",
    "gfphi.Set(CF((0)), BND ,  bonus_intorder =10)\n",
    "\n",
    "# define the displacement field u\n",
    "gfu = GridFunction(V)\n",
    "\n",
    "# velocity field\n",
    "gfv = GridFunction(V)\n",
    "vel = CF((0,IfPos(x,1,-1),0))\n",
    "gfv.Set(vel, definedon = mesh.Materials(\"Planets\"),  bonus_intorder =10)\n",
    "#Draw(gfv,mesh , clipping=clipping)\n"
   ]
  },
  {
   "cell_type": "code",
   "execution_count": 4,
   "metadata": {},
   "outputs": [],
   "source": [
    "\n",
    "\n",
    "\n",
    "    \n",
    "\n",
    "\n",
    "# A = sp.csr_matrix(mass_phi.mat.CSR())\n",
    "# plt.rcParams['figure.figsize'] = (10,10)\n",
    "# plt.spy(A)\n",
    "# plt.show()\n"
   ]
  },
  {
   "cell_type": "code",
   "execution_count": null,
   "metadata": {},
   "outputs": [],
   "source": []
  },
  {
   "cell_type": "code",
   "execution_count": 5,
   "metadata": {},
   "outputs": [
    {
     "data": {
      "text/plain": [
       "<ngsolve.comp.BilinearForm at 0x7f406b9ddf70>"
      ]
     },
     "execution_count": 5,
     "metadata": {},
     "output_type": "execute_result"
    }
   ],
   "source": [
    "inverse = \"sparsecholesky\"\n",
    "\n",
    "r = sqrt(x*x + y*y + z*z)\n",
    "laplacian = BilinearForm(U)\n",
    "laplacian += grad(u)*grad(du)*dx\n",
    "laplacian.Assemble()\n",
    "inv_laplacian = laplacian.mat.Inverse(U.FreeDofs(), inverse=\"sparsecholesky\")\n",
    "\n",
    "# mass rho0\n",
    "mass_ss = BilinearForm(trialspace=RHO, testspace=U )\n",
    "mass_ss += rho*du*dx\n",
    "mass_ss.Assemble()\n",
    "\n",
    "# gradient\n",
    "gradient= BilinearForm(trialspace=V, testspace=U )\n",
    "gradient += v*grad(du)*dx\n",
    "gradient.Assemble()\n",
    "\n",
    "\n",
    "# A = sp.csr_matrix(gradient.mat.CSR())\n",
    "# kwargs = {'figsize': (10, 10), 'dpi': 300}\n",
    "# Spy(A, n=20,**kwargs)\n",
    "\n",
    "\n"
   ]
  },
  {
   "cell_type": "code",
   "execution_count": 6,
   "metadata": {},
   "outputs": [],
   "source": [
    "dt = 0.001\n",
    "Draw(   gfv , mesh, \"v\")#, clipping=clipping)\n",
    "with TaskManager():\n",
    "    for i in range(100):\n",
    "        gfphi.vec.data = inv_laplacian @ mass_ss.mat * gfrho.vec\n",
    "        gfv.vec.data += dt*gradient.mat.T * gfphi.vec\n",
    "        gfu.vec.data += dt*gfv.vec\n",
    "        #scene.Redraw()\n",
    "        Draw(gfv , mesh, \"v\")#, clipping=clipping)\n",
    "        \n",
    "\n",
    "#Draw(grad(gfphi) , mesh, clipping=clipping)\n"
   ]
  },
  {
   "cell_type": "code",
   "execution_count": null,
   "metadata": {},
   "outputs": [],
   "source": [
    "# gravitational acc field\n",
    "\n",
    "\n",
    "\n",
    "Draw(gfv,mesh, clipping=clipping)"
   ]
  },
  {
   "cell_type": "code",
   "execution_count": null,
   "metadata": {},
   "outputs": [],
   "source": [
    "gfu.vec.data += dt*gfu.vec.data"
   ]
  },
  {
   "cell_type": "code",
   "execution_count": null,
   "metadata": {},
   "outputs": [],
   "source": [
    "gfrho "
   ]
  },
  {
   "cell_type": "code",
   "execution_count": null,
   "metadata": {},
   "outputs": [],
   "source": []
  },
  {
   "cell_type": "code",
   "execution_count": null,
   "metadata": {},
   "outputs": [],
   "source": []
  }
 ],
 "metadata": {
  "kernelspec": {
   "display_name": "Python 3",
   "language": "python",
   "name": "python3"
  },
  "language_info": {
   "codemirror_mode": {
    "name": "ipython",
    "version": 3
   },
   "file_extension": ".py",
   "mimetype": "text/x-python",
   "name": "python",
   "nbconvert_exporter": "python",
   "pygments_lexer": "ipython3",
   "version": "3.10.12"
  }
 },
 "nbformat": 4,
 "nbformat_minor": 2
}
