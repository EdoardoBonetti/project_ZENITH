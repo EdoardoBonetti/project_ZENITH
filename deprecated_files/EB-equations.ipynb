{
 "cells": [
  {
   "attachments": {},
   "cell_type": "markdown",
   "id": "626065ce",
   "metadata": {},
   "source": [
    "# Einstein-Bianchi equations"
   ]
  },
  {
   "cell_type": "code",
   "execution_count": 1,
   "id": "8eec9d36",
   "metadata": {},
   "outputs": [
    {
     "name": "stdout",
     "output_type": "stream",
     "text": [
      "importing NGSolve-6.2.2204\n"
     ]
    }
   ],
   "source": [
    "from ngsolve import *\n",
    "from ngsolve.webgui import Draw\n",
    "mesh = Mesh(unit_cube.GenerateMesh(maxh=0.1))"
   ]
  },
  {
   "cell_type": "code",
   "execution_count": 2,
   "id": "df192f28",
   "metadata": {},
   "outputs": [],
   "source": [
    "n = specialcf.normal(3)\n",
    "\n",
    "def CurlTHcc2Hcd(E,dH):\n",
    "    return InnerProduct(curl(E).trans, dH)*dx \\\n",
    "       +InnerProduct(Cross(E*n, n), dH*n)*dx(element_boundary= True)\n",
    "\n",
    "def DivHcdHd(H,dv):\n",
    "    return div(H)*dv*dx - H*n*n * dv*n * dx(element_boundary= True)"
   ]
  },
  {
   "cell_type": "code",
   "execution_count": 3,
   "id": "bd2526fc",
   "metadata": {},
   "outputs": [],
   "source": [
    "order = 1\n",
    "fescc = HCurlCurl(mesh, order=order)\n",
    "\n",
    "fescd = HCurlDiv(mesh, order=order)\n",
    "fesd = HDiv(mesh, order=order)\n",
    "fescd_d = fescd*fesd\n",
    "\n",
    "E, dE = fescc.TnT()\n",
    "(H,v), (dH, dv) = fescd_d.TnT()"
   ]
  },
  {
   "cell_type": "code",
   "execution_count": 34,
   "id": "f2eb4bab",
   "metadata": {},
   "outputs": [],
   "source": [
    "massE = BilinearForm(InnerProduct(E,dE)*dx).Assemble()\n",
    "\n",
    "massH = BilinearForm(fescd_d)\n",
    "massH += InnerProduct(H,dH)*dx + DivHcdHd(H,dv) + DivHcdHd(dH,v) - 1e-3*v*dv*dx - div(v)*div(dv)*dx\n",
    "massH.Assemble()\n",
    "\n",
    "bfcurlT = BilinearForm(CurlTHcc2Hcd(E, fescd.TestFunction()), geom_free= True).Assemble()"
   ]
  },
  {
   "cell_type": "code",
   "execution_count": 35,
   "id": "c24804e4",
   "metadata": {},
   "outputs": [],
   "source": [
    "massEinv = massE.mat.Inverse(inverse=\"pardiso\")\n",
    "massHinv = massH.mat.Inverse(inverse=\"pardiso\")\n",
    "resH = fescd_d.restrictions[0]\n",
    "massHinv = resH@massHinv@resH.T"
   ]
  },
  {
   "cell_type": "code",
   "execution_count": 36,
   "id": "d2018d02",
   "metadata": {},
   "outputs": [],
   "source": [
    "gfE = GridFunction(fescc)\n",
    "gfH = GridFunction(fescd)"
   ]
  },
  {
   "cell_type": "code",
   "execution_count": 37,
   "id": "a969a0b2",
   "metadata": {},
   "outputs": [
    {
     "data": {
      "text/plain": [
       "()"
      ]
     },
     "execution_count": 37,
     "metadata": {},
     "output_type": "execute_result"
    }
   ],
   "source": [
    "gfE.components"
   ]
  },
  {
   "cell_type": "code",
   "execution_count": 38,
   "id": "d53b48e1",
   "metadata": {},
   "outputs": [],
   "source": [
    "# initial conditions ....\n",
    "gfH.vec[:] = 0.0\n",
    "gfE.vec[:] = 0.0\n",
    "\n",
    "peak = exp(-((x-0.5)**2+(y-0.5)**2+(z-0.5)**2)/ 0.2**2 )\n",
    "gfE.Set ( ((0, 0,peak), (0,0,0), (peak,0,0) ))\n",
    "gfH.Set(  ((peak, 0,0), (0,0,0), (0,0,-peak)))"
   ]
  },
  {
   "cell_type": "code",
   "execution_count": 39,
   "id": "694713d6",
   "metadata": {},
   "outputs": [],
   "source": [
    "def Transpose(gfu):\n",
    "    return CF((   gfu[0,0],gfu[1,0],gfu[2,0],\n",
    "                  gfu[0,1],gfu[1,1],gfu[2,1],\n",
    "                  gfu[0,2],gfu[1,2],gfu[2,2]), dims = (3,3))\n",
    "\n",
    "def Trace(gfu): return CF((gfu[0,0]+gfu[1,1]+gfu[2,2]))"
   ]
  },
  {
   "cell_type": "code",
   "execution_count": 40,
   "id": "546e35f0",
   "metadata": {},
   "outputs": [
    {
     "data": {
      "application/vnd.jupyter.widget-view+json": {
       "model_id": "ab2356d15e3a469c85ee8e632dc2770f",
       "version_major": 2,
       "version_minor": 0
      },
      "text/plain": [
       "WebGuiWidget(layout=Layout(height='50vh', width='100%'), value={'gui_settings': {}, 'ngsolve_version': '6.2.22…"
      ]
     },
     "metadata": {},
     "output_type": "display_data"
    }
   ],
   "source": [
    "t = 0\n",
    "tend = 1\n",
    "dt = 1e-2\n",
    "\n",
    "traceE = []\n",
    "symH = []\n",
    "divH = []\n",
    "traceH = []\n",
    "\n",
    "scene = Draw(Norm(gfH), mesh, clipping ={\"x\": 0, \"y\":0 , \"z\": -1})\n",
    "#gfE.vec.data = massEinv * gfE.vec\n",
    "SetNumThreads(8)\n",
    "with TaskManager():\n",
    "    while t < tend:\n",
    "        gfE.vec.data += -dt * massEinv@bfcurlT.mat.T * gfH.vec\n",
    "        gfH.vec.data += dt * massHinv@bfcurlT.mat * gfE.vec\n",
    "        scene.Redraw()\n",
    "        t += dt\n",
    "        traceE.append(Integrate(Norm(Trace(gfE)), mesh) )    \n",
    "        symH.append(Integrate(Norm(Transpose(gfH)- gfH), mesh) )\n",
    "        traceH.append(Integrate(Norm(Trace(gfH)), mesh))\n"
   ]
  },
  {
   "cell_type": "code",
   "execution_count": 41,
   "id": "6d4d8b12",
   "metadata": {},
   "outputs": [
    {
     "data": {
      "text/plain": [
       "[<matplotlib.lines.Line2D at 0x7f86ee22aec0>]"
      ]
     },
     "execution_count": 41,
     "metadata": {},
     "output_type": "execute_result"
    },
    {
     "data": {
      "image/png": "[encoded data removed]",
      "text/plain": [
       "<Figure size 640x480 with 1 Axes>"
      ]
     },
     "metadata": {},
     "output_type": "display_data"
    }
   ],
   "source": [
    "import matplotlib.pyplot as plt\n",
    "\n",
    "plt.plot(traceE)\n",
    "plt.plot(symH)\n",
    "plt.plot(traceH)"
   ]
  },
  {
   "cell_type": "code",
   "execution_count": 32,
   "id": "948c659c",
   "metadata": {},
   "outputs": [
    {
     "name": "stdout",
     "output_type": "stream",
     "text": [
      "0.4857012961412337\n"
     ]
    }
   ],
   "source": [
    "print(Integrate(Norm(gfE), mesh))"
   ]
  },
  {
   "cell_type": "code",
   "execution_count": 33,
   "id": "ba4cca51",
   "metadata": {},
   "outputs": [
    {
     "name": "stdout",
     "output_type": "stream",
     "text": [
      "Help on built-in function SetNumThreads in module pyngcore.pyngcore:\n",
      "\n",
      "SetNumThreads(...) method of builtins.PyCapsule instance\n",
      "    SetNumThreads(threads: int) -> None\n",
      "    \n",
      "    \n",
      "    Set number of threads\n",
      "    \n",
      "    Parameters:\n",
      "    \n",
      "    threads : int\n",
      "      input number of threads\n",
      "\n"
     ]
    }
   ],
   "source": [
    "help(SetNumThreads)"
   ]
  },
  {
   "cell_type": "code",
   "execution_count": null,
   "id": "73de1f8b",
   "metadata": {},
   "outputs": [],
   "source": []
  }
 ],
 "metadata": {
  "kernelspec": {
   "display_name": "Python 3 (ipykernel)",
   "language": "python",
   "name": "python3"
  },
  "language_info": {
   "codemirror_mode": {
    "name": "ipython",
    "version": 3
   },
   "file_extension": ".py",
   "mimetype": "text/x-python",
   "name": "python",
   "nbconvert_exporter": "python",
   "pygments_lexer": "ipython3",
   "version": "3.10.6"
  }
 },
 "nbformat": 4,
 "nbformat_minor": 5
}
