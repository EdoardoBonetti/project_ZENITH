{
 "cells": [
  {
   "attachments": {},
   "cell_type": "markdown",
   "id": "626065ce",
   "metadata": {},
   "source": [
    "# Einstein-Bianchi equations\n",
    "\n",
    "using \n",
    "* hyperbolic evolution for the divergence constraint\n",
    "* iterative solvers for all three mass matrices\n",
    "\n",
    "\n",
    "$$\n",
    "\\frac{d}{dt} \\left( \\begin{array}{c} E \\\\ v \\\\ H \\end{array} \\right) = \n",
    "\\left( \\begin{array}{ccc} \n",
    " & & C^T \\\\\n",
    " & & D \\\\\n",
    " -C & -D^T & \n",
    "\\end{array} \\right)\n",
    "\\left( \\begin{array}{c} E \\\\ v \\\\ H \\end{array} \\right) \n",
    "$$"
   ]
  },
  {
   "cell_type": "code",
   "execution_count": 1,
   "id": "8eec9d36",
   "metadata": {},
   "outputs": [],
   "source": [
    "from ngsolve import *\n",
    "from ngsolve.webgui import Draw\n",
    "mesh = Mesh(unit_cube.GenerateMesh(maxh=0.1))"
   ]
  },
  {
   "cell_type": "code",
   "execution_count": 2,
   "id": "df192f28",
   "metadata": {},
   "outputs": [],
   "source": [
    "n = specialcf.normal(3)\n",
    "\n",
    "def CurlTHcc2Hcd(E,dH):\n",
    "    return InnerProduct(curl(E).trans, dH)*dx \\\n",
    "       +InnerProduct(Cross(E*n, n), dH*n)*dx(element_boundary= True)\n",
    "def DivHcdHd(B,dv):\n",
    "    return div(B)*dv*dx - B*n*n * dv*n * dx(element_boundary= True)"
   ]
  },
  {
   "cell_type": "code",
   "execution_count": 3,
   "id": "bd2526fc",
   "metadata": {},
   "outputs": [],
   "source": [
    "order = 2\n",
    "\n",
    "fescc = HCurlCurl(mesh, order=order)\n",
    "fescd = HCurlDiv(mesh, order=order)\n",
    "fesd = HDiv(mesh, order=order, RT=True)\n",
    "\n",
    "E, dE = fescc.TnT()\n",
    "v, dv = fesd.TnT()\n",
    "B, dB = fescd.TnT()"
   ]
  },
  {
   "cell_type": "code",
   "execution_count": 4,
   "id": "f2eb4bab",
   "metadata": {},
   "outputs": [],
   "source": [
    "bfcurlT = BilinearForm(CurlTHcc2Hcd(E, dB)).Assemble()\n",
    "bfdiv = BilinearForm(DivHcdHd(B, dv)).Assemble()"
   ]
  },
  {
   "cell_type": "code",
   "execution_count": 5,
   "id": "e62371e3",
   "metadata": {},
   "outputs": [],
   "source": [
    "massE = BilinearForm(InnerProduct(E,dE)*dx, condense=True)\n",
    "preE = Preconditioner(massE, \"bddc\", block=True, blocktype=\"edgepatch\")\n",
    "massE.Assemble()\n",
    "matE = massE.mat\n",
    "# preE = matE.CreateBlockSmoother(fescc.CreateSmoothingBlocks(blocktype=\"edgepatch\", eliminate_internal=True), GS=False)\n",
    "\n",
    "massEinvSchur = CGSolver (matE, preE)\n",
    "ext = IdentityMatrix()+massE.harmonic_extension\n",
    "extT = IdentityMatrix()+massE.harmonic_extension_trans\n",
    "massEinv =  ext @ massEinvSchur @ extT + massE.inner_solve\n",
    "    "
   ]
  },
  {
   "cell_type": "code",
   "execution_count": 6,
   "id": "aef6d43f",
   "metadata": {},
   "outputs": [],
   "source": [
    "massB = BilinearForm(InnerProduct(B,dB)*dx, condense=True)\n",
    "preB = Preconditioner(massB, \"bddc\", block=True, blocktype=\"edgepatch\")\n",
    "massB.Assemble()\n",
    "matB = massB.mat    \n",
    "\n",
    "# preH = matH.CreateSmoother(fescd.FreeDofs(True), GS=False)\n",
    "\n",
    "massBinvSchur = CGSolver (matB, preB)\n",
    "ext = IdentityMatrix()+massB.harmonic_extension\n",
    "extT = IdentityMatrix()+massB.harmonic_extension_trans\n",
    "massBinv =  ext @ massBinvSchur @ extT + massB.inner_solve"
   ]
  },
  {
   "cell_type": "code",
   "execution_count": 7,
   "id": "4b69b4b7",
   "metadata": {},
   "outputs": [],
   "source": [
    "massv = BilinearForm(InnerProduct(v,dv)*dx, condense=True).Assemble()\n",
    "matv = massv.mat\n",
    "prev = matv.CreateSmoother(fesd.FreeDofs(True), GS=False)\n",
    "\n",
    "massvinvSchur = CGSolver (matv, prev)\n",
    "ext = IdentityMatrix()+massv.harmonic_extension\n",
    "extT = IdentityMatrix()+massv.harmonic_extension_trans\n",
    "massvinv =  ext @ massvinvSchur @ extT + massv.inner_solve\n",
    "\n",
    "#from ngsolve.la import EigenValues_Preconditioner\n",
    "#print (EigenValues_Preconditioner(matv, prev).NumPy())"
   ]
  },
  {
   "attachments": {},
   "cell_type": "markdown",
   "id": "255a43ee",
   "metadata": {},
   "source": [
    "exact inverses for testing:"
   ]
  },
  {
   "cell_type": "code",
   "execution_count": 8,
   "id": "0eba507a",
   "metadata": {},
   "outputs": [],
   "source": [
    "# massE = BilinearForm(InnerProduct(E,dE)*dx).Assemble()\n",
    "# massEinv = massE.mat.Inverse(inverse=\"sparsecholesky\")\n",
    "\n",
    "# massH = BilinearForm(InnerProduct(H,dH)*dx).Assemble()\n",
    "# massHinv = massH.mat.Inverse(inverse=\"sparsecholesky\")\n",
    "\n",
    "# massv = BilinearForm(InnerProduct(v,dv)*dx).Assemble()\n",
    "# massvinv = massv.mat.Inverse(inverse=\"sparsecholesky\")"
   ]
  },
  {
   "cell_type": "code",
   "execution_count": 8,
   "id": "d2018d02",
   "metadata": {},
   "outputs": [],
   "source": [
    "gfE = GridFunction(fescc)\n",
    "gfB = GridFunction(fescd)\n",
    "gfv = GridFunction(fesd)"
   ]
  },
  {
   "cell_type": "code",
   "execution_count": 9,
   "id": "d53b48e1",
   "metadata": {},
   "outputs": [],
   "source": [
    "# initial conditions ....\n",
    "gfB.vec[:] = 0.0\n",
    "gfE.vec[:] = 0.0\n",
    "gfv.vec[:] = 0.0\n",
    "\n",
    "#peak = exp(-((x-0.5)**2+(y-0.5)**2+(z-0.5)**2)/ 2 )\n",
    "#gfE.Set ( ((peak, 0,0), (0,0,0), (0,0,-peak) ))\n",
    "#gfB.Set ( ((0,0,-peak), (0,0,0), (-peak,0,0) ))"
   ]
  },
  {
   "cell_type": "code",
   "execution_count": 13,
   "id": "e4111178",
   "metadata": {},
   "outputs": [],
   "source": [
    "E00 = 0\n",
    "E01 = 16*sqrt(610)*z*(5*y**2 + 5*z**2 - 1)*exp(-10*x**2 - 10*y**2 - 10*z**2)/61\n",
    "E02 = 16*sqrt(610)*y*(-5*y**2 - 5*z**2 + 1)*exp(-10*x**2 - 10*y**2 - 10*z**2)/61\n",
    "E10 = 16*sqrt(610)*z*(5*y**2 + 5*z**2 - 1)*exp(-10*x**2 - 10*y**2 - 10*z**2)/61\n",
    "E11 = -160*sqrt(610)*x*y*z*exp(-10*x**2 - 10*y**2 - 10*z**2)/61\n",
    "E12 = 80*sqrt(610)*x*(y**2 - z**2)*exp(-10*x**2 - 10*y**2 - 10*z**2)/61\n",
    "E20 = 16*sqrt(610)*y*(-5*y**2 - 5*z**2 + 1)*exp(-10*x**2 - 10*y**2 - 10*z**2)/61\n",
    "E21 = 80*sqrt(610)*x*(y**2 - z**2)*exp(-10*x**2 - 10*y**2 - 10*z**2)/61\n",
    "E22 = 160*sqrt(610)*x*y*z*exp(-10*x**2 - 10*y**2 - 10*z**2)/61\n",
    "E = CoefficientFunction( (E00, E01, E02, E10, E11, E12, E20, E21, E22) , dims=(3,3) )\n",
    "\n",
    "gfE.Set ( E , bonus_intorder=2*order)"
   ]
  },
  {
   "cell_type": "code",
   "execution_count": 14,
   "id": "546e35f0",
   "metadata": {},
   "outputs": [
    {
     "name": "stdout",
     "output_type": "stream",
     "text": [
      "energyE = 0.1835, energyB = 1.2540, enegyv = 0.6712, energytrace = 0.0795, energySym = 0.0704\r"
     ]
    }
   ],
   "source": [
    "t = 0\n",
    "tend = 1\n",
    "dt = 0.01\n",
    "# tend = 5 * dt\n",
    "#scene = Draw(Norm(gfB), mesh, clipping={\"z\":-1})\n",
    "energyE = []\n",
    "energyB = []\n",
    "energyv = []\n",
    "energytrace = []\n",
    "energySym = []\n",
    "with TaskManager(): # pajetrace=10**8):\n",
    "    while t < tend:\n",
    "\n",
    "        \n",
    "        hv = bfcurlT.mat * gfE.vec + bfdiv.mat.T * gfv.vec\n",
    "        gfB.vec.data += dt * massBinv * hv\n",
    "        gfv.vec.data += -dt * massvinv@bfdiv.mat * gfB.vec\n",
    "        gfE.vec.data += -dt * massEinv@bfcurlT.mat.T * gfB.vec\n",
    "        #scene.Redraw()\n",
    "\n",
    "        energyE.append (Integrate ( Norm (gfE), mesh ))\n",
    "        energyB.append (Integrate ( Norm (gfB), mesh ))    \n",
    "        energyv.append (Integrate ( Norm (gfv), mesh ))\n",
    "        energytrace.append (Integrate ( Norm (Trace(gfE)), mesh ))\n",
    "        energySym.append (Integrate ( Norm (gfB-(gfB.trans)), mesh ))\n",
    "        t += dt\n",
    "\n",
    "    # print the firs 4 decimals of the energy\n",
    "        print (f\"energyE = {energyE[-1]:.4f}, energyB = {energyB[-1]:.4f}, enegyv = {energyv[-1]:.4f}, energytrace = {energytrace[-1]:.4f}, energySym = {energySym[-1]:.4f}\", end=\"\\r\")\n"
   ]
  },
  {
   "cell_type": "code",
   "execution_count": 16,
   "id": "6d4d8b12",
   "metadata": {},
   "outputs": [
    {
     "data": {
      "image/png": "[encoded data removed]",
      "text/plain": [
       "<Figure size 432x288 with 1 Axes>"
      ]
     },
     "metadata": {
      "needs_background": "light"
     },
     "output_type": "display_data"
    }
   ],
   "source": [
    "import matplotlib.pyplot as plt\n",
    "\n",
    "plt.plot (energyE)\n",
    "plt.plot (energyB)\n",
    "plt.plot (energyv)\n",
    "plt.plot (energytrace)\n",
    "plt.plot (energySym)\n",
    "plt.legend ([\"energyE\", \"energyB\", \"energytrace\", \"energySym\"])\n",
    "plt.show()"
   ]
  },
  {
   "cell_type": "code",
   "execution_count": null,
   "id": "41e7dd46",
   "metadata": {},
   "outputs": [],
   "source": []
  },
  {
   "cell_type": "code",
   "execution_count": null,
   "id": "a640f4b6",
   "metadata": {},
   "outputs": [],
   "source": []
  }
 ],
 "metadata": {
  "kernelspec": {
   "display_name": "Python 3 (ipykernel)",
   "language": "python",
   "name": "python3"
  },
  "language_info": {
   "codemirror_mode": {
    "name": "ipython",
    "version": 3
   },
   "file_extension": ".py",
   "mimetype": "text/x-python",
   "name": "python",
   "nbconvert_exporter": "python",
   "pygments_lexer": "ipython3",
   "version": "3.10.4"
  }
 },
 "nbformat": 4,
 "nbformat_minor": 5
}
