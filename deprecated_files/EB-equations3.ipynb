{
 "cells": [
  {
   "attachments": {},
   "cell_type": "markdown",
   "id": "626065ce",
   "metadata": {},
   "source": [
    "# Einstein-Bianchi equations\n",
    "\n",
    "using \n",
    "* hyperbolic evolution for the divergence constraint\n",
    "* iterative solvers for all three mass matrices\n",
    "\n",
    "\n",
    "$$\n",
    "\\frac{d}{dt} \\left( \\begin{array}{c} E \\\\ v \\\\ H \\end{array} \\right) = \n",
    "\\left( \\begin{array}{ccc} \n",
    " & & C^T \\\\\n",
    " & & D \\\\\n",
    " -C & -D^T & \n",
    "\\end{array} \\right)\n",
    "\\left( \\begin{array}{c} E \\\\ v \\\\ H \\end{array} \\right) \n",
    "$$"
   ]
  },
  {
   "cell_type": "code",
   "execution_count": 1,
   "id": "8eec9d36",
   "metadata": {},
   "outputs": [],
   "source": [
    "from ngsolve import *\n",
    "from ngsolve.webgui import Draw\n",
    "mesh = Mesh(unit_cube.GenerateMesh(maxh=0.1))"
   ]
  },
  {
   "cell_type": "code",
   "execution_count": 2,
   "id": "df192f28",
   "metadata": {},
   "outputs": [],
   "source": [
    "n = specialcf.normal(3)\n",
    "\n",
    "def CurlTHcc2Hcd(E,dH):\n",
    "    return InnerProduct(curl(E).trans, dH)*dx \\\n",
    "       +InnerProduct(Cross(E*n, n), dH*n)*dx(element_boundary= True)\n",
    "\n",
    "def DivHcdHd(H,dv):\n",
    "    return div(H)*dv*dx - H*n*n * dv*n * dx(element_boundary= True)"
   ]
  },
  {
   "cell_type": "code",
   "execution_count": 3,
   "id": "bd2526fc",
   "metadata": {},
   "outputs": [],
   "source": [
    "order = 2\n",
    "\n",
    "fescc = HCurlCurl(mesh, order=order)\n",
    "fescd = HCurlDiv(mesh, order=order)\n",
    "fesd = HDiv(mesh, order=order, RT=True)\n",
    "\n",
    "E, dE = fescc.TnT()\n",
    "v, dv = fesd.TnT()\n",
    "H, dH = fescd.TnT()"
   ]
  },
  {
   "cell_type": "code",
   "execution_count": 4,
   "id": "f2eb4bab",
   "metadata": {},
   "outputs": [],
   "source": [
    "bfcurlT = BilinearForm(CurlTHcc2Hcd(E, fescd.TestFunction())).Assemble()\n",
    "bfdiv = BilinearForm(DivHcdHd(H, dv)).Assemble()"
   ]
  },
  {
   "cell_type": "code",
   "execution_count": 15,
   "id": "e62371e3",
   "metadata": {},
   "outputs": [
    {
     "ename": "TypeError",
     "evalue": "object of type 'ngsolve.la.SparseMatrixdouble' has no len()",
     "output_type": "error",
     "traceback": [
      "\u001b[1;31m---------------------------------------------------------------------------\u001b[0m",
      "\u001b[1;31mTypeError\u001b[0m                                 Traceback (most recent call last)",
      "\u001b[1;32mc:\\Users\\User\\OneDrive\\Desktop\\project_ZENITH\\deprecated_files\\EB-equations3.ipynb Cell 6\u001b[0m in \u001b[0;36m<cell line: 1>\u001b[1;34m()\u001b[0m\n\u001b[0;32m     <a href='vscode-notebook-cell:/c%3A/Users/User/OneDrive/Desktop/project_ZENITH/deprecated_files/EB-equations3.ipynb#W5sZmlsZQ%3D%3D?line=10'>11</a>\u001b[0m     massE \u001b[39m=\u001b[39m BilinearForm(InnerProduct(E,dE)\u001b[39m*\u001b[39mdx)\u001b[39m.\u001b[39mAssemble()\n\u001b[0;32m     <a href='vscode-notebook-cell:/c%3A/Users/User/OneDrive/Desktop/project_ZENITH/deprecated_files/EB-equations3.ipynb#W5sZmlsZQ%3D%3D?line=11'>12</a>\u001b[0m     matE \u001b[39m=\u001b[39m massE\u001b[39m.\u001b[39mmat\n\u001b[1;32m---> <a href='vscode-notebook-cell:/c%3A/Users/User/OneDrive/Desktop/project_ZENITH/deprecated_files/EB-equations3.ipynb#W5sZmlsZQ%3D%3D?line=12'>13</a>\u001b[0m     preE \u001b[39m=\u001b[39m matE\u001b[39m.\u001b[39;49mCreateBlockSmoother(matE)\u001b[39m#fescc.CreateSmoothingBlocks(blocktype=\"edgepatch\"), GS=False)\u001b[39;00m\n\u001b[0;32m     <a href='vscode-notebook-cell:/c%3A/Users/User/OneDrive/Desktop/project_ZENITH/deprecated_files/EB-equations3.ipynb#W5sZmlsZQ%3D%3D?line=13'>14</a>\u001b[0m     massEinv \u001b[39m=\u001b[39m CGSolver (matE, preE)\n\u001b[0;32m     <a href='vscode-notebook-cell:/c%3A/Users/User/OneDrive/Desktop/project_ZENITH/deprecated_files/EB-equations3.ipynb#W5sZmlsZQ%3D%3D?line=15'>16</a>\u001b[0m \u001b[39mfrom\u001b[39;00m \u001b[39mngsolve\u001b[39;00m\u001b[39m.\u001b[39;00m\u001b[39mla\u001b[39;00m \u001b[39mimport\u001b[39;00m EigenValues_Preconditioner\n",
      "\u001b[1;31mTypeError\u001b[0m: object of type 'ngsolve.la.SparseMatrixdouble' has no len()"
     ]
    }
   ],
   "source": [
    "if False:   # condense\n",
    "    massE = BilinearForm(InnerProduct(E,dE)*dx, condense=True).Assemble()\n",
    "    matE = massE.mat\n",
    "    preE = matE.CreateBlockSmoother(fescc.CreateSmoothingBlocks(blocktype=\"edgepatch\", eliminate_internal=True), GS=False)\n",
    "\n",
    "    massEinvSchur = CGSolver (matE, preE)\n",
    "    ext = IdentityMatrix()+massE.harmonic_extension\n",
    "    extT = IdentityMatrix()+massE.harmonic_extension_trans\n",
    "    massEinv =  ext @ massEinvSchur @ extT + massE.inner_solve\n",
    "else:\n",
    "    massE = BilinearForm(InnerProduct(E,dE)*dx).Assemble()\n",
    "    matE = massE.mat\n",
    "    preE = matE.CreateBlockSmoother()#fescc.CreateSmoothingBlocks(blocktype=\"edgepatch\"), GS=False)\n",
    "    massEinv = CGSolver (matE, preE)\n",
    "    \n",
    "from ngsolve.la import EigenValues_Preconditioner\n",
    "print (EigenValues_Preconditioner(matE, preE).NumPy())"
   ]
  },
  {
   "cell_type": "code",
   "execution_count": 6,
   "id": "aef6d43f",
   "metadata": {},
   "outputs": [
    {
     "ename": "AttributeError",
     "evalue": "'ngsolve.comp.HCurlDiv' object has no attribute 'CreateSmoothingBlocks'",
     "output_type": "error",
     "traceback": [
      "\u001b[1;31m---------------------------------------------------------------------------\u001b[0m",
      "\u001b[1;31mAttributeError\u001b[0m                            Traceback (most recent call last)",
      "\u001b[1;32mc:\\Users\\User\\OneDrive\\Desktop\\project_ZENITH\\deprecated_files\\EB-equations3.ipynb Cell 7\u001b[0m in \u001b[0;36m<cell line: 1>\u001b[1;34m()\u001b[0m\n\u001b[0;32m      <a href='vscode-notebook-cell:/c%3A/Users/User/OneDrive/Desktop/project_ZENITH/deprecated_files/EB-equations3.ipynb#W6sZmlsZQ%3D%3D?line=1'>2</a>\u001b[0m massH \u001b[39m=\u001b[39m BilinearForm(InnerProduct(H,dH)\u001b[39m*\u001b[39mdx, condense\u001b[39m=\u001b[39m\u001b[39mTrue\u001b[39;00m)\u001b[39m.\u001b[39mAssemble()\n\u001b[0;32m      <a href='vscode-notebook-cell:/c%3A/Users/User/OneDrive/Desktop/project_ZENITH/deprecated_files/EB-equations3.ipynb#W6sZmlsZQ%3D%3D?line=2'>3</a>\u001b[0m matH \u001b[39m=\u001b[39m massH\u001b[39m.\u001b[39mmat\n\u001b[1;32m----> <a href='vscode-notebook-cell:/c%3A/Users/User/OneDrive/Desktop/project_ZENITH/deprecated_files/EB-equations3.ipynb#W6sZmlsZQ%3D%3D?line=3'>4</a>\u001b[0m preH \u001b[39m=\u001b[39m matH\u001b[39m.\u001b[39mCreateBlockSmoother(fescd\u001b[39m.\u001b[39;49mCreateSmoothingBlocks(blocktype\u001b[39m=\u001b[39m\u001b[39m\"\u001b[39m\u001b[39mfacepatch\u001b[39m\u001b[39m\"\u001b[39m, eliminate_internal\u001b[39m=\u001b[39m\u001b[39mTrue\u001b[39;00m), GS\u001b[39m=\u001b[39m\u001b[39mFalse\u001b[39;00m)\n\u001b[0;32m      <a href='vscode-notebook-cell:/c%3A/Users/User/OneDrive/Desktop/project_ZENITH/deprecated_files/EB-equations3.ipynb#W6sZmlsZQ%3D%3D?line=5'>6</a>\u001b[0m massHinvSchur \u001b[39m=\u001b[39m CGSolver (matH, preH)\n\u001b[0;32m      <a href='vscode-notebook-cell:/c%3A/Users/User/OneDrive/Desktop/project_ZENITH/deprecated_files/EB-equations3.ipynb#W6sZmlsZQ%3D%3D?line=6'>7</a>\u001b[0m ext \u001b[39m=\u001b[39m IdentityMatrix()\u001b[39m+\u001b[39mmassH\u001b[39m.\u001b[39mharmonic_extension\n",
      "\u001b[1;31mAttributeError\u001b[0m: 'ngsolve.comp.HCurlDiv' object has no attribute 'CreateSmoothingBlocks'"
     ]
    }
   ],
   "source": [
    "if False:   # condense\n",
    "    massH = BilinearForm(InnerProduct(H,dH)*dx, condense=True).Assemble()\n",
    "    matH = massH.mat\n",
    "    preH = matH.CreateBlockSmoother(fescd.CreateSmoothingBlocks(blocktype=\"facepatch\", eliminate_internal=True), GS=False)\n",
    "\n",
    "    massHinvSchur = CGSolver (matH, preH)\n",
    "    ext = IdentityMatrix()+massH.harmonic_extension\n",
    "    extT = IdentityMatrix()+massH.harmonic_extension_trans\n",
    "    massHinv =  ext @ massHinvSchur @ extT + massH.inner_solve\n",
    "else:\n",
    "    massH = BilinearForm(InnerProduct(H,dH)*dx).Assemble()\n",
    "    matH = massH.mat\n",
    "    preH = matH.CreateBlockSmoother(fescd.CreateSmoothingBlocks(blocktype=\"facepatch\"), GS=True)\n",
    "    massHinv = CGSolver (matH, preH)\n",
    "    \n",
    "from ngsolve.la import EigenValues_Preconditioner\n",
    "print (EigenValues_Preconditioner(matH, preH).NumPy())"
   ]
  },
  {
   "cell_type": "code",
   "execution_count": 7,
   "id": "4b69b4b7",
   "metadata": {},
   "outputs": [
    {
     "name": "stdout",
     "output_type": "stream",
     "text": [
      "[0.3257949  0.35666375 0.4001852  0.4546468  0.52096542 0.59632293\n",
      " 0.68327291 0.78066327 0.89053594 0.99887391 1.11918535 1.24094956\n",
      " 1.37073042 1.4994995  1.62861531 1.75784143 1.88864073 2.00437623\n",
      " 2.12983877 2.23229853 2.3351803  2.4268745  2.46962603 2.54886727\n",
      " 2.60785301]\n"
     ]
    }
   ],
   "source": [
    "massv = BilinearForm(InnerProduct(v,dv)*dx, condense=True).Assemble()\n",
    "matv = massv.mat\n",
    "prev = matv.CreateSmoother(fesd.FreeDofs(True), GS=False)\n",
    "\n",
    "massvinvSchur = CGSolver (matv, prev)\n",
    "ext = IdentityMatrix()+massv.harmonic_extension\n",
    "extT = IdentityMatrix()+massv.harmonic_extension_trans\n",
    "massvinv =  ext @ massvinvSchur @ extT + massv.inner_solve\n",
    "\n",
    "from ngsolve.la import EigenValues_Preconditioner\n",
    "print (EigenValues_Preconditioner(matv, prev).NumPy())"
   ]
  },
  {
   "attachments": {},
   "cell_type": "markdown",
   "id": "255a43ee",
   "metadata": {},
   "source": [
    "exact inverses for testing:"
   ]
  },
  {
   "cell_type": "code",
   "execution_count": 8,
   "id": "0eba507a",
   "metadata": {},
   "outputs": [],
   "source": [
    "# massE = BilinearForm(InnerProduct(E,dE)*dx).Assemble()\n",
    "# massEinv = massE.mat.Inverse(inverse=\"sparsecholesky\")\n",
    "\n",
    "# massH = BilinearForm(InnerProduct(H,dH)*dx).Assemble()\n",
    "# massHinv = massH.mat.Inverse(inverse=\"sparsecholesky\")\n",
    "\n",
    "# massv = BilinearForm(InnerProduct(v,dv)*dx).Assemble()\n",
    "# massvinv = massv.mat.Inverse(inverse=\"sparsecholesky\")"
   ]
  },
  {
   "cell_type": "code",
   "execution_count": 9,
   "id": "d2018d02",
   "metadata": {},
   "outputs": [],
   "source": [
    "gfE = GridFunction(fescc)\n",
    "gfH = GridFunction(fescd)\n",
    "gfv = GridFunction(fesd)"
   ]
  },
  {
   "cell_type": "code",
   "execution_count": 10,
   "id": "d53b48e1",
   "metadata": {},
   "outputs": [],
   "source": [
    "# initial conditions ....\n",
    "gfH.vec[:] = 0.0\n",
    "gfE.vec[:] = 0.0\n",
    "gfv.vec[:] = 0.0\n",
    "\n",
    "peak = exp(-((x-0.5)**2+(y-0.5)**2+(z-0.5)**2)/ 0.2**2 )\n",
    "gfE.Set ( ((peak, 0,0), (0,0,0), (0,0,-peak) ))"
   ]
  },
  {
   "cell_type": "code",
   "execution_count": 11,
   "id": "546e35f0",
   "metadata": {},
   "outputs": [
    {
     "data": {
      "application/vnd.jupyter.widget-view+json": {
       "model_id": "1b462c65ed914358a81d8248c7f799d5",
       "version_major": 2,
       "version_minor": 0
      },
      "text/plain": [
       "WebGuiWidget(value={'ngsolve_version': '6.2.2203', 'mesh_dim': 3, 'order2d': 2, 'order3d': 2, 'draw_vol': True…"
      ]
     },
     "metadata": {},
     "output_type": "display_data"
    },
    {
     "ename": "NameError",
     "evalue": "name 'massEinv' is not defined",
     "output_type": "error",
     "traceback": [
      "\u001b[1;31m---------------------------------------------------------------------------\u001b[0m",
      "\u001b[1;31mNameError\u001b[0m                                 Traceback (most recent call last)",
      "\u001b[1;32mc:\\Users\\User\\OneDrive\\Desktop\\project_ZENITH\\deprecated_files\\EB-equations3.ipynb Cell 13\u001b[0m in \u001b[0;36m<cell line: 8>\u001b[1;34m()\u001b[0m\n\u001b[0;32m      <a href='vscode-notebook-cell:/c%3A/Users/User/OneDrive/Desktop/project_ZENITH/deprecated_files/EB-equations3.ipynb#X15sZmlsZQ%3D%3D?line=7'>8</a>\u001b[0m \u001b[39mwith\u001b[39;00m TaskManager():  \u001b[39m#  pajetrace=10**8):\u001b[39;00m\n\u001b[0;32m      <a href='vscode-notebook-cell:/c%3A/Users/User/OneDrive/Desktop/project_ZENITH/deprecated_files/EB-equations3.ipynb#X15sZmlsZQ%3D%3D?line=8'>9</a>\u001b[0m     \u001b[39mwhile\u001b[39;00m t \u001b[39m<\u001b[39m tend:\n\u001b[1;32m---> <a href='vscode-notebook-cell:/c%3A/Users/User/OneDrive/Desktop/project_ZENITH/deprecated_files/EB-equations3.ipynb#X15sZmlsZQ%3D%3D?line=9'>10</a>\u001b[0m         gfE\u001b[39m.\u001b[39mvec\u001b[39m.\u001b[39mdata \u001b[39m+\u001b[39m\u001b[39m=\u001b[39m \u001b[39m-\u001b[39mdt \u001b[39m*\u001b[39m massEinv\u001b[39m@bfcurlT\u001b[39m\u001b[39m.\u001b[39mmat\u001b[39m.\u001b[39mT \u001b[39m*\u001b[39m gfH\u001b[39m.\u001b[39mvec\n\u001b[0;32m     <a href='vscode-notebook-cell:/c%3A/Users/User/OneDrive/Desktop/project_ZENITH/deprecated_files/EB-equations3.ipynb#X15sZmlsZQ%3D%3D?line=10'>11</a>\u001b[0m         gfv\u001b[39m.\u001b[39mvec\u001b[39m.\u001b[39mdata \u001b[39m+\u001b[39m\u001b[39m=\u001b[39m \u001b[39m-\u001b[39mdt \u001b[39m*\u001b[39m massvinv\u001b[39m@bfdiv\u001b[39m\u001b[39m.\u001b[39mmat \u001b[39m*\u001b[39m gfH\u001b[39m.\u001b[39mvec\n\u001b[0;32m     <a href='vscode-notebook-cell:/c%3A/Users/User/OneDrive/Desktop/project_ZENITH/deprecated_files/EB-equations3.ipynb#X15sZmlsZQ%3D%3D?line=12'>13</a>\u001b[0m         hv \u001b[39m=\u001b[39m bfcurlT\u001b[39m.\u001b[39mmat \u001b[39m*\u001b[39m gfE\u001b[39m.\u001b[39mvec \u001b[39m+\u001b[39m bfdiv\u001b[39m.\u001b[39mmat\u001b[39m.\u001b[39mT \u001b[39m*\u001b[39m gfv\u001b[39m.\u001b[39mvec\n",
      "\u001b[1;31mNameError\u001b[0m: name 'massEinv' is not defined"
     ]
    }
   ],
   "source": [
    "t = 0\n",
    "tend = 10\n",
    "dt = 5e-3\n",
    "# tend = 5 * dt\n",
    "scene = Draw(Norm(gfH), mesh)\n",
    "\n",
    "energytrace = []\n",
    "with TaskManager():  #  pajetrace=10**8):\n",
    "    while t < tend:\n",
    "        gfE.vec.data += -dt * massEinv@bfcurlT.mat.T * gfH.vec\n",
    "        gfv.vec.data += -dt * massvinv@bfdiv.mat * gfH.vec\n",
    "\n",
    "        hv = bfcurlT.mat * gfE.vec + bfdiv.mat.T * gfv.vec\n",
    "        gfH.vec.data += dt * massHinv * hv\n",
    "        scene.Redraw()\n",
    "    \n",
    "        energytrace.append (Integrate ( Norm (Trace(gfE)), mesh ))\n",
    "        t += dt\n"
   ]
  },
  {
   "cell_type": "code",
   "execution_count": 12,
   "id": "6d4d8b12",
   "metadata": {},
   "outputs": [
    {
     "data": {
      "text/plain": [
       "[<matplotlib.lines.Line2D at 0x2065cd97580>]"
      ]
     },
     "execution_count": 12,
     "metadata": {},
     "output_type": "execute_result"
    },
    {
     "data": {
      "image/png": "[encoded data removed]",
      "text/plain": [
       "<Figure size 432x288 with 1 Axes>"
      ]
     },
     "metadata": {
      "needs_background": "light"
     },
     "output_type": "display_data"
    }
   ],
   "source": [
    "import matplotlib.pyplot as plt\n",
    "plt.plot (energytrace)"
   ]
  },
  {
   "cell_type": "code",
   "execution_count": null,
   "id": "41e7dd46",
   "metadata": {},
   "outputs": [],
   "source": []
  }
 ],
 "metadata": {
  "kernelspec": {
   "display_name": "Python 3 (ipykernel)",
   "language": "python",
   "name": "python3"
  },
  "language_info": {
   "codemirror_mode": {
    "name": "ipython",
    "version": 3
   },
   "file_extension": ".py",
   "mimetype": "text/x-python",
   "name": "python",
   "nbconvert_exporter": "python",
   "pygments_lexer": "ipython3",
   "version": "3.10.4"
  }
 },
 "nbformat": 4,
 "nbformat_minor": 5
}
