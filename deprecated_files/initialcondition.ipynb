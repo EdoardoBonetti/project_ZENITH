{
 "cells": [
  {
   "cell_type": "code",
   "execution_count": 85,
   "metadata": {},
   "outputs": [],
   "source": [
    "import sympy as sp\n",
    "# import exponential function\n",
    "from sympy import E\n",
    "x, y, z = sp.symbols('x y z')\n",
    "a, b = sp.symbols('a b')\n",
    "#f, g, h = sp.symbols('f g h', cls=sp.Function)\n",
    "h = sp.symbols('h', cls=sp.Function)\n",
    "\n",
    "# create a symbolic matrix [ [0, 0, 0], [0, 0, 0 ] , [0, 0, 0]]\n",
    "\n",
    "def curl(v):\n",
    "    # return curl of a vector\n",
    "    return v[2].diff(y) - v[1].diff(z), v[0].diff(z) - v[2].diff(x), v[1].diff(x) - v[0].diff(y)\n",
    "def Curl(A):\n",
    "    # return curl of a matrix \n",
    "    return sp.Matrix([curl(A.row(0)), curl(A.row(1)), curl(A.row(2))])\n",
    "\n",
    "def Transpose(A):\n",
    "    # return transpose of a matrix\n",
    "    return sp.Matrix([A[0,0] , A[1,0] , A[2,0] , A[0,1] , A[1,1] , A[2,1] , A[0,2] , A[1,2] , A[2,2] ]).reshape(3,3)\n",
    "\n",
    "def div(v):\n",
    "    # return divergence of a vector\n",
    "    return v[0].diff(x) + v[1].diff(y) + v[2].diff(z)\n",
    "\n",
    "def Div(A):\n",
    "    # return divergence of a matrix\n",
    "    return div(A.row(0)) + div(A.row(1)) + div(A.row(2))\n",
    "def Sym(A):\n",
    "    # return symmetric part of a matrix\n",
    "    return 0.5*(A + Transpose(A))\n",
    "def Skew(A):\n",
    "    # return skew symmetric part of a matrix\n",
    "    return 0.5*(A - Transpose(A))\n",
    "\n",
    "def Trace(A):\n",
    "    # return trace of a matrix\n",
    "    return A[0, 0] + A[1, 1] + A[2, 2]\n",
    "\n",
    "\n",
    "\n",
    "# define f as derivative of h with respect to x\n",
    "f = sp.Derivative(h(x, y, z), z)\n",
    "# define g as derivative of h with respect to y\n",
    "g = -sp.Derivative(h(x, y, z), y)\n",
    "\n",
    "# define h a the gaussian function\n",
    "# h = E**((-(x-0.5)**2 - (y-0.5)**2 - (z-0.5)**2)*a)/b\n",
    "a = 10\n",
    "b = sp.sqrt(61*a**3)\n",
    "h = E**((-(x)**2 - (y)**2 - (z)**2)*a)/b\n",
    "#h = 1/(1 + x**2 + y**2 + z**2)\n",
    "f = sp.Derivative(h, z)\n",
    "g = -sp.Derivative(h, y)\n",
    "\n",
    "\n",
    "A = sp.Matrix([[0, f, g], [f, 0, 0], [g, 0, 0]])\n",
    "v = sp.Matrix([f, g, 0])"
   ]
  },
  {
   "cell_type": "code",
   "execution_count": 86,
   "metadata": {},
   "outputs": [
    {
     "name": "stdout",
     "output_type": "stream",
     "text": [
      "Matrix([[-sqrt(610)*(20*y**2 - 1)*exp(-10*x**2 - 10*y**2 - 10*z**2)/305 - sqrt(610)*(20*z**2 - 1)*exp(-10*x**2 - 10*y**2 - 10*z**2)/305, 4*sqrt(610)*x*y*exp(-10*x**2 - 10*y**2 - 10*z**2)/61, 4*sqrt(610)*x*z*exp(-10*x**2 - 10*y**2 - 10*z**2)/61], [0, sqrt(610)*(20*z**2 - 1)*exp(-10*x**2 - 10*y**2 - 10*z**2)/305, -4*sqrt(610)*y*z*exp(-10*x**2 - 10*y**2 - 10*z**2)/61], [0, -4*sqrt(610)*y*z*exp(-10*x**2 - 10*y**2 - 10*z**2)/61, sqrt(610)*(20*y**2 - 1)*exp(-10*x**2 - 10*y**2 - 10*z**2)/305]])\n"
     ]
    }
   ],
   "source": [
    "print(Curl(A))\n",
    "#print(curl(v))"
   ]
  },
  {
   "cell_type": "code",
   "execution_count": 87,
   "metadata": {},
   "outputs": [
    {
     "name": "stdout",
     "output_type": "stream",
     "text": [
      "Matrix([[-sqrt(610)*(20*y**2 - 1)*exp(-10*x**2 - 10*y**2 - 10*z**2)/305 - sqrt(610)*(20*z**2 - 1)*exp(-10*x**2 - 10*y**2 - 10*z**2)/305, 4*sqrt(610)*x*y*exp(-10*x**2 - 10*y**2 - 10*z**2)/61, 4*sqrt(610)*x*z*exp(-10*x**2 - 10*y**2 - 10*z**2)/61], [0, sqrt(610)*(20*z**2 - 1)*exp(-10*x**2 - 10*y**2 - 10*z**2)/305, -4*sqrt(610)*y*z*exp(-10*x**2 - 10*y**2 - 10*z**2)/61], [0, -4*sqrt(610)*y*z*exp(-10*x**2 - 10*y**2 - 10*z**2)/61, sqrt(610)*(20*y**2 - 1)*exp(-10*x**2 - 10*y**2 - 10*z**2)/305]])\n",
      "Matrix([[-sqrt(610)*(20*y**2 - 1)*exp(-10*x**2 - 10*y**2 - 10*z**2)/305 - sqrt(610)*(20*z**2 - 1)*exp(-10*x**2 - 10*y**2 - 10*z**2)/305, 0, 0], [4*sqrt(610)*x*y*exp(-10*x**2 - 10*y**2 - 10*z**2)/61, sqrt(610)*(20*z**2 - 1)*exp(-10*x**2 - 10*y**2 - 10*z**2)/305, -4*sqrt(610)*y*z*exp(-10*x**2 - 10*y**2 - 10*z**2)/61], [4*sqrt(610)*x*z*exp(-10*x**2 - 10*y**2 - 10*z**2)/61, -4*sqrt(610)*y*z*exp(-10*x**2 - 10*y**2 - 10*z**2)/61, sqrt(610)*(20*y**2 - 1)*exp(-10*x**2 - 10*y**2 - 10*z**2)/305]])\n",
      "Matrix([[0, 4*sqrt(610)*z*(20*y**2 - 1)*exp(-10*x**2 - 10*y**2 - 10*z**2)/61 + 4*sqrt(610)*z*(20*z**2 - 1)*exp(-10*x**2 - 10*y**2 - 10*z**2)/61 - 8*sqrt(610)*z*exp(-10*x**2 - 10*y**2 - 10*z**2)/61, -4*sqrt(610)*y*(20*y**2 - 1)*exp(-10*x**2 - 10*y**2 - 10*z**2)/61 - 4*sqrt(610)*y*(20*z**2 - 1)*exp(-10*x**2 - 10*y**2 - 10*z**2)/61 + 8*sqrt(610)*y*exp(-10*x**2 - 10*y**2 - 10*z**2)/61], [80*sqrt(610)*y**2*z*exp(-10*x**2 - 10*y**2 - 10*z**2)/61 + 4*sqrt(610)*z*(20*z**2 - 1)*exp(-10*x**2 - 10*y**2 - 10*z**2)/61 - 12*sqrt(610)*z*exp(-10*x**2 - 10*y**2 - 10*z**2)/61, -160*sqrt(610)*x*y*z*exp(-10*x**2 - 10*y**2 - 10*z**2)/61, 80*sqrt(610)*x*y**2*exp(-10*x**2 - 10*y**2 - 10*z**2)/61 - 4*sqrt(610)*x*(20*z**2 - 1)*exp(-10*x**2 - 10*y**2 - 10*z**2)/61 - 4*sqrt(610)*x*exp(-10*x**2 - 10*y**2 - 10*z**2)/61], [-80*sqrt(610)*y*z**2*exp(-10*x**2 - 10*y**2 - 10*z**2)/61 - 4*sqrt(610)*y*(20*y**2 - 1)*exp(-10*x**2 - 10*y**2 - 10*z**2)/61 + 12*sqrt(610)*y*exp(-10*x**2 - 10*y**2 - 10*z**2)/61, -80*sqrt(610)*x*z**2*exp(-10*x**2 - 10*y**2 - 10*z**2)/61 + 4*sqrt(610)*x*(20*y**2 - 1)*exp(-10*x**2 - 10*y**2 - 10*z**2)/61 + 4*sqrt(610)*x*exp(-10*x**2 - 10*y**2 - 10*z**2)/61, 160*sqrt(610)*x*y*z*exp(-10*x**2 - 10*y**2 - 10*z**2)/61]])\n"
     ]
    }
   ],
   "source": [
    "ca = Curl(A)\n",
    "print(ca)\n",
    "Tca = Transpose(ca)\n",
    "print(Tca)\n",
    "cTca = Curl(Tca)#.simplify()\n",
    "print(cTca)"
   ]
  },
  {
   "cell_type": "code",
   "execution_count": 88,
   "metadata": {},
   "outputs": [
    {
     "name": "stdout",
     "output_type": "stream",
     "text": [
      "0\n"
     ]
    }
   ],
   "source": [
    "print(Trace(cTca).simplify())"
   ]
  },
  {
   "cell_type": "code",
   "execution_count": 89,
   "metadata": {},
   "outputs": [
    {
     "name": "stdout",
     "output_type": "stream",
     "text": [
      "None\n"
     ]
    }
   ],
   "source": [
    "print(Skew(cTca).simplify())"
   ]
  },
  {
   "cell_type": "code",
   "execution_count": null,
   "metadata": {},
   "outputs": [],
   "source": []
  },
  {
   "cell_type": "code",
   "execution_count": 90,
   "metadata": {},
   "outputs": [
    {
     "name": "stdout",
     "output_type": "stream",
     "text": [
      "0\n",
      "16*sqrt(610)*z*(5*y**2 + 5*z**2 - 1)*exp(-10*x**2 - 10*y**2 - 10*z**2)/61\n",
      "16*sqrt(610)*y*(-5*y**2 - 5*z**2 + 1)*exp(-10*x**2 - 10*y**2 - 10*z**2)/61\n",
      "16*sqrt(610)*z*(5*y**2 + 5*z**2 - 1)*exp(-10*x**2 - 10*y**2 - 10*z**2)/61\n",
      "-160*sqrt(610)*x*y*z*exp(-10*x**2 - 10*y**2 - 10*z**2)/61\n",
      "80*sqrt(610)*x*(y**2 - z**2)*exp(-10*x**2 - 10*y**2 - 10*z**2)/61\n",
      "16*sqrt(610)*y*(-5*y**2 - 5*z**2 + 1)*exp(-10*x**2 - 10*y**2 - 10*z**2)/61\n",
      "80*sqrt(610)*x*(y**2 - z**2)*exp(-10*x**2 - 10*y**2 - 10*z**2)/61\n",
      "160*sqrt(610)*x*y*z*exp(-10*x**2 - 10*y**2 - 10*z**2)/61\n"
     ]
    }
   ],
   "source": [
    "# print each component of the matrix cTca\n",
    "print(cTca[0, 0].simplify())\n",
    "print(cTca[0, 1].simplify())\n",
    "print(cTca[0, 2].simplify())\n",
    "print(cTca[1, 0].simplify())\n",
    "print(cTca[1, 1].simplify())\n",
    "print(cTca[1, 2].simplify())\n",
    "print(cTca[2, 0].simplify())\n",
    "print(cTca[2, 1].simplify())\n",
    "print(cTca[2, 2].simplify())\n"
   ]
  },
  {
   "cell_type": "code",
   "execution_count": null,
   "metadata": {},
   "outputs": [],
   "source": []
  },
  {
   "cell_type": "code",
   "execution_count": 76,
   "metadata": {},
   "outputs": [
    {
     "name": "stdout",
     "output_type": "stream",
     "text": [
      "0\n",
      "0\n",
      "0\n"
     ]
    }
   ],
   "source": [
    "# print the components ij and ji of the matrix cTca\n",
    "print((cTca[0, 1] - cTca[1, 0]).simplify())\n",
    "print((cTca[0, 2] - cTca[2, 0]).simplify())\n",
    "print((cTca[1, 2] - cTca[2, 1]).simplify())\n"
   ]
  },
  {
   "cell_type": "code",
   "execution_count": null,
   "metadata": {},
   "outputs": [],
   "source": [
    "\n"
   ]
  },
  {
   "cell_type": "code",
   "execution_count": null,
   "metadata": {},
   "outputs": [],
   "source": []
  },
  {
   "cell_type": "code",
   "execution_count": 77,
   "metadata": {},
   "outputs": [],
   "source": [
    "# sum the sqaure of each component of the matrix cTca\n",
    "L = cTca[0, 0]**2 + cTca[0, 1]**2 + cTca[0, 2]**2 + cTca[1, 0]**2 + cTca[1, 1]**2 + cTca[1, 2]**2 + cTca[2, 0]**2 + cTca[2, 1]**2 + cTca[2, 2]**2"
   ]
  },
  {
   "cell_type": "code",
   "execution_count": 78,
   "metadata": {},
   "outputs": [
    {
     "name": "stdout",
     "output_type": "stream",
     "text": [
      "64*a*(8*a**2*x**2*y**2*z**2 + a**2*x**2*(-y**2 + z**2)**2 + a**2*x**2*(y**2 - z**2)**2 + 2*y**2*(a*y**2 + a*z**2 - 2)**2 + 2*z**2*(a*y**2 + a*z**2 - 2)**2)*exp(-2*a*(x**2 + y**2 + z**2))/61\n"
     ]
    }
   ],
   "source": [
    "print(L.simplify())"
   ]
  },
  {
   "cell_type": "code",
   "execution_count": 79,
   "metadata": {},
   "outputs": [],
   "source": [
    "# substitute x with 0\n",
    "L = L.subs(x, 0)\n"
   ]
  },
  {
   "cell_type": "code",
   "execution_count": 80,
   "metadata": {},
   "outputs": [
    {
     "name": "stdout",
     "output_type": "stream",
     "text": [
      "128*a*z**2*(a*z**2 - 2)**2*exp(-2*a*z**2)/61\n"
     ]
    }
   ],
   "source": [
    "# set the values of n at x = 0\n",
    "n = L.subs([(x, 0), (y, 0)])\n",
    "print(n.simplify())"
   ]
  },
  {
   "cell_type": "code",
   "execution_count": 81,
   "metadata": {},
   "outputs": [
    {
     "name": "stdout",
     "output_type": "stream",
     "text": [
      "128*a*y**2*(a*y**2 - 2)**2*exp(-2*a*y**2)/61\n"
     ]
    }
   ],
   "source": [
    "# substitute z with y\n",
    "n = n.subs(z, y)\n",
    "print(n.simplify())\n",
    "# derivative of n with respect to y\n",
    "dn = sp.Derivative(n, y)\n",
    "B = dn.simplify()"
   ]
  },
  {
   "cell_type": "code",
   "execution_count": 67,
   "metadata": {},
   "outputs": [
    {
     "name": "stdout",
     "output_type": "stream",
     "text": [
      "(-512*y**7 + 2816*y**5 - 4096*y**3 + 1024*y)*exp(-2*y**2)/61\n"
     ]
    }
   ],
   "source": [
    "print(B.simplify())"
   ]
  },
  {
   "cell_type": "code",
   "execution_count": 82,
   "metadata": {},
   "outputs": [
    {
     "name": "stdout",
     "output_type": "stream",
     "text": [
      "[0, -sqrt(2)*sqrt(1/a), sqrt(2)*sqrt(1/a), -sqrt(7/4 - sqrt(33)/4)*sqrt(1/a), sqrt(7/4 - sqrt(33)/4)*sqrt(1/a), -sqrt(sqrt(33)/4 + 7/4)*sqrt(1/a), sqrt(sqrt(33)/4 + 7/4)*sqrt(1/a)]\n"
     ]
    }
   ],
   "source": [
    "# solve -2*a**3*y**6 + 11*a**2*y**4 - 16*a*y**2 + 4 =0 for y\n",
    "\n",
    "print(sp.solve(B, y))"
   ]
  },
  {
   "cell_type": "code",
   "execution_count": 84,
   "metadata": {},
   "outputs": [
    {
     "name": "stdout",
     "output_type": "stream",
     "text": [
      "0\n",
      "0\n",
      "0\n",
      "8*(43 - 5*sqrt(33))*exp(-7/2 + sqrt(33)/2)/61\n",
      "8*(43 - 5*sqrt(33))*exp(-7/2 + sqrt(33)/2)/61\n",
      "8*(5*sqrt(33) + 43)*exp(-7/2 - sqrt(33)/2)/61\n",
      "8*(5*sqrt(33) + 43)*exp(-7/2 - sqrt(33)/2)/61\n"
     ]
    }
   ],
   "source": [
    "for sol in sp.solve(B, y):\n",
    "    print(n.subs(y, sol).simplify())\n"
   ]
  },
  {
   "cell_type": "code",
   "execution_count": 52,
   "metadata": {},
   "outputs": [
    {
     "data": {
      "text/latex": [
       "$\\displaystyle 60.9702351887031$"
      ],
      "text/plain": [
       "60.9702351887031"
      ]
     },
     "execution_count": 52,
     "metadata": {},
     "output_type": "execute_result"
    }
   ],
   "source": [
    "(10.3878998972776 - 1.20789533689274*33**0.5)*E**((33**0.5)/2)"
   ]
  },
  {
   "cell_type": "code",
   "execution_count": 54,
   "metadata": {},
   "outputs": [
    {
     "data": {
      "text/latex": [
       "$\\displaystyle 0.980168377399574$"
      ],
      "text/plain": [
       "0.980168377399574"
      ]
     },
     "execution_count": 54,
     "metadata": {},
     "output_type": "execute_result"
    }
   ],
   "source": [
    "(1.20789533689274*(33**0.5) + 10.3878998972776)*E**(-(33**0.5)/2)"
   ]
  },
  {
   "cell_type": "code",
   "execution_count": 69,
   "metadata": {},
   "outputs": [],
   "source": [
    "# convert in numbers [0, -sqrt(2), sqrt(2), -sqrt(7/4 - sqrt(33)/4), sqrt(7/4 - sqrt(33)/4), -sqrt(sqrt(33)/4 + 7/4), sqrt(sqrt(33)/4 + 7/4)]\n",
    "\n"
   ]
  },
  {
   "cell_type": "code",
   "execution_count": null,
   "metadata": {},
   "outputs": [],
   "source": []
  }
 ],
 "metadata": {
  "kernelspec": {
   "display_name": "Python 3",
   "language": "python",
   "name": "python3"
  },
  "language_info": {
   "codemirror_mode": {
    "name": "ipython",
    "version": 3
   },
   "file_extension": ".py",
   "mimetype": "text/x-python",
   "name": "python",
   "nbconvert_exporter": "python",
   "pygments_lexer": "ipython3",
   "version": "3.10.6"
  },
  "orig_nbformat": 4
 },
 "nbformat": 4,
 "nbformat_minor": 2
}
