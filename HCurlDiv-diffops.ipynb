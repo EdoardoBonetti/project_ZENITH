{
 "cells": [
  {
   "cell_type": "markdown",
   "id": "ad79a9c9",
   "metadata": {},
   "source": [
    "# Possible differential operators for HCurlDiv:\n",
    "\n",
    "For $H \\in Hcd$ we can apply:\n",
    "$$\n",
    "\\operatorname{div} H  \\qquad \\in H(d)^\\ast\n",
    "$$\n",
    "and\n",
    "$$\n",
    "\\operatorname{sym-curl} H^T \\qquad \\in H(cc)^\\ast\n",
    "$$\n"
   ]
  },
  {
   "cell_type": "code",
   "execution_count": 1,
   "id": "f4bd6823",
   "metadata": {},
   "outputs": [
    {
     "name": "stdout",
     "output_type": "stream",
     "text": [
      "importing NGSolve-6.2.2204\n"
     ]
    }
   ],
   "source": [
    "from ngsolve import *\n",
    "mesh = Mesh(unit_cube.GenerateMesh(maxh=0.2))"
   ]
  },
  {
   "cell_type": "code",
   "execution_count": 2,
   "id": "f4e6e6ad",
   "metadata": {},
   "outputs": [],
   "source": [
    "n = specialcf.normal(3)\n",
    "Cn = CF( (0, n[2], -n[1], -n[2], 0, n[0], n[1], -n[0], 0) , dims=(3,3) )\n",
    "Pn = OuterProduct(n,n)\n",
    "Qn = Id(3) - Pn     \n",
    "\n",
    "def CurlTHcc2HcdXXX(E,dH):\n",
    "    return InnerProduct(curl(E).trans, dH)*dx \\\n",
    "       -InnerProduct( (E*Cn).trans, Qn*dH*Pn)*dx(element_boundary= True)\n",
    "\n",
    "# shorter:\n",
    "def CurlTHcc2Hcd(E,dH):\n",
    "    return InnerProduct(curl(E).trans, dH)*dx \\\n",
    "       +InnerProduct(Cross(E*n, n), dH*n)*dx(element_boundary= True)\n",
    "\n",
    "def DivHcdHd(H,dv):\n",
    "    return div(H)*dv*dx - H*n*n * dv*n * dx(element_boundary= True)"
   ]
  },
  {
   "cell_type": "code",
   "execution_count": 3,
   "id": "f8e4c225",
   "metadata": {},
   "outputs": [],
   "source": [
    "order = 2\n",
    "fescc = HCurlCurl(mesh, order=order)\n",
    "\n",
    "fescd = HCurlDiv(mesh, order=order)\n",
    "fesd = HDiv(mesh, order=order)\n",
    "fescd_d = fescd*fesd\n",
    "\n",
    "E, dE = fescc.TnT()\n",
    "H, dH = fescd.TnT()\n",
    "v, dv = fesd.TnT()\n",
    "# (H,v), (dH, dv) = fescd_d.TnT()"
   ]
  },
  {
   "cell_type": "code",
   "execution_count": 4,
   "id": "c4cb89ec",
   "metadata": {},
   "outputs": [],
   "source": [
    "massE = BilinearForm(InnerProduct(E,dE)*dx).Assemble()\n",
    "massH = BilinearForm(InnerProduct(H,dH)*dx).Assemble()\n",
    "massv = BilinearForm(InnerProduct(v,dv)*dx).Assemble()\n",
    "\n",
    "bfcurlT = BilinearForm(CurlTHcc2Hcd(E, dH)).Assemble()\n",
    "bfdiv = BilinearForm(DivHcdHd(H, dv)).Assemble()"
   ]
  },
  {
   "cell_type": "code",
   "execution_count": 5,
   "id": "e5482962",
   "metadata": {},
   "outputs": [],
   "source": [
    "massEinv = massE.mat.Inverse(inverse=\"sparsecholesky\")\n",
    "massHinv = massH.mat.Inverse(inverse=\"sparsecholesky\")\n",
    "massvinv = massv.mat.Inverse(inverse=\"sparsecholesky\")"
   ]
  },
  {
   "cell_type": "markdown",
   "id": "fbb16ccd",
   "metadata": {},
   "source": [
    "# $T \\circ curl : H(cc) \\rightarrow H(cd)$ "
   ]
  },
  {
   "cell_type": "code",
   "execution_count": 6,
   "id": "5fe3481f",
   "metadata": {},
   "outputs": [],
   "source": [
    "gfE = GridFunction(fescc)\n",
    "gfH = GridFunction(fescd)\n",
    "\n",
    "gfE.Set ( ( (y,0,0), (0,0,0), (0,0,0)) )\n",
    "gfH.vec.data = massHinv@bfcurlT.mat * gfE.vec"
   ]
  },
  {
   "cell_type": "code",
   "execution_count": 7,
   "id": "cad910c6",
   "metadata": {},
   "outputs": [
    {
     "data": {
      "application/vnd.jupyter.widget-view+json": {
       "model_id": "b3ef0397351a47528ebbfb2016ff6b9c",
       "version_major": 2,
       "version_minor": 0
      },
      "text/plain": [
       "WebGuiWidget(layout=Layout(height='50vh', width='100%'), value={'gui_settings': {}, 'ngsolve_version': '6.2.22…"
      ]
     },
     "metadata": {},
     "output_type": "display_data"
    },
    {
     "data": {
      "application/vnd.jupyter.widget-view+json": {
       "model_id": "679998316d524f4f918bf048c840dbf8",
       "version_major": 2,
       "version_minor": 0
      },
      "text/plain": [
       "WebGuiWidget(layout=Layout(height='50vh', width='100%'), value={'gui_settings': {}, 'ngsolve_version': '6.2.22…"
      ]
     },
     "metadata": {},
     "output_type": "display_data"
    }
   ],
   "source": [
    "from ngsolve.webgui import Draw\n",
    "Draw (gfE[0,0], mesh)\n",
    "Draw (gfH[2,0], mesh);"
   ]
  },
  {
   "cell_type": "markdown",
   "id": "e7f4165c",
   "metadata": {},
   "source": [
    "# $sym \\circ curl \\circ T: H(cd) \\rightarrow H(cc)$ "
   ]
  },
  {
   "cell_type": "code",
   "execution_count": 8,
   "id": "4de5fdee",
   "metadata": {
    "scrolled": false
   },
   "outputs": [
    {
     "data": {
      "application/vnd.jupyter.widget-view+json": {
       "model_id": "3e6fffcb3c5d48d6b50951dbb8ef3730",
       "version_major": 2,
       "version_minor": 0
      },
      "text/plain": [
       "WebGuiWidget(layout=Layout(height='50vh', width='100%'), value={'gui_settings': {}, 'ngsolve_version': '6.2.22…"
      ]
     },
     "metadata": {},
     "output_type": "display_data"
    },
    {
     "data": {
      "application/vnd.jupyter.widget-view+json": {
       "model_id": "5395c2b4465e4ed4b06bf66f37669e4f",
       "version_major": 2,
       "version_minor": 0
      },
      "text/plain": [
       "WebGuiWidget(layout=Layout(height='50vh', width='100%'), value={'gui_settings': {}, 'ngsolve_version': '6.2.22…"
      ]
     },
     "metadata": {},
     "output_type": "display_data"
    },
    {
     "data": {
      "application/vnd.jupyter.widget-view+json": {
       "model_id": "c4d31d2d6d2140c7938d11ae44ea96b7",
       "version_major": 2,
       "version_minor": 0
      },
      "text/plain": [
       "WebGuiWidget(layout=Layout(height='50vh', width='100%'), value={'gui_settings': {}, 'ngsolve_version': '6.2.22…"
      ]
     },
     "metadata": {},
     "output_type": "display_data"
    }
   ],
   "source": [
    "gfH.Set ( ( (0,z,0), (0,0,0), (0,0,0)) )\n",
    "gfE.vec.data = massEinv@bfcurlT.mat.T * gfH.vec\n",
    "\n",
    "Draw (gfH[0,1], mesh)\n",
    "Draw (gfE[0,0], mesh, min=-2, max=2, clipping = True)\n",
    "Draw (gfE[1,1], mesh, min=-2, max=2, clipping = True);"
   ]
  },
  {
   "cell_type": "markdown",
   "id": "a8982b22",
   "metadata": {},
   "source": [
    "# $div : H(cd) \\rightarrow H(d)$"
   ]
  },
  {
   "cell_type": "code",
   "execution_count": 9,
   "id": "6af302d7",
   "metadata": {},
   "outputs": [],
   "source": [
    "gfH = GridFunction(fescd)\n",
    "gfv = GridFunction(fesd)\n",
    "gfH.Set ( ( (x*(1-x),0,0), (0,0,0), (0,0,0)) , dual = True)\n",
    "gfv.vec.data = massvinv@bfdiv.mat * gfH.vec"
   ]
  },
  {
   "cell_type": "code",
   "execution_count": 10,
   "id": "0ad7cb85",
   "metadata": {
    "scrolled": false
   },
   "outputs": [
    {
     "data": {
      "application/vnd.jupyter.widget-view+json": {
       "model_id": "2eb5ddd1994b42ccb520d8c9c15ce247",
       "version_major": 2,
       "version_minor": 0
      },
      "text/plain": [
       "WebGuiWidget(layout=Layout(height='50vh', width='100%'), value={'gui_settings': {}, 'ngsolve_version': '6.2.22…"
      ]
     },
     "metadata": {},
     "output_type": "display_data"
    },
    {
     "data": {
      "application/vnd.jupyter.widget-view+json": {
       "model_id": "fc122eecc04d40e69ae40a1b085cd24f",
       "version_major": 2,
       "version_minor": 0
      },
      "text/plain": [
       "WebGuiWidget(layout=Layout(height='50vh', width='100%'), value={'gui_settings': {}, 'ngsolve_version': '6.2.22…"
      ]
     },
     "metadata": {},
     "output_type": "display_data"
    },
    {
     "data": {
      "text/plain": [
       "BaseWebGuiScene"
      ]
     },
     "execution_count": 10,
     "metadata": {},
     "output_type": "execute_result"
    }
   ],
   "source": [
    "Draw (gfv[0], mesh, min=-2, max=2, clipping = True);\n",
    "\n",
    "Draw(gfH[0,0], mesh, min=-0.3, max=0.3, clipping = True)"
   ]
  },
  {
   "cell_type": "markdown",
   "id": "0b01a906",
   "metadata": {},
   "source": [
    "# $\\operatorname{dev} \\operatorname{grad} : H(d) \\rightarrow H(cd)$"
   ]
  },
  {
   "cell_type": "code",
   "execution_count": 11,
   "id": "46099008",
   "metadata": {},
   "outputs": [],
   "source": [
    "gfv.Set ( (x,0,0))\n",
    "gfH.vec.data = massHinv@bfdiv.mat.T * gfv.vec"
   ]
  },
  {
   "cell_type": "code",
   "execution_count": 12,
   "id": "b81f3096",
   "metadata": {},
   "outputs": [
    {
     "data": {
      "application/vnd.jupyter.widget-view+json": {
       "model_id": "687471d770b74e38996d456c74458e2a",
       "version_major": 2,
       "version_minor": 0
      },
      "text/plain": [
       "WebGuiWidget(layout=Layout(height='50vh', width='100%'), value={'gui_settings': {}, 'ngsolve_version': '6.2.22…"
      ]
     },
     "metadata": {},
     "output_type": "display_data"
    }
   ],
   "source": [
    "Draw (gfH[0,0], mesh, min=-1, max=0, clipping = True);"
   ]
  },
  {
   "cell_type": "code",
   "execution_count": null,
   "id": "c5f9eb41",
   "metadata": {},
   "outputs": [],
   "source": []
  },
  {
   "cell_type": "code",
   "execution_count": null,
   "id": "644ed338",
   "metadata": {},
   "outputs": [],
   "source": []
  }
 ],
 "metadata": {
  "kernelspec": {
   "display_name": "Python 3 (ipykernel)",
   "language": "python",
   "name": "python3"
  },
  "language_info": {
   "codemirror_mode": {
    "name": "ipython",
    "version": 3
   },
   "file_extension": ".py",
   "mimetype": "text/x-python",
   "name": "python",
   "nbconvert_exporter": "python",
   "pygments_lexer": "ipython3",
   "version": "3.10.6"
  }
 },
 "nbformat": 4,
 "nbformat_minor": 5
}
