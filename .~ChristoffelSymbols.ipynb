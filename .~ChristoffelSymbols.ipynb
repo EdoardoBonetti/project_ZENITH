{
 "cells": [
  {
   "cell_type": "markdown",
   "metadata": {},
   "source": [
    "# Christoffel Symbols\n",
    "The Christoffel symbols of the first kind are defined as\n",
    "$$\n",
    "\\Gamma_{ij|k} = \\frac{1}{2} \\left( \\frac{\\partial g_{kj}}{\\partial x^i} + \\frac{\\partial g_{ik}}{\\partial x^j} - \\frac{\\partial g_{ij}}{\\partial x^k} \\right)\n",
    "$$\n",
    "Vertical bar is to divide the sym part from the other part.\n"
   ]
  },
  {
   "cell_type": "code",
   "execution_count": null,
   "metadata": {},
   "outputs": [],
   "source": [
    "from ngsolve import *\n",
    "from zenith import * \n",
    "from ngsolve import *\n",
    "from netgen.csg import *\n",
    "import scipy.sparse as sp\n",
    "import matplotlib.pylab as plt\n",
    "\n",
    "\n",
    "\n",
    "# import netgen.webgui  \n",
    "# from ngsolve.webgui import Draw\n",
    "import netgen.gui\n",
    "%gui tk"
   ]
  },
  {
   "cell_type": "code",
   "execution_count": null,
   "metadata": {},
   "outputs": [],
   "source": [
    "# create an index function that maps a symmetric matrix 3 x 3 to a vector of length 6\n",
    "# the indices are mapped as follows: i<=j\n",
    "# 0 -> 0,0\n",
    "# 1 -> 0,1\n",
    "# 2 -> 0,2\n",
    "# 3 -> 1,1\n",
    "# 4 -> 1,2\n",
    "# 5 -> 2,2\n",
    "\n",
    "\n",
    "def Idx(i, j,k =0):\n",
    "    if i>j: i,j = j,i\n",
    "    return i*3+j-(i*(i+1))//2 + k*6\n",
    "\n",
    "\n",
    "# print the indices as 3 matrices \n",
    "for i in range(3):\n",
    "    for j in range(3):\n",
    "        print(Idx(i,j), end=\" \")\n",
    "    print() \n",
    "\n",
    "# print the indices as 3 matrices\n",
    "for i in range(3):\n",
    "    for j in range(3):\n",
    "        print(Idx(i,j,1), end=\" \")\n",
    "    print()\n",
    "\n",
    "# print the indices as 3 matrices\n",
    "for i in range(3):\n",
    "    for j in range(3):\n",
    "        print(Idx(i,j,2), end=\" \")\n",
    "    print()"
   ]
  },
  {
   "cell_type": "code",
   "execution_count": null,
   "metadata": {},
   "outputs": [],
   "source": [
    "# standard mesh\n",
    "with TaskManager():\n",
    "    # create a mesh\n",
    "    h = 0.2\n",
    "    r = 0.5\n",
    "    H = 0.4\n",
    "    R = 1\n",
    "    order = 3\n",
    "    kwargs = {\"bonus_intorder\": 10, \"inverse\": \"pardiso\", \"order\": order, \"mesh_order\": 1}\n",
    "\n",
    "    # BH1\n",
    "    pos1 =  (0,0,0)\n",
    "    lin1 = (0,0,0)\n",
    "    ang1 = (0,0,0)\n",
    "    mass1 =1\n",
    "    BH1 = BlackHole(mass1, pos1, lin1, ang1 )\n",
    "\n",
    "    ## BH2\n",
    "    #pos2 =  (-1,0,0)\n",
    "    #lin2 = (0,-1,0)\n",
    "    #ang2 = (0,0,1)\n",
    "    #mass2 =1\n",
    "    #BH2 = BlackHole(mass2, pos2, lin2, ang2 )\n",
    "\n",
    "    BHs = [BH1]##, BH2]\n",
    "\n",
    "    mesh = MeshBlackHoles(BHs, h=h, R=R, H = H, r= r,  curve_order = 3)\n",
    "\n",
    "Draw(mesh, clipping= {\"z\":-1})"
   ]
  },
  {
   "cell_type": "code",
   "execution_count": null,
   "metadata": {},
   "outputs": [],
   "source": [
    "scl_h1 = H1(mesh, order=order)#, dirichlet=\"outer\")\n",
    "mat_h1 = VectorValued(scl_h1, 6)\n",
    "tns_h1 = VectorValued(scl_h1, 18) # it is 6 x 3 \n",
    "\n",
    "scl, dscl = scl_h1.TnT()\n",
    "m, dm = mat_h1.TnT()\n",
    "t, dt = tns_h1.TnT()\n",
    "\n",
    "# define the evolution variables\n",
    "gf_g  = GridFunction(mat_h1)\n",
    "gf_G  = GridFunction(tns_h1)\n",
    "\n",
    "\n",
    "\n",
    "# set a positive inital condition all the variables\n",
    "def Peak(pnt = (0,0,0) ,**kwargs) : return exp(-kwargs.get(\"sigma\", 1)* ( (x-pnt[0])**2 + (y-pnt[1])**2 + (z-pnt[2])**2 ) )\n",
    "peak = Peak(sigma = 10)\n",
    "\n",
    "gf_g.Set( (1+ peak,0,0,1+ peak, 0 , 1+ peak)  , bonus_intorder = 10)\n",
    "Draw(gf_g , mesh, \"g\", clipping= {\"z\":-1})\n",
    "\n",
    "\n",
    "\n",
    "fes = gf_g.space * gf_G.space \n",
    "\n",
    "#gf_out = GridFunction(fes)\n",
    "gf_in = GridFunction(fes)\n",
    "\n",
    "# work only with components 0, 5\n",
    "gf_in.components[0].vec.data = gf_g.vec"
   ]
  },
  {
   "cell_type": "code",
   "execution_count": null,
   "metadata": {},
   "outputs": [],
   "source": [
    "\n"
   ]
  },
  {
   "cell_type": "code",
   "execution_count": null,
   "metadata": {},
   "outputs": [],
   "source": []
  },
  {
   "cell_type": "code",
   "execution_count": null,
   "metadata": {},
   "outputs": [],
   "source": [
    "\n"
   ]
  },
  {
   "cell_type": "code",
   "execution_count": null,
   "metadata": {},
   "outputs": [],
   "source": [
    "# use embedding to create inverse of whole matrix\n",
    "inverse = \"sparsecholesky\"\n",
    "\n",
    "with TaskManager():\n",
    "    ## g\n",
    "    mass_g = BilinearForm(mat_h1, symmetric=True)\n",
    "    mass_g += InnerProduct(m, dm)*dx\n",
    "    mass_g.Assemble()\n",
    "    mass_g_inv = mass_g.mat.Inverse(inverse=inverse)\n",
    "    res_g = fes.restrictions[0]\n",
    "    inv_g = res_g.T@mass_g_inv@res_g\n",
    "\n",
    "    ## G\n",
    "    mass_G = BilinearForm(tns_h1, symmetric=True)\n",
    "    mass_G += InnerProduct(t, dt)*dx\n",
    "    mass_G.Assemble()\n",
    "    mass_G_inv = mass_G.mat.Inverse(inverse=inverse)\n",
    "    res_G = fes.restrictions[1]\n",
    "    inv_G = res_G.T@mass_G_inv@res_G\n"
   ]
  },
  {
   "cell_type": "code",
   "execution_count": null,
   "metadata": {},
   "outputs": [],
   "source": [
    "\n",
    "# def CS1(g):\n",
    "#     gradg = grad(g)\n",
    "#     cs = 0.5*( fem.Einsum(\"ijk->ikj\", gradg) + fem.Einsum(\"ikj->jki\", gradg) - fem.Einsum(\"jik->ijk\", gradg) )\n",
    "#     return cs\n"
   ]
  },
  {
   "cell_type": "code",
   "execution_count": null,
   "metadata": {},
   "outputs": [],
   "source": [
    "\n",
    "# trial and test functions\n",
    "g,  G = fes.TrialFunction()\n",
    "dg, dG = fes.TestFunction()\n",
    "\n",
    "chris1 = CF( (  dG[0+6*0] , dG[1+6*0], dG[2+6*0], \n",
    "                dG[1+6*0] , dG[3+6*0], dG[4+6*0], \n",
    "                dG[2+6*0], dG[4+6*0], dG[5+6*0] ,\n",
    "                dG[0+6*1] , dG[1+6*1], dG[2+6*1],\n",
    "                dG[1+6*1] , dG[3+6*1], dG[4+6*1],\n",
    "                dG[2+6*1], dG[4+6*1], dG[5+6*1] ,\n",
    "                dG[0+6*2] , dG[1+6*2], dG[2+6*2],\n",
    "                dG[1+6*2] , dG[3+6*2], dG[4+6*2],\n",
    "                dG[2+6*2], dG[4+6*2], dG[5+6*2]\n",
    "              ), dims=(3,3,3) )\n",
    "              \n",
    "blf = BilinearForm(fes)\n",
    "gradg = grad(g)\n",
    "for i in [0,1,2]:\n",
    "    for j in [0,1,2]:\n",
    "        for k in [0,1,2]:\n",
    "            blf += 0.5*(InnerProduct(gradg[Idx(k,j),i],chris1[i,j,k]) + InnerProduct(gradg[Idx(k,i),j],chris1[i,j,k]) - InnerProduct(gradg[Idx(i,j),k],chris1[i,j,k]))*dx\n",
    "blf.Assemble()\n",
    "\n"
   ]
  },
  {
   "cell_type": "code",
   "execution_count": null,
   "metadata": {},
   "outputs": [],
   "source": [
    "A = sp.csr_matrix(blf.mat.CSR())\n",
    "plt.rcParams['figure.figsize'] = (10,10)\n",
    "plt.spy(A)\n",
    "plt.show()"
   ]
  },
  {
   "cell_type": "code",
   "execution_count": null,
   "metadata": {},
   "outputs": [],
   "source": [
    "inv_mass = inv_g +  inv_G \n"
   ]
  },
  {
   "cell_type": "code",
   "execution_count": null,
   "metadata": {
    "scrolled": false
   },
   "outputs": [],
   "source": [
    "gf_out = GridFunction(fes)\n",
    "\n",
    "with TaskManager():\n",
    "        \n",
    "    gf_out.vec.data = inv_mass @ blf.mat *gf_in.vec\n",
    "\n",
    "\n",
    "\n",
    "    \n"
   ]
  },
  {
   "cell_type": "code",
   "execution_count": null,
   "metadata": {
    "scrolled": false
   },
   "outputs": [],
   "source": [
    "Draw(gf_out.components[1], mesh, \"Gamma_out\",  clipping= {\"z\":-1})\n",
    "\n"
   ]
  },
  {
   "cell_type": "code",
   "execution_count": null,
   "metadata": {},
   "outputs": [],
   "source": [
    "True_g = CF((1+ peak,0,0,0,1+ peak, 0,0,0 , 1+ peak), dims=(3,3) )\n",
    "True_grad_g = CF((True_g.Diff(x), True_g.Diff(y), True_g.Diff(z)), dims=(3,3,3) )\n",
    "True_Gamma = 0.5*(fem.Einsum(\"ijk->ikj\", True_grad_g) + fem.Einsum(\"ijk->jki\", True_grad_g) - fem.Einsum(\"ijk->ijk\", True_grad_g))"
   ]
  },
  {
   "cell_type": "code",
   "execution_count": null,
   "metadata": {},
   "outputs": [],
   "source": [
    "for i in [0,1,2]:\n",
    "    for j in [0,1,2]:\n",
    "        for k in [0,1,2]:\n",
    "           Draw(True_Gamma[i,j,k], mesh, \"Gamma_\"+str(i)+str(j)+str(k) ,  clipping= {\"z\":-1})\n",
    "           input(str(i)+str(j)+str(k) )"
   ]
  },
  {
   "cell_type": "code",
   "execution_count": null,
   "metadata": {},
   "outputs": [],
   "source": [
    "\n",
    "#Draw(gf_out.components[1][] , mesh, \"Gamma_comp\",  clipping= {\"z\":-1})"
   ]
  },
  {
   "cell_type": "code",
   "execution_count": null,
   "metadata": {},
   "outputs": [],
   "source": [
    "i = 0\n",
    "j = 0\n",
    "k = 0\n",
    "\n",
    "Draw(gf_out.components[1][Idx(i,j,k)], mesh, \"Gamma\" ,  clipping= {\"z\":-1})\n"
   ]
  },
  {
   "cell_type": "code",
   "execution_count": null,
   "metadata": {},
   "outputs": [],
   "source": [
    "Draw(True_Gamma[i,j,k], mesh, \"Gamma\" ,  clipping= {\"z\":-1})\n"
   ]
  },
  {
   "cell_type": "code",
   "execution_count": null,
   "metadata": {},
   "outputs": [],
   "source": [
    "Draw(True_Gamma[i,j,k]-gf_out.components[1][Idx(i,j,k)], mesh, \"Gamma\" ,  clipping= {\"z\":-1})\n"
   ]
  },
  {
   "cell_type": "code",
   "execution_count": null,
   "metadata": {},
   "outputs": [],
   "source": [
    "tot =0.0\n",
    "for i in [0,1,2]:\n",
    "    for j in [0,1,2]:\n",
    "        for k in [0,1,2]:\n",
    "            tot += Integrate( Norm(True_Gamma[i,j,k]-gf_out.components[1][Idx(i,j,k)]) , mesh)\n",
    "\n"
   ]
  },
  {
   "cell_type": "code",
   "execution_count": null,
   "metadata": {},
   "outputs": [],
   "source": [
    "print(tot)"
   ]
  },
  {
   "cell_type": "code",
   "execution_count": null,
   "metadata": {},
   "outputs": [],
   "source": [
    "E000 = True_Gamma[0,0,0]-gf_out.components[1][Idx(0,0,0)]\n",
    "E001 = True_Gamma[0,0,1]-gf_out.components[1][Idx(0,0,1)]\n",
    "E002 = True_Gamma[0,0,2]-gf_out.components[1][Idx(0,0,2)]\n",
    "E010 = True_Gamma[0,1,0]-gf_out.components[1][Idx(0,1,0)]\n",
    "E011 = True_Gamma[0,1,1]-gf_out.components[1][Idx(0,1,1)]\n",
    "E012 = True_Gamma[0,1,2]-gf_out.components[1][Idx(0,1,2)]\n",
    "E020 = True_Gamma[0,2,0]-gf_out.components[1][Idx(0,2,0)]\n",
    "E021 = True_Gamma[0,2,1]-gf_out.components[1][Idx(0,2,1)]\n",
    "E022 = True_Gamma[0,2,2]-gf_out.components[1][Idx(0,2,2)]\n",
    "E100 = True_Gamma[1,0,0]-gf_out.components[1][Idx(1,0,0)]\n",
    "E101 = True_Gamma[1,0,1]-gf_out.components[1][Idx(1,0,1)]\n",
    "E102 = True_Gamma[1,0,2]-gf_out.components[1][Idx(1,0,2)]\n",
    "E110 = True_Gamma[1,1,0]-gf_out.components[1][Idx(1,1,0)]\n",
    "E111 = True_Gamma[1,1,1]-gf_out.components[1][Idx(1,1,1)]\n",
    "E112 = True_Gamma[1,1,2]-gf_out.components[1][Idx(1,1,2)]\n",
    "E120 = True_Gamma[1,2,0]-gf_out.components[1][Idx(1,2,0)]\n",
    "E121 = True_Gamma[1,2,1]-gf_out.components[1][Idx(1,2,1)]\n",
    "E122 = True_Gamma[1,2,2]-gf_out.components[1][Idx(1,2,2)]\n",
    "E200 = True_Gamma[2,0,0]-gf_out.components[1][Idx(2,0,0)]\n",
    "E201 = True_Gamma[2,0,1]-gf_out.components[1][Idx(2,0,1)]\n",
    "E202 = True_Gamma[2,0,2]-gf_out.components[1][Idx(2,0,2)]\n",
    "E210 = True_Gamma[2,1,0]-gf_out.components[1][Idx(2,1,0)]\n",
    "E211 = True_Gamma[2,1,1]-gf_out.components[1][Idx(2,1,1)]\n",
    "E212 = True_Gamma[2,1,2]-gf_out.components[1][Idx(2,1,2)]\n",
    "E220 = True_Gamma[2,2,0]-gf_out.components[1][Idx(2,2,0)]\n",
    "E221 = True_Gamma[2,2,1]-gf_out.components[1][Idx(2,2,1)]\n",
    "E222 = True_Gamma[2,2,2]-gf_out.components[1][Idx(2,2,2)]\n",
    "\n",
    "Error = CF((E000,E001,E002,E010,E011,E012,E020,E021,E022,E100,E101,E102,E110,E111,E112,E120,E121,E122,E200,E201,E202,E210,E211,E212,E220,E221,E222), dims=(3,3,3) )"
   ]
  },
  {
   "cell_type": "code",
   "execution_count": null,
   "metadata": {},
   "outputs": [],
   "source": [
    "Draw(Error, mesh, \"Error\" ,  clipping= {\"z\":-1})"
   ]
  },
  {
   "cell_type": "code",
   "execution_count": null,
   "metadata": {},
   "outputs": [],
   "source": []
  }
 ],
 "metadata": {
  "kernelspec": {
   "display_name": "Python 3",
   "language": "python",
   "name": "python3"
  },
  "language_info": {
   "codemirror_mode": {
    "name": "ipython",
    "version": 3
   },
   "file_extension": ".py",
   "mimetype": "text/x-python",
   "name": "python",
   "nbconvert_exporter": "python",
   "pygments_lexer": "ipython3",
   "version": "3.10.4"
  }
 },
 "nbformat": 4,
 "nbformat_minor": 2
}
