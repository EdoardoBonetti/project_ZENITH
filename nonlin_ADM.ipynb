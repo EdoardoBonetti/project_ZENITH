{
 "cells": [
  {
   "cell_type": "markdown",
   "metadata": {},
   "source": [
    "# Nonlinear ADM\n",
    "\n",
    "$$\n",
    "\\begin{align}\n",
    "\\partial_t \\gamma_{ij} &= -2 \\alpha K_{ij} + \\mathcal{L}_\\beta \\gamma_{ij} \\\\\n",
    "\\partial_t K_{ij} &= -D_i D_j \\alpha + \\alpha \\left( R_{ij} + K K_{ij} - 2 K_{ik} K^k_j \\right) + \\mathcal{L}_\\beta K_{ij} \\\\\n",
    "\\end{align}\n",
    "$$\n",
    "The ricci tensor is built upon the Christoffel symbol of the second kind\n",
    "$$\n",
    "\\Gamma^k_{ij} = \\frac{1}{2} \\gamma^{kl} \\left( \\partial_i \\gamma_{jl} + \\partial_j \\gamma_{il} - \\partial_l \\gamma_{ij} \\right)\n",
    "$$\n",
    "handled in the following way:\n",
    "$$\n",
    "\\begin{align}\n",
    "R_{ij} &= \\partial_k \\Gamma^k_{ij} - \\partial_j \\Gamma^k_{ik} + \\Gamma^k_{ij} \\Gamma^l_{kl} - \\Gamma^k_{il} \\Gamma^l_{jk} \\\\\n",
    "\\end{align}\n",
    "$$\n",
    "Now we create the four tensor:\n",
    "\n",
    "$$\n",
    "\\begin{align}\n",
    "\\partial_\\mu \\Gamma^\\nu_{ij} &= \\partial_\\mu \\left( \\frac{1}{2} \\gamma^{\\nu l} \\left( \\partial_i \\gamma_{jl} + \\partial_j \\gamma_{il} - \\partial_l \\gamma_{ij} \\right) \\right) \\\\\n",
    "&= \\frac{1}{2} \\left( \\partial_\\mu \\gamma^{\\nu l} \\left( \\partial_i \\gamma_{jl} + \\partial_j \\gamma_{il} - \\partial_l \\gamma_{ij} \\right) + \\gamma^{\\nu l} \\partial_\\mu \\left( \\partial_i \\gamma_{jl} + \\partial_j \\gamma_{il} - \\partial_l \\gamma_{ij} \\right) \\right) \\\\\n",
    "&= \\frac{1}{2} \\left( \\partial_\\mu \\gamma^{\\nu l} \\left( \\partial_i \\gamma_{jl} + \\partial_j \\gamma_{il} - \\partial_l \\gamma_{ij} \\right) + \\gamma^{\\nu l} \\left( \\partial_\\mu \\partial_i \\gamma_{jl} + \\partial_\\mu \\partial_j \\gamma_{il} - \\partial_\\mu \\partial_l \\gamma_{ij} \\right) \\right) \\\\\n",
    "&= \\frac{1}{2} \\left( \\partial_\\mu \\gamma^{\\nu l} \\left( \\partial_i \\gamma_{jl} + \\partial_j \\gamma_{il} - \\partial_l \\gamma_{ij} \\right) + \\gamma^{\\nu l} \\left( \\partial_i \\partial_\\mu \\gamma_{jl} + \\partial_j \\partial_\\mu \\gamma_{il} - \\partial_l \\partial_\\mu \\gamma_{ij} \\right) \\right) \\\\\n",
    "&= \\frac{1}{2} \\left(\\gamma^{\\nu n} \\partial_\\mu \\gamma_{n m} \\gamma^{m l} \\left( \\partial_i \\gamma_{jl} + \\partial_j \\gamma_{il} - \\partial_l \\gamma_{ij} \\right) + \\gamma^{\\nu l} \\left(\\gamma_{jl,i\\mu} +  \\gamma_{il,j\\mu} - \\gamma_{ij,l\\mu} \\right) \\right) \\\\\n",
    "&= \\left(\\gamma^{\\nu n} \\partial_\\mu \\gamma_{n m} \\Gamma^m_{ij} + \\frac{1}{2} \\gamma^{\\nu l} \\left(\\gamma_{jl,i\\mu} +  \\gamma_{il,j\\mu} - \\gamma_{ij,l\\mu} \\right) \\right) \\\\\n",
    "\\end{align}\n",
    "$$\n",
    "Therefore $\\partial_k \\Gamma^k_{ij} - \\partial_i \\Gamma^k_{jk}$ can be written as:\n",
    "$$\n",
    "\\begin{align}\n",
    "\\partial_k \\Gamma^k_{ij} - \\partial_i \\Gamma^k_{jk} \n",
    "&=\n",
    "\\left(\\gamma^{k n} \\partial_k \\gamma_{n m} \\Gamma^m_{ij} + \\frac{1}{2} \\gamma^{k n} \\left(\\gamma_{jn,ik} +  \\gamma_{in,jk} - \\gamma_{ij,nk} \\right) \\right)\n",
    "-\n",
    "\\left(\\gamma^{k n} \\partial_i \\gamma_{n m} \\Gamma^m_{jk} + \\frac{1}{2} \\gamma^{k n} \\left(\\gamma_{jn,ki} + \\gamma_{kn,ji} - \\gamma_{jk,ni} \\right) \\right)  \\\\\n",
    "&=\n",
    "\\gamma^{k n} \\left(\n",
    "\\partial_k \\gamma_{n m} \\Gamma^m_{ij} - \\partial_i \\gamma_{n m} \\Gamma^m_{jk} + \\frac{1}{2} \\left(\\gamma_{jn,ik} +  \\gamma_{in,jk} - \\gamma_{ij,nk} - \\gamma_{jn,ki} - \\gamma_{kn,ji} + \\gamma_{jk,ni} \\right)\n",
    "\\right) \\\\\n",
    "&=\n",
    "\\gamma^{k n} \\left(\n",
    "\\partial_k \\gamma_{n m} \\Gamma^m_{ij} - \\partial_i \\gamma_{n m} \\Gamma^m_{jk} + \\frac{1}{2} \\left( +  \\gamma_{in,jk} - \\gamma_{ij,nk}  - \\gamma_{kn,ji} + \\gamma_{jk,ni} \\right)\n",
    "\\right) \\\\\n",
    "\\end{align}\n",
    "$$\n"
   ]
  },
  {
   "cell_type": "code",
   "execution_count": 9,
   "metadata": {},
   "outputs": [],
   "source": [
    "from ngsolve import *\n",
    "from zenith import * \n",
    "from ngsolve import *\n",
    "from netgen.csg import *\n",
    "import scipy.sparse as sp\n",
    "import matplotlib.pylab as plt\n",
    "\n",
    "\n",
    "\n",
    "# import netgen.webgui  \n",
    "# from ngsolve.webgui import Draw\n",
    "import netgen.gui\n",
    "%gui tk"
   ]
  },
  {
   "cell_type": "code",
   "execution_count": 10,
   "metadata": {},
   "outputs": [],
   "source": [
    "# standard mesh\n",
    "with TaskManager():\n",
    "    # create a mesh\n",
    "    h = 0.3\n",
    "    r = 0.8\n",
    "    H = 1\n",
    "    R = 3\n",
    "    order = 2\n",
    "    kwargs = {\"bonus_intorder\": 10, \"inverse\": \"pardiso\", \"order\": order, \"mesh_order\": 1}\n",
    "\n",
    "    # BH1\n",
    "    pos1 =  (1,0,0)\n",
    "    lin1 = (0,1,0)\n",
    "    ang1 = (0,0,1)\n",
    "    mass1 =1\n",
    "    BH1 = BlackHole(mass1, pos1, lin1, ang1 )\n",
    "\n",
    "    # BH2\n",
    "    pos2 =  (-1,0,0)\n",
    "    lin2 = (0,-1,0)\n",
    "    ang2 = (0,0,1)\n",
    "    mass2 =1\n",
    "    BH2 = BlackHole(mass2, pos2, lin2, ang2 )\n",
    "\n",
    "    BHs = [BH1, BH2]\n",
    "\n",
    "    mesh = MeshBlackHoles(BHs, h=h, R=R, H = H, r= r,  curve_order = 2)\n",
    "\n",
    "#Draw(mesh, clipping= {\"z\":-1})"
   ]
  },
  {
   "cell_type": "code",
   "execution_count": 11,
   "metadata": {},
   "outputs": [],
   "source": [
    "scl_h1 = H1(mesh, order=order)#, dirichlet=\"outer\")\n",
    "vec_h1 = VectorValued(scl_h1, 3)\n",
    "mat_h1 = VectorValued(scl_h1, 9)\n",
    "\n",
    "scl, dscl = scl_h1.TnT()\n",
    "v, dv = vec_h1.TnT()\n",
    "m, dm = mat_h1.TnT()\n",
    "\n",
    "# define the evolution variables\n",
    "gf_g     = GridFunction(mat_h1)\n",
    "gf_K     = GridFunction(mat_h1)\n",
    "gf_alpha     = GridFunction(scl_h1)\n",
    "gf_beta     = GridFunction(vec_h1)\n",
    "\n",
    "#es = fem.Einsum(\",i->i\", gf_alpha, gf_beta)\n",
    "\n",
    "#print(es)"
   ]
  },
  {
   "cell_type": "code",
   "execution_count": 12,
   "metadata": {},
   "outputs": [],
   "source": [
    "fes = gf_g.space * gf_K.space * gf_alpha.space * gf_beta.space"
   ]
  },
  {
   "cell_type": "code",
   "execution_count": 13,
   "metadata": {},
   "outputs": [],
   "source": [
    "# set a positive inital condition all the variables\n",
    "with TaskManager():\n",
    "    def Peak(pnt = (0,0,0) ,**kwargs) : \n",
    "        return exp(-kwargs.get(\"sigma\", 1)* ( (x-pnt[0])**2 + (y-pnt[1])**2 + (z-pnt[2])**2 ) )\n",
    "    pnt1 = (-1, 0 ,0)\n",
    "    pnt2 = (1, 0 ,0)\n",
    "    pnt0 = (0, 0 ,0)\n",
    "    \n",
    "    peak1 = Peak(pnt = pnt1)\n",
    "    peak2 = Peak(pnt = pnt2)\n",
    "    peak0 = Peak(pnt = pnt0)\n",
    "    \n",
    "    bio = 10\n",
    "    \n",
    "    gf_g.Set( (peak0,0,0, 0,peak0, 0 , 0,0 , peak0 )  , bonus_intorder = bio)\n",
    "    gf_K.Set( (0,0,0, 0,0, 0 , 0,0 , 0 )  , bonus_intorder = bio)\n",
    "    gf_alpha.Set( CF((peak0))  , bonus_intorder = bio)\n",
    "    gf_beta.Set( CF((0,0,0))  , bonus_intorder = bio)\n",
    "    \n",
    "    \n",
    "    "
   ]
  },
  {
   "cell_type": "code",
   "execution_count": 14,
   "metadata": {},
   "outputs": [],
   "source": [
    "#gf_out = GridFunction(fes)\n",
    "gf = GridFunction(fes)\n",
    "\n",
    "# work only with components 0, 5\n",
    "gf.components[0].vec.data = gf_g.vec\n",
    "gf.components[1].vec.data = gf_K.vec\n",
    "gf.components[2].vec.data = gf_alpha.vec\n",
    "gf.components[3].vec.data = gf_beta.vec\n",
    "#Draw(Norm(gf.components[0]), mesh, \"g\",  clipping= {\"z\":-1})\n",
    "#Draw(Norm(gf.components[1]), mesh, \"chi\",  clipping= {\"z\":-1})\n",
    "#Draw(Norm(gf.components[2]), mesh, \"A\",  clipping= {\"z\":-1})\n",
    "#Draw(Norm(gf.components[3]), mesh, \"K\",  clipping= {\"z\":-1})\n",
    "#Draw(Norm(f.components[4]), mesh, \"G\",  clipping= {\"z\":-1})\n",
    "#Draw(Norm(gf.components[5]), mesh, \"alpha\",  clipping= {\"z\":-1})\n",
    "#Draw(Norm(gf.components[6]), mesh, \"beta\",  clipping= {\"z\":-1})\n",
    "#Draw(Norm(gf.components[7]), mesh, \"B\",  clipping= {\"z\":-1})\n",
    "# Draw(Norm(gf.components[8]), mesh, \"phi\")"
   ]
  },
  {
   "cell_type": "code",
   "execution_count": 15,
   "metadata": {},
   "outputs": [],
   "source": [
    "# use embedding to create inverse of whole matrix\n",
    "inverse = \"sparsecholesky\"\n",
    "\n",
    "with TaskManager():\n",
    "    ## g\n",
    "    mass_g = BilinearForm(mat_h1, symmetric=True)\n",
    "    mass_g += InnerProduct(m, dm)*dx\n",
    "    mass_g.Assemble()\n",
    "    mass_g_inv = mass_g.mat.Inverse(inverse=inverse)\n",
    "    res_g = fes.restrictions[0]\n",
    "    inv_g = res_g.T@mass_g_inv@res_g\n",
    "\n",
    "    ## K\n",
    "    mass_K = BilinearForm(mat_h1, symmetric=True)\n",
    "    mass_K += InnerProduct(m, dm)*dx\n",
    "    mass_K.Assemble()\n",
    "    mass_K_inv = mass_K.mat.Inverse(inverse=inverse)\n",
    "    res_K = fes.restrictions[1]\n",
    "    inv_K = res_K.T@mass_K_inv@res_K\n",
    "\n",
    "    ## alpha\n",
    "    mass_alpha = BilinearForm(scl_h1, symmetric=True)\n",
    "    mass_alpha += InnerProduct(scl, dscl)*dx\n",
    "    mass_alpha.Assemble()\n",
    "    mass_alpha_inv = mass_alpha.mat.Inverse(inverse=inverse)\n",
    "    res_alpha = fes.restrictions[2]\n",
    "    inv_alpha = res_alpha.T@mass_alpha_inv@res_alpha\n",
    "\n",
    "    ## beta\n",
    "    mass_beta = BilinearForm(vec_h1, symmetric=True)\n",
    "    mass_beta += InnerProduct(v, dv)*dx\n",
    "    mass_beta.Assemble()\n",
    "    mass_beta_inv = mass_beta.mat.Inverse(inverse=inverse)\n",
    "    res_beta = fes.restrictions[3]\n",
    "    inv_beta = res_beta.T@mass_beta_inv@res_beta\n",
    "\n",
    "    \n",
    "\n",
    "\n",
    "\n"
   ]
  },
  {
   "cell_type": "code",
   "execution_count": 16,
   "metadata": {},
   "outputs": [],
   "source": [
    "def Lie(gf_M, gf_b):\n",
    "    b = gf_b.Reshape((3,))\n",
    "    gb = grad(gf_b).Reshape((3,3))\n",
    "    M = gf_M.Reshape((3,3))\n",
    "    gM = grad(gf_M).Reshape((3,3,3))\n",
    "    \n",
    "    return fem.Einsum(\"ijl,l->ij\", gM, b) + fem.Einsum(\"kj,ki->ij\", M, gb) + fem.Einsum(\"ik,kj->ij\", M, gb)"
   ]
  },
  {
   "cell_type": "code",
   "execution_count": 17,
   "metadata": {},
   "outputs": [],
   "source": [
    "\n",
    "\n",
    "def Inv_met(u):\n",
    "    return Inv(u.Reshape((3,3)) )\n",
    "\n"
   ]
  },
  {
   "cell_type": "code",
   "execution_count": 18,
   "metadata": {},
   "outputs": [],
   "source": [
    "\n",
    "# define the christoffel symbols of the first kind\n",
    "def CS1(gf_g):\n",
    "    print( Grad(gf_g) )\n",
    "    gradg = Grad(gf_g).Reshape((3,3,3))\n",
    "    # Christoffel symbols of the first kind\n",
    "    # cs[i,j,k] = 1/2 * (gradg[i,k,j] + gradg[k,j,i]  -gradg[i,j,k]) )\n",
    "\n",
    "    cs = CF( \n",
    "        (\n",
    "        (1/2) * (gradg[0,0,0] + gradg[0,0,0] - gradg[0,0,0]),\n",
    "        (1/2) * (gradg[0,0,1] + gradg[0,1,0] - gradg[0,0,1]),\n",
    "        (1/2) * (gradg[0,0,2] + gradg[0,2,0] - gradg[0,0,2]),\n",
    "\n",
    "        (1/2) * (gradg[0,1,0] + gradg[1,0,0] - gradg[0,1,0]),\n",
    "        (1/2) * (gradg[0,1,1] + gradg[1,1,0] - gradg[0,1,1]),\n",
    "        (1/2) * (gradg[0,1,2] + gradg[1,2,0] - gradg[0,1,2]),\n",
    "\n",
    "        (1/2) * (gradg[0,2,0] + gradg[2,0,0] - gradg[0,2,0]),\n",
    "        (1/2) * (gradg[0,2,1] + gradg[2,1,0] - gradg[0,2,1]),\n",
    "        (1/2) * (gradg[0,2,2] + gradg[2,2,0] - gradg[0,2,2]),\n",
    "\n",
    "        (1/2) * (gradg[1,0,0] + gradg[0,0,1] - gradg[1,0,0]),\n",
    "        (1/2) * (gradg[1,0,1] + gradg[0,1,1] - gradg[1,0,1]),\n",
    "        (1/2) * (gradg[1,0,2] + gradg[0,2,1] - gradg[1,0,2]),\n",
    "\n",
    "        (1/2) * (gradg[1,1,0] + gradg[1,0,1] - gradg[1,1,0]),\n",
    "        (1/2) * (gradg[1,1,1] + gradg[1,1,1] - gradg[1,1,1]),\n",
    "        (1/2) * (gradg[1,1,2] + gradg[1,2,1] - gradg[1,1,2]),\n",
    "\n",
    "        (1/2) * (gradg[1,2,0] + gradg[2,0,1] - gradg[1,2,0]),\n",
    "        (1/2) * (gradg[1,2,1] + gradg[2,1,1] - gradg[1,2,1]),\n",
    "        (1/2) * (gradg[1,2,2] + gradg[2,2,1] - gradg[1,2,2]),\n",
    "\n",
    "        (1/2) * (gradg[2,0,0] + gradg[0,0,2] - gradg[2,0,0]),\n",
    "        (1/2) * (gradg[2,0,1] + gradg[0,1,2] - gradg[2,0,1]),\n",
    "        (1/2) * (gradg[2,0,2] + gradg[0,2,2] - gradg[2,0,2]),\n",
    "\n",
    "        (1/2) * (gradg[2,1,0] + gradg[1,0,2] - gradg[2,1,0]),\n",
    "        (1/2) * (gradg[2,1,1] + gradg[1,1,2] - gradg[2,1,1]),\n",
    "        (1/2) * (gradg[2,1,2] + gradg[1,2,2] - gradg[2,1,2]),\n",
    "\n",
    "        (1/2) * (gradg[2,2,0] + gradg[2,0,2] - gradg[2,2,0]),\n",
    "        (1/2) * (gradg[2,2,1] + gradg[2,1,2] - gradg[2,2,1]),\n",
    "        (1/2) * (gradg[2,2,2] + gradg[2,2,2] - gradg[2,2,2])\n",
    "    ), dims=(3,3,3) )    \n",
    "\n",
    "    cs1 = 0.5*( fem.Einsum(\"ijk->ikj\", gradg) + fem.Einsum(\"ijk->jki\", gradg) -fem.Einsum(\"ijk->ijk\", gradg) )\n",
    "    return cs1#.Reshape((3,3,3))\n",
    "    \n",
    "#cs1 = CS1(gf_g)\n",
    "#print(cs1)\n"
   ]
  },
  {
   "cell_type": "code",
   "execution_count": 19,
   "metadata": {},
   "outputs": [
    {
     "name": "stdout",
     "output_type": "stream",
     "text": [
      "coef class ngcomp::GridFunctionCoefficientFunction, real, dims = 9 x 3\n",
      "\n"
     ]
    }
   ],
   "source": [
    "\n",
    "def CS2(gf_g):\n",
    "    cs1 = CS1(gf_g)\n",
    "    ginv = Inv_met(gf_g).Reshape((3,3))\n",
    "    # Christoffel symbols of the second kind\n",
    "    # cs2[i,j,k] = cs1[i,j,l] * ginv[l,k]\n",
    "    cs2 = CF(\n",
    "        (\n",
    "        cs1[0,0,0] * ginv[0,0] + cs1[0,0,1] * ginv[1,0] + cs1[0,0,2] * ginv[2,0] ,\n",
    "        cs1[0,1,0] * ginv[0,0] + cs1[0,1,1] * ginv[1,0] + cs1[0,1,2] * ginv[2,0] ,\n",
    "        cs1[0,2,0] * ginv[0,0] + cs1[0,2,1] * ginv[1,0] + cs1[0,2,2] * ginv[2,0] ,\n",
    "\n",
    "        cs1[1,0,0] * ginv[0,0] + cs1[1,0,1] * ginv[1,0] + cs1[1,0,2] * ginv[2,0] ,\n",
    "        cs1[1,1,0] * ginv[0,0] + cs1[1,1,1] * ginv[1,0] + cs1[1,1,2] * ginv[2,0] ,\n",
    "        cs1[1,2,0] * ginv[0,0] + cs1[1,2,1] * ginv[1,0] + cs1[1,2,2] * ginv[2,0] ,\n",
    "\n",
    "        cs1[2,0,0] * ginv[0,0] + cs1[2,0,1] * ginv[1,0] + cs1[2,0,2] * ginv[2,0] ,\n",
    "        cs1[2,1,0] * ginv[0,0] + cs1[2,1,1] * ginv[1,0] + cs1[2,1,2] * ginv[2,0] ,\n",
    "        cs1[2,2,0] * ginv[0,0] + cs1[2,2,1] * ginv[1,0] + cs1[2,2,2] * ginv[2,0] ,\n",
    "\n",
    "        cs1[0,0,0] * ginv[0,1] + cs1[0,0,1] * ginv[1,1] + cs1[0,0,2] * ginv[2,1] ,\n",
    "        cs1[0,1,0] * ginv[0,1] + cs1[0,1,1] * ginv[1,1] + cs1[0,1,2] * ginv[2,1] ,\n",
    "        cs1[0,2,0] * ginv[0,1] + cs1[0,2,1] * ginv[1,1] + cs1[0,2,2] * ginv[2,1] ,\n",
    "\n",
    "        cs1[1,0,0] * ginv[0,1] + cs1[1,0,1] * ginv[1,1] + cs1[1,0,2] * ginv[2,1] ,\n",
    "        cs1[1,1,0] * ginv[0,1] + cs1[1,1,1] * ginv[1,1] + cs1[1,1,2] * ginv[2,1] ,\n",
    "        cs1[1,2,0] * ginv[0,1] + cs1[1,2,1] * ginv[1,1] + cs1[1,2,2] * ginv[2,1] ,\n",
    "\n",
    "        cs1[2,0,0] * ginv[0,1] + cs1[2,0,1] * ginv[1,1] + cs1[2,0,2] * ginv[2,1] ,\n",
    "        cs1[2,1,0] * ginv[0,1] + cs1[2,1,1] * ginv[1,1] + cs1[2,1,2] * ginv[2,1] ,\n",
    "        cs1[2,2,0] * ginv[0,1] + cs1[2,2,1] * ginv[1,1] + cs1[2,2,2] * ginv[2,1] ,\n",
    "\n",
    "        cs1[0,0,0] * ginv[0,2] + cs1[0,0,1] * ginv[1,2] + cs1[0,0,2] * ginv[2,2] ,\n",
    "        cs1[0,1,0] * ginv[0,2] + cs1[0,1,1] * ginv[1,2] + cs1[0,1,2] * ginv[2,2] ,\n",
    "        cs1[0,2,0] * ginv[0,2] + cs1[0,2,1] * ginv[1,2] + cs1[0,2,2] * ginv[2,2] ,\n",
    "\n",
    "        cs1[1,0,0] * ginv[0,2] + cs1[1,0,1] * ginv[1,2] + cs1[1,0,2] * ginv[2,2] ,\n",
    "        cs1[1,1,0] * ginv[0,2] + cs1[1,1,1] * ginv[1,2] + cs1[1,1,2] * ginv[2,2] ,\n",
    "        cs1[1,2,0] * ginv[0,2] + cs1[1,2,1] * ginv[1,2] + cs1[1,2,2] * ginv[2,2] ,\n",
    "\n",
    "        cs1[2,0,0] * ginv[0,2] + cs1[2,0,1] * ginv[1,2] + cs1[2,0,2] * ginv[2,2] ,\n",
    "        cs1[2,1,0] * ginv[0,2] + cs1[2,1,1] * ginv[1,2] + cs1[2,1,2] * ginv[2,2] ,\n",
    "        cs1[2,2,0] * ginv[0,2] + cs1[2,2,1] * ginv[1,2] + cs1[2,2,2] * ginv[2,2] \n",
    "\n",
    "        ),\n",
    "        dims=(3,3,3)\n",
    "    )\n",
    "\n",
    "    cs2n = fem.Einsum(\"ljk,il->ijk\", cs1,ginv)\n",
    "    return cs2n\n",
    "    \n",
    "\n",
    "cs2 = CS2(gf_g)\n"
   ]
  },
  {
   "cell_type": "markdown",
   "metadata": {},
   "source": [
    "$$\n",
    "\\begin{align}\n",
    "\\partial_k \\Gamma^k_{ij} - \\partial_i \\Gamma^k_{jk} \n",
    "&=\n",
    "\\gamma^{k n} \\left(\n",
    "\\partial_k \\gamma_{n m} \\Gamma^m_{ij} - \\partial_i \\gamma_{n m} \\Gamma^m_{jk} + \\frac{1}{2} \\left( +  \\gamma_{in,jk} - \\gamma_{ij,nk}  - \\gamma_{kn,ji} + \\gamma_{jk,ni} \\right)\n",
    "\\right) \\\\\n",
    "\\end{align}\n",
    "$$"
   ]
  },
  {
   "cell_type": "code",
   "execution_count": 20,
   "metadata": {},
   "outputs": [],
   "source": [
    "\n",
    "# def the Ricci tensor\n",
    "def Ric(gf_g):\n",
    "    cs2 = CS2(gf_g)\n",
    "    invg = Inv_met(gf_g).Reshape((3,3))\n",
    "    gradg = grad(gf_g).Reshape((3,3,3))\n",
    "    hessg = gf_g.Operator(\"hesse\").Reshape((3,3,3,3))\n",
    "    # the ricci tensor is made up by 2 parts, the first involves the derivative of the christoffel symbols\n",
    "    # the second involves the multiplication of the christoffel symbols. It is explained at the beginning of the code\n",
    "    \n",
    "    r1 = fem.Einsum(\"nmk,ijm->kij\", gradg, cs2) - fem.Einsum(\"nmi,jkm->kij\", gradg, cs2)\n",
    "    r2 = 0.5*(fem.Einsum(\"injk,kn->ij\", hessg, invg)  - fem.Einsum(\"ijnk,kn->ij\", hessg, invg) \\\n",
    "              - fem.Einsum(\"knji,kn->ij\", hessg, invg)  + fem.Einsum(\"jkni,kn->ij\", hessg, invg))\n",
    "    \n",
    "\n",
    "    return fem.Einsum(\"kij,kn->ij\",r1, invg) + r2 \n",
    "\n",
    "def Scal(gf_g):\n",
    "    Ricci = Ric(gf_g)\n",
    "    inv = Inv_met(gf_g)\n",
    "    return fem.Einsum(\"ij,ij\", Ricci, inv)\n",
    "    "
   ]
  },
  {
   "cell_type": "code",
   "execution_count": 21,
   "metadata": {},
   "outputs": [],
   "source": [
    "def Cov_Hess(gf_alpha, gf_g):\n",
    "    cs2 = CS2( gf_g)\n",
    "    return gf_alpha.Operator(\"hesse\") - cs2[0,:,:] * grad(gf_alpha)[0] - cs2[1,:,:] * grad(gf_alpha)[1] - cs2[2,:,:] * grad(gf_alpha)[2]\n",
    "\n",
    "def Cov_Div(gf_K, gf_g):\n",
    "    cs2 = CS2( gf_g)\n",
    "    diver = grad(gf_K)[:, 0, 0] + grad(gf_K)[:, 1, 1] + grad(gf_K)[:, 2, 2]\n",
    "    Gammacov = gf_K*cs2[0,0,:] + gf_K*cs2[1,1,:] + gf_K*cs2[2,2,:]\n",
    "    Gammacontr = - gf_K*cs2[0,0,:] - gf_K*cs2[1,1,:] - gf_K*cs2[2,2,:]\n",
    "    return diver + Gammacov + Gammacontr\n"
   ]
  },
  {
   "cell_type": "code",
   "execution_count": 22,
   "metadata": {},
   "outputs": [
    {
     "name": "stdout",
     "output_type": "stream",
     "text": [
      "['Grad', 'Gradboundary', 'hesse', 'hesseboundary', 'dual']\n",
      "coef class ngcomp::GridFunctionCoefficientFunction, real, dims = 9 x 3\n",
      "\n",
      "coef class ngcomp::GridFunctionCoefficientFunction, real, dims = 9 x 3\n",
      "\n"
     ]
    },
    {
     "data": {
      "text/plain": [
       "<ngsolve.comp.LinearForm at 0x27aff055430>"
      ]
     },
     "execution_count": 22,
     "metadata": {},
     "output_type": "execute_result"
    }
   ],
   "source": [
    "\n",
    "# trial and test functions\n",
    "g,  K, alpha, beta = fes.TrialFunction()\n",
    "dg,  dK,dalpha, dbeta = fes.TestFunction()\n",
    "\n",
    "print( alpha.Operators())\n",
    "\n",
    "def NonlinearForm(fes):\n",
    "    lf = LinearForm(fes)\n",
    "    lf += -2 * gf_alpha * InnerProduct(gf_K, dg) * dx + InnerProduct(Lie(gf_g, gf_beta), dg)*dx \n",
    "    lf +=  InnerProduct(Lie(gf_K, gf_beta), dK)*dx - InnerProduct( Cov_Hess(gf_alpha, gf_g), dK)*dx\n",
    "    lf +=  gf_alpha * InnerProduct( Ric(gf_g), dK)*dx \n",
    "    lf +=  gf_alpha * InnerProduct( gf_K, Inv_met(gf_g) ) * InnerProduct( gf_K, dK )*dx\n",
    "    lf +=  -2* gf_alpha * InnerProduct( gf_K.Reshape((3,3))*Inv_met(gf_g).Reshape((3,3))*gf_K.Reshape((3,3)) , dK.Reshape((3,3)) )*dx\n",
    "    return lf\n",
    "\n",
    "lf = NonlinearForm(fes)\n",
    "lf.Assemble()\n",
    "\n",
    "\n",
    "#blf.Apply(gf_in.vec, gf_out.vec)\n",
    "\n"
   ]
  },
  {
   "cell_type": "code",
   "execution_count": 23,
   "metadata": {},
   "outputs": [
    {
     "name": "stdout",
     "output_type": "stream",
     "text": [
      "coef trial-function diffop = grad, real, dims = 9 x 3\n",
      "\n",
      "coef trial-function diffop = grad, real, dims = 9 x 3\n",
      "\n"
     ]
    }
   ],
   "source": [
    "\n",
    "\n",
    "\n",
    "blf = BilinearForm(fes)\n",
    "blf += -2 * alpha * InnerProduct(K, dg) * dx + InnerProduct(Lie(g, beta), dg)*dx \n",
    "blf +=  InnerProduct(Lie(K, beta), dK)*dx - InnerProduct( Cov_Hess(alpha, g), dK)*dx\n",
    "blf +=  gf_alpha * InnerProduct( Ric(g), dK)*dx \n",
    "blf +=  gf_alpha * InnerProduct( K, Inv_met(g) ) * InnerProduct( K, dK )*dx\n",
    "blf +=  -2* gf_alpha * InnerProduct( K.Reshape((3,3))*Inv_met(g).Reshape((3,3))*K.Reshape((3,3)) , dK.Reshape((3,3)) )*dx\n",
    "    \n",
    "\n"
   ]
  },
  {
   "cell_type": "code",
   "execution_count": 24,
   "metadata": {},
   "outputs": [],
   "source": [
    "#A = sp.csr_matrix(blf.mat.CSR())\n",
    "#plt.rcParams['figure.figsize'] = (10,10)\n",
    "#plt.spy(A)\n",
    "#plt.show()"
   ]
  },
  {
   "cell_type": "code",
   "execution_count": null,
   "metadata": {},
   "outputs": [],
   "source": [
    "\n"
   ]
  },
  {
   "cell_type": "code",
   "execution_count": 25,
   "metadata": {},
   "outputs": [],
   "source": [
    "inv_mass = inv_g +  inv_K +  inv_alpha + inv_beta \n",
    "\n",
    "\n",
    "\n"
   ]
  },
  {
   "cell_type": "code",
   "execution_count": 27,
   "metadata": {
    "scrolled": false
   },
   "outputs": [
    {
     "name": "stdout",
     "output_type": "stream",
     "text": [
      "t= 99\r"
     ]
    }
   ],
   "source": [
    "dt = 0.001\n",
    "t = 0\n",
    "tend = 1\n",
    "Draw(Norm(gf.components[0]), mesh, \"g\",  clipping= {\"z\":-1})\n",
    "#scene2 = Draw(Norm(gf.components[1]), mesh, \"chi\",  clipping= {\"z\":-1})\n",
    "#scene3 = Draw(Norm(gf.components[2]), mesh, \"A\",  clipping= {\"z\":-1})\n",
    "#scene4 = Draw(Norm(gf.components[3]), mesh, \"K\",  clipping= {\"z\":-1})\n",
    "#scene5 = Draw(Norm(gf.components[4]), mesh, \"G\",  clipping= {\"z\":-1})\n",
    "#scene6 = Draw(Norm(gf.components[5]), mesh, \"alpha\",  clipping= {\"z\":-1})\n",
    "#scene7 = Draw(Norm(gf.components[6]), mesh, \"beta\",  clipping= {\"z\":-1})\n",
    "#scene8 = Draw(Norm(gf.components[7]), mesh, \"B\",  clipping= {\"z\":-1})\n",
    "\n",
    "input(\"start\")\n",
    "blf.Assemble()\n",
    "with TaskManager():\n",
    "    while t < tend:\n",
    "        \n",
    "        print(\"t=\",int(t/tend * 100),end=\"\\r\")\n",
    "        \n",
    "        gf.vec.data += dt*inv_mass @blf.mat *gf.vec\n",
    "        #gf.vec.data += dt*inv_mass *lf.vec\n",
    "        t += dt\n",
    "        #Draw(Norm(gf.components[0]), mesh, \"g\",  clipping= {\"z\":-1})\n",
    "        Draw(Norm(gf.components[1]), mesh, \"chi\",  clipping= {\"z\":-1})\n",
    "        #scene2.Redraw()\n",
    "        #scene3.Redraw()\n",
    "        #scene4.Redraw()\n",
    "        #scene5.Redraw()\n",
    "        #scene6.Redraw()\n",
    "        #scene7.Redraw()\n",
    "        #scene8.Redraw()\n",
    "\n",
    "\n",
    "    \n"
   ]
  },
  {
   "cell_type": "code",
   "execution_count": null,
   "metadata": {
    "scrolled": false
   },
   "outputs": [],
   "source": [
    "Draw(Norm(gf.components[0]), mesh, \"g\",  clipping= {\"z\":-1})\n",
    "Draw(Norm(gf.components[1]), mesh, \"K\",  clipping= {\"z\":-1})\n",
    "Draw(Norm(gf.components[2]), mesh, \"alpha\",  clipping= {\"z\":-1})\n",
    "Draw(Norm(gf.components[3]), mesh, \"beta\",  clipping= {\"z\":-1})\n"
   ]
  },
  {
   "cell_type": "code",
   "execution_count": null,
   "metadata": {},
   "outputs": [],
   "source": []
  },
  {
   "cell_type": "code",
   "execution_count": null,
   "metadata": {},
   "outputs": [],
   "source": []
  }
 ],
 "metadata": {
  "kernelspec": {
   "display_name": "Python 3",
   "language": "python",
   "name": "python3"
  },
  "language_info": {
   "codemirror_mode": {
    "name": "ipython",
    "version": 3
   },
   "file_extension": ".py",
   "mimetype": "text/x-python",
   "name": "python",
   "nbconvert_exporter": "python",
   "pygments_lexer": "ipython3",
   "version": "3.10.4"
  }
 },
 "nbformat": 4,
 "nbformat_minor": 2
}
