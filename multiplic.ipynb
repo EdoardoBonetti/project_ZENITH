{
 "cells": [
  {
   "cell_type": "markdown",
   "metadata": {},
   "source": [
    "# BSSN-puncture camppanelly et al. 2008\n",
    "\n",
    "Substitute $\\chi := \\text{exp}(-4\\phi)$ to the classic BSSN method\n",
    "\n",
    "\n",
    "$$\n",
    "\\begin{align}\n",
    "{\\color{red}\\partial_t \\tilde\\gamma_{ij} =}& -2 \\alpha \\tilde A_{ij} + \\mathcal{L}_{\\beta}\\tilde \\gamma_{ij} \n",
    "\\\\\n",
    "\\partial_t \\chi =& \\frac{2}{3}\\chi( \\alpha K - \\partial_a \\beta^a) + \\beta^i\\partial_i \\chi \n",
    "\\\\\n",
    "\\partial_0 \\tilde A_{ij} =&\\mathcal{L}_{\\beta}A_{ij} + \\chi \\bigg[ -D_i D_j \\alpha + \\alpha R_{ij}\\bigg]^{TF}+ \\alpha \\bigg[ K\\tilde A_{ij } - 2 \\tilde A_{il} \\tilde A^l_j \\bigg] \n",
    "\\\\\n",
    "\\partial_0 K =& -D^i D_i \\alpha + \\alpha \\bigg[ \\tilde A_{ij} \\tilde A^{ij} + \\frac{1}{3} K^2 \\bigg] \n",
    "\\\\\n",
    "\\partial_t \\tilde\\Gamma^i =& \\tilde \\gamma^{jk} \\bigg[ \\frac{2}{3} \\partial_j \\partial_k \\beta^i - 2 \\partial_j \\beta^l \\Gamma^i_{kl} + \\beta^l \\partial_l \\Gamma^i_{jk} \\bigg] + \\frac{1}{3} \\tilde \\gamma^{ik} \\partial_j \\partial_k \\beta^i \n",
    "+ \\frac{1}{3}  \\tilde \\gamma^{ij} \\partial_j \\partial_k \\beta^k \n",
    "+ \\beta^j \\partial_j \\tilde \\Gamma^i \n",
    "- \\tilde \\Gamma^i \\partial_j \\beta^j \n",
    "\\end{align}\n",
    "$$\n",
    "with \n",
    "$\\partial_0 := \\partial_t - \\mathcal{L}_\\beta$,\n"
   ]
  },
  {
   "cell_type": "code",
   "execution_count": 85,
   "metadata": {},
   "outputs": [],
   "source": [
    "from ngsolve import *\n",
    "from zenith import * \n",
    "from ngsolve import *\n",
    "from netgen.csg import *\n",
    "import scipy.sparse as sp\n",
    "import matplotlib.pylab as plt\n",
    "\n",
    "\n",
    "\n",
    "import netgen.webgui  \n",
    "from ngsolve.webgui import Draw\n",
    "#import netgen.gui\n",
    "#%gui tk"
   ]
  },
  {
   "cell_type": "code",
   "execution_count": 86,
   "metadata": {},
   "outputs": [],
   "source": [
    "# standard mesh\n",
    "with TaskManager():\n",
    "    # create a mesh\n",
    "    h = 0.3\n",
    "    r = 0.8\n",
    "    H = 1\n",
    "    R = 3\n",
    "    order = 2\n",
    "    kwargs = {\"bonus_intorder\": 10, \"inverse\": \"pardiso\", \"order\": order, \"mesh_order\": 1}\n",
    "\n",
    "    # BH1\n",
    "    pos1 =  (1,0,0)\n",
    "    lin1 = (0,1,0)\n",
    "    ang1 = (0,0,1)\n",
    "    mass1 =1\n",
    "    BH1 = BlackHole(mass1, pos1, lin1, ang1 )\n",
    "\n",
    "    # BH2\n",
    "    pos2 =  (-1,0,0)\n",
    "    lin2 = (0,-1,0)\n",
    "    ang2 = (0,0,1)\n",
    "    mass2 =1\n",
    "    BH2 = BlackHole(mass2, pos2, lin2, ang2 )\n",
    "\n",
    "    BHs = [BH1, BH2]\n",
    "\n",
    "    mesh = MeshBlackHoles(BHs, h=h, R=R, H = H, r= r,  curve_order = 2)\n",
    "\n",
    "#Draw(mesh, clipping= {\"z\":-1})"
   ]
  },
  {
   "cell_type": "code",
   "execution_count": 87,
   "metadata": {},
   "outputs": [],
   "source": [
    "scl_h1 = H1(mesh, order=order)#, dirichlet=\"outer\")\n",
    "vec_h1 = VectorValued(scl_h1, 3)\n",
    "mat_h1 = VectorValued(scl_h1, 9)\n",
    "\n",
    "s, ds = scl_h1.TnT()\n",
    "v, dv = vec_h1.TnT()\n",
    "m, dm = mat_h1.TnT()\n",
    "\n",
    "gf_g     = GridFunction(mat_h1)\n",
    "gf_chi   = GridFunction(scl_h1)\n",
    "gf_A     = GridFunction(mat_h1)\n",
    "gf_K     = GridFunction(scl_h1)\n",
    "gf_G     = GridFunction(vec_h1)\n",
    "gf_alpha = GridFunction(scl_h1)\n",
    "gf_beta  = GridFunction(vec_h1)\n",
    "gf_B     = GridFunction(vec_h1)\n",
    "gf_phi   = GridFunction(scl_h1)"
   ]
  },
  {
   "cell_type": "code",
   "execution_count": 88,
   "metadata": {},
   "outputs": [],
   "source": [
    "fes = gf_g.space * gf_chi.space * gf_A.space * gf_K.space * gf_G.space * gf_alpha.space * gf_beta.space * gf_B.space * gf_phi.space"
   ]
  },
  {
   "cell_type": "code",
   "execution_count": 89,
   "metadata": {},
   "outputs": [],
   "source": [
    "# set a positive inital condition all the variables\n",
    "with TaskManager():\n",
    "    def Peak(pnt = (0,0,0) ,**kwargs) : \n",
    "        return exp(-kwargs.get(\"sigma\", 1)* ( (x-pnt[0])**2 + (y-pnt[1])**2 + (z-pnt[2])**2 ) )\n",
    "    pnt1 = (-1, 0 ,0)\n",
    "    pnt2 = (1, 0 ,0)\n",
    "    pnt0 = (0, 0 ,0)\n",
    "    \n",
    "    peak1 = Peak(pnt = pnt1)\n",
    "    peak2 = Peak(pnt = pnt2)\n",
    "    peak0 = Peak(pnt = pnt0)\n",
    "    \n",
    "    bio = 10\n",
    "    \n",
    "    gf_g.Set( (peak0,0,0, 0,peak0, 0 , 0,0 , peak0 )  , bonus_intorder = bio)\n",
    "    gf_chi.Set( (peak0+peak1 + peak2)  , bonus_intorder=bio)\n",
    "    gf_A.Set( (0,0,peak1 +peak2, peak1 +peak2,0,0, 0,0,0)  , bonus_intorder=bio)\n",
    "    gf_K.Set( (1/(1+peak1 + peak2) )  , bonus_intorder=bio)\n",
    "    gf_G.Set( (peak0,peak1,peak2)  , bonus_intorder=bio)\n",
    "    \n",
    "    gf_alpha.Set( ( 1/(1+peak1 +peak2))  , bonus_intorder=bio)\n",
    "    gf_beta.Set( (peak2,peak0,peak1)  , bonus_intorder=bio)\n",
    "    gf_B.Set( (peak1,peak2,peak0)  , bonus_intorder=bio)\n",
    "    gf_phi.Set((-log(peak0+peak1 + peak2)/4))\n",
    "    \n",
    "    \n",
    "    "
   ]
  },
  {
   "cell_type": "code",
   "execution_count": 90,
   "metadata": {},
   "outputs": [],
   "source": [
    "#gf_out = GridFunction(fes)\n",
    "gf = GridFunction(fes)\n",
    "\n",
    "# work only with components 0, 5\n",
    "gf.components[0].vec.data = gf_g.vec\n",
    "gf.components[1].vec.data = gf_chi.vec\n",
    "gf.components[2].vec.data = gf_A.vec\n",
    "gf.components[3].vec.data = gf_K.vec\n",
    "gf.components[4].vec.data = gf_G.vec\n",
    "gf.components[5].vec.data = gf_alpha.vec\n",
    "gf.components[6].vec.data = gf_beta.vec\n",
    "gf.components[7].vec.data = gf_B.vec\n",
    "gf.components[8].vec.data = gf_phi.vec\n",
    "\n",
    "#Draw(Norm(gf.components[0]), mesh, \"g\",  clipping= {\"z\":-1})\n",
    "#Draw(Norm(gf.components[1]), mesh, \"chi\",  clipping= {\"z\":-1})\n",
    "#Draw(Norm(gf.components[2]), mesh, \"A\",  clipping= {\"z\":-1})\n",
    "#Draw(Norm(gf.components[3]), mesh, \"K\",  clipping= {\"z\":-1})\n",
    "#Draw(Norm(f.components[4]), mesh, \"G\",  clipping= {\"z\":-1})\n",
    "#Draw(Norm(gf.components[5]), mesh, \"alpha\",  clipping= {\"z\":-1})\n",
    "#Draw(Norm(gf.components[6]), mesh, \"beta\",  clipping= {\"z\":-1})\n",
    "#Draw(Norm(gf.components[7]), mesh, \"B\",  clipping= {\"z\":-1})\n",
    "# Draw(Norm(gf.components[8]), mesh, \"phi\")"
   ]
  },
  {
   "cell_type": "code",
   "execution_count": 91,
   "metadata": {},
   "outputs": [],
   "source": [
    "# use embedding to create inverse of whole matrix\n",
    "inverse = \"sparsecholesky\"\n",
    "\n",
    "with TaskManager():\n",
    "    ## g\n",
    "    mass_g = BilinearForm(mat_h1, symmetric=True)\n",
    "    mass_g += InnerProduct(m, dm)*dx\n",
    "    mass_g.Assemble()\n",
    "    mass_g_inv = mass_g.mat.Inverse(inverse=inverse)\n",
    "    res_g = fes.restrictions[0]\n",
    "    inv_g = res_g.T@mass_g_inv@res_g\n",
    "\n",
    "    ## chi\n",
    "    mass_chi = BilinearForm(scl_h1, symmetric=True)\n",
    "    mass_chi += InnerProduct(s, ds)*dx\n",
    "    mass_chi.Assemble()\n",
    "    mass_chi_inv = mass_chi.mat.Inverse(inverse=inverse)\n",
    "    res_chi = fes.restrictions[1]\n",
    "    inv_chi = res_chi.T @ mass_chi_inv @ res_chi\n",
    "\n",
    "    ## A\n",
    "    mass_A = BilinearForm(mat_h1, symmetric=True)\n",
    "    mass_A += InnerProduct(m, dm)*dx\n",
    "    mass_A.Assemble()\n",
    "    mass_A_inv = mass_A.mat.Inverse(inverse=inverse)\n",
    "    res_A = fes.restrictions[2]\n",
    "    inv_A = res_A.T @ mass_A_inv @ res_A\n",
    "\n",
    "    ## K\n",
    "    mass_K = BilinearForm(scl_h1, symmetric=True)\n",
    "    mass_K += InnerProduct(s, ds)*dx\n",
    "    mass_K.Assemble()\n",
    "    mass_K_inv = mass_K.mat.Inverse(inverse=inverse)\n",
    "    res_K = fes.restrictions[3]\n",
    "    inv_K = res_K.T@mass_K_inv@res_K\n",
    "\n",
    "    ## G\n",
    "    mass_G = BilinearForm(vec_h1, symmetric=True)\n",
    "    mass_G += InnerProduct(v, dv)*dx\n",
    "    mass_G.Assemble()\n",
    "    mass_G_inv = mass_G.mat.Inverse(inverse=inverse)\n",
    "    res_G = fes.restrictions[4]\n",
    "    inv_G = res_G.T@mass_G_inv@res_G\n",
    "\n",
    "    ## alpha\n",
    "    mass_alpha = BilinearForm(scl_h1, symmetric=True)\n",
    "    mass_alpha += InnerProduct(s, ds)*dx\n",
    "    mass_alpha.Assemble()\n",
    "    mass_alpha_inv = mass_alpha.mat.Inverse(inverse=inverse)\n",
    "    res_alpha = fes.restrictions[5]\n",
    "    inv_alpha = res_alpha.T@mass_alpha_inv@res_alpha\n",
    "\n",
    "    ## beta\n",
    "    mass_beta = BilinearForm(vec_h1, symmetric=True)\n",
    "    mass_beta += InnerProduct(v, dv)*dx\n",
    "    mass_beta.Assemble()\n",
    "    mass_beta_inv = mass_beta.mat.Inverse(inverse=inverse)\n",
    "    res_beta = fes.restrictions[6]\n",
    "    inv_beta = res_beta.T@mass_beta_inv@res_beta\n",
    "\n",
    "    ## Bs\n",
    "    mass_B = BilinearForm(vec_h1, symmetric=True)\n",
    "    mass_B += InnerProduct(v, dv)*dx\n",
    "    mass_B.Assemble()\n",
    "    mass_B_inv = mass_B.mat.Inverse(inverse=inverse)\n",
    "    res_B = fes.restrictions[7]\n",
    "    inv_B = res_B.T@mass_B_inv@res_B\n",
    "    \n",
    "    ## phi\n",
    "    mass_phi = BilinearForm(scl_h1, symmetric=True)\n",
    "    mass_phi += InnerProduct(s, ds)*dx\n",
    "    mass_phi.Assemble()\n",
    "    mass_phi_inv = mass_phi.mat.Inverse(inverse=inverse)\n",
    "    res_phi = fes.restrictions[8]\n",
    "    inv_phi = res_phi.T@mass_phi_inv@res_phi\n",
    "\n",
    "\n",
    "\n"
   ]
  },
  {
   "cell_type": "code",
   "execution_count": 92,
   "metadata": {},
   "outputs": [],
   "source": [
    "def Lie(gf_M, gf_b):\n",
    "    if gf_M.dim == 9:\n",
    "        r =  grad(gf_M).Reshape((3,3,3)) * gf_b + grad(gf_b) * gf_M.Reshape((3,3)) + gf_M.Reshape((3,3)) *  grad(gf_b)  - 2/3*  div(gf_b) * gf_M.Reshape((3,3)) \n",
    "        return r.Reshape((9,))\n",
    "    if gf_M.dim == 3:\n",
    "        r =  grad(gf_M).Reshape((3,3)) * gf_b\n",
    "        return r.Reshape((3,))\n",
    "    "
   ]
  },
  {
   "cell_type": "code",
   "execution_count": 93,
   "metadata": {},
   "outputs": [],
   "source": [
    "\n",
    "\n",
    "# define the christoffel symbols of the first kind\n",
    "def CS1(gf_g):\n",
    "    print( Grad(gf_g) )\n",
    "    gradg = Grad(gf_g).Reshape((3,3,3))\n",
    "    # Christoffel symbols of the first kind\n",
    "    # cs[i,j,k] = 1/2 * (gradg[i,k,j] + gradg[k,j,i]  -gradg[i,j,k]) )\n",
    "\n",
    "    cs = CF( \n",
    "        (\n",
    "        (1/2) * (gradg[0,0,0] + gradg[0,0,0] - gradg[0,0,0]),\n",
    "        (1/2) * (gradg[0,0,1] + gradg[0,1,0] - gradg[0,0,1]),\n",
    "        (1/2) * (gradg[0,0,2] + gradg[0,2,0] - gradg[0,0,2]),\n",
    "\n",
    "        (1/2) * (gradg[0,1,0] + gradg[1,0,0] - gradg[0,1,0]),\n",
    "        (1/2) * (gradg[0,1,1] + gradg[1,1,0] - gradg[0,1,1]),\n",
    "        (1/2) * (gradg[0,1,2] + gradg[1,2,0] - gradg[0,1,2]),\n",
    "\n",
    "        (1/2) * (gradg[0,2,0] + gradg[2,0,0] - gradg[0,2,0]),\n",
    "        (1/2) * (gradg[0,2,1] + gradg[2,1,0] - gradg[0,2,1]),\n",
    "        (1/2) * (gradg[0,2,2] + gradg[2,2,0] - gradg[0,2,2]),\n",
    "\n",
    "        (1/2) * (gradg[1,0,0] + gradg[0,0,1] - gradg[1,0,0]),\n",
    "        (1/2) * (gradg[1,0,1] + gradg[0,1,1] - gradg[1,0,1]),\n",
    "        (1/2) * (gradg[1,0,2] + gradg[0,2,1] - gradg[1,0,2]),\n",
    "\n",
    "        (1/2) * (gradg[1,1,0] + gradg[1,0,1] - gradg[1,1,0]),\n",
    "        (1/2) * (gradg[1,1,1] + gradg[1,1,1] - gradg[1,1,1]),\n",
    "        (1/2) * (gradg[1,1,2] + gradg[1,2,1] - gradg[1,1,2]),\n",
    "\n",
    "        (1/2) * (gradg[1,2,0] + gradg[2,0,1] - gradg[1,2,0]),\n",
    "        (1/2) * (gradg[1,2,1] + gradg[2,1,1] - gradg[1,2,1]),\n",
    "        (1/2) * (gradg[1,2,2] + gradg[2,2,1] - gradg[1,2,2]),\n",
    "\n",
    "        (1/2) * (gradg[2,0,0] + gradg[0,0,2] - gradg[2,0,0]),\n",
    "        (1/2) * (gradg[2,0,1] + gradg[0,1,2] - gradg[2,0,1]),\n",
    "        (1/2) * (gradg[2,0,2] + gradg[0,2,2] - gradg[2,0,2]),\n",
    "\n",
    "        (1/2) * (gradg[2,1,0] + gradg[1,0,2] - gradg[2,1,0]),\n",
    "        (1/2) * (gradg[2,1,1] + gradg[1,1,2] - gradg[2,1,1]),\n",
    "        (1/2) * (gradg[2,1,2] + gradg[1,2,2] - gradg[2,1,2]),\n",
    "\n",
    "        (1/2) * (gradg[2,2,0] + gradg[2,0,2] - gradg[2,2,0]),\n",
    "        (1/2) * (gradg[2,2,1] + gradg[2,1,2] - gradg[2,2,1]),\n",
    "        (1/2) * (gradg[2,2,2] + gradg[2,2,2] - gradg[2,2,2])\n",
    "    ), dims=(3,3,3) )    \n",
    "   \n",
    "    return cs\n",
    "\n",
    "def Inv_met(u):\n",
    "    return Inv(u.Reshape((3,3)) ).Reshape((9,1))\n",
    "\n",
    "def CS2(gf_g):\n",
    "    cs1 = CS1(gf_g)\n",
    "    ginv = Inv_met(gf_g).Reshape((3,3))\n",
    "    # Christoffel symbols of the second kind\n",
    "    # cs2[i,j,k] = cs1[i,j,l] * ginv[l,k]\n",
    "    cs2 = CF(\n",
    "        (\n",
    "        cs1[0,0,0] * ginv[0,0] + cs1[0,0,1] * ginv[1,0] + cs1[0,0,2] * ginv[2,0] ,\n",
    "        cs1[0,1,0] * ginv[0,0] + cs1[0,1,1] * ginv[1,0] + cs1[0,1,2] * ginv[2,0] ,\n",
    "        cs1[0,2,0] * ginv[0,0] + cs1[0,2,1] * ginv[1,0] + cs1[0,2,2] * ginv[2,0] ,\n",
    "\n",
    "        cs1[1,0,0] * ginv[0,0] + cs1[1,0,1] * ginv[1,0] + cs1[1,0,2] * ginv[2,0] ,\n",
    "        cs1[1,1,0] * ginv[0,0] + cs1[1,1,1] * ginv[1,0] + cs1[1,1,2] * ginv[2,0] ,\n",
    "        cs1[1,2,0] * ginv[0,0] + cs1[1,2,1] * ginv[1,0] + cs1[1,2,2] * ginv[2,0] ,\n",
    "\n",
    "        cs1[2,0,0] * ginv[0,0] + cs1[2,0,1] * ginv[1,0] + cs1[2,0,2] * ginv[2,0] ,\n",
    "        cs1[2,1,0] * ginv[0,0] + cs1[2,1,1] * ginv[1,0] + cs1[2,1,2] * ginv[2,0] ,\n",
    "        cs1[2,2,0] * ginv[0,0] + cs1[2,2,1] * ginv[1,0] + cs1[2,2,2] * ginv[2,0] ,\n",
    "\n",
    "        cs1[0,0,0] * ginv[0,1] + cs1[0,0,1] * ginv[1,1] + cs1[0,0,2] * ginv[2,1] ,\n",
    "        cs1[0,1,0] * ginv[0,1] + cs1[0,1,1] * ginv[1,1] + cs1[0,1,2] * ginv[2,1] ,\n",
    "        cs1[0,2,0] * ginv[0,1] + cs1[0,2,1] * ginv[1,1] + cs1[0,2,2] * ginv[2,1] ,\n",
    "\n",
    "        cs1[1,0,0] * ginv[0,1] + cs1[1,0,1] * ginv[1,1] + cs1[1,0,2] * ginv[2,1] ,\n",
    "        cs1[1,1,0] * ginv[0,1] + cs1[1,1,1] * ginv[1,1] + cs1[1,1,2] * ginv[2,1] ,\n",
    "        cs1[1,2,0] * ginv[0,1] + cs1[1,2,1] * ginv[1,1] + cs1[1,2,2] * ginv[2,1] ,\n",
    "\n",
    "        cs1[2,0,0] * ginv[0,1] + cs1[2,0,1] * ginv[1,1] + cs1[2,0,2] * ginv[2,1] ,\n",
    "        cs1[2,1,0] * ginv[0,1] + cs1[2,1,1] * ginv[1,1] + cs1[2,1,2] * ginv[2,1] ,\n",
    "        cs1[2,2,0] * ginv[0,1] + cs1[2,2,1] * ginv[1,1] + cs1[2,2,2] * ginv[2,1] ,\n",
    "\n",
    "        cs1[0,0,0] * ginv[0,2] + cs1[0,0,1] * ginv[1,2] + cs1[0,0,2] * ginv[2,2] ,\n",
    "        cs1[0,1,0] * ginv[0,2] + cs1[0,1,1] * ginv[1,2] + cs1[0,1,2] * ginv[2,2] ,\n",
    "        cs1[0,2,0] * ginv[0,2] + cs1[0,2,1] * ginv[1,2] + cs1[0,2,2] * ginv[2,2] ,\n",
    "\n",
    "        cs1[1,0,0] * ginv[0,2] + cs1[1,0,1] * ginv[1,2] + cs1[1,0,2] * ginv[2,2] ,\n",
    "        cs1[1,1,0] * ginv[0,2] + cs1[1,1,1] * ginv[1,2] + cs1[1,1,2] * ginv[2,2] ,\n",
    "        cs1[1,2,0] * ginv[0,2] + cs1[1,2,1] * ginv[1,2] + cs1[1,2,2] * ginv[2,2] ,\n",
    "\n",
    "        cs1[2,0,0] * ginv[0,2] + cs1[2,0,1] * ginv[1,2] + cs1[2,0,2] * ginv[2,2] ,\n",
    "        cs1[2,1,0] * ginv[0,2] + cs1[2,1,1] * ginv[1,2] + cs1[2,1,2] * ginv[2,2] ,\n",
    "        cs1[2,2,0] * ginv[0,2] + cs1[2,2,1] * ginv[1,2] + cs1[2,2,2] * ginv[2,2] \n",
    "\n",
    "        ),\n",
    "        dims=(3,3,3)\n",
    "    )\n",
    "\n",
    "    return cs2\n",
    "    \n",
    "\n"
   ]
  },
  {
   "cell_type": "code",
   "execution_count": 94,
   "metadata": {},
   "outputs": [
    {
     "name": "stdout",
     "output_type": "stream",
     "text": [
      "['Grad', 'Gradboundary', 'hesse', 'hesseboundary', 'dual']\n",
      "coef class ngcomp::GridFunctionCoefficientFunction, real, dims = 9 x 3\n",
      "\n",
      "coef class ngcomp::GridFunctionCoefficientFunction, real, dims = 9 x 3\n",
      "\n",
      "coef class ngcomp::GridFunctionCoefficientFunction, real, dims = 9 x 3\n",
      "\n"
     ]
    },
    {
     "data": {
      "text/plain": [
       "<ngsolve.comp.LinearForm at 0x14963ec1230>"
      ]
     },
     "execution_count": 94,
     "metadata": {},
     "output_type": "execute_result"
    }
   ],
   "source": [
    "\n",
    "# trial and test functions\n",
    "g, chi, A, K, G, alpha, beta, B, phi = fes.TrialFunction()\n",
    "dg , dchi, dA, dK, dG, dalpha, dbeta, dB, dphi = fes.TestFunction()\n",
    "\n",
    "\n",
    "\n",
    "def TraceFree(gf_M, gf_g):\n",
    "    return gf_M - 1/3 * InnerProduct(gf_M, gf_g) * gf_g\n",
    "\n",
    "\n",
    "\n",
    "\n",
    "\n",
    "print( alpha.Operators())\n",
    "\n",
    "def NonlinearForm(fes):\n",
    "    cs1 = CS1(gf_g)\n",
    "    cs2 = CS2(gf_g)\n",
    "    gfinv = Inv_met(gf_g).Reshape((3,3))\n",
    "    \n",
    "    RicciTilde =-1/2 * InnerProduct(gfinv, gf_g.Operator(\"hesse\").)\n",
    "    Ricci = RicciTilde + Ricciphi\n",
    "    TF = TraceFree(Ricci, gf_g)\n",
    "\n",
    "    ### define the RHS\n",
    "    lf = LinearForm(fes)\n",
    "    # eq for \\tilde \\gamma\n",
    "    lf +=  ( -2*gf_alpha*InnerProduct(gf_A, dg)+ InnerProduct(Lie(gf_g, gf_beta), dg )  )* dx \n",
    "    # eq for  \\chi\n",
    "    lf += (2/3* gf_chi * (gf_alpha * gf_K  - InnerProduct(grad(gf_chi),CF((1,1,1)) ))  + InnerProduct(gf_beta, grad(gf_chi)))* dchi *dx  \n",
    "    # eq for \\tilde A\n",
    "    lf +=( InnerProduct(Lie(gf_A, gf_beta), gf_A) +  gf_alpha * (  gf_K * InnerProduct(gf_A, dA)  - 2 * InnerProduct(gf_A.Reshape((3,3))*Inv_met(gf_g).Reshape((3,3))*gf_A.Reshape((3,3)), dA.Reshape((3,3)) ) )  )* dx\n",
    "    lf += gf_chi * InnerProduct(TF, dA) * dx\n",
    "    # eq for  K\n",
    "    lf += grad(dK)*gf_beta*dx \n",
    "    lf +=  -InnerProduct(gf_alpha.Operator(\"hesse\"), Id(3)) * dK *dx  \n",
    "    lf += gf_alpha * dK * ( InnerProduct(Inv_met(gf_g).Reshape((3,3))*gf_A.Reshape((3,3))*Inv_met(gf_g).Reshape((3,3)), gf_A.Reshape((3,3)))  + 1/3 * gf_K * gf_K  ) *dx\n",
    "    # eq for \\tilde G\n",
    "    for i in [0,1,2]:\n",
    "        lf +=  InnerProduct(Inv_met(gf_g) ,(gf_beta.Operator(\"hesse\"))[i,:] )*dG[i]*dx\n",
    "        lf +=  1/3*InnerProduct((gf_beta.Operator(\"hesse\")).Reshape((3,3,3))[i,i,:] ,Inv_met(gf_g).Reshape((3,3))*dG)*dx\n",
    "    lf += InnerProduct(grad(gf_G)*gf_beta, dG)*dx\n",
    "    lf += -InnerProduct(grad(gf_beta)*gf_G, dG)*dx\n",
    "    lf += 2/3*InnerProduct(Grad(gf_beta), Id(3))*InnerProduct(gf_G, dG)*dx\n",
    "    lf += - 2  * InnerProduct(gf_A.Reshape((3,3) ) * Grad(gf_alpha), dG) *dx \n",
    "    for i in [0,1,2]:\n",
    "        lf += 2 * gf_alpha * InnerProduct( CS2(gf_g)*dG ,Inv_met(gf_g).Reshape((3,3))*gf_A.Reshape((3,3))*Inv_met(gf_g).Reshape((3,3)) ) *dx\n",
    "    lf += 12 * gf_alpha * InnerProduct( gf_A.Reshape((3,3))*Inv_met(gf_g).Reshape((3,3))*Grad(gf_phi) , Inv_met(gf_g).Reshape((3,3))*dG)*dx\n",
    "    lf +=  - gf_alpha * 4/3 *InnerProduct(Inv_met(gf_g).Reshape((3,3)) * Grad(gf_K), dG)*dx\n",
    "    # eq for \\alpha\n",
    "    lf += -2*gf_alpha*gf_K * dalpha *dx\n",
    "    # eq for \\beta\n",
    "    lf += InnerProduct(dbeta, gf_B)*dx\n",
    "    # eq for B\n",
    "    lf += -InnerProduct(grad(gf_B), grad(dB))*dx\n",
    "\n",
    "    \n",
    "\n",
    "    return lf\n",
    "\n",
    "lf = NonlinearForm(fes)\n",
    "lf.Assemble()\n",
    "\n",
    "\n",
    "#blf.Apply(gf_in.vec, gf_out.vec)\n",
    "\n"
   ]
  },
  {
   "cell_type": "code",
   "execution_count": 95,
   "metadata": {},
   "outputs": [],
   "source": [
    "#A = sp.csr_matrix(blf.mat.CSR())\n",
    "#plt.rcParams['figure.figsize'] = (10,10)\n",
    "#plt.spy(A)\n",
    "#plt.show()"
   ]
  },
  {
   "cell_type": "code",
   "execution_count": 96,
   "metadata": {},
   "outputs": [
    {
     "data": {
      "text/plain": [
       "<ngsolve.comp.LinearForm at 0x148109a4b30>"
      ]
     },
     "execution_count": 96,
     "metadata": {},
     "output_type": "execute_result"
    }
   ],
   "source": [
    "\n",
    "setphi = LinearForm(gf_phi.space)\n",
    "setphi += -1* ds*log(gf_chi)/4*dx \n",
    "setphi.Assemble()\n"
   ]
  },
  {
   "cell_type": "code",
   "execution_count": 97,
   "metadata": {},
   "outputs": [],
   "source": [
    "inv_mass = inv_g + inv_chi + inv_A + inv_K + inv_G + inv_alpha + inv_beta + inv_B\n",
    "\n",
    "\n"
   ]
  },
  {
   "cell_type": "code",
   "execution_count": 98,
   "metadata": {
    "scrolled": false
   },
   "outputs": [
    {
     "data": {
      "application/vnd.jupyter.widget-view+json": {
       "model_id": "7e2838beaeff431999e318d944cfba22",
       "version_major": 2,
       "version_minor": 0
      },
      "text/plain": [
       "WebGuiWidget(layout=Layout(height='500px', width='100%'), value={'gui_settings': {}, 'ngsolve_version': '6.2.2…"
      ]
     },
     "metadata": {},
     "output_type": "display_data"
    }
   ],
   "source": [
    "dt = 0.01\n",
    "t = 0\n",
    "tend = 1\n",
    "scene1 = Draw(Norm(gf.components[0]), mesh, \"g\",  clipping= {\"z\":-1})\n",
    "#scene2 = Draw(Norm(gf.components[1]), mesh, \"chi\",  clipping= {\"z\":-1})\n",
    "#scene3 = Draw(Norm(gf.components[2]), mesh, \"A\",  clipping= {\"z\":-1})\n",
    "#scene4 = Draw(Norm(gf.components[3]), mesh, \"K\",  clipping= {\"z\":-1})\n",
    "#scene5 = Draw(Norm(gf.components[4]), mesh, \"G\",  clipping= {\"z\":-1})\n",
    "#scene6 = Draw(Norm(gf.components[5]), mesh, \"alpha\",  clipping= {\"z\":-1})\n",
    "#scene7 = Draw(Norm(gf.components[6]), mesh, \"beta\",  clipping= {\"z\":-1})\n",
    "#scene8 = Draw(Norm(gf.components[7]), mesh, \"B\",  clipping= {\"z\":-1})\n",
    "\n",
    "input(\"start\")\n",
    "\n",
    "with TaskManager():\n",
    "    while t > tend:\n",
    "        t += dt\n",
    "        print(\"t=\",int(t/tend * 100),end=\"\\r\")\n",
    "        lf.Assemble()\n",
    "        gf.vec.data += dt*inv_mass *lf.vec\n",
    "        setphi.Assemble()\n",
    "        gf.components[8].vec.data = mass_phi_inv* setphi.vec\n",
    "        scene1.Redraw()#Draw(Norm(gf.components[1]), mesh, \"chi\",  clipping= {\"z\":-1})\n",
    "        #scene2.Redraw()\n",
    "        #scene3.Redraw()\n",
    "        #scene4.Redraw()\n",
    "        #scene5.Redraw()\n",
    "        #scene6.Redraw()\n",
    "        #scene7.Redraw()\n",
    "        #scene8.Redraw()\n",
    "\n",
    "\n",
    "    \n"
   ]
  },
  {
   "cell_type": "code",
   "execution_count": 99,
   "metadata": {
    "scrolled": false
   },
   "outputs": [
    {
     "data": {
      "application/vnd.jupyter.widget-view+json": {
       "model_id": "1331490687db40ea9b460d239b3e12ec",
       "version_major": 2,
       "version_minor": 0
      },
      "text/plain": [
       "WebGuiWidget(layout=Layout(height='500px', width='100%'), value={'gui_settings': {}, 'ngsolve_version': '6.2.2…"
      ]
     },
     "metadata": {},
     "output_type": "display_data"
    },
    {
     "data": {
      "application/vnd.jupyter.widget-view+json": {
       "model_id": "541f2a4e72ce40978bc047fe8ae55cbc",
       "version_major": 2,
       "version_minor": 0
      },
      "text/plain": [
       "WebGuiWidget(layout=Layout(height='500px', width='100%'), value={'gui_settings': {}, 'ngsolve_version': '6.2.2…"
      ]
     },
     "metadata": {},
     "output_type": "display_data"
    },
    {
     "data": {
      "application/vnd.jupyter.widget-view+json": {
       "model_id": "903a893837364b5ab9f0f7d897ddd2cc",
       "version_major": 2,
       "version_minor": 0
      },
      "text/plain": [
       "WebGuiWidget(layout=Layout(height='500px', width='100%'), value={'gui_settings': {}, 'ngsolve_version': '6.2.2…"
      ]
     },
     "metadata": {},
     "output_type": "display_data"
    },
    {
     "data": {
      "application/vnd.jupyter.widget-view+json": {
       "model_id": "69d7bb905d544de9a7c8b385b697c43e",
       "version_major": 2,
       "version_minor": 0
      },
      "text/plain": [
       "WebGuiWidget(layout=Layout(height='500px', width='100%'), value={'gui_settings': {}, 'ngsolve_version': '6.2.2…"
      ]
     },
     "metadata": {},
     "output_type": "display_data"
    },
    {
     "data": {
      "application/vnd.jupyter.widget-view+json": {
       "model_id": "92f8446346e84f43af7cd684d58ae9c9",
       "version_major": 2,
       "version_minor": 0
      },
      "text/plain": [
       "WebGuiWidget(layout=Layout(height='500px', width='100%'), value={'gui_settings': {}, 'ngsolve_version': '6.2.2…"
      ]
     },
     "metadata": {},
     "output_type": "display_data"
    },
    {
     "data": {
      "application/vnd.jupyter.widget-view+json": {
       "model_id": "1c3422fadd7a4703b92f555ebb1c9526",
       "version_major": 2,
       "version_minor": 0
      },
      "text/plain": [
       "WebGuiWidget(layout=Layout(height='500px', width='100%'), value={'gui_settings': {}, 'ngsolve_version': '6.2.2…"
      ]
     },
     "metadata": {},
     "output_type": "display_data"
    },
    {
     "data": {
      "application/vnd.jupyter.widget-view+json": {
       "model_id": "83b397d109fd4cf7b8197e2338b0e69f",
       "version_major": 2,
       "version_minor": 0
      },
      "text/plain": [
       "WebGuiWidget(layout=Layout(height='500px', width='100%'), value={'gui_settings': {}, 'ngsolve_version': '6.2.2…"
      ]
     },
     "metadata": {},
     "output_type": "display_data"
    },
    {
     "data": {
      "application/vnd.jupyter.widget-view+json": {
       "model_id": "59b6c70be8a14003a062eeb9d3129b7f",
       "version_major": 2,
       "version_minor": 0
      },
      "text/plain": [
       "WebGuiWidget(layout=Layout(height='500px', width='100%'), value={'gui_settings': {}, 'ngsolve_version': '6.2.2…"
      ]
     },
     "metadata": {},
     "output_type": "display_data"
    },
    {
     "data": {
      "application/vnd.jupyter.widget-view+json": {
       "model_id": "d71d92d7bc864e0f8c780e21ac8e2da5",
       "version_major": 2,
       "version_minor": 0
      },
      "text/plain": [
       "WebGuiWidget(layout=Layout(height='500px', width='100%'), value={'gui_settings': {}, 'ngsolve_version': '6.2.2…"
      ]
     },
     "metadata": {},
     "output_type": "display_data"
    },
    {
     "data": {
      "text/plain": [
       "BaseWebGuiScene"
      ]
     },
     "execution_count": 99,
     "metadata": {},
     "output_type": "execute_result"
    }
   ],
   "source": [
    "Draw(gf.components[0], mesh, \"g\",  clipping= {\"z\":-1})\n",
    "Draw(Norm(gf.components[1]), mesh, \"chi\",  clipping= {\"z\":-1})\n",
    "Draw(Norm(gf.components[2]), mesh, \"A\",  clipping= {\"z\":-1})\n",
    "Draw(Norm(gf.components[3]), mesh, \"K\",  clipping= {\"z\":-1})\n",
    "Draw(Norm(gf.components[4]), mesh, \"G\",  clipping= {\"z\":-1})\n",
    "Draw(Norm(gf.components[5]), mesh, \"alpha\",  clipping= {\"z\":-1})\n",
    "Draw(Norm(gf.components[6]), mesh, \"beta\",  clipping= {\"z\":-1})\n",
    "Draw(Norm(gf.components[7]), mesh, \"B\",  clipping= {\"z\":-1})\n",
    "Draw(Norm(gf.components[8]), mesh, \"phi\",  clipping= {\"z\":-1})\n"
   ]
  },
  {
   "cell_type": "code",
   "execution_count": null,
   "metadata": {},
   "outputs": [],
   "source": []
  },
  {
   "cell_type": "code",
   "execution_count": null,
   "metadata": {},
   "outputs": [],
   "source": []
  }
 ],
 "metadata": {
  "kernelspec": {
   "display_name": "Python 3",
   "language": "python",
   "name": "python3"
  },
  "language_info": {
   "codemirror_mode": {
    "name": "ipython",
    "version": 3
   },
   "file_extension": ".py",
   "mimetype": "text/x-python",
   "name": "python",
   "nbconvert_exporter": "python",
   "pygments_lexer": "ipython3",
   "version": "3.10.4"
  }
 },
 "nbformat": 4,
 "nbformat_minor": 2
}
