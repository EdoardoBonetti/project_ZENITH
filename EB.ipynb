{
 "cells": [
  {
   "attachments": {},
   "cell_type": "markdown",
   "metadata": {},
   "source": [
    "# Einstein Bianchi linearized equations\n"
   ]
  },
  {
   "cell_type": "code",
   "execution_count": 1,
   "metadata": {},
   "outputs": [
    {
     "name": "stdout",
     "output_type": "stream",
     "text": [
      "importing NGSolve-6.2.2204\n"
     ]
    }
   ],
   "source": [
    "# neccessary imports\n",
    "from ngsolve import *\n",
    "from zenith import *\n",
    "from ngsolve.webgui import Draw"
   ]
  },
  {
   "cell_type": "code",
   "execution_count": 2,
   "metadata": {},
   "outputs": [
    {
     "name": "stdout",
     "output_type": "stream",
     "text": [
      "{'bh_list': [<zenith.utils.CompactObjects.BlackHole object at 0x7f6b2d66e560>], 'adaption': True}\n"
     ]
    }
   ],
   "source": [
    "# create  a black hole at the origin\n",
    "mass = 1\n",
    "bh = BlackHole(mass=mass)\n",
    "\n",
    "bh_list = [bh]\n",
    "mesh = DefaultMesh(bh_list=bh_list, adaption=True, h=0.2, R=3)"
   ]
  },
  {
   "cell_type": "code",
   "execution_count": 3,
   "metadata": {},
   "outputs": [],
   "source": [
    "#Draw(mesh, clipping='z')"
   ]
  },
  {
   "cell_type": "code",
   "execution_count": 4,
   "metadata": {},
   "outputs": [],
   "source": [
    "\n",
    "n = specialcf.normal(3)\n",
    "\n",
    "def CurlTHcc2Hcd(E,dH):\n",
    "    return InnerProduct(curl(E).trans, dH)*dx \\\n",
    "       +InnerProduct(Cross(E*n, n), dH*n)*dx(element_boundary= True)\n",
    "def DivHcdHd(B,dv):\n",
    "    return div(B)*dv*dx - B*n*n * dv*n * dx(element_boundary= True)"
   ]
  },
  {
   "cell_type": "code",
   "execution_count": 5,
   "metadata": {},
   "outputs": [],
   "source": [
    "order = 2\n",
    "\n",
    "fescc = HCurlCurl(mesh, order=order)\n",
    "fescd = HCurlDiv(mesh, order=order)\n",
    "fesd = HDiv(mesh, order=order, RT=True)\n",
    "\n",
    "E, dE = fescc.TnT()\n",
    "v, dv = fesd.TnT()\n",
    "B, dB = fescd.TnT()"
   ]
  },
  {
   "cell_type": "code",
   "execution_count": 15,
   "metadata": {},
   "outputs": [
    {
     "ename": "AttributeError",
     "evalue": "'ngsolve.fem.CoefficientFunction' object has no attribute 'derivname'",
     "output_type": "error",
     "traceback": [
      "\u001b[0;31m---------------------------------------------------------------------------\u001b[0m",
      "\u001b[0;31mAttributeError\u001b[0m                            Traceback (most recent call last)",
      "\u001b[1;32m/home/ebonetti/Desktop/project_ZENITH/EB.ipynb Cell 7\u001b[0m in \u001b[0;36m1\n\u001b[0;32m----> <a href='vscode-notebook-cell:/home/ebonetti/Desktop/project_ZENITH/EB.ipynb#W6sZmlsZQ%3D%3D?line=0'>1</a>\u001b[0m bfcurlT \u001b[39m=\u001b[39m BilinearForm(CurlTHcc2Hcd(E, dB))\u001b[39m#, nonassemble = True)\u001b[39;00m\n\u001b[1;32m      <a href='vscode-notebook-cell:/home/ebonetti/Desktop/project_ZENITH/EB.ipynb#W6sZmlsZQ%3D%3D?line=1'>2</a>\u001b[0m bfcurl \u001b[39m=\u001b[39m BilinearForm(CurlTHcc2Hcd(dE, B))\u001b[39m#, nonassemble = True)\u001b[39;00m\n\u001b[1;32m      <a href='vscode-notebook-cell:/home/ebonetti/Desktop/project_ZENITH/EB.ipynb#W6sZmlsZQ%3D%3D?line=2'>3</a>\u001b[0m bfdiv \u001b[39m=\u001b[39m BilinearForm(DivHcdHd(B, dv))\u001b[39m#, nonassemble = True)\u001b[39;00m\n",
      "\u001b[1;32m/home/ebonetti/Desktop/project_ZENITH/EB.ipynb Cell 7\u001b[0m in \u001b[0;36m4\n\u001b[1;32m      <a href='vscode-notebook-cell:/home/ebonetti/Desktop/project_ZENITH/EB.ipynb#W6sZmlsZQ%3D%3D?line=2'>3</a>\u001b[0m \u001b[39mdef\u001b[39;00m \u001b[39mCurlTHcc2Hcd\u001b[39m(E,dH):\n\u001b[0;32m----> <a href='vscode-notebook-cell:/home/ebonetti/Desktop/project_ZENITH/EB.ipynb#W6sZmlsZQ%3D%3D?line=3'>4</a>\u001b[0m     \u001b[39mreturn\u001b[39;00m InnerProduct(curl(E)\u001b[39m.\u001b[39mtrans, dH)\u001b[39m*\u001b[39mdx \\\n\u001b[1;32m      <a href='vscode-notebook-cell:/home/ebonetti/Desktop/project_ZENITH/EB.ipynb#W6sZmlsZQ%3D%3D?line=4'>5</a>\u001b[0m        \u001b[39m+\u001b[39mInnerProduct(Cross(E\u001b[39m*\u001b[39mn, n), dH\u001b[39m*\u001b[39mn)\u001b[39m*\u001b[39mdx(element_boundary\u001b[39m=\u001b[39m \u001b[39mTrue\u001b[39;00m)\n",
      "File \u001b[0;32m~/.local/lib/python3.10/site-packages/ngsolve/utils.py:61\u001b[0m, in \u001b[0;36mcurl\u001b[0;34m(func)\u001b[0m\n\u001b[1;32m     60\u001b[0m \u001b[39mdef\u001b[39;00m \u001b[39mcurl\u001b[39m(func):\n\u001b[0;32m---> 61\u001b[0m     \u001b[39mif\u001b[39;00m func\u001b[39m.\u001b[39;49mderivname \u001b[39m==\u001b[39m \u001b[39m\"\u001b[39m\u001b[39mcurl\u001b[39m\u001b[39m\"\u001b[39m:\n\u001b[1;32m     62\u001b[0m         \u001b[39mreturn\u001b[39;00m func\u001b[39m.\u001b[39mDeriv()\n\u001b[1;32m     63\u001b[0m     add \u001b[39m=\u001b[39m func\u001b[39m.\u001b[39mOperator(\u001b[39m\"\u001b[39m\u001b[39mcurl\u001b[39m\u001b[39m\"\u001b[39m)\n",
      "\u001b[0;31mAttributeError\u001b[0m: 'ngsolve.fem.CoefficientFunction' object has no attribute 'derivname'"
     ]
    }
   ],
   "source": [
    "bfcurlT = BilinearForm(CurlTHcc2Hcd(E, dB))#, nonassemble = True)\n",
    "bfcurl = BilinearForm(CurlTHcc2Hcd(dE, B))#, nonassemble = True)\n",
    "bfdiv = BilinearForm(DivHcdHd(B, dv))#, nonassemble = True)\n",
    "bfdivT = BilinearForm(DivHcdHd(dB, v))#, nonassemble = True)\n",
    "\n",
    "bfcurl.Assemble()\n",
    "bfcurlT.Assemble()\n",
    "bfdiv.Assemble()\n",
    "bfdivT.Assemble()"
   ]
  },
  {
   "cell_type": "code",
   "execution_count": 7,
   "metadata": {},
   "outputs": [
    {
     "name": "stderr",
     "output_type": "stream",
     "text": [
      "WARNING: kwarg 'block' is an undocumented flags option for class <class 'ngsolve.comp.Preconditioner'>, maybe there is a typo?\n",
      "WARNING: kwarg 'blocktype' is an undocumented flags option for class <class 'ngsolve.comp.Preconditioner'>, maybe there is a typo?\n"
     ]
    }
   ],
   "source": [
    "\n",
    "with TaskManager():\n",
    "    massE = BilinearForm(InnerProduct(E,dE)*dx, condense=True)\n",
    "    preE = Preconditioner(massE, \"bddc\", block=True, blocktype=\"edgepatch\")\n",
    "    massE.Assemble()\n",
    "    matE = massE.mat\n",
    "    \n",
    "    massEinvSchur = CGSolver (matE, preE)\n",
    "    ext = IdentityMatrix()+massE.harmonic_extension\n",
    "    extT = IdentityMatrix()+massE.harmonic_extension_trans\n",
    "    massEinv =  ext @ massEinvSchur @ extT + massE.inner_solve"
   ]
  },
  {
   "cell_type": "code",
   "execution_count": 8,
   "metadata": {},
   "outputs": [
    {
     "name": "stderr",
     "output_type": "stream",
     "text": [
      "WARNING: kwarg 'block' is an undocumented flags option for class <class 'ngsolve.comp.Preconditioner'>, maybe there is a typo?\n",
      "WARNING: kwarg 'blocktype' is an undocumented flags option for class <class 'ngsolve.comp.Preconditioner'>, maybe there is a typo?\n"
     ]
    }
   ],
   "source": [
    "with TaskManager():\n",
    "    \n",
    "    massB = BilinearForm(InnerProduct(B,dB)*dx, condense=True)\n",
    "    preB = Preconditioner(massB, \"bddc\", block=True, blocktype=\"edgepatch\")\n",
    "    massB.Assemble()\n",
    "    matB = massB.mat    \n",
    "\n",
    "    # preH = matH.CreateSmoother(fescd.FreeDofs(True), GS=False)\n",
    "\n",
    "    massBinvSchur = CGSolver (matB, preB)\n",
    "    ext = IdentityMatrix()+massB.harmonic_extension\n",
    "    extT = IdentityMatrix()+massB.harmonic_extension_trans\n",
    "    massBinv =  ext @ massBinvSchur @ extT + massB.inner_solve"
   ]
  },
  {
   "cell_type": "code",
   "execution_count": 9,
   "metadata": {},
   "outputs": [],
   "source": [
    "with TaskManager():\n",
    "    massv = BilinearForm(InnerProduct(v,dv)*dx, condense=True).Assemble()\n",
    "    matv = massv.mat\n",
    "    prev = matv.CreateSmoother(fesd.FreeDofs(True), GS=False)\n",
    "    \n",
    "    massvinvSchur = CGSolver (matv, prev)\n",
    "    ext = IdentityMatrix()+massv.harmonic_extension\n",
    "    extT = IdentityMatrix()+massv.harmonic_extension_trans\n",
    "    massvinv =  ext @ massvinvSchur @ extT + massv.inner_solve\n",
    "    "
   ]
  },
  {
   "cell_type": "code",
   "execution_count": 10,
   "metadata": {},
   "outputs": [],
   "source": [
    "gfE = GridFunction(fescc)\n",
    "gfB = GridFunction(fescd)\n",
    "gfv = GridFunction(fesd)"
   ]
  },
  {
   "cell_type": "code",
   "execution_count": 11,
   "metadata": {},
   "outputs": [],
   "source": [
    "E00 = 0\n",
    "E01 = 16*sqrt(610)*z*(5*y**2 + 5*z**2 - 1)*exp(-10*x**2 - 10*y**2 - 10*z**2)/61\n",
    "E02 = 16*sqrt(610)*y*(-5*y**2 - 5*z**2 + 1)*exp(-10*x**2 - 10*y**2 - 10*z**2)/61\n",
    "E10 = 16*sqrt(610)*z*(5*y**2 + 5*z**2 - 1)*exp(-10*x**2 - 10*y**2 - 10*z**2)/61\n",
    "E11 = -160*sqrt(610)*x*y*z*exp(-10*x**2 - 10*y**2 - 10*z**2)/61\n",
    "E12 = 80*sqrt(610)*x*(y**2 - z**2)*exp(-10*x**2 - 10*y**2 - 10*z**2)/61\n",
    "E20 = 16*sqrt(610)*y*(-5*y**2 - 5*z**2 + 1)*exp(-10*x**2 - 10*y**2 - 10*z**2)/61\n",
    "E21 = 80*sqrt(610)*x*(y**2 - z**2)*exp(-10*x**2 - 10*y**2 - 10*z**2)/61\n",
    "E22 = 160*sqrt(610)*x*y*z*exp(-10*x**2 - 10*y**2 - 10*z**2)/61\n",
    "E = CoefficientFunction( (E00, E01, E02, E10, E11, E12, E20, E21, E22) , dims=(3,3) )\n",
    "\n",
    "gfE.Set( E, bonus_intorder=10)\n",
    "\n",
    "#Draw(gfE[0,1], mesh, 'E', clipping='z')"
   ]
  },
  {
   "cell_type": "code",
   "execution_count": 12,
   "metadata": {},
   "outputs": [],
   "source": [
    "#peak = exp(-((x)**2+(y)**2+(z)**2)/ 2 )\n",
    "#gfE.Set ( ((peak, 0,0), (0,0,0), (0,0,-peak) ))\n",
    "#gfB.Set ( ((0,0,-peak), (0,0,0), (-peak,0,0) ))\n",
    "#\n",
    "#Draw(gfE[0,0], mesh, 'E', clipping='z')"
   ]
  },
  {
   "cell_type": "code",
   "execution_count": 13,
   "metadata": {},
   "outputs": [
    {
     "data": {
      "application/vnd.jupyter.widget-view+json": {
       "model_id": "d43126642c60417b8c765db228705bee",
       "version_major": 2,
       "version_minor": 0
      },
      "text/plain": [
       "WebGuiWidget(layout=Layout(height='500px', width='100%'), value={'gui_settings': {}, 'ngsolve_version': '6.2.2…"
      ]
     },
     "metadata": {},
     "output_type": "display_data"
    },
    {
     "ename": "TypeError",
     "evalue": "matrix not ready - assemble bilinearform first",
     "output_type": "error",
     "traceback": [
      "\u001b[0;31m---------------------------------------------------------------------------\u001b[0m",
      "\u001b[0;31mTypeError\u001b[0m                                 Traceback (most recent call last)",
      "\u001b[1;32m/home/ebonetti/Desktop/project_ZENITH/EB.ipynb Cell 14\u001b[0m in \u001b[0;36m1\n\u001b[1;32m     <a href='vscode-notebook-cell:/home/ebonetti/Desktop/project_ZENITH/EB.ipynb#X16sZmlsZQ%3D%3D?line=11'>12</a>\u001b[0m \u001b[39mwith\u001b[39;00m TaskManager(): \u001b[39m# at each time step, save to a txt file the energy of the system\u001b[39;00m\n\u001b[1;32m     <a href='vscode-notebook-cell:/home/ebonetti/Desktop/project_ZENITH/EB.ipynb#X16sZmlsZQ%3D%3D?line=12'>13</a>\u001b[0m     \u001b[39mwhile\u001b[39;00m t \u001b[39m<\u001b[39m tend:\n\u001b[0;32m---> <a href='vscode-notebook-cell:/home/ebonetti/Desktop/project_ZENITH/EB.ipynb#X16sZmlsZQ%3D%3D?line=15'>16</a>\u001b[0m         hv \u001b[39m=\u001b[39m bfcurlT\u001b[39m.\u001b[39;49mmat \u001b[39m*\u001b[39m gfE\u001b[39m.\u001b[39mvec \u001b[39m+\u001b[39m bfdiv\u001b[39m.\u001b[39mmat\u001b[39m.\u001b[39mT \u001b[39m*\u001b[39m gfv\u001b[39m.\u001b[39mvec\n\u001b[1;32m     <a href='vscode-notebook-cell:/home/ebonetti/Desktop/project_ZENITH/EB.ipynb#X16sZmlsZQ%3D%3D?line=16'>17</a>\u001b[0m         gfB\u001b[39m.\u001b[39mvec\u001b[39m.\u001b[39mdata \u001b[39m+\u001b[39m\u001b[39m=\u001b[39m dt \u001b[39m*\u001b[39m massBinv \u001b[39m*\u001b[39m hv\n\u001b[1;32m     <a href='vscode-notebook-cell:/home/ebonetti/Desktop/project_ZENITH/EB.ipynb#X16sZmlsZQ%3D%3D?line=17'>18</a>\u001b[0m         gfv\u001b[39m.\u001b[39mvec\u001b[39m.\u001b[39mdata \u001b[39m+\u001b[39m\u001b[39m=\u001b[39m \u001b[39m-\u001b[39mdt \u001b[39m*\u001b[39m massvinv\u001b[39m@bfdiv\u001b[39m\u001b[39m.\u001b[39mmat \u001b[39m*\u001b[39m gfB\u001b[39m.\u001b[39mvec\n",
      "\u001b[0;31mTypeError\u001b[0m: matrix not ready - assemble bilinearform first"
     ]
    }
   ],
   "source": [
    "t = 0\n",
    "tend = 1\n",
    "dt = 0.005\n",
    "# tend = 5 * dt\n",
    "#scene = Draw(Norm(gfB), mesh, clipping={\"z\":-1})\n",
    "energyE = []\n",
    "energyB = []\n",
    "energytrace = []\n",
    "energySym = []\n",
    "energyv = []\n",
    "scene = Draw(Norm(gfE), mesh, 'B', clipping='z')\n",
    "with TaskManager(): # at each time step, save to a txt file the energy of the system\n",
    "    while t < tend:\n",
    "\n",
    "        \n",
    "        hv = bfcurlT.mat * gfE.vec + bfdiv.mat.T * gfv.vec\n",
    "        gfB.vec.data += dt * massBinv * hv\n",
    "        gfv.vec.data += -dt * massvinv@bfdiv.mat * gfB.vec\n",
    "        gfE.vec.data += -dt * massEinv@bfcurlT.mat.T * gfB.vec\n",
    "        scene.Redraw()\n",
    "\n",
    "        energyE.append (InnerProduct (gfE.vec, massE.mat * gfE.vec))\n",
    "        energyB.append (InnerProduct (gfB.vec, massB.mat * gfB.vec))   \n",
    "        energytrace.append (Integrate ( Norm (Trace(gfE)), mesh ))\n",
    "        energySym.append (Integrate ( Norm (gfB-(gfB.trans)), mesh ))\n",
    "        energyv.append (InnerProduct (gfv.vec, massv.mat * gfv.vec))\n",
    "        t += dt\n",
    "\n",
    "        # save the energy in a txt file\n",
    "        with open(\"energy.txt\", \"a\") as myfile: \n",
    "            myfile.write(str(t) + \";\" + str(energyE[-1]) + \";\" + str(energyB[-1]) + \";\" + str(energytrace[-1]) + \";\" + str(energySym[-1]) + \";\" + str(energyv[-1]) + \"\\n\")\n",
    "\n",
    "    # print time in percentage and the firs 4 decimals of the energy \n",
    "        print (\"t: \", int(t/tend*100), \"%\"+\" E\", round(energyE[-1],4), \" B\", round(energyB[-1],4), \" trace\", round(energytrace[-1],4), \" sym\", round(energySym[-1],4), \" v\", round(energyv[-1],4), end=\"\\r\")"
   ]
  },
  {
   "cell_type": "code",
   "execution_count": null,
   "metadata": {},
   "outputs": [],
   "source": [
    "import matplotlib.pyplot as plt\n",
    "\n",
    "# plot the energy\n",
    "plt.plot(energyE, label=\"E\")\n",
    "plt.plot(energyB, label=\"B\")\n",
    "plt.plot(energytrace, label=\"trace\")\n",
    "plt.plot(energySym, label=\"sym\")\n",
    "plt.plot(energyv, label=\"v\")\n",
    "# plot sum of energy E B v\n",
    "plt.plot([energyE[i]+energyB[i] for i in range(len(energyE))], label=\"E+B+v\")\n",
    "plt.legend()\n",
    "plt.show()\n"
   ]
  },
  {
   "cell_type": "code",
   "execution_count": null,
   "metadata": {},
   "outputs": [],
   "source": [
    "# plot the value of the file energy.txt (the energy of the system) skip the first line\n",
    "import matplotlib.pyplot as plt\n",
    "import numpy as np\n",
    "data = np.loadtxt(\"energy.txt\", delimiter=\";\", skiprows=1)\n",
    "plt.plot(data[:,0], data[:,1], label=\"E\")\n",
    "plt.plot(data[:,0], data[:,2], label=\"B\")\n",
    "plt.plot(data[:,0], data[:,3], label=\"trace\")\n",
    "plt.plot(data[:,0], data[:,4], label=\"sym\")\n",
    "plt.plot(data[:,0], data[:,5], label=\"v\")\n",
    "plt.legend()\n",
    "# save the plot in a png file with high resolution\n",
    "plt.savefig(\"energy.png\", dpi=300)\n"
   ]
  },
  {
   "cell_type": "code",
   "execution_count": null,
   "metadata": {},
   "outputs": [],
   "source": [
    "# save the plot in a png file\n",
    "plt.savefig(\"energy.png\")\n",
    "plt.show()"
   ]
  }
 ],
 "metadata": {
  "kernelspec": {
   "display_name": "Python 3",
   "language": "python",
   "name": "python3"
  },
  "language_info": {
   "codemirror_mode": {
    "name": "ipython",
    "version": 3
   },
   "file_extension": ".py",
   "mimetype": "text/x-python",
   "name": "python",
   "nbconvert_exporter": "python",
   "pygments_lexer": "ipython3",
   "version": "3.10.6"
  },
  "orig_nbformat": 4
 },
 "nbformat": 4,
 "nbformat_minor": 2
}
