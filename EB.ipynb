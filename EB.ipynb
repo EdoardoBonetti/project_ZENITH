{
 "cells": [
  {
   "attachments": {},
   "cell_type": "markdown",
   "metadata": {},
   "source": [
    "# Einstein Bianchi linearized equations\n"
   ]
  },
  {
   "cell_type": "code",
   "execution_count": 3,
   "metadata": {},
   "outputs": [
    {
     "ename": "ImportError",
     "evalue": "cannot import name 'solve' from 'ngsolve' (c:\\Users\\User\\AppData\\Local\\Programs\\Python\\Python310\\lib\\site-packages\\ngsolve\\ngslib.pyd)",
     "output_type": "error",
     "traceback": [
      "\u001b[1;31m---------------------------------------------------------------------------\u001b[0m",
      "\u001b[1;31mImportError\u001b[0m                               Traceback (most recent call last)",
      "\u001b[1;32mc:\\Users\\User\\OneDrive\\Desktop\\project_ZENITH\\EB.ipynb Cell 2\u001b[0m in \u001b[0;36m<cell line: 2>\u001b[1;34m()\u001b[0m\n\u001b[0;32m      <a href='vscode-notebook-cell:/c%3A/Users/User/OneDrive/Desktop/project_ZENITH/EB.ipynb#W1sZmlsZQ%3D%3D?line=0'>1</a>\u001b[0m \u001b[39m# neccessary imports\u001b[39;00m\n\u001b[1;32m----> <a href='vscode-notebook-cell:/c%3A/Users/User/OneDrive/Desktop/project_ZENITH/EB.ipynb#W1sZmlsZQ%3D%3D?line=1'>2</a>\u001b[0m \u001b[39mfrom\u001b[39;00m \u001b[39mngsolve\u001b[39;00m \u001b[39mimport\u001b[39;00m \u001b[39m*\u001b[39m\n\u001b[0;32m      <a href='vscode-notebook-cell:/c%3A/Users/User/OneDrive/Desktop/project_ZENITH/EB.ipynb#W1sZmlsZQ%3D%3D?line=2'>3</a>\u001b[0m \u001b[39mfrom\u001b[39;00m \u001b[39mzenith\u001b[39;00m \u001b[39mimport\u001b[39;00m \u001b[39m*\u001b[39m\n\u001b[0;32m      <a href='vscode-notebook-cell:/c%3A/Users/User/OneDrive/Desktop/project_ZENITH/EB.ipynb#W1sZmlsZQ%3D%3D?line=3'>4</a>\u001b[0m \u001b[39mfrom\u001b[39;00m \u001b[39mngsolve\u001b[39;00m\u001b[39m.\u001b[39;00m\u001b[39mwebgui\u001b[39;00m \u001b[39mimport\u001b[39;00m Draw\n",
      "File \u001b[1;32mc:\\Users\\User\\AppData\\Local\\Programs\\Python\\Python310\\lib\\site-packages\\ngsolve\\__init__.py:34\u001b[0m, in \u001b[0;36m<module>\u001b[1;34m\u001b[0m\n\u001b[0;32m     31\u001b[0m         _mkl_rt \u001b[39m=\u001b[39m os\u001b[39m.\u001b[39mpath\u001b[39m.\u001b[39mabspath(_mkl\u001b[39m.\u001b[39mget_resource_filename(\u001b[39m'\u001b[39m\u001b[39mmkl\u001b[39m\u001b[39m'\u001b[39m,\u001b[39m'\u001b[39m\u001b[39m../../Library/bin/mkl_rt.1.dll\u001b[39m\u001b[39m'\u001b[39m))\n\u001b[0;32m     32\u001b[0m         ctypes\u001b[39m.\u001b[39mCDLL(_mkl_rt)\n\u001b[1;32m---> 34\u001b[0m \u001b[39mfrom\u001b[39;00m \u001b[39m.\u001b[39;00m\u001b[39mngslib\u001b[39;00m \u001b[39mimport\u001b[39;00m __version__, ngstd, bla, la, fem, comp, solve\n\u001b[0;32m     36\u001b[0m \u001b[39mfrom\u001b[39;00m \u001b[39mnetgen\u001b[39;00m \u001b[39mimport\u001b[39;00m Redraw\n\u001b[0;32m     38\u001b[0m \u001b[39mfrom\u001b[39;00m \u001b[39mpyngcore\u001b[39;00m \u001b[39mimport\u001b[39;00m BitArray, TaskManager, SetNumThreads, PajeTrace\n",
      "\u001b[1;31mImportError\u001b[0m: cannot import name 'solve' from 'ngsolve' (c:\\Users\\User\\AppData\\Local\\Programs\\Python\\Python310\\lib\\site-packages\\ngsolve\\ngslib.pyd)"
     ]
    }
   ],
   "source": [
    "# neccessary imports\n",
    "from ngsolve import *\n",
    "from zenith import *\n",
    "from ngsolve.webgui import Draw"
   ]
  },
  {
   "cell_type": "code",
   "execution_count": 202,
   "metadata": {},
   "outputs": [
    {
     "name": "stdout",
     "output_type": "stream",
     "text": [
      "{'bh_list': [<zenith.utils.CompactObjects.BlackHole object at 0x0000018998476AD0>], 'adaption': True}\n"
     ]
    }
   ],
   "source": [
    "# create  a black hole at the origin\n",
    "mass = 1\n",
    "bh = BlackHole(mass=mass)\n",
    "\n",
    "bh_list = [bh]\n",
    "mesh = DefaultMesh(bh_list=bh_list, adaption=True, h=0.2, R=3)"
   ]
  },
  {
   "cell_type": "code",
   "execution_count": 203,
   "metadata": {},
   "outputs": [],
   "source": [
    "#Draw(mesh, clipping='z')"
   ]
  },
  {
   "cell_type": "code",
   "execution_count": 204,
   "metadata": {},
   "outputs": [],
   "source": [
    "n = specialcf.normal(3)\n",
    "\n",
    "def CurlTHcc2Hcd(E,dH):\n",
    "    return InnerProduct(curl(E).trans, dH)*dx \\\n",
    "       +InnerProduct(Cross(E*n, n), dH*n)*dx(element_boundary= True)\n",
    "def DivHcdHd(B,dv):\n",
    "    return div(B)*dv*dx - B*n*n * dv*n * dx(element_boundary= True)"
   ]
  },
  {
   "cell_type": "code",
   "execution_count": 205,
   "metadata": {},
   "outputs": [],
   "source": [
    "order = 2\n",
    "\n",
    "fescc = HCurlCurl(mesh, order=order)\n",
    "fescd = HCurlDiv(mesh, order=order)\n",
    "fesd = HDiv(mesh, order=order, RT=True)\n",
    "\n",
    "E, dE = fescc.TnT()\n",
    "v, dv = fesd.TnT()\n",
    "B, dB = fescd.TnT()"
   ]
  },
  {
   "cell_type": "code",
   "execution_count": 206,
   "metadata": {},
   "outputs": [],
   "source": [
    "bfcurlT = BilinearForm(CurlTHcc2Hcd(E, dB)).Assemble()\n",
    "bfdiv = BilinearForm(DivHcdHd(B, dv)).Assemble()"
   ]
  },
  {
   "cell_type": "code",
   "execution_count": 207,
   "metadata": {},
   "outputs": [],
   "source": [
    "\n",
    "with TaskManager():\n",
    "    massE = BilinearForm(InnerProduct(E,dE)*dx, condense=True)\n",
    "    preE = Preconditioner(massE, \"bddc\", block=True, blocktype=\"edgepatch\")\n",
    "    massE.Assemble()\n",
    "    matE = massE.mat\n",
    "    # preE = matE.CreateBlockSmoother(fescc.CreateSmoothingBlocks(blocktype=\"edgepatch\", eliminate_internal=True), GS=False)\n",
    "    \n",
    "    massEinvSchur = CGSolver (matE, preE)\n",
    "    ext = IdentityMatrix()+massE.harmonic_extension\n",
    "    extT = IdentityMatrix()+massE.harmonic_extension_trans\n",
    "    massEinv =  ext @ massEinvSchur @ extT + massE.inner_solve\n",
    "    \n"
   ]
  },
  {
   "cell_type": "code",
   "execution_count": 208,
   "metadata": {},
   "outputs": [],
   "source": [
    "with TaskManager():\n",
    "    massB = BilinearForm(InnerProduct(B,dB)*dx, condense=True)\n",
    "    preB = Preconditioner(massB, \"bddc\", block=True, blocktype=\"edgepatch\")\n",
    "    massB.Assemble()\n",
    "    matB = massB.mat    \n",
    "    \n",
    "    # preH = matH.CreateSmoother(fescd.FreeDofs(True), GS=False)\n",
    "    \n",
    "    massBinvSchur = CGSolver (matB, preB)\n",
    "    ext = IdentityMatrix()+massB.harmonic_extension\n",
    "    extT = IdentityMatrix()+massB.harmonic_extension_trans\n",
    "    massBinv =  ext @ massBinvSchur @ extT + massB.inner_solve\n"
   ]
  },
  {
   "cell_type": "code",
   "execution_count": 209,
   "metadata": {},
   "outputs": [],
   "source": [
    "with TaskManager():\n",
    "    massv = BilinearForm(InnerProduct(v,dv)*dx, condense=True).Assemble()\n",
    "    matv = massv.mat\n",
    "    prev = matv.CreateSmoother(fesd.FreeDofs(True), GS=False)\n",
    "    \n",
    "    massvinvSchur = CGSolver (matv, prev)\n",
    "    ext = IdentityMatrix()+massv.harmonic_extension\n",
    "    extT = IdentityMatrix()+massv.harmonic_extension_trans\n",
    "    massvinv =  ext @ massvinvSchur @ extT + massv.inner_solve\n",
    "    \n",
    "    "
   ]
  },
  {
   "cell_type": "code",
   "execution_count": 210,
   "metadata": {},
   "outputs": [],
   "source": [
    "gfE = GridFunction(fescc)\n",
    "gfB = GridFunction(fescd)\n",
    "gfv = GridFunction(fesd)"
   ]
  },
  {
   "cell_type": "code",
   "execution_count": 211,
   "metadata": {},
   "outputs": [],
   "source": [
    "gfB.vec[:] = 0.0\n",
    "gfE.vec[:] = 0.0\n",
    "gfv.vec[:] = 0.0"
   ]
  },
  {
   "cell_type": "code",
   "execution_count": 212,
   "metadata": {},
   "outputs": [],
   "source": [
    "E00 = 0\n",
    "E01 = 16*sqrt(610)*z*(5*y**2 + 5*z**2 - 1)*exp(-10*x**2 - 10*y**2 - 10*z**2)/61\n",
    "E02 = 16*sqrt(610)*y*(-5*y**2 - 5*z**2 + 1)*exp(-10*x**2 - 10*y**2 - 10*z**2)/61\n",
    "E10 = 16*sqrt(610)*z*(5*y**2 + 5*z**2 - 1)*exp(-10*x**2 - 10*y**2 - 10*z**2)/61\n",
    "E11 = -160*sqrt(610)*x*y*z*exp(-10*x**2 - 10*y**2 - 10*z**2)/61\n",
    "E12 = 80*sqrt(610)*x*(y**2 - z**2)*exp(-10*x**2 - 10*y**2 - 10*z**2)/61\n",
    "E20 = 16*sqrt(610)*y*(-5*y**2 - 5*z**2 + 1)*exp(-10*x**2 - 10*y**2 - 10*z**2)/61\n",
    "E21 = 80*sqrt(610)*x*(y**2 - z**2)*exp(-10*x**2 - 10*y**2 - 10*z**2)/61\n",
    "E22 = 160*sqrt(610)*x*y*z*exp(-10*x**2 - 10*y**2 - 10*z**2)/61\n",
    "E = CoefficientFunction( (E00, E01, E02, E10, E11, E12, E20, E21, E22) , dims=(3,3) )\n",
    "\n",
    "gfE.Set( E, bonus_intorder=10)\n",
    "#gfv.Set(   Div(E), bonus_intorder=10)\n",
    "\n",
    "#print(Integrate(InnerProduct(gfv, gfv),mesh))\n"
   ]
  },
  {
   "cell_type": "code",
   "execution_count": 213,
   "metadata": {},
   "outputs": [],
   "source": [
    "\n",
    "#Draw(gfE[0,1], mesh, 'E', clipping='z')"
   ]
  },
  {
   "cell_type": "code",
   "execution_count": 214,
   "metadata": {},
   "outputs": [],
   "source": [
    "#peak = exp(-((x)**2+(y)**2+(z)**2)/ 2 )\n",
    "#gfE.Set ( ((peak, 0,0), (0,0,0), (0,0,-peak) ))\n",
    "#gfB.Set ( ((0,0,-peak), (0,0,0), (-peak,0,0) ))\n",
    "#\n",
    "#Draw(gfE[0,0], mesh, 'E', clipping='z')"
   ]
  },
  {
   "cell_type": "code",
   "execution_count": 215,
   "metadata": {},
   "outputs": [],
   "source": [
    "\n",
    "# tend = 5 * dt\n",
    "#scene = Draw(Norm(gfB), mesh, clipping={\"z\":-1})\n",
    "energyE = []\n",
    "energyB = []\n",
    "energytrace = []\n",
    "energySym = []\n",
    "energyv = []\n",
    "#scene = Draw(Norm(gfv), mesh, 'B', clipping='z')\n"
   ]
  },
  {
   "cell_type": "code",
   "execution_count": 216,
   "metadata": {},
   "outputs": [],
   "source": [
    "# if there is a txt with name 'energy.txt' in the folder, it will be deleted\n",
    "if os.path.exists('energy.txt'):\n",
    "    os.remove('energy.txt')\n",
    "\n",
    "    "
   ]
  },
  {
   "cell_type": "code",
   "execution_count": 217,
   "metadata": {},
   "outputs": [
    {
     "name": "stdout",
     "output_type": "stream",
     "text": [
      "t:  100 % E 0.3764  B 0.2441  v 0.1008  trace 0.084  sym 0.1687\r"
     ]
    }
   ],
   "source": [
    "t = 0\n",
    "tend = 0.1\n",
    "dt = 0.005\n",
    "with TaskManager(): # at each time step, save to a txt file the energy of the system\n",
    "    while t < tend:\n",
    "\n",
    "        hv = bfcurlT.mat * gfE.vec + bfdiv.mat.T * gfv.vec\n",
    "        gfB.vec.data += dt * massBinv * hv\n",
    "        gfv.vec.data += -dt * massvinv@bfdiv.mat * gfB.vec\n",
    "        gfE.vec.data += -dt * massEinv@bfcurlT.mat.T * gfB.vec\n",
    "        #scene.Redraw()\n",
    "\n",
    "        energyE.append (Integrate(Norm(gfE), mesh) )\n",
    "        energyB.append (Integrate(Norm(gfB), mesh) )\n",
    "        energyv.append (Integrate(Norm(gfv), mesh) )\n",
    "        \n",
    "        energytrace.append (Integrate ( Norm (Trace(gfE)), mesh ))\n",
    "        energySym.append (Integrate ( Norm (gfB-(gfB.trans)), mesh ))\n",
    "        t += dt\n",
    "\n",
    "        # save the energy in a txt file\n",
    "        with open(\"energy.txt\", \"a\") as myfile: \n",
    "            myfile.write(str(t) + \";\" + str(energyE[-1]) + \";\" + str(energyB[-1]) + \";\" +  str(energyv[-1]) + \";\" + str(energytrace[-1]) + \";\" + str(energySym[-1]) + \"\\n\")\n",
    "\n",
    "    # print time in percentage and the firs 4 decimals of the energy \n",
    "        print (\"t: \", int(t/tend*100), \"%\"+\" E\", round(energyE[-1],4), \" B\", round(energyB[-1],4), \" v\", round(energyv[-1],4), \" trace\", round(energytrace[-1],4), \" sym\", round(energySym[-1],4) , end=\"\\r\")"
   ]
  },
  {
   "cell_type": "code",
   "execution_count": 221,
   "metadata": {},
   "outputs": [
    {
     "data": {
      "image/png": "[encoded data removed]",
      "text/plain": [
       "<Figure size 432x288 with 1 Axes>"
      ]
     },
     "metadata": {
      "needs_background": "light"
     },
     "output_type": "display_data"
    }
   ],
   "source": [
    "import matplotlib.pyplot as plt\n",
    "\n",
    "# plot the energy\n",
    "plt.plot(energyE, label=\"E\")\n",
    "plt.plot(energyB, label=\"B\")\n",
    "plt.plot(energytrace, label=\"trace\")\n",
    "plt.plot(energySym, label=\"sym\")\n",
    "plt.plot(energyv, label=\"v\")\n",
    "#plot sum of energy E B v\n",
    "plt.plot([sqrt(energyE[i]**2 + energyB[i]**2+ energyv[i]**2 ) for i in range(len(energyE))], label=\"E^2 + B^2 + v^2\")\n",
    "plt.legend()\n",
    "plt.show()\n"
   ]
  },
  {
   "cell_type": "code",
   "execution_count": 219,
   "metadata": {},
   "outputs": [
    {
     "data": {
      "image/png": "[encoded data removed]",
      "text/plain": [
       "<Figure size 432x288 with 1 Axes>"
      ]
     },
     "metadata": {
      "needs_background": "light"
     },
     "output_type": "display_data"
    }
   ],
   "source": [
    "# plot the value of the file energy.txt (the energy of the system) skip the first line\n",
    "import matplotlib.pyplot as plt\n",
    "import numpy as np\n",
    "data = np.loadtxt(\"energy.txt\", delimiter=\";\", skiprows=1)\n",
    "plt.plot(data[:,0], data[:,1], label=\"E\")\n",
    "plt.plot(data[:,0], data[:,2], label=\"B\")\n",
    "plt.plot(data[:,0], data[:,3], label=\"trace\")\n",
    "plt.plot(data[:,0], data[:,4], label=\"sym\")\n",
    "plt.plot(data[:,0], data[:,5], label=\"v\")\n",
    "# sum \n",
    "plt.plot(data[:,0], [sqrt(data[i,1]**2 + data[i,2]**2+ data[i,5]**2 ) for i in range(len(data[:,0]))], label=\"E^2 + B^2 + v^2\")\n",
    "plt.legend()\n",
    "# save the plot in a png file with high resolution\n",
    "plt.savefig(\"energy.png\", dpi=300)\n"
   ]
  },
  {
   "cell_type": "code",
   "execution_count": 220,
   "metadata": {},
   "outputs": [
    {
     "data": {
      "text/plain": [
       "<Figure size 432x288 with 0 Axes>"
      ]
     },
     "metadata": {},
     "output_type": "display_data"
    }
   ],
   "source": [
    "# save the plot in a png file\n",
    "plt.savefig(\"energy.png\")\n",
    "plt.show()"
   ]
  }
 ],
 "metadata": {
  "kernelspec": {
   "display_name": "Python 3",
   "language": "python",
   "name": "python3"
  },
  "language_info": {
   "codemirror_mode": {
    "name": "ipython",
    "version": 3
   },
   "file_extension": ".py",
   "mimetype": "text/x-python",
   "name": "python",
   "nbconvert_exporter": "python",
   "pygments_lexer": "ipython3",
   "version": "3.10.4"
  },
  "orig_nbformat": 4
 },
 "nbformat": 4,
 "nbformat_minor": 2
}
